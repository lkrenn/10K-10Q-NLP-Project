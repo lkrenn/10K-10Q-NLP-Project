{
 "cells": [
  {
   "cell_type": "markdown",
   "metadata": {},
   "source": [
    "# Importing Market Data from Yahoo! Finance\n",
    "\n",
    "In this notebook, I will be finding the ticker symbols of the companies in this universe. This will not be simple as the names of companies change over time and there is often M\\&A activity that interferes with this process. This will be a learning experience so I will need to adjust as I go!"
   ]
  },
  {
   "cell_type": "code",
   "execution_count": 41,
   "metadata": {},
   "outputs": [],
   "source": [
    "import numpy as np\n",
    "import pandas as pd\n",
    "import os\n",
    "import urllib.request\n",
    "\n",
    "import yfinance"
   ]
  },
  {
   "cell_type": "markdown",
   "metadata": {},
   "source": [
    "We have a CIK-to-company mapping that was downloaded in another notebook (#ToDo), so let's see if we can use that to help us:"
   ]
  },
  {
   "cell_type": "code",
   "execution_count": 5,
   "metadata": {},
   "outputs": [
    {
     "data": {
      "text/html": [
       "<div>\n",
       "<style scoped>\n",
       "    .dataframe tbody tr th:only-of-type {\n",
       "        vertical-align: middle;\n",
       "    }\n",
       "\n",
       "    .dataframe tbody tr th {\n",
       "        vertical-align: top;\n",
       "    }\n",
       "\n",
       "    .dataframe thead th {\n",
       "        text-align: right;\n",
       "    }\n",
       "</style>\n",
       "<table border=\"1\" class=\"dataframe\">\n",
       "  <thead>\n",
       "    <tr style=\"text-align: right;\">\n",
       "      <th></th>\n",
       "      <th>CIK</th>\n",
       "      <th>Company</th>\n",
       "      <th>State/Country</th>\n",
       "    </tr>\n",
       "  </thead>\n",
       "  <tbody>\n",
       "    <tr>\n",
       "      <th>0</th>\n",
       "      <td>1053468</td>\n",
       "      <td>ABBOTT GREGORY</td>\n",
       "      <td>CO</td>\n",
       "    </tr>\n",
       "    <tr>\n",
       "      <th>1</th>\n",
       "      <td>1295721</td>\n",
       "      <td>ACE Aviation Holdings Inc.</td>\n",
       "      <td>A8</td>\n",
       "    </tr>\n",
       "    <tr>\n",
       "      <th>2</th>\n",
       "      <td>1002819</td>\n",
       "      <td>AIR CANADA /QUEBEC/</td>\n",
       "      <td>A8</td>\n",
       "    </tr>\n",
       "    <tr>\n",
       "      <th>3</th>\n",
       "      <td>1110452</td>\n",
       "      <td>AIR FRANCE-KLM /FI</td>\n",
       "      <td>I0</td>\n",
       "    </tr>\n",
       "    <tr>\n",
       "      <th>4</th>\n",
       "      <td>310454</td>\n",
       "      <td>AIR MIDWEST INC</td>\n",
       "      <td>KS</td>\n",
       "    </tr>\n",
       "  </tbody>\n",
       "</table>\n",
       "</div>"
      ],
      "text/plain": [
       "       CIK                     Company State/Country\n",
       "0  1053468              ABBOTT GREGORY            CO\n",
       "1  1295721  ACE Aviation Holdings Inc.            A8\n",
       "2  1002819         AIR CANADA /QUEBEC/            A8\n",
       "3  1110452          AIR FRANCE-KLM /FI            I0\n",
       "4   310454             AIR MIDWEST INC            KS"
      ]
     },
     "execution_count": 5,
     "metadata": {},
     "output_type": "execute_result"
    }
   ],
   "source": [
    "map_df = pd.read_csv('company_list.csv')\n",
    "map_df.head()"
   ]
  },
  {
   "cell_type": "code",
   "execution_count": 11,
   "metadata": {},
   "outputs": [
    {
     "data": {
      "text/plain": [
       "['0000100517',\n",
       " '0001351548',\n",
       " '0000101001',\n",
       " 'AAL',\n",
       " '0001405419',\n",
       " '0001614436',\n",
       " '0001144331',\n",
       " '0001166291',\n",
       " '0000921929',\n",
       " '0000899394',\n",
       " '.DS_Store',\n",
       " '0001159154',\n",
       " '0001498710',\n",
       " '0000714560',\n",
       " '0000869187',\n",
       " '0000319687',\n",
       " '0000027904',\n",
       " '0000006201',\n",
       " '0001050715',\n",
       " '0000904020',\n",
       " '0000706270',\n",
       " '0000810332',\n",
       " '0001029863',\n",
       " '0000948845',\n",
       " '0001172222',\n",
       " '0000766421',\n",
       " '0001058033',\n",
       " '0000835768',\n",
       " '0000793733',\n",
       " '0000092380',\n",
       " '0000004515',\n",
       " '0001088734',\n",
       " '0001158463',\n",
       " '0001362468',\n",
       " '0001011696',\n",
       " '0000003202',\n",
       " '0000948846',\n",
       " '0000914397',\n",
       " '0001000578',\n",
       " '0000701345',\n",
       " '0000046205']"
      ]
     },
     "execution_count": 11,
     "metadata": {},
     "output_type": "execute_result"
    }
   ],
   "source": [
    "os.listdir('sec-edgar-filings/')"
   ]
  },
  {
   "cell_type": "code",
   "execution_count": 23,
   "metadata": {},
   "outputs": [],
   "source": [
    "uurl = 'https://www.sec.gov/include/ticker.txt'\n",
    "\n",
    "def download(t_url):\n",
    "    response =  urllib.request.urlopen(t_url)\n",
    "    data = response.read()\n",
    "    txt_str = str(data)\n",
    "    lines = txt_str.split(\"\\\\n\")\n",
    "    des_url = 'ticker_to_CIK.csv'\n",
    "    fx = open(des_url,\"w\")\n",
    "    for line in lines:\n",
    "        fx.write(line+ \"\\n\")\n",
    "    fx.close()\n",
    "\n",
    "download(uurl)"
   ]
  },
  {
   "cell_type": "code",
   "execution_count": 24,
   "metadata": {},
   "outputs": [
    {
     "data": {
      "text/plain": [
       "['company_list.csv',\n",
       " 'all_stock_parse.ipynb',\n",
       " '.DS_Store',\n",
       " 'master.idx',\n",
       " 'EDGAR_scrape.ipynb',\n",
       " 'Untitled.ipynb',\n",
       " 'ticker_to_CIK.txt',\n",
       " 'sec-edgar-filings',\n",
       " 'AAL_parse.ipynb',\n",
       " 'AAL_parsed.pickle',\n",
       " '.ipynb_checkpoints',\n",
       " 'ticker_to_CIK.csv',\n",
       " 'cik_ticker.csv.download']"
      ]
     },
     "execution_count": 24,
     "metadata": {},
     "output_type": "execute_result"
    }
   ],
   "source": [
    "os.listdir()"
   ]
  },
  {
   "cell_type": "code",
   "execution_count": 38,
   "metadata": {},
   "outputs": [
    {
     "name": "stderr",
     "output_type": "stream",
     "text": [
      "/Users/lucaskrenn/opt/anaconda3/lib/python3.7/site-packages/ipykernel_launcher.py:1: ParserWarning: Falling back to the 'python' engine because the 'c' engine does not support regex separators (separators > 1 char and different from '\\s+' are interpreted as regex); you can avoid this warning by specifying engine='python'.\n",
      "  \"\"\"Entry point for launching an IPython kernel.\n"
     ]
    },
    {
     "data": {
      "text/html": [
       "<div>\n",
       "<style scoped>\n",
       "    .dataframe tbody tr th:only-of-type {\n",
       "        vertical-align: middle;\n",
       "    }\n",
       "\n",
       "    .dataframe tbody tr th {\n",
       "        vertical-align: top;\n",
       "    }\n",
       "\n",
       "    .dataframe thead th {\n",
       "        text-align: right;\n",
       "    }\n",
       "</style>\n",
       "<table border=\"1\" class=\"dataframe\">\n",
       "  <thead>\n",
       "    <tr style=\"text-align: right;\">\n",
       "      <th></th>\n",
       "      <th>0</th>\n",
       "      <th>1</th>\n",
       "    </tr>\n",
       "  </thead>\n",
       "  <tbody>\n",
       "    <tr>\n",
       "      <th>0</th>\n",
       "      <td>b'aapl</td>\n",
       "      <td>320193</td>\n",
       "    </tr>\n",
       "    <tr>\n",
       "      <th>1</th>\n",
       "      <td>msft</td>\n",
       "      <td>789019</td>\n",
       "    </tr>\n",
       "    <tr>\n",
       "      <th>2</th>\n",
       "      <td>amzn</td>\n",
       "      <td>1018724</td>\n",
       "    </tr>\n",
       "    <tr>\n",
       "      <th>3</th>\n",
       "      <td>goog</td>\n",
       "      <td>1652044</td>\n",
       "    </tr>\n",
       "    <tr>\n",
       "      <th>4</th>\n",
       "      <td>tcehy</td>\n",
       "      <td>1293451</td>\n",
       "    </tr>\n",
       "  </tbody>\n",
       "</table>\n",
       "</div>"
      ],
      "text/plain": [
       "        0        1\n",
       "0  b'aapl   320193\n",
       "1    msft   789019\n",
       "2    amzn  1018724\n",
       "3    goog  1652044\n",
       "4   tcehy  1293451"
      ]
     },
     "execution_count": 38,
     "metadata": {},
     "output_type": "execute_result"
    }
   ],
   "source": [
    "ticker_to_CIK = pd.read_table('ticker_to_CIK.txt', sep=r'\\\\t', header=None)\n",
    "ticker_to_CIK.head()"
   ]
  },
  {
   "cell_type": "code",
   "execution_count": 40,
   "metadata": {},
   "outputs": [
    {
     "data": {
      "text/html": [
       "<div>\n",
       "<style scoped>\n",
       "    .dataframe tbody tr th:only-of-type {\n",
       "        vertical-align: middle;\n",
       "    }\n",
       "\n",
       "    .dataframe tbody tr th {\n",
       "        vertical-align: top;\n",
       "    }\n",
       "\n",
       "    .dataframe thead th {\n",
       "        text-align: right;\n",
       "    }\n",
       "</style>\n",
       "<table border=\"1\" class=\"dataframe\">\n",
       "  <thead>\n",
       "    <tr style=\"text-align: right;\">\n",
       "      <th></th>\n",
       "      <th>0</th>\n",
       "      <th>1</th>\n",
       "    </tr>\n",
       "  </thead>\n",
       "  <tbody>\n",
       "    <tr>\n",
       "      <th>0</th>\n",
       "      <td>aapl</td>\n",
       "      <td>320193</td>\n",
       "    </tr>\n",
       "    <tr>\n",
       "      <th>1</th>\n",
       "      <td>msft</td>\n",
       "      <td>789019</td>\n",
       "    </tr>\n",
       "    <tr>\n",
       "      <th>2</th>\n",
       "      <td>amzn</td>\n",
       "      <td>1018724</td>\n",
       "    </tr>\n",
       "    <tr>\n",
       "      <th>3</th>\n",
       "      <td>goog</td>\n",
       "      <td>1652044</td>\n",
       "    </tr>\n",
       "    <tr>\n",
       "      <th>4</th>\n",
       "      <td>tcehy</td>\n",
       "      <td>1293451</td>\n",
       "    </tr>\n",
       "  </tbody>\n",
       "</table>\n",
       "</div>"
      ],
      "text/plain": [
       "       0        1\n",
       "0   aapl   320193\n",
       "1   msft   789019\n",
       "2   amzn  1018724\n",
       "3   goog  1652044\n",
       "4  tcehy  1293451"
      ]
     },
     "execution_count": 40,
     "metadata": {},
     "output_type": "execute_result"
    }
   ],
   "source": [
    "# Fix weird apple entry\n",
    "ticker_to_CIK.iloc[0,0] = 'aapl'\n",
    "ticker_to_CIK.head()"
   ]
  },
  {
   "cell_type": "code",
   "execution_count": null,
   "metadata": {},
   "outputs": [],
   "source": []
  }
 ],
 "metadata": {
  "kernelspec": {
   "display_name": "Python 3",
   "language": "python",
   "name": "python3"
  },
  "language_info": {
   "codemirror_mode": {
    "name": "ipython",
    "version": 3
   },
   "file_extension": ".py",
   "mimetype": "text/x-python",
   "name": "python",
   "nbconvert_exporter": "python",
   "pygments_lexer": "ipython3",
   "version": "3.7.4"
  }
 },
 "nbformat": 4,
 "nbformat_minor": 2
}
