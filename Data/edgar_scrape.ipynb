{
 "cells": [
  {
   "cell_type": "markdown",
   "metadata": {},
   "source": [
    "# Retrieving Data From Edgar\n",
    "\n",
    "In this notebook, I will explore pulling the necessary data from EDGAR--a public database containing all the quarterly and annual financial reports required by law. First, I will take a look at one company, American Airlines (AAL), and then extrapolate the code to include all necessary companies. \n",
    "\n",
    "We will be using the sec_edgar_downloader package for this, as it is an extremely powerful and simple tool to scrape the necessary data. More information about the package can be found here:\n",
    "\n",
    "https://pypi.org/project/sec-edgar-downloader/"
   ]
  },
  {
   "cell_type": "code",
   "execution_count": 480,
   "metadata": {},
   "outputs": [],
   "source": [
    "from bs4 import BeautifulSoup\n",
    "import numpy as np\n",
    "import pandas as pd\n",
    "import os\n",
    "import re\n",
    "from sec_edgar_downloader import Downloader"
   ]
  },
  {
   "cell_type": "markdown",
   "metadata": {},
   "source": [
    "## American Airlines Sample\n",
    "\n",
    "First, we will start with the 10K filing. I provided my opinion on the valuable parts in the 10K analysis file found in the github. "
   ]
  },
  {
   "cell_type": "code",
   "execution_count": 469,
   "metadata": {},
   "outputs": [],
   "source": [
    "company = 'American Airlines Inc'\n",
    "ticker = 'AAL'\n",
    "\n",
    "# Initialize a downloader instance. If no argument is passed\n",
    "# to the constructor, the package will download filings to\n",
    "# the current working directory.\n",
    "dl = Downloader()"
   ]
  },
  {
   "cell_type": "code",
   "execution_count": 336,
   "metadata": {},
   "outputs": [
    {
     "data": {
      "text/plain": [
       "19"
      ]
     },
     "execution_count": 336,
     "metadata": {},
     "output_type": "execute_result"
    }
   ],
   "source": [
    "# Get all 10-K filings for American Airlines (ticker: AAL) from 2000 onwards\n",
    "dl.get(\"10-K\", ticker, after=\"2000-01-01\")"
   ]
  },
  {
   "cell_type": "markdown",
   "metadata": {},
   "source": [
    "The above request downloads the specified reports into the working directory: "
   ]
  },
  {
   "cell_type": "code",
   "execution_count": 481,
   "metadata": {},
   "outputs": [
    {
     "data": {
      "text/plain": [
       "['0000004515-08-000014',\n",
       " '0000006201-20-000023',\n",
       " '0000950134-06-003715',\n",
       " '0001047469-03-013301',\n",
       " '0000950134-05-003726',\n",
       " '0000950134-04-002668',\n",
       " '0000006201-10-000006',\n",
       " '0000950123-11-014726',\n",
       " '0000006201-18-000009',\n",
       " '0001193125-15-061145']"
      ]
     },
     "execution_count": 481,
     "metadata": {},
     "output_type": "execute_result"
    }
   ],
   "source": [
    "pulls = os.listdir(\"sec-edgar-filings/AAL/10-K\")\n",
    "pulls[:10]"
   ]
  },
  {
   "cell_type": "code",
   "execution_count": 482,
   "metadata": {},
   "outputs": [
    {
     "data": {
      "text/plain": [
       "['full-submission.txt', 'filing-details.html']"
      ]
     },
     "execution_count": 482,
     "metadata": {},
     "output_type": "execute_result"
    }
   ],
   "source": [
    "# We want the one from 2021\n",
    "os.listdir(\"sec-edgar-filings/AAL/10-K/0001193125-15-061145\")"
   ]
  },
  {
   "cell_type": "markdown",
   "metadata": {},
   "source": [
    "We can see here that there are two files. Let us explore these files:"
   ]
  },
  {
   "cell_type": "code",
   "execution_count": 493,
   "metadata": {
    "scrolled": false
   },
   "outputs": [],
   "source": [
    "# Get the most recent filing\n",
    "f = open(\"sec-edgar-filings/AAL/10-K/0001193125-15-061145/filing-details.html\", \"r\")\n",
    "raw_10k = f.read()"
   ]
  },
  {
   "cell_type": "code",
   "execution_count": 494,
   "metadata": {},
   "outputs": [
    {
     "name": "stdout",
     "output_type": "stream",
     "text": [
      "<html><body><document>\n",
      "<type>10-K\n",
      "<sequence>1\n",
      "<filename>d829913d10k.htm\n",
      "<description>FORM 10-K\n",
      "<text>\n",
      "<title>Form 10-K</title>\n",
      "<h5 align=\"left\"><a href=\"#toc\">Table of Contents</a></h5>\n",
      "<p style=\"line-height:4px;margin-top:0px;margin-bottom:0px;border-bottom:2pt solid #000000\">&#160;</p>\n",
      "<p style=\"line-height:3px;margin-top:0px;margin-bottom:2px;border-bottom:0.5pt solid #000000\">&#160;</p> <p align=\"center\" style=\"margin-top:1px;margin-bottom:0px\"><font size=\"2\" style=\"font-family:Times New Rom\n"
     ]
    }
   ],
   "source": [
    "print(raw_10k[:500])"
   ]
  },
  {
   "cell_type": "code",
   "execution_count": 495,
   "metadata": {},
   "outputs": [],
   "source": [
    "soup = BeautifulSoup(raw_10k, 'html.parser')"
   ]
  },
  {
   "cell_type": "markdown",
   "metadata": {},
   "source": [
    "Since the SEC requires the documents to follow a certain format, containing items labelled similarly, we should be able to parse the documents easily once one is taken care of. Let us begin to explore the HTML file:"
   ]
  },
  {
   "cell_type": "code",
   "execution_count": 496,
   "metadata": {
    "scrolled": false
   },
   "outputs": [
    {
     "name": "stdout",
     "output_type": "stream",
     "text": [
      "['html', 'body', 'document', 'type', 'sequence', 'filename', 'description', 'text', 'title', 'h5', 'a', 'p', 'font', 'b', 'center', 'table', 'tr', 'td', 'i', 'hr', 'sup', 'br', 'img', 'u']\n"
     ]
    }
   ],
   "source": [
    "document = soup.html.find_all()\n",
    "\n",
    "el = ['html',]  # we already include the html tag\n",
    "for n in document:\n",
    "    if n.name not in el:\n",
    "        el.append(n.name)\n",
    "\n",
    "print(el)"
   ]
  },
  {
   "cell_type": "code",
   "execution_count": 590,
   "metadata": {},
   "outputs": [
    {
     "data": {
      "text/plain": [
       "['ITEM\\xa01A.\\xa0\\xa0RISK FACTORS ',\n",
       " 'Risk Factors Relating to the Company and Industry-Related Risks ',\n",
       " 'We could experience significant operating losses in the future. ',\n",
       " 'Downturns in economic conditions adversely affect our business. ']"
      ]
     },
     "execution_count": 590,
     "metadata": {},
     "output_type": "execute_result"
    }
   ],
   "source": [
    "goods = soup.find_all('b')\n",
    "[x.text for x in goods[106:110]]"
   ]
  },
  {
   "cell_type": "markdown",
   "metadata": {},
   "source": [
    "This is the information that I need for this project. I hope that the other reports will follow the same format, so that it is easy to scrape across the whole industry. Let us continue:"
   ]
  },
  {
   "cell_type": "markdown",
   "metadata": {},
   "source": [
    "## Separate & Parse Document"
   ]
  },
  {
   "cell_type": "code",
   "execution_count": 755,
   "metadata": {},
   "outputs": [
    {
     "data": {
      "text/plain": [
       "'(1.|2.|3.|4.|5.|6.|7.|8.|9.|10.|11.|12.|13.|14.|15.|16.)'"
      ]
     },
     "execution_count": 755,
     "metadata": {},
     "output_type": "execute_result"
    }
   ],
   "source": [
    "searchstr = '('\n",
    "for i in range(1,16):\n",
    "    searchstr+=str(i)+'.|'\n",
    "\n",
    "searchstr+='16.)'\n",
    "searchstr"
   ]
  },
  {
   "cell_type": "code",
   "execution_count": 733,
   "metadata": {},
   "outputs": [],
   "source": [
    "#test = r'(a>Item(\\s|&#160;|&nbsp;)'+searchstr+'\\.{0,1})|(>ITEM\\s'+searchstr+')'"
   ]
  },
  {
   "cell_type": "code",
   "execution_count": 712,
   "metadata": {},
   "outputs": [],
   "source": [
    "# Write the regex\n",
    "#regex = re.compile(r'(a>Item(\\s|&#160;|&nbsp;)'+searchstr+'\\.{0,1})|(>ITEM\\s'+searchstr+')')\n",
    "#regex = re.compile(r'Overview')\n",
    "\n",
    "# Use finditer to math the regex\n",
    "#matches = regex.finditer(raw_10k)"
   ]
  },
  {
   "cell_type": "code",
   "execution_count": 764,
   "metadata": {},
   "outputs": [
    {
     "data": {
      "text/plain": [
       "[<re.Match object; span=(60523, 60538), match='/a>ITEM&#160;1.'>,\n",
       " <re.Match object; span=(261964, 261979), match='/a>ITEM&#160;1A'>,\n",
       " <re.Match object; span=(422769, 422784), match='/a>ITEM&#160;1B'>,\n",
       " <re.Match object; span=(423734, 423749), match='/a>ITEM&#160;2.'>,\n",
       " <re.Match object; span=(552226, 552241), match='/a>ITEM&#160;3.'>,\n",
       " <re.Match object; span=(563911, 563926), match='/a>ITEM&#160;4.'>,\n",
       " <re.Match object; span=(564782, 564797), match='/a>ITEM&#160;5.'>,\n",
       " <re.Match object; span=(598619, 598634), match='/a>ITEM&#160;6.'>,\n",
       " <re.Match object; span=(723646, 723661), match='/a>ITEM&#160;7.'>,\n",
       " <re.Match object; span=(1568708, 1568723), match='/a>ITEM&#160;7A'>,\n",
       " <re.Match object; span=(1614421, 1614436), match='/a>ITEM&#160;8A'>,\n",
       " <re.Match object; span=(3215477, 3215492), match='/a>ITEM&#160;8B'>,\n",
       " <re.Match object; span=(4331581, 4331596), match='/a>ITEM&#160;9.'>,\n",
       " <re.Match object; span=(4331976, 4331991), match='/a>ITEM&#160;9A'>,\n",
       " <re.Match object; span=(4353593, 4353608), match='/a>ITEM&#160;10'>,\n",
       " <re.Match object; span=(4355559, 4355574), match='/a>ITEM&#160;11'>,\n",
       " <re.Match object; span=(4356681, 4356696), match='/a>ITEM&#160;12'>,\n",
       " <re.Match object; span=(4357701, 4357716), match='/a>ITEM&#160;13'>,\n",
       " <re.Match object; span=(4358396, 4358411), match='/a>ITEM&#160;14'>,\n",
       " <re.Match object; span=(4359556, 4359571), match='/a>ITEM&#160;15'>]"
      ]
     },
     "execution_count": 764,
     "metadata": {},
     "output_type": "execute_result"
    }
   ],
   "source": [
    "matches = re.finditer(\"\\/a>Item(\\s|&#160;|&nbsp;)\"+searchstr, raw_10k, re.IGNORECASE)\n",
    "locations = [x for x in matches]\n",
    "locations"
   ]
  },
  {
   "cell_type": "code",
   "execution_count": 807,
   "metadata": {},
   "outputs": [],
   "source": [
    "temp = raw_10k[261964:422769]"
   ]
  },
  {
   "cell_type": "code",
   "execution_count": 811,
   "metadata": {},
   "outputs": [
    {
     "data": {
      "text/plain": [
       "['Below are certain risk factors that may affect our business, results of operations and financial condition, or the trading\\nprice of our common stock or other securities. We caution the reader that these risk factors may not be exhaustive. We operate in a continually changing business environment, and new risks and uncertainties emerge from time to time. Management\\ncannot predict such new risks and uncertainties, nor can it assess the extent to which any of the risk factors below or any such new risks and uncertainties, or any combination thereof, may impact our business. ',\n",
       " 'Risk Factors Relating to the Company and Industry-Related Risks ',\n",
       " 'We could experience significant operating losses in the future. ',\n",
       " 'For a number of reasons, including those addressed in these risk factors, we might fail to maintain profitability and might experience significant losses. In particular, the condition of the economy, the\\nlevel and volatility of fuel prices, the state of travel demand and intense competition in the airline industry have had and will continue to have an impact on our operating results, and may increase the risk that we will experience losses.\\n',\n",
       " 'Downturns in economic conditions adversely affect our business. ',\n",
       " 'Due to the discretionary nature of business and leisure travel spending, airline industry revenues are heavily influenced\\nby the condition of the U.S. economy and economies in other regions of the world. Unfavorable conditions in these broader economies have resulted, and may result in the future, in decreased passenger demand for air travel and changes in booking\\npractices, both of which in turn have had, and may have in the future, a strong negative effect on our revenues. In addition, during challenging economic times, actions by our competitors to increase their revenues can have an adverse impact on our\\nrevenues. See “The airline industry is intensely competitive and dynamic” below. Certain labor agreements to which we are a party limit our ability to reduce the number of aircraft in operation, and the utilization of such aircraft,\\nbelow certain levels. As a result, we may not be able to optimize the number of aircraft in operation in response to a decrease in passenger demand for air travel. ',\n",
       " 'Our business is dependent on the price and availability of aircraft fuel. Continued periods of high volatility in fuel costs, increased fuel prices and significant disruptions in the supply of\\naircraft fuel could have a significant negative impact on our operating results and liquidity. ',\n",
       " 'Our\\noperating results are materially impacted by changes in the availability, price volatility and cost of aircraft fuel, which represents one of the largest single cost items in our business. Jet fuel market prices have fluctuated substantially over\\nthe past several years and prices continued to be volatile in 2014. ',\n",
       " 'Because of the amount of fuel needed to\\noperate our business, even a relatively small increase in the price of fuel can have a material adverse aggregate effect on our operating results and liquidity. Due to the competitive nature of the airline industry and unpredictability of the\\nmarket, we can offer no assurance that we may be able to increase our fares, impose fuel surcharges or otherwise increase revenues sufficiently to offset fuel price increases. ',\n",
       " 'Although we are currently able to obtain adequate supplies of aircraft fuel, we cannot predict the future availability,\\nprice volatility or cost of aircraft fuel. Natural disasters, political disruptions or wars involving oil-producing countries, changes in fuel-related governmental policy, the strength of the U.S. dollar against foreign currencies, changes in access\\nto petroleum product pipelines and terminals, speculation in the energy futures markets, changes in aircraft fuel production capacity, environmental concerns and other unpredictable events may result in fuel supply shortages, additional fuel price\\nvolatility and cost increases in the future. ',\n",
       " 'We have a large number of older aircraft in our fleet, and these\\naircraft are not as fuel efficient as more recent models of aircraft, including those we have on order. We intend to continue to execute our fleet renewal plans to, ',\n",
       " '\\xa0',\n",
       " '30 ',\n",
       " '\\n',\n",
       " '\\namong other things, improve the fuel efficiency of our fleet, and we are dependent on a limited number of major aircraft manufacturers to deliver aircraft on schedule. If we experience delays in\\ndelivery of the more fuel efficient aircraft that we have on order, we will be adversely affected. ',\n",
       " 'Our\\naviation fuel purchase contracts generally do not provide meaningful price protection against increases in fuel costs. Prior to the closing of the Merger, we sought to manage the risk of fuel price increases by using derivative contracts. During the\\nsecond quarter of 2014, we sold our portfolio of fuel hedging contracts that were scheduled to settle on or after June\\xa030, 2014. We have not entered into any transactions to hedge our fuel consumption since December\\xa09, 2013 and,\\naccordingly, as of December\\xa031, 2014, we did not have any fuel hedging contracts outstanding. As such, and assuming we do not enter into any future transactions to hedge our fuel consumption, we will continue to be fully exposed to fluctuations\\nin fuel prices. Our current policy is not to enter into transactions to hedge our fuel consumption, although we review that policy from time to time based on market conditions and other factors. ',\n",
       " 'There can be no assurance that, at any given time, we will have derivatives in place to provide any particular level of\\nprotection against increased fuel costs or that our counterparties will be able to perform under our derivative contracts. To the extent we use derivative contracts that have the potential to create an obligation to pay upon settlement if prices\\ndecline significantly, such derivative contracts may limit our ability to benefit from lower fuel costs in the future. Also, a rapid decline in the projected price of fuel at a time when we have fuel hedging contracts in place could adversely impact\\nour short-term liquidity, because hedge counterparties could require that we post collateral in the form of cash or letters of credit. See also the discussion in Part II, Item\\xa07A. Quantitative and Qualitative Disclosures About Market Risk\\n– “AAG Market Risk Sensitive Instruments and Positions – Aircraft Fuel” and “American Airlines Market Risk Sensitive Instruments and Positions – Aircraft Fuel.” ',\n",
       " 'The airline industry is intensely competitive and dynamic. ',\n",
       " 'Our competitors include other major domestic airlines and foreign, regional and new entrant airlines, as well as joint\\nventures formed by some of these airlines, many of which have more financial or other resources and/or lower cost structures than ours, as well as other forms of transportation, including rail and private automobiles. In many of our markets we\\ncompete with at least one low-cost air carrier. Our revenues are sensitive to the actions of other carriers in many areas including pricing, scheduling, capacity and promotions, which can have a substantial adverse impact not only on our revenues,\\nbut on overall industry revenues. These factors may become even more significant in periods when the industry experiences large losses, as airlines under financial stress, or in bankruptcy, may institute pricing structures intended to achieve\\nnear-term survival rather than long-term viability. ',\n",
       " 'Low-cost carriers have a profound impact on industry\\nrevenues. Using the advantage of low unit costs, these carriers offer lower fares in order to shift demand from larger, more established airlines. Some low-cost carriers, which have cost structures lower than ours, have better recent financial\\nperformance and have announced growth strategies including commitments to acquire significant numbers of aircraft for delivery in the next few years. These low-cost carriers are expected to continue to increase their market share through growth and,\\npotentially, consolidation, and could continue to have an impact on our overall performance. For example, as a result of divestitures completed in connection with gaining regulatory approval for the Merger, low-fare, low-cost carriers have gained\\nadditional access in a number of markets, including DCA, a Slot-controlled airport. In addition, the Wright Amendment Reform Act reduced, and has now eliminated all, domestic non-stop geographic restrictions on operations by Southwest Airlines and\\nother carriers at DAL. The two gates at DAL that we divested as part of our settlement of antitrust litigation related to the Merger have been allocated to Virgin America, a low-cost carrier. The changed operating rules at DAL and that divestiture\\nhave increased low-cost carrier competition for our hub at DFW. The actions of the low-cost carriers, including those described above, could have a material adverse effect on our operations and financial performance. ',\n",
       " 'Our presence in international markets is not as extensive as that of some of our competitors. We derived approximately\\n33% of our operating revenues in 2014 from operations outside of the U.S., as measured and ',\n",
       " '\\xa0',\n",
       " '31 ',\n",
       " '\\n',\n",
       " '\\nreported to the DOT. In providing international air transportation, we compete with U.S. airlines to provide scheduled passenger and cargo service between the U.S. and various overseas locations,\\nforeign investor-owned airlines, and foreign state-owned or state-affiliated airlines, including carriers based in the Middle East, the three largest of which we believe benefit from significant government subsidies. In addition, open skies\\nagreements with an increasing number of countries around the world provide international airlines with open access to U.S. markets. During 2014, international capacity grew more quickly than domestic service creating a very competitive operating\\nenvironment. See “Our business is subject to extensive government regulation, which may result in increases in our costs, disruptions to our operations, limits on our operating flexibility, reductions in the demand for air travel, and\\ncompetitive disadvantages” below. ',\n",
       " 'Certain airline alliances have been, or may in the future be,\\ngranted immunity from antitrust regulations by governmental authorities for specific areas of cooperation, such as joint pricing decisions. To the extent alliances formed by our competitors can undertake activities that are not available to us, our\\nability to effectively compete may be hindered. Our ability to attract and retain customers is dependent upon, among other things, our ability to offer our customers convenient access to desired markets. Our business could be adversely affected if\\nwe are unable to maintain or obtain alliance and marketing relationships with other air carriers in desired markets. ',\n",
       " 'We have implemented a joint business agreement (JBA) with British Airways, Iberia and Finnair, and antitrust-immunized cooperation with British Airways, Iberia, Finnair and Royal Jordanian. In addition,\\nwe have implemented an antitrust-immunized JBA with Japan Airlines and a JBA with Qantas Airways. No assurances can be given as to any benefits that we may derive from such arrangements or any other arrangements that may ultimately be implemented.\\n',\n",
       " 'Additional mergers and other forms of industry consolidation, including antitrust immunity grants, may take\\nplace and may not involve us as a participant. Depending on which carriers combine and which assets, if any, are sold or otherwise transferred to other carriers in connection with such combinations, our competitive position relative to the\\npost-combination carriers or other carriers that acquire such assets could be harmed. In addition, as carriers combine through traditional mergers or antitrust immunity grants, their route networks will grow, and that growth will result in greater\\noverlap with our network, which in turn could result in lower overall market share and revenues for us. Such consolidation is not limited to the U.S., but could include further consolidation among international carriers in Europe and elsewhere.\\n',\n",
       " 'We may be unable to integrate operations successfully and realize the anticipated synergies and other benefits of the\\nMerger. ',\n",
       " 'The Merger involves the combination of two companies that operated as independent public\\ncompanies prior to the Merger, and each of which operated its own international network airline. Historically, the integration of separate airlines has often proven to be more time consuming and to require more resources than initially estimated. We\\nmust devote significant management attention and resources to integrating our business practices, cultures and operations. Potential difficulties we may encounter as part of the integration process include the following: ',\n",
       " '\\xa0',\n",
       " 'the inability to successfully combine our businesses in a manner that permits us to achieve the synergies and other benefits anticipated to result\\nfrom the Merger; ',\n",
       " '\\xa0',\n",
       " 'the challenge of integrating complex systems, operating procedures, regulatory compliance programs, technology, aircraft fleets, networks, and other\\nassets in a manner that minimizes any adverse impact on customers, suppliers, employees, and other constituencies; ',\n",
       " '\\xa0',\n",
       " 'the effects of divestitures and other operational commitments in connection with the settlement of the litigation brought by the Department of\\nJustice (DOJ) and certain states prior to the closing of the Merger, including those involving DAL and DCA; ',\n",
       " '\\xa0',\n",
       " 'the challenge of forming and maintaining an effective and cohesive management team; ',\n",
       " '\\xa0',\n",
       " '32 ',\n",
       " '\\n',\n",
       " 'the diversion of the attention of our management and other key employees; ',\n",
       " '\\xa0',\n",
       " 'the challenge of integrating workforces while maintaining focus on providing consistent, high quality customer service and running an efficient\\noperation; ',\n",
       " '\\xa0',\n",
       " 'the risks relating to integrating various computer, communications and other technology systems, including designing and implementing an integrated\\ncustomer reservations system, that will be necessary to operate American and US Airways as a single airline and to achieve cost synergies by eliminating redundancies in the businesses; ',\n",
       " '\\xa0',\n",
       " 'the disruption of, or the loss of momentum in, our ongoing business; ',\n",
       " '\\xa0',\n",
       " 'branding or rebranding initiatives may involve substantial costs and may not be favorably received by customers; and ',\n",
       " '\\xa0',\n",
       " 'potential unknown liabilities, liabilities that are significantly larger than we currently anticipate and unforeseen increased expenses or delays\\nassociated with the Merger, including costs in excess of the cash transition costs that we currently anticipate. ',\n",
       " 'We have submitted to the FAA a transition plan for merging the day-to-day operations of American and US Airways under a single operating certificate. The issuance of a single operating certificate will\\noccur when the FAA agrees that we have achieved a level of integration that can be safely managed under one certificate. While we currently believe that such approval can be obtained in 2015, the actual time required and cost incurred to receive\\nthis approval cannot be predicted. Any delay in the grant of such approval or increase in costs beyond those presently expected could have a material adverse effect on the completion date of our integration plan and receipt of the benefits expected\\nfrom that plan. ',\n",
       " 'See “We face challenges in integrating our computer, communications and other\\ntechnology systems” below. ',\n",
       " 'Accordingly, we may not be able to realize the contemplated benefits of\\nthe Merger fully, or at all, or it may take longer and cost more to realize such benefits than expected. ',\n",
       " 'Our\\nindebtedness and other obligations are substantial and could adversely affect our business and liquidity. ',\n",
       " 'We have significant amounts of indebtedness and other obligations, including pension obligations, obligations to make future payments on flight equipment and property leases, and substantial\\nnon-cancelable obligations under aircraft and related spare engine purchase agreements. Moreover, currently a substantial portion of our assets are pledged to secure our indebtedness. Our substantial indebtedness and other obligations could have\\nimportant consequences. For example, they: ',\n",
       " '\\xa0',\n",
       " 'may make it more difficult for us to satisfy our obligations under our indebtedness; ',\n",
       " '\\xa0',\n",
       " 'may limit our ability to obtain additional funding for working capital, capital expenditures, acquisitions, investments, integration costs, and\\ngeneral corporate purposes, and adversely affect the terms on which such funding can be obtained; ',\n",
       " '\\xa0',\n",
       " 'require us to dedicate a substantial portion of our cash flow from operations to payments on our indebtedness and other obligations, thereby\\nreducing the funds available for other purposes; ',\n",
       " '\\xa0',\n",
       " 'make us more vulnerable to economic downturns, industry conditions and catastrophic external events; ',\n",
       " '\\xa0',\n",
       " 'limit our ability to respond to business opportunities and to withstand operating risks that are customary in the industry; and\\n',\n",
       " '\\xa0',\n",
       " 'contain restrictive covenants that could: ',\n",
       " '\\xa0',\n",
       " 'limit our ability to merge, consolidate, sell assets, incur additional indebtedness, issue preferred stock, make investments and pay dividends;\\n',\n",
       " '\\xa0',\n",
       " '33 ',\n",
       " '\\n',\n",
       " 'significantly constrain our ability to respond, or respond quickly, to unexpected disruptions in our own operations, the U.S. or global economies,\\nor the businesses in which we operate, or to take advantage of opportunities that would improve our business, operations, or competitive position versus other airlines; ',\n",
       " '\\xa0',\n",
       " 'limit our ability to withstand competitive pressures and reduce our flexibility in responding to changing business and economic conditions; and\\n',\n",
       " '\\xa0',\n",
       " 'result in an event of default under our indebtedness. ',\n",
       " 'We will need to obtain sufficient financing or other capital to operate successfully. ',\n",
       " 'Our business plan contemplates significant investments in modernizing our fleet and integrating the American and US Airways businesses. Significant capital resources will be required to execute this plan.\\nWe estimate that, based on our commitments as of December\\xa031, 2014, our planned aggregate expenditures for aircraft purchase commitments and certain engines on a consolidated basis for calendar years 2015-2019 would be approximately $22.6\\nbillion, of which $19.5 billion represents commitments by American. We also currently anticipate cash transition costs to integrate our businesses following the Merger to be approximately $1.2 billion, although these costs could exceed our\\nexpectations. Accordingly, we will need substantial financing or other capital resources. In addition, as of the date of this report, we had not secured financing commitments for some of the aircraft that we have on order, and we cannot be assured\\nof the availability or cost of that financing. In particular, as of December\\xa031, 2014, we did not have financing commitments for the following aircraft currently on order and scheduled to be delivered through 2017: 83 Airbus A320 family\\naircraft, 10 Airbus A320neo aircraft, six Airbus A350 XWB aircraft, 13 Boeing 737 family aircraft, three 737 MAX aircraft, four Boeing 777-300 ER aircraft, and 35 Boeing 787 family aircraft. In addition, we did not have financing commitments in\\nplace for aircraft currently on order and scheduled to be delivered in 2018 and beyond. The number of aircraft for which we do not have financing may change as we exercise purchase options or otherwise change our purchase and delivery schedules. If\\nwe are unable to arrange financing for such aircraft at customary advance rates and on terms and conditions acceptable to us, we may need to use cash from operations or cash on hand to purchase such aircraft or may seek to negotiate deferrals for\\nsuch aircraft with the aircraft manufacturers. Depending on numerous factors, many of which are out of our control, such as the state of the domestic and global economies, the capital and credit markets’ view of our prospects and the airline\\nindustry in general, and the general availability of debt and equity capital at the time we seek capital, the financing or other capital resources that we will need may not be available to us, or may only be available on onerous terms and\\nconditions. There can be no assurance that we will be successful in obtaining financing or other needed sources of capital to operate successfully. An inability to obtain necessary financing on acceptable terms would have a material adverse impact\\non our business, results of operations and financial condition. ',\n",
       " 'Increased costs of financing, a reduction in the\\navailability of financing and fluctuations in interest rates could adversely affect our liquidity, results of operations and financial condition. ',\n",
       " 'Concerns about the systemic impact of inflation, the availability and cost of credit, energy costs and geopolitical issues, combined with continued changes in business activity levels and consumer\\nconfidence, increased unemployment and volatile oil prices, have in the past and may in the future contribute to volatility in the capital and credit markets. These market conditions could result in illiquid credit markets and wider credit spreads.\\nAny such changes in the domestic and global financial markets may increase our costs of financing and adversely affect our ability to obtain financing needed for the acquisition of aircraft that we have contractual commitments to purchase and for\\nother types of financings we may seek in order to refinance debt maturities, raise capital or fund other types of obligations. Any downgrades to our credit rating may likewise increase the cost and reduce the availability of financing. ',\n",
       " 'Further, a substantial portion of our indebtedness bears interest at fluctuating interest rates, primarily based on the\\nLondon interbank offered rate for deposits of U.S.\\xa0dollars (LIBOR). LIBOR tends to fluctuate based on ',\n",
       " '\\xa0',\n",
       " '34 ',\n",
       " '\\n',\n",
       " '\\ngeneral economic conditions, general interest rates, rates set by the Federal Reserve and other central banks, and the supply of and demand for credit in the London interbank market. We have not\\nhedged our interest rate exposure with respect to our 2013 Credit Facilities, the 2013 Citicorp Credit Facility, the 2014 Credit Facility and other of our floating rate debt, and accordingly, our interest expense for any particular period may\\nfluctuate based on LIBOR and other variable interest rates. To the extent these interest rates increase, our interest expense will increase, in which event we may have difficulties making interest payments and funding our other fixed costs, and our\\navailable cash flow for general corporate requirements may be adversely affected. See also the discussion of interest rate risk in Part II, Item\\xa07A. Quantitative and Qualitative Disclosures About Market Risk – “AAG Market Risk\\nSensitive Instruments and Positions – Interest” and “American Airlines Market Risk Sensitive Instruments and Positions – Interest.”  ',\n",
       " 'Our high level of fixed obligations may limit our ability to fund general corporate requirements and obtain additional financing, may limit our flexibility in responding to competitive developments\\nand causes our business to be vulnerable to adverse economic and industry conditions. ',\n",
       " 'We have a\\nsignificant amount of fixed obligations, including debt, pension costs, aircraft leases and financings, aircraft purchase commitments, leases and developments of airport and other facilities and other cash obligations. We also have certain\\nguaranteed costs associated with our regional operations. ',\n",
       " 'As a result of the substantial fixed costs\\nassociated with these obligations: ',\n",
       " '\\xa0',\n",
       " 'a decrease in revenues results in a disproportionately greater percentage decrease in earnings; ',\n",
       " '\\xa0',\n",
       " 'we may not have sufficient liquidity to fund all of these fixed obligations if our revenues decline or costs increase; and\\n',\n",
       " '\\xa0',\n",
       " 'we may have to use our working capital to fund these fixed obligations instead of funding general corporate requirements, including capital\\nexpenditures. ',\n",
       " 'These obligations also impact our ability to obtain additional financing, if\\nneeded, and our flexibility in the conduct of our business, and could materially adversely affect our liquidity, results of operations and financial condition. ',\n",
       " 'We have significant pension and other post-employment benefit funding obligations, which may adversely affect our liquidity, results of operations and financial condition. ',\n",
       " 'Our pension funding obligations are significant. The amount of these obligations will depend on the performance of\\ninvestments held in trust by the pension plans, interest rates for determining liabilities and actuarial experience. Currently, our minimum funding obligation for our pension plans is subject to temporary favorable rules that are scheduled to expire\\nat the end of 2017. Upon the expiration of those rules, our funding obligations are likely to increase materially. In addition, we may have significant obligations for other post-employment benefits, the ultimate amount of which depends on, among\\nother things, the outcome of an adversary proceeding related to retiree medical and life insurance obligations filed in the Chapter 11 cases. ',\n",
       " 'Any failure to comply with the covenants contained in our financing arrangements may have a material adverse effect on our business, results of operations and financial condition.\\n',\n",
       " 'The terms of our 2013 Credit Facilities, the 2013 Citicorp Credit Facility and the 2014 Credit\\nFacilities require us to ensure that AAG and its restricted subsidiaries maintain consolidated unrestricted cash and cash equivalents and amounts available to be drawn under revolving credit facilities in an aggregate amount not less than $2.0\\nbillion, and the 2013 Citicorp Credit Facility also requires us and the other obligors thereunder to hold not less than $750 million (subject to partial reductions upon certain reductions in the outstanding amount of the loan) of that amount in\\naccounts subject to control agreements. ',\n",
       " '\\xa0',\n",
       " '35 ',\n",
       " '\\n',\n",
       " 'Our ability to comply with these liquidity covenants while paying the fixed\\ncosts associated with our contractual obligations and our other expenses, including significant pension and other post-employment funding obligations and cash transition costs associated with the Merger, will depend on our operating performance and\\ncash flow, which are seasonal, as well as factors including fuel costs and general economic and political conditions. ',\n",
       " 'In addition, our credit facilities and certain other financing arrangements include covenants that, among other things, limit our ability to pay dividends and make certain other payments, make certain\\ninvestments, incur additional indebtedness, enter into certain affiliate transactions and engage in certain business activities, in each case subject to certain exceptions. ',\n",
       " 'The factors affecting our liquidity (and our ability to comply with related liquidity and other covenants) will remain\\nsubject to significant fluctuations and uncertainties, many of which are outside our control. Any breach of our liquidity and other covenants or failure to timely pay our obligations could result in a variety of adverse consequences, including the\\nacceleration of our indebtedness, the withholding of credit card proceeds by our credit card processors and the exercise of remedies by our creditors and lessors. In such a situation, we may not be able to fulfill our contractual obligations, repay\\nthe accelerated indebtedness, make required lease payments or otherwise cover our fixed costs. ',\n",
       " 'If our financial\\ncondition worsens, provisions in our credit card processing and other commercial agreements may adversely affect our liquidity. ',\n",
       " 'We have agreements with companies that process customer credit card transactions for the sale of air travel and other services. These agreements allow these processing companies, under certain conditions\\n(including, with respect to certain agreements, the failure of American to maintain certain levels of liquidity) to hold an amount of our cash (a holdback) equal to some or all of the advance ticket sales that have been processed by that company,\\nbut for which we have not yet provided the air transportation. We are not currently required to maintain any holdbacks pursuant to these requirements. These holdback requirements can be modified at the discretion of the processing companies upon the\\noccurrence of specific events, including material adverse changes in our financial condition. An increase in the current holdback balances to higher percentages up to and including 100% of relevant advanced ticket sales could materially reduce our\\nliquidity. Likewise, other of our commercial agreements contain provisions that allow other entities to impose less favorable terms, including the acceleration of amounts due, in the event of material adverse changes in our financial condition.\\n',\n",
       " 'The historical consolidated financial information contained in this report is not directly comparable to our financial\\ninformation for prior or future periods.  ',\n",
       " 'A number of factors render our historical\\nconsolidated financial information not directly comparable to our financial information for prior or future periods, including: ',\n",
       " '\\xa0',\n",
       " 'because the Merger was completed on December\\xa09, 2013, AAG’s 2013 consolidated results of operations include the results of US Airways\\nGroup and its subsidiaries for only 23 days of 2013; ',\n",
       " '\\xa0',\n",
       " 'the Merger was accounted for using the acquisition method of accounting with AAG as the acquiring entity, resulting in an adjustment to the carrying\\nvalues of the assets and liabilities of US Airways Group compared to its historical carrying values; ',\n",
       " '\\xa0',\n",
       " 'during the course of our Chapter 11 Cases and in connection with our emergence from Chapter 11 and the effectiveness of the Plan, we recorded\\nmaterial expenses, charges, costs and other accounting entries related to our restructuring process, many of which generally had not been incurred in the past and are not expected to be incurred in the future; and ',\n",
       " '\\xa0',\n",
       " 'certain prior accounting presentations, including the manner in which we report our regional operations, have been changed and historical results\\nrestated to conform to the current presentation. ',\n",
       " '\\xa0',\n",
       " '36 ',\n",
       " '\\n',\n",
       " 'Due to these and other factors largely related to the Merger and the Plan,\\ninvestors are cautioned as to the limitations of our historical financial statements and urged to review carefully Part II, Item\\xa07. Management’s Discussion and Analysis of Financial Condition and Results of Operations. ',\n",
       " 'Union disputes, employee strikes and other labor-related disruptions may adversely affect our operations. ',\n",
       " 'Relations between air carriers and labor unions in the U.S. are governed by the Railway Labor Act (RLA). Under the RLA,\\ncollective bargaining agreements generally contain “amendable dates” rather than expiration dates, and the RLA requires that a carrier maintain the existing terms and conditions of employment following the amendable date through a\\nmulti-stage and usually lengthy series of bargaining processes overseen by the National Mediation Board (NMB). For the dates that the CBAs with our major work groups become amendable under the RLA, see Part I, Item\\xa01. Business –\\n“Employees and Labor Relations.” ',\n",
       " 'In the case of a CBA that is amendable under the RLA, if no\\nagreement is reached during direct negotiations between the parties, either party may request that the NMB appoint a federal mediator. The RLA prescribes no timetable for the direct negotiation and mediation processes, and it is not unusual for\\nthose processes to last for many months or even several years. If no agreement is reached in mediation, the NMB in its discretion may declare that an impasse exists and proffer binding arbitration to the parties. Either party may decline to submit\\nto arbitration, and if arbitration is rejected by either party, a 30-day “cooling off” period commences. During or after that period, a Presidential Emergency Board (PEB) may be established, which examines the parties’ positions and\\nrecommends a solution. The PEB process lasts for 30 days and is followed by another 30-day “cooling off” period. At the end of a “cooling off” period, unless an agreement is reached or action is taken by Congress, the labor\\norganization may exercise “self-help,” such as a strike, which could materially adversely affect our business, results of operations and financial condition. ',\n",
       " 'None of the unions representing our employees presently may lawfully engage in concerted refusals to work, such as\\nstrikes, slow-downs, sick-outs or other similar activity, against us. Nonetheless, there is a risk that disgruntled employees, either with or without union involvement, could engage in one or more concerted refusals to work that could individually\\nor collectively harm the operation of our airline and impair our financial performance. See Part I, Item\\xa01. Business – “Employees and Labor Relations.”  ',\n",
       " 'The inability to maintain labor costs at competitive levels would harm our financial performance. ',\n",
       " 'Currently, we believe our labor costs are competitive relative to the other large network carriers. However, we cannot\\nprovide assurance that labor costs going forward will remain competitive because some of our agreements are amendable now and others may become amendable, competitors may significantly reduce their labor costs or we may agree to higher-cost\\nprovisions in our current or future labor negotiations. As of December\\xa031, 2014, approximately 82% of our employees were represented for collective bargaining purposes by labor unions. Some of our unions have brought and may continue to bring\\ngrievances to binding arbitration, including those related to wages. Unions may also bring court actions and may seek to compel us to engage in bargaining processes where we believe we have no such obligation. If successful, there is a risk these\\njudicial or arbitral avenues could create material additional costs that we did not anticipate. ',\n",
       " 'Interruptions or\\ndisruptions in service at one of our hub airports could have a material adverse impact on our operations. ',\n",
       " 'We operate principally through hubs in Charlotte, Chicago, Dallas/Fort Worth, Los Angeles, Miami, New York City, Philadelphia, Phoenix and Washington, D.C. Substantially all of our flights either\\noriginate in or fly into one of these locations. A significant interruption or disruption in service at one of our hubs resulting from ATC delays, weather conditions, natural disasters, growth constraints, relations with third-party service\\nproviders, failure of computer systems, facility disruptions, labor relations, power supplies, fuel supplies, terrorist activities or otherwise could result in the cancellation or delay of a significant portion of our flights and, as a result, could\\nhave a severe impact on our business, results of operations and financial condition. ',\n",
       " '\\xa0',\n",
       " '37 ',\n",
       " '\\n',\n",
       " 'Ongoing data security compliance requirements could increase our costs, and any\\nsignificant data breach could disrupt our operations and harm our reputation, business, results of operations and financial condition. ',\n",
       " 'Our business requires the appropriate and secure utilization of customer, employee, business partner and other sensitive information. We cannot be certain that advances in criminal capabilities (including\\ncyber-attacks or cyber intrusions over the Internet, malware, computer viruses and the like), discovery of new vulnerabilities or attempts to exploit existing vulnerabilities in our systems, other data thefts, physical system or network break-ins or\\ninappropriate access, or other developments will not compromise or breach the technology protecting the networks that access and store sensitive information. The risk of a security breach or disruption, particularly through cyber-attack or cyber\\nintrusion, including by computer hackers, foreign governments and cyber terrorists, has increased as the number, intensity and sophistication of attempted attacks and intrusions from around the world have increased. Furthermore, there has been\\nheightened legislative and regulatory focus on data security in the U.S. and abroad (particularly in the EU), including requirements for varying levels of customer notification in the event of a data breach. ',\n",
       " 'In addition, many of our commercial partners, including credit card companies, have imposed data security standards that\\nwe must meet. In particular, we are required by the Payment Card Industry Security Standards Council, founded by the credit card companies, to comply with their highest level of data security standards. While we continue our efforts to meet these\\nstandards, new and revised standards may be imposed that may be difficult for us to meet and could increase our costs. ',\n",
       " 'A significant data security breach or our failure to comply with applicable U.S. or foreign data security regulations or other data security standards may expose us to litigation, claims for contract\\nbreach, fines, sanctions or other penalties, which could disrupt our operations, harm our reputation and materially and adversely affect our business, results of operations and financial condition. Failure to address these issues appropriately could\\nalso give rise to additional legal risks, which, in turn, could increase the size and number of litigation claims and damages asserted or subject us to enforcement actions, fines and penalties and cause us to incur further related costs and\\nexpenses. ',\n",
       " 'If we are unable to obtain and maintain adequate facilities and infrastructure throughout our system and, at\\nsome airports, adequate Slots, we may be unable to operate our existing flight schedule and to expand or change our route network in the future, which may have a material adverse impact on our operations. ',\n",
       " 'In order to operate our existing and proposed flight schedule and, where appropriate, add service along new or existing\\nroutes, we must be able to maintain and/or obtain adequate gates, ticketing facilities, operations areas, and office space. As airports around the world become more congested, we will not always be able to ensure that our plans for new service can\\nbe implemented in a commercially viable manner, given operating constraints at airports throughout our network, including due to inadequate facilities at desirable airports. Further, our operating costs at airports at which we operate, including our\\nhubs, may increase significantly because of capital improvements at such airports that we may be required to fund, directly or indirectly. In some circumstances, such costs could be imposed by the relevant airport authority without our approval.\\n',\n",
       " 'In addition, operations at four major domestic airports, certain smaller domestic airports and certain\\nforeign airports served by us are regulated by governmental entities through the use of Slots or similar regulatory mechanisms which limit the rights of carriers to conduct operations at those airports. Each Slot represents the authorization to land\\nat or take off from the particular airport during a specified time period and may have other operational restrictions as well. In the U.S., the FAA currently regulates the allocation of Slot or Slot exemptions at DCA and three New York City\\nairports: Newark Liberty, JFK and LaGuardia. Our operations at these airports generally require the allocation of Slots or similar regulatory authority. Similarly, our operations at international airports in Frankfurt, London Heathrow, Paris and\\nother airports outside the U.S. are regulated by local Slot authorities pursuant to the International Air Transport Association’s Worldwide Scheduling Guidelines and applicable local law. We cannot provide any assurance that regulatory changes\\nregarding the allocation of Slots or similar regulatory authority will not have a material adverse impact on our operations. ',\n",
       " '\\xa0',\n",
       " '38 ',\n",
       " '\\n',\n",
       " 'In connection with the settlement of litigation relating to the Merger\\nbrought by the DOJ and certain states, we entered into settlement agreements that provide for certain asset divestitures including 52 slot pairs at DCA, 17 Slot pairs at LaGuardia and gates and related ground facilities necessary to operate those\\nSlot pairs, and two gates at each of Boston Logan International Airport, Chicago O’Hare International Airport, DAL, Los Angeles International Airport and Miami International Airport. Our settlement agreements also require our airlines to\\nmaintain certain hub operations and continue to provide service to certain specified communities for limited periods of time. In addition, we entered into a related settlement with the U.S. Department of Transportation (DOT) related to small\\ncommunity service from DCA. Further, as a consequence of the Merger clearance process in the EU, we made one pair of London Heathrow Slots available for use by another carrier and, along with our JBA partners, we made one pair of London Heathrow\\nSlots available to competitors for use for up to six years in different markets. ',\n",
       " 'Our ability to provide\\nservice can also be impaired at airports, such as Chicago O’Hare and Los Angeles International, where the airport gate and other facilities are inadequate to accommodate all of the service that we would like to provide. ',\n",
       " 'Any limitation on our ability to acquire or maintain adequate gates, ticketing facilities, operations areas, Slots (where\\napplicable), or office space could have a material adverse effect on our business, results of operations and financial condition. ',\n",
       " 'If we incur problems with any of our third-party regional operators or third-party service providers, our operations could be adversely affected by a resulting decline in revenue or negative public\\nperception about our services. ',\n",
       " 'A significant portion of our regional operations are conducted by\\nthird-party operators on our behalf, primarily under capacity purchase agreements. Due to our reliance on third parties to provide these essential services, we are subject to the risks of disruptions to their operations, which may result from many\\nof the same risk factors disclosed in this report, such as the impact of adverse economic conditions, and other risk factors, such as a bankruptcy restructuring of any of the regional operators. We may also experience disruption to our regional\\noperations if we terminate the capacity purchase agreement with one or more of our current operators and transition the services to another provider. As our regional segment provides revenues to us directly and indirectly (by providing flow traffic\\nto our hubs), any significant disruption to our regional operations would have a material adverse effect on our business, results of operations and financial condition. ',\n",
       " 'In addition, our reliance upon others to provide essential services on behalf of our operations may result in our\\nrelative inability to control the efficiency and timeliness of contract services. We have entered into agreements with contractors to provide various facilities and services required for our operations, including distribution and sale of airline\\nseat inventory, provision of information technology and services, regional operations, aircraft maintenance, ground services and facilities, reservations and baggage handling. Similar agreements may be entered into in any new markets we decide to\\nserve. These agreements are generally subject to termination after notice by the third-party service provider. We are also at risk should\\xa0one of these service providers cease operations,\\xa0and there is no guarantee that we could replace\\nthese providers on a timely basis\\xa0with comparably priced providers. Volatility in fuel prices, disruptions to capital markets and adverse economic conditions in general have subjected certain of these third-party regional carriers to\\nsignificant financial pressures, which have led to several bankruptcies among these carriers. Any material problems with the efficiency and timeliness of contract services, resulting from financial hardships or otherwise, could have a material\\nadverse effect on our business, results of operations and financial condition. ',\n",
       " 'We rely on third-party distribution\\nchannels and must manage effectively the costs, rights and functionality of these channels. ',\n",
       " 'We rely on\\nthird-party distribution channels, including those provided by or through global distribution systems (GDSs) (e.g., Amadeus, Sabre and Travelport), conventional travel agents and online travel agents (OTAs) (e.g., Expedia and Orbitz and Travelocity,\\nboth of which will be owned by Expedia if previously ',\n",
       " '\\xa0',\n",
       " '39 ',\n",
       " '\\n',\n",
       " '\\nannounced transactions are completed), to distribute a significant portion of our airline tickets, and we expect in the future to continue to rely on these channels and hope to expand their\\nability to distribute and collect revenues for ancillary products (e.g., fees for selective seating). These distribution channels are more expensive and at present have less functionality in respect of ancillary product offerings than those we\\noperate ourselves, such as our call centers and our website. Certain of these distribution channels also effectively restrict the manner in which we distribute our products generally. To remain competitive, we will need to manage successfully our\\ndistribution costs and rights, increase our distribution flexibility and improve the functionality of third-party distribution channels, while maintaining an industry-competitive cost structure. These imperatives may affect our relationships with\\nGDSs and OTAs, including as consolidation of OTAs continues or is proposed to continue. Any inability to manage our third-party distribution costs, rights and functionality at a competitive level or any material diminishment or disruption in the\\ndistribution of our tickets could have a material adverse effect on our business, results of operations and financial condition. ',\n",
       " 'Our business is subject to extensive government regulation, which may result in increases in our costs, disruptions to our operations, limits on our operating flexibility, reductions in the demand\\nfor air travel, and competitive disadvantages. ',\n",
       " 'Airlines are subject to extensive domestic and\\ninternational regulatory requirements. In the last several years, Congress has passed laws, and the DOT, the FAA, the U.S. Transportation Security Administration (TSA) and the Department of Homeland Security have issued a number of directives and\\nother regulations, that affect the airline industry. These requirements impose substantial costs on us and restrict the ways we may conduct our business. ',\n",
       " 'For example, the FAA from time to time issues directives and other regulations relating to the maintenance and operation of aircraft that require significant expenditures or operational restrictions. Our\\nfailure to timely comply with these requirements has in the past and may in the future result in fines and other enforcement actions by the FAA or other regulators. In addition, the FAA recently issued its final regulations governing pilot rest\\nperiods and work hours for all airlines certificated under Part 121 of the Federal Aviation Regulations. The rule, which became effective on January\\xa04, 2014, impacts the required amount and timing of rest periods for pilots between work\\nassignments and modifies duty and rest requirements based on the time of day, number of scheduled segments, flight types, time zones, and other factors. These regulations, or other regulations, could have a material adverse effect on us and the\\nindustry. ',\n",
       " 'DOT consumer rules that took effect in 2010 require procedures for customer handling during long\\nonboard delays, further regulate airline interactions with passengers through the reservations process, at the airport, and onboard the aircraft, and require new disclosures concerning airline fares and ancillary fees such as baggage fees. The DOT\\nhas been aggressively investigating alleged violations of these new rules. Other DOT rules apply to post-ticket purchase price increases and an expansion of tarmac delay regulations to international airlines. ',\n",
       " 'The Aviation and Transportation Security Act mandates the federalization of certain airport security procedures and\\nimposes additional security requirements on airports and airlines, most of which are funded by a per-ticket tax on passengers and a tax on airlines. ',\n",
       " 'The results of our operations, demand for air travel, and the manner in which we conduct business each may be affected by changes in law and future actions taken by governmental agencies, including:\\n',\n",
       " '\\xa0',\n",
       " 'changes in law which affect the services that can be offered by airlines in particular markets and at particular airports, or the types of fees that\\ncan be charged to passengers; ',\n",
       " '\\xa0',\n",
       " 'the granting and timing of certain governmental approvals (including antitrust or foreign government approvals) needed for codesharing alliances and\\nother arrangements with other airlines; ',\n",
       " '\\xa0',\n",
       " 'restrictions on competitive practices (for example, court orders, or agency regulations or orders, that would curtail an airline’s ability to\\nrespond to a competitor); ',\n",
       " '\\xa0',\n",
       " '40 ',\n",
       " '\\n',\n",
       " 'the adoption of new passenger security standards or regulations that impact customer service standards (for example, a “passenger bill of\\nrights”); ',\n",
       " '\\xa0',\n",
       " 'restrictions on airport operations, such as restrictions on the use of Slots at airports or the auction or reallocation of slot rights currently\\nheld by us; and ',\n",
       " '\\xa0',\n",
       " 'the adoption of more restrictive locally-imposed noise restrictions. ',\n",
       " 'Each additional regulation or other form of regulatory oversight increases costs and adds greater complexity to airline\\noperations and, in some cases, may reduce the demand for air travel. There can be no assurance that our compliance with new rules, anticipated rules or other forms of regulatory oversight will not have a material adverse effect on us. ',\n",
       " 'Any significant reduction in air traffic capacity at key airports in the U.S. or overseas could have a material adverse\\neffect on our business, results of operations and financial condition. In addition, the ATC system is not successfully managing the growing demand for U.S. air travel. ATC towers are frequently understaffed in certain of our hubs, and air traffic\\ncontrollers rely on outdated technologies that routinely overwhelm the system and compel airlines to fly inefficient, indirect routes. The ATC system’s inability to handle existing travel demand has led government agencies to implement\\nshort-term capacity constraints during peak travel periods in certain markets, resulting in delays and disruptions of air traffic. The outdated technologies also cause the ATC to be less resilient in the event of a failure. For example, the ATC\\nsystems in Chicago took weeks to recover following a fire in the ATC tower at ORD, which resulted in thousands of cancelled flights. ',\n",
       " 'On February\\xa014, 2012, the FAA Modernization and Reform Act of 2012 was signed. The law provides funding for the FAA to rebuild its ATC system, including switching from radar to a GPS-based system. It\\nis uncertain when any improvements to the ATC system will take effect. Failure to update the ATC system in a timely manner and the substantial funding requirements that may be imposed on airlines of a modernized ATC system may have a material\\nadverse effect on our business. ',\n",
       " 'The ability of U.S. airlines to operate international routes is subject to\\nchange because the applicable arrangements between the U.S. and foreign governments may be amended from time to time and appropriate Slots or facilities may not be made available. We currently operate a number of international routes under\\ngovernment arrangements that limit the number of airlines permitted to operate on the route, the capacity of the airlines providing services on the route, or the number of airlines allowed access to particular airports. If an open skies policy were\\nto be adopted for any of these routes, such an event could have a material adverse impact on us and could result in the impairment of material amounts of our related tangible and intangible assets. In addition, competition from revenue-sharing joint\\nventures, JBAs, and other alliance arrangements by and among other airlines could impair the value of our business and assets on the open skies routes. For example, the open skies air services agreement between the U.S. and the EU, which took effect\\nin March 2008, provides airlines from the U.S. and EU member states open access to each other’s markets, with freedom of pricing and unlimited rights to fly from the U.S. to any airport in the EU, including London Heathrow. As a result of the\\nagreement, we face increased competition in these markets, including London Heathrow. ',\n",
       " 'The airline industry is heavily\\ntaxed. ',\n",
       " 'The airline industry is subject to extensive government fees and taxation that negatively\\nimpact our revenue. The U.S. airline industry is one of the most heavily taxed of all industries. These fees and taxes have grown significantly in the past decade for domestic flights, and various U.S. fees and taxes also are assessed on\\ninternational flights. For example, as permitted by federal legislation, most major U.S. airports impose a passenger facility charge per passenger on us. In addition, the governments of foreign countries in which we operate impose on U.S. airlines,\\nincluding us, various fees and taxes, and these assessments have been increasing in number and amount in recent years. Moreover, we are obligated to collect a federal excise tax, commonly referred to as the “ticket tax,” on domestic and\\ninternational air transportation. We collect the excise tax, along ',\n",
       " '\\xa0',\n",
       " '41 ',\n",
       " '\\n',\n",
       " '\\nwith certain other U.S. and foreign taxes and user fees on air transportation (such as TSA security screening fees, which were recently increased), and pass along the collected amounts to the\\nappropriate governmental agencies. Although these taxes are not operating expenses, they represent an additional cost to our customers. There are continuing efforts in Congress and in other countries to raise different portions of the various taxes,\\nfees, and charges imposed on airlines and their passengers. Increases in such taxes, fees and charges could negatively impact our business, results of operations and financial condition. ',\n",
       " 'Under DOT regulations, all governmental taxes and fees must be included in the prices we quote or advertise to our\\ncustomers. Due to the competitive revenue environment, many increases in these fees and taxes have been absorbed by the airline industry rather than being passed on to the customer. Further increases in fees and taxes may reduce demand for air\\ntravel, and thus our revenues. ',\n",
       " 'Changes to our business model that are designed to increase revenues may not be\\nsuccessful and may cause operational difficulties or decreased demand. ',\n",
       " 'We have recently implemented\\nseveral measures designed to increase revenue and offset costs. These measures include charging separately for services that had previously been included within the price of a ticket and increasing other pre-existing fees. We may introduce\\nadditional initiatives in the future; however, as time goes on, we expect that it will be more difficult to identify and implement additional initiatives. We cannot assure you that these measures or any future initiatives will be successful in\\nincreasing our revenues. Additionally, the implementation of these initiatives may create logistical challenges that could harm the operational performance of our airline. Also, any new and increased fees might reduce the demand for air travel on\\nour airline or across the industry in general, particularly if weakened economic conditions make our customers more sensitive to increased travel costs or provide a significant competitive advantage to other carriers that determine not to institute\\nsimilar charges. ',\n",
       " 'The loss of key personnel upon whom we depend to operate our business or the inability to attract\\nadditional qualified personnel could adversely affect our business. ',\n",
       " 'We believe that our future success\\nwill depend in large part on our ability to retain or attract highly qualified management, technical and other personnel. We may not be successful in retaining key personnel or in attracting other highly qualified personnel. Any inability to retain\\nor attract significant numbers of qualified management and other personnel would have a material adverse effect on our business, results of operations and financial condition. ',\n",
       " 'We may be adversely affected by conflicts overseas or terrorist attacks; the travel industry continues to face ongoing security concerns. ',\n",
       " 'Acts of terrorism or fear of such attacks, including elevated national threat warnings, wars or other military conflicts,\\nmay depress air travel, particularly on international routes, and cause declines in revenues and increases in costs. The attacks of September\\xa011, 2001 and continuing terrorist threats, attacks and attempted attacks materially impacted and\\ncontinue to impact air travel. Increased security procedures introduced at airports since the attacks of September\\xa011, 2001 and any other such measures that may be introduced in the future generate higher operating costs for airlines. The\\nAviation and Transportation Security Act mandated improved flight deck security, deployment of federal air marshals on board flights, improved airport perimeter access security, airline crew security training, enhanced security screening of\\npassengers, baggage, cargo, mail, employees and vendors, enhanced training and qualifications of security screening personnel, additional provision of passenger data to the U.S. Customs and Border Protection Agency and enhanced background checks. A\\nconcurrent increase in airport security charges and procedures, such as restrictions on carry-on baggage, has also had and may continue to have a disproportionate impact on short-haul travel, which constitutes a significant portion of our flying and\\nrevenue. ',\n",
       " '\\xa0',\n",
       " '42 ',\n",
       " '\\n',\n",
       " 'We operate a global business with international operations that are subject to\\neconomic and political instability and have been, and in the future may continue to be, adversely affected by numerous events, circumstances or government actions beyond our control. ',\n",
       " 'We operate a global business with operations outside of the U.S. from which AAG derived approximately 33% of its operating\\nrevenues in 2014, as measured and reported to the DOT. Our current international activities and prospects have been and in the future could be adversely affected by reversals or delays in the opening of foreign markets, increased competition in\\ninternational markets, exchange controls or other restrictions on repatriation of funds, currency and political risks (including changes in exchange rates and currency devaluations, which are more likely in countries with exchange controls such as\\nVenezuela and Argentina), environmental regulation, increases in taxes and fees and changes in international government regulation of our operations, including the inability to obtain or retain needed route authorities and/or Slots. ',\n",
       " 'In particular, fluctuations in foreign currencies, including devaluations, exchange controls and other restrictions on\\nthe repatriation of funds, have significantly affected and may continue to significantly affect our operating performance, liquidity and the value of any cash held outside the U.S. in local currency. For example, the business environment in\\nVenezuela has been challenging, with economic uncertainty fueled by currency devaluation, high inflation and governmental restrictions, including currency exchange and payment controls, price controls and the possibility of expropriation of property\\nor other resources. As of December\\xa031, 2014, approximately $656 million of our unrestricted cash and short-term investment balance was held in Venezuelan bolivars. This balance includes approximately $621 million valued at 6.3 bolivars and\\napproximately $35 million valued at 12.0 bolivars, with the rate depending on the date we submitted our repatriation request to the Venezuelan government. These rates are materially more favorable than the exchange rates currently prevailing for\\nother transactions conducted outside of the Venezuelan government’s currency exchange system. Our cash balance held in Venezuelan bolivars decreased $54 million from the December\\xa031, 2013 balance of $710 million primarily due to $88\\nmillion in cash repatriations and $30 million in foreign currency losses as described below, partially offset by additional cash proceeds from ticket sales in early 2014. In the second and third quarters of 2014, we repatriated $65 million including\\n$31 million valued at 6.3 bolivars to the dollar and $34 million valued at 10.6 bolivars to the dollar. In the fourth quarter of 2014, we incurred an $11 million foreign currency loss related to the receipt of $23 million at a rate of 6.3 bolivars\\nto the dollar for one of our 2012 repatriation requests originally valued at a rate of 4.3 bolivars to the dollar. Accordingly, we revalued our remaining pending 2012 repatriation requests from 4.3 to 6.3 bolivars to the dollar resulting in\\nadditional foreign currency losses of $19 million. In total, we recognized a $30 million special charge for these foreign currency losses in the fourth quarter of 2014. ',\n",
       " 'During 2014, we significantly reduced capacity in the Venezuelan market and we are no longer accepting bolivars as\\npayment for airline tickets. We are continuing to work with Venezuelan authorities regarding the timing and exchange rate applicable to the repatriation of our funds still held in local currency. However, economic conditions in Venezuela continue to\\ndeteriorate with a related adverse effect on the ability of the Venezuelan government to satisfy repatriation requests on a timely basis, or at all. In mid-February 2015, the Venezuelan government announced new foreign exchange regulations, creating\\nthree new additional markets, as well as a new exchange rate to be utilized in those markets. The new exchange rate for transactions effected on those markets was to commence at 52 bolivars to the dollar, however, the rate is intended to fluctuate\\nbased on supply and demand and was approximately 172 bolivars to the dollar as of February 23, 2015 as reported by the Venezuelan Central Bank. Although the new regulations do not abolish the prior exchange rates at which we are valuing our bolivar\\nbalances, it is still uncertain what impact these new regulations will have on the foreign exchange environment or whether the Venezuelan government will announce further changes to the foreign exchange regulations that may have the effect of\\nmaterially adversely affecting our ability to repatriate the local currency we hold in Venezuela or the exchange rate applicable thereto.',\n",
       " 'We are monitoring this situation closely and continue to evaluate our holdings of Venezuelan bolivars for additional foreign currency losses, which could be material, particularly in light of the\\nadditional uncertainty posed by the February 2015 changes to the foreign exchange regulations and the continued deterioration of ',\n",
       " '\\xa0',\n",
       " '43 ',\n",
       " '\\n',\n",
       " '\\neconomic conditions in Venezuela. More generally, fluctuations in foreign currencies, including devaluations, cannot be predicted by us and can significantly affect the value of our assets\\nlocated outside the United States. These conditions, as well as any further delays, devaluations or imposition of more stringent repatriation restrictions, may materially adversely affect our business, results of operations and financial condition.\\n',\n",
       " 'We are subject to many forms of environmental regulation and may incur substantial costs as a result.\\n',\n",
       " 'We are subject to increasingly stringent federal, state, local and foreign laws, regulations and\\nordinances relating to the protection of the environment, including those relating to emissions to the air, discharges to surface and subsurface waters, safe drinking water, and the management of hazardous substances, oils and waste materials.\\nCompliance with environmental laws and regulations can require significant expenditures, and violations can lead to significant fines and penalties. ',\n",
       " 'The U.S. Environmental Protection Agency (EPA) has proposed changes to underground storage tank regulations that could affect certain airport fuel hydrant systems. A final rule has not yet been issued,\\nbut when implemented, airport systems that fall within threshold requirements may need to be modified in order to comply with applicable regulations. Additionally, the EPA has proposed the draft 2013 National Pollutant Discharge Elimination System\\nGeneral Permit for Stormwater Discharges from Industrial Activities. This permit would impose new limitations on certain discharges along with mandatory best management practices. Concurrently, California adopted a revised State Industrial General\\nPermit for Stormwater Discharges on April\\xa01, 2014, which becomes effective July\\xa01, 2015. This permit places additional reporting and monitoring requirements on permittees and requires implementation of mandatory best management practices.\\nCost estimates to comply with the above permitting requirements have not been defined, but American and US Airways along with other airlines would share a portion of these costs at applicable airports. In addition to the proposed EPA and state\\nregulations, several U.S. airport authorities are actively engaged in efforts to limit discharges of de-icing fluid to the environment, often by requiring airlines to participate in the building or reconfiguring of airport de-icing facilities. Such\\nefforts are likely to impose additional costs and restrictions on airlines using those airports. We do not believe, however, that such environmental developments will have a material impact on our capital expenditures or otherwise materially\\nadversely affect our operations, operating costs or competitive position. ',\n",
       " 'We are also subject to other\\nenvironmental laws and regulations, including those that require us to investigate and remediate soil or groundwater to meet certain remediation standards. Under federal law, generators of waste materials, and current and former owners or operators\\nof facilities, can be subject to liability for investigation and remediation costs at locations that have been identified as requiring response actions. Liability under these laws may be strict, joint and several, meaning that we could be liable for\\nthe costs of cleaning up environmental contamination regardless of fault or the amount of wastes directly attributable to us. We have liability for investigation and remediation costs at various sites, although such costs are currently not expected\\nto have a material adverse effect on our business. ',\n",
       " 'We have various leases and agreements with respect to real\\nproperty, tanks and pipelines with airports and other operators. Under these leases and agreements, we have agreed to indemnify the lessor or operator against environmental liabilities associated with the real property or operations described under\\nthe agreement, even if we are not the party responsible for the initial event that caused the environmental damage. We also participate in leases with other airlines in fuel consortiums and fuel committees at airports, where such indemnities are\\ngenerally joint and several among the participating airlines. ',\n",
       " 'There is increasing global regulatory focus on\\nclimate change and greenhouse gas (GHG) emissions. For example, the EU has established the Emissions Trading Scheme (ETS) to regulate GHG emissions in the EU. The EU adopted a directive in 2008 under which each EU member state is required to extend\\nthe ETS to aviation operations. This directive would have required us, beginning in 2012, to annually submit emission allowances in order to operate flights to and from airports in the European Economic Area (EEA), including flights between the U.S.\\nand EU member states. However, in an effort to allow the International Civil Aviation Organization (ICAO) ',\n",
       " '\\xa0',\n",
       " '44 ',\n",
       " '\\n',\n",
       " '\\ntime to propose an alternate scheme to manage global aviation GHG emissions, in April 2013 the EU suspended for one year the ETS’ application to flights entering and departing the EEA,\\nlimiting its application, for flights flown in 2012, to intra-EEA flights only. In October 2013, the ICAO Assembly adopted a resolution calling for the development through ICAO of a global, market-based scheme for aviation GHG emissions, to be\\nfinalized in 2016 and implemented in 2020. Subsequently, the EU has amended the EU ETS so that the monitoring, reporting and submission of allowances for aviation GHG emissions will continue to be limited to only intra-EEA flights through 2016, at\\nwhich time the EU will evaluate the progress made by ICAO and determine what, if any, measures to take related to aviation GHG emissions from 2017 onwards. The U.S. enacted legislation in November 2012 which encourages the DOT to seek an\\ninternational solution through ICAO and that will allow the U.S. Secretary of Transportation to prohibit U.S. airlines from participating in the ETS. Ultimately, the scope and application of ETS or other emissions trading schemes to our operations,\\nnow or in the near future, remains uncertain. We do not anticipate any significant emissions allowance expenditures in 2015. Beyond 2015, compliance with the ETS or similar emissions-related requirements could significantly increase our operating\\ncosts. Further, the potential impact of ETS or other emissions-related requirements on our costs will ultimately depend on a number of factors, including baseline emissions, the price of emission allowances or offsets and the number of future\\nflights subject to ETS or other emissions-related requirements. These costs have not been completely defined and could fluctuate. ',\n",
       " 'Similarly, within the U.S., there is an increasing trend toward regulating GHG emissions directly under the Clean Air Act (CAA). In response to a 2012 ruling by the U.S. Court of Appeals District of\\nColumbia Circuit requiring the EPA to make a final determination on whether aircraft GHG emissions cause or contribute to air pollution which may reasonably be anticipated to endanger public health or welfare, the EPA announced in September 2014\\nthat it is in the process of making a determination regarding aircraft GHG emissions and anticipates proposing an endangerment finding by May 2015. If the EPA makes a positive endangerment finding, the EPA is obligated under the CAA to set GHG\\nemission standards for aircraft. Several states are also considering or have adopted initiatives to regulate emissions of GHGs, primarily through the planned development of GHG emissions inventories and/or regional GHG cap and trade programs. These\\nregulatory efforts, both internationally and in the U.S. at the federal and state levels, are still developing, and we cannot yet determine what the final regulatory programs or their impact will be in the U.S., the EU or in other areas in which we\\ndo business. However, such climate change-related regulatory activity in the future may adversely affect our business and financial results by requiring us to reduce our emissions, purchase allowances or otherwise pay for our emissions. Such\\nactivity may also impact us indirectly by increasing our operating costs, including fuel costs. ',\n",
       " 'Governmental\\nauthorities in several U.S. and foreign cities are also considering, or have already implemented, aircraft noise reduction programs, including the imposition of nighttime curfews and limitations on daytime take-offs and landings. We have been able\\nto accommodate local noise restrictions imposed to date, but our operations could be adversely affected if locally-imposed regulations become more restrictive or widespread. ',\n",
       " 'We rely heavily on technology and automated systems to operate our business, and any failure of these technologies or systems could harm our business, results of operations and financial condition.\\n',\n",
       " 'We are highly dependent on technology and automated systems to operate our business and achieve low\\noperating costs. These technologies and systems include our computerized airline reservation systems, flight operations systems, financial planning, management and accounting systems, telecommunications systems, website, maintenance systems and\\ncheck-in kiosks. In order for our operations to work efficiently, our website and reservation system must be able to accommodate a high volume of traffic, maintain secure information and deliver flight information, as well as issue electronic\\ntickets and process critical financial information in a timely manner. Substantially all of our tickets are issued to passengers as electronic tickets. We depend on our reservation system, which is hosted and maintained under a long-term contract by\\na third-party service provider, to be able to issue, track and accept these electronic tickets. If our automated systems are not functioning or if our third-party service providers were to fail to adequately provide technical support, system\\nmaintenance or timely ',\n",
       " '\\xa0',\n",
       " '45 ',\n",
       " '\\n',\n",
       " '\\nsoftware upgrades for any one of our key existing systems, we could experience service disruptions or delays, which could harm our business and result in the loss of important data, increase our\\nexpenses and decrease our revenues. In the event that one or more of our primary technology or systems vendors goes into bankruptcy, ceases operations or fails to perform as promised, replacement services may not be readily available on a timely\\nbasis, at competitive rates or at all, and any transition time to a new system may be significant. ',\n",
       " 'Our\\nautomated systems cannot be completely protected against other events that are beyond our control, including natural disasters, power failures, terrorist attacks, cyber-attacks, data theft, equipment and software failures, computer viruses or\\ntelecommunications failures. Substantial or sustained system failures could cause service delays or failures and result in our customers purchasing tickets from other airlines. We cannot assure you that our security measures, change control\\nprocedures or disaster recovery plans are adequate to prevent disruptions or delays. Disruption in or changes to these systems could result in a disruption to our business and the loss of important data. Any of the foregoing could result in a\\nmaterial adverse effect on our business, results of operations and financial condition. ',\n",
       " 'We face challenges in\\nintegrating our computer, communications and other technology systems. ',\n",
       " 'Among the principal risks of\\nintegrating our businesses and operations are the risks relating to integrating various computer, communications and other technology systems, including designing and implementing an integrated customer reservations system, that will be necessary to\\noperate US Airways and American as a single airline and to achieve cost synergies by eliminating redundancies in the businesses. The integration of these systems in a number of prior airline mergers has taken longer, been more disruptive and cost\\nmore than originally forecast. The implementation process to integrate these various systems will involve a number of risks that could adversely impact our business, results of operations and financial condition. New systems will replace multiple\\nlegacy systems and the related implementation will be a complex and time-consuming project involving substantial expenditures for implementation consultants, system hardware, software and implementation activities, as well as the transformation of\\nbusiness and financial processes. ',\n",
       " 'As with any large project, there will be many factors that may materially\\naffect the schedule, cost and execution of the integration of our computer, communications and other technology systems. These factors include, among others: problems during the design, implementation and testing phases; systems delays and/or\\nmalfunctions; the risk that suppliers and contractors will not perform as required under their contracts; the diversion of management attention from daily operations to the project; reworks due to unanticipated changes in business processes;\\nchallenges in simultaneously activating new systems throughout our global network; difficulty in training employees in the operations of new systems; the risk of security breach or disruption; and other unexpected events beyond our control. We\\ncannot assure you that our security measures, change control procedures or disaster recovery plans will be adequate to prevent disruptions or delays. Disruptions in or changes to these systems could result in a disruption to our business and the\\nloss of important data. Any of the foregoing could result in a material adverse effect on our business, results of operations and financial condition. ',\n",
       " 'We are at risk of losses and adverse publicity stemming from any accident involving any of our aircraft or the aircraft of our regional or codeshare operators. ',\n",
       " 'If one of our aircraft, an aircraft that is operated under our brand by one of our regional operators, or an aircraft that\\nis operated by an airline with which we have a marketing alliance or codeshare relationship were to be involved in an accident, we could be exposed to significant tort liability. The insurance we carry to cover damages arising from any future\\naccidents may be inadequate. In the event that our insurance is not adequate, we may be forced to bear substantial losses from an accident. In addition, any accident involving an aircraft that we operate, an aircraft that is operated under our brand\\nby one of our regional operators or an aircraft that is operated by an airline that is one of our codeshare partners, could create a public perception that our aircraft or those of our regional operators or codeshare partners are not safe or\\nreliable, which could harm our reputation, result in air travelers being reluctant to fly on our aircraft or those of our regional operators or codeshare partners, and adversely impact our business, results of operations and financial condition.\\n',\n",
       " '\\xa0',\n",
       " '46 ',\n",
       " '\\n',\n",
       " 'Delays in scheduled aircraft deliveries or other loss of anticipated fleet capacity,\\nand failure of new aircraft to perform as expected, may adversely impact our business, results of operations and financial condition. ',\n",
       " 'The success of our business depends on, among other things, effectively managing the number and types of aircraft we operate. In many cases, the aircraft we intend to operate are not yet in our fleet, but\\nwe have contractual commitments to purchase or lease them. If for any reason we were unable to accept or secure deliveries of new aircraft on contractually scheduled delivery dates, this could have a negative impact on our business, results of\\noperations and financial condition. Our failure to integrate newly purchased aircraft into our fleet as planned might require us to seek extensions of the terms for some leased aircraft or otherwise delay the exit of certain aircraft from our fleet.\\nSuch unanticipated extensions or delays may require us to operate existing aircraft beyond the point at which it is economically optimal to retire them, resulting in increased maintenance costs. If new aircraft orders are not filled on a timely\\nbasis, we could face higher operating costs than planned. In addition, if the aircraft we receive do not meet expected performance or quality standards, including with respect to fuel efficiency and reliability, our business, results of operations\\nand financial condition could be adversely impacted. ',\n",
       " 'We depend on a limited number of suppliers for aircraft, aircraft\\nengines and parts. ',\n",
       " 'We depend on a limited number of suppliers for aircraft, aircraft engines and many\\naircraft and engine parts. As a result, we are vulnerable to any problems associated with the supply of those aircraft, parts and engines, including design defects, mechanical problems, contractual performance by the suppliers, or adverse perception\\nby the public that would result in customer avoidance or in actions by the FAA resulting in an inability to operate our aircraft. ',\n",
       " 'Our business has been and will continue to be affected by many changing economic and other conditions beyond our control, including global events that affect travel behavior, and our results of\\noperations could be volatile and fluctuate due to seasonality. ',\n",
       " 'Our business, results of operations and\\nfinancial condition has been and will continue to be affected by many changing economic and other conditions beyond our control, including, among others: ',\n",
       " '\\xa0',\n",
       " 'actual or potential changes in international, national, regional, and local economic, business and financial conditions, including recession,\\ninflation, higher interest rates, wars, terrorist attacks, or political instability; ',\n",
       " '\\xa0',\n",
       " 'changes in consumer preferences, perceptions, spending patterns, or demographic trends; ',\n",
       " '\\xa0',\n",
       " 'changes in the competitive environment due to industry consolidation, changes in airline alliance affiliations, and other factors;\\n',\n",
       " '\\xa0',\n",
       " 'actual or potential disruptions to the ATC systems; ',\n",
       " '\\xa0',\n",
       " 'increases in costs of safety, security, and environmental measures; ',\n",
       " '\\xa0',\n",
       " 'outbreaks of diseases that affect travel behavior; and ',\n",
       " '\\xa0',\n",
       " 'weather and natural disasters. ',\n",
       " 'In particular, an outbreak of a contagious disease such as the Ebola virus, Severe Acute Respiratory Syndrome, H1N1 influenza virus, avian flu, or any other influenza-type illness, if it were to persist\\nfor an extended period, could materially affect the airline industry and us by reducing revenues and adversely impacting our operations and passengers’ travel behavior. As a result of these or other conditions beyond our control, our results of\\noperations could be volatile and subject to rapid and unexpected change. In addition, due to generally weaker demand for air travel during the winter, our revenues in the first and fourth quarters of the year could be weaker than revenues in the\\nsecond and third quarters of the year. ',\n",
       " '\\xa0',\n",
       " '47 ',\n",
       " '\\n',\n",
       " 'A higher than normal number of pilot retirements and a potential shortage of pilots\\ncould adversely affect us. ',\n",
       " 'We currently have a higher than normal number of pilots eligible for\\nretirement. Among other things, the extension of pilot careers facilitated by the FAA’s 2007 modification of the mandatory retirement age from age 60 to age 65 has now been fully implemented, resulting in large numbers of pilots in the industry\\napproaching the revised mandatory retirement age. If pilot retirements were to exceed normal levels in the future, it may adversely affect us and our regional partners. On January\\xa04, 2014, more stringent pilot flight and duty time requirements\\nunder Part 117 of the Federal Aviation Regulations took effect. The FAA also recently issued regulations that increase the flight experience required for pilots working for airlines certificated under Part 121 of the Federal Aviation Regulations.\\nThese and other factors could contribute to a shortage of qualified pilots, particularly for our regional partners, which now face increased competition from large, mainline carriers to hire pilots. If we or our regional partners are unable to hire\\nadequate numbers of pilots, we may experience disruptions, increased costs of operations and other adverse effects. ',\n",
       " 'Increases in insurance costs or reductions in insurance coverage may adversely impact our operations and financial results.\\n',\n",
       " 'The terrorist attacks of September\\xa011, 2001 led to a significant increase in insurance premiums\\nand a decrease in the insurance coverage available to commercial air carriers. Accordingly, our insurance costs increased significantly, and our ability to continue to obtain insurance even at current prices remains uncertain. If we are unable to\\nmaintain adequate insurance coverage, our business could be materially and adversely affected. Additionally, severe disruptions in the domestic and global financial markets could adversely impact the claims paying ability of some insurers. Future\\ndowngrades in the ratings of enough insurers could adversely impact both the availability of appropriate insurance coverage and its cost. Because of competitive pressures in our industry, our ability to pass additional insurance costs to passengers\\nis limited. As a result, further increases in insurance costs or reductions in available insurance coverage could have an adverse impact on our financial results. ',\n",
       " 'A lawsuit filed in connection with the Merger remains pending, and this lawsuit could have a material adverse impact on our business. ',\n",
       " 'US Airways Group, US Airways, AMR and American were named as defendants in a private antitrust lawsuit in connection with\\nthe Merger. The complaint alleges that the effect of the Merger may be to substantially lessen competition or tend to create a monopoly in violation of Section\\xa07 of the Clayton Antitrust Act. The relief sought in the complaint includes an\\ninjunction against the Merger, or divestiture. In January 2014, the complaint was amended to add a claim for money damages and to request injunctive relief requiring the carriers to hold separate their assets. In March 2014, the Court allowed\\nplaintiffs to add certain allegations but denied plaintiffs’ requests to add a damages claim or seek preliminary injunctive relief requiring the carriers to hold separate their assets, and in June 2014 plaintiffs filed an amended motion for\\nleave to file a second amended and supplemental complaint. This lawsuit could result in an obligation to pay damages or terms, conditions, requirements, limitations, costs or restrictions that would impose additional material costs on or materially\\nlimit our revenues, or materially limit some of the synergies and other benefits we anticipate following the Merger. ',\n",
       " 'Our ability to utilize our NOL Carryforwards may be limited. ',\n",
       " 'Under the Internal Revenue Code of 1986, as amended (the Code), a corporation is generally allowed a deduction for NOL\\nCarryforwards. As of December\\xa031, 2014, we had available NOL Carryforwards of approximately $10.1 billion for regular federal income tax purposes which will expire, if unused, beginning in 2022, and approximately $4.6 billion for state income\\ntax purposes which will expire, if unused, between 2015 and 2034. As of December\\xa031, 2014, the amount of NOL Carryforwards for state income tax purposes that will expire, if unused, in 2015 is $83 million. Our NOL Carryforwards are subject to\\nadjustment on audit by the Internal Revenue Service and the respective state taxing authorities. ',\n",
       " '\\xa0',\n",
       " '48 ',\n",
       " '\\n',\n",
       " 'A corporation’s ability to deduct its federal NOL Carryforwards and to\\nutilize certain other available tax attributes can be substantially constrained under the general annual limitation rules of Section\\xa0382 of the Code (Section 382) if it undergoes an “ownership change” as defined in Section\\xa0382\\n(generally where cumulative stock ownership changes among material shareholders exceed 50 percent during a rolling three-year period). We experienced an ownership change in connection with our emergence from the Chapter 11 Cases and US Airways Group\\nexperienced an ownership change in connection with the Merger. The general limitation rules for a debtor in a bankruptcy case are liberalized where the ownership change occurs upon emergence from bankruptcy. We elected to be covered by certain\\nspecial rules for federal income tax purposes that permit approximately $9.0 billion of our federal NOL Carryforwards to be utilized without regard to the annual limitation generally imposed by Section\\xa0382. If the special rules do not apply,\\nour ability to utilize such federal NOL Carryforwards may be subject to limitation. Substantially all of our remaining federal NOL Carryforwards (attributable to US Airways Group and its subsidiaries) are subject to limitation under Section\\xa0382\\nas a result of the Merger; however, our ability to utilize such NOL Carryforwards is not anticipated to be effectively constrained as a result of such limitation. Similar limitations may apply for state income tax purposes. ',\n",
       " 'Notwithstanding the foregoing, an ownership change subsequent to our emergence from the Chapter 11 Cases may severely\\nlimit or effectively eliminate our ability to utilize our NOL Carryforwards and other tax attributes. To reduce the risk of a potential adverse effect on our ability to utilize our NOL Carryforwards, our Certificate of Incorporation contains\\ntransfer restrictions applicable to certain substantial shareholders. Although the purpose of these transfer restrictions is to prevent an ownership change from occurring, no assurance can be given that such an ownership change will not occur, in\\nwhich case our ability to utilize our NOL Carryforwards and other tax attributes could be severely limited or effectively eliminated. ',\n",
       " 'Our ability to use our NOL Carryforwards also will depend on the amount of taxable income generated in future periods. The NOL Carryforwards may expire before we can generate sufficient taxable income to\\nuse them. ',\n",
       " 'The application of the acquisition method of accounting resulted in AAG recording a significant amount of\\ngoodwill, which amount is tested for impairment at least annually. In addition, AAG and American may never realize the full value of their respective intangible assets or long-lived assets, causing them to record material impairment charges.\\n',\n",
       " 'In accordance with applicable acquisition accounting rules, AAG recorded goodwill on its consolidated\\nbalance sheet to the extent the US Airways Group acquisition purchase price exceeded the net fair value of US Airways Group’s tangible and intangible assets and liabilities as of the acquisition date. Goodwill is not amortized, but is tested\\nfor impairment at least annually. Also, in accordance with applicable accounting standards, AAG and American will be required to test their respective indefinite-lived intangible assets for impairment on an annual basis, or more frequently if\\nconditions indicate that an impairment may have occurred. In addition, AAG and American are required to test certain of their other assets for impairment if conditions indicate that an impairment may have occurred. ',\n",
       " 'Future impairment of goodwill or other assets could be recorded in results of operations as a result of changes in\\nassumptions, estimates, or circumstances, some of which are beyond our control. Factors which could result in an impairment could include, but are not limited to: (i)\\xa0reduced passenger demand as a result of domestic or global economic\\nconditions; (ii)\\xa0higher prices for jet fuel; (iii)\\xa0lower fares or passenger yields as a result of increased competition or lower demand; (iv)\\xa0a significant increase in future capital expenditure commitments; and (v)\\xa0significant\\ndisruptions to our operations as a result of both internal and external events such as terrorist activities, actual or threatened war, labor actions by employees, or further industry regulation. There can be no assurance that a material impairment\\ncharge of goodwill or tangible or intangible assets will be avoided. The value of our aircraft could be impacted in future periods by changes in supply and demand for these aircraft. Such changes in supply and demand for certain aircraft types could\\nresult from grounding of aircraft by us or other airlines. An impairment charge could have a material adverse effect on our business, results of operations and financial condition. ',\n",
       " '\\xa0',\n",
       " '49 ',\n",
       " '\\n',\n",
       " 'Risks Relating to AAG’s Common Stock ',\n",
       " 'The price of our common stock has recently been and may in the future be volatile. ',\n",
       " 'The market price of AAG Common Stock may fluctuate substantially due to a variety of factors, many of which are beyond our\\ncontrol, including: ',\n",
       " '\\xa0',\n",
       " 'AAG’s operating and financial results failing to meet the expectations of securities analysts or investors; ',\n",
       " '\\xa0',\n",
       " 'changes in financial estimates or recommendations by securities analysts; ',\n",
       " '\\xa0',\n",
       " 'material announcements by us or our competitors; ',\n",
       " '\\xa0',\n",
       " 'movements in fuel prices; ',\n",
       " '\\xa0',\n",
       " 'new regulatory pronouncements and changes in regulatory guidelines; ',\n",
       " '\\xa0',\n",
       " 'general and industry-specific economic conditions; ',\n",
       " '\\xa0',\n",
       " 'the success or failure of AAG’s integration efforts; ',\n",
       " '\\xa0',\n",
       " 'changes in our key personnel; ',\n",
       " '\\xa0',\n",
       " 'distributions of shares of AAG Common Stock pursuant to the Plan, including distributions from the Disputed Claims Reserve established under the\\nplan of reorganization upon the resolution of the underlying claims; ',\n",
       " '\\xa0',\n",
       " 'public sales of a substantial number of shares of AAG Common Stock or issuances of AAG Common Stock upon the exercise or conversion of convertible\\nsecurities, options, warrants, RSUs, SARs, or similar rights; ',\n",
       " '\\xa0',\n",
       " 'increases or decreases in reported holdings by insiders or other significant stockholders; ',\n",
       " '\\xa0',\n",
       " 'fluctuations in trading volume; ',\n",
       " '\\xa0',\n",
       " 'expectations regarding our capital deployment program, including our share repurchase program and any future dividend payments that may be declared\\nby our Board of Directors; and ',\n",
       " '\\xa0',\n",
       " 'changes in market values of airline companies as well as general market conditions. ',\n",
       " 'We cannot guarantee that we will repurchase our common stock pursuant to our share repurchase program or continue to pay dividends\\non our common stock or that our capital deployment program will enhance long-term stockholder value. Our capital deployment program could increase the volatility of the price of our common stock and diminish our cash reserves. ',\n",
       " 'As part of a capital deployment program, in July 2014, our Board of Directors authorized a $1.0 billion share repurchase\\nprogram, which was completed in 2014, and in January 2015, our Board of Directors authorized a new $2.0 billion share repurchase program to be completed no later than December\\xa031, 2016. Share repurchases under the share repurchase program may\\nbe made through a variety of methods, which may include open market purchases, privately negotiated transactions, block trades or accelerated share repurchase transactions. This share repurchase program does not obligate us to acquire any specific\\nnumber of shares or to repurchase any specific number of shares for any fixed period, and may be suspended at any time at management’s discretion. The timing and amount of repurchases, if any, will be subject to market and economic conditions,\\napplicable legal requirements and other relevant factors. The repurchase program may be limited, suspended or discontinued at any time without prior notice. ',\n",
       " 'Although our Board of Directors declared cash dividends in July 2014,\\xa0October 2014 and January 2015 as part of the capital deployment program, any future dividends that may be declared and paid from\\ntime to time under our capital deployment program will be subject to market and economic conditions, applicable legal requirements and other relevant factors. Our capital deployment program does not obligate us to continue a\\n',\n",
       " '\\xa0',\n",
       " '50 ',\n",
       " '\\n',\n",
       " '\\ndividend for any fixed period, and payment of dividends may be suspended at any time at management’s discretion. We will continue to retain future earnings to develop our business, as\\nopportunities arise, and evaluate on a quarterly basis the amount and timing of future dividends based on our operating results, financial condition, capital requirements and general business conditions. The amount and timing of any future dividends\\nmay vary, and the payment of any dividend does not assure that we will be able to pay dividends in the future. ',\n",
       " 'In addition, repurchases of AAG Common Stock pursuant to our share repurchase program and any future dividends could\\naffect our stock price and increase its volatility. The existence of a share repurchase program and any future dividends could cause our stock price to be higher than it would otherwise be and could potentially reduce the market liquidity for our\\nstock. Additionally, our share repurchase program and any future dividends could diminish our cash reserves, which may impact our ability to finance future growth and to pursue possible future strategic opportunities and acquisitions. Further, our\\nshare repurchase program may fluctuate such that our cash flow may be insufficient to fully cover our share repurchases. Although our share repurchase program is intended to enhance long-term stockholder value, there is no assurance that it will do\\nso because the market price of our common stock may decline below the levels at which we repurchased shares of stock and short-term stock price fluctuations could reduce the program’s effectiveness. ',\n",
       " 'Certain provisions of AAG’s Certificate of Incorporation and Bylaws make it difficult for stockholders to change the\\ncomposition of our Board of Directors and may discourage takeover attempts that some of our stockholders might consider beneficial. ',\n",
       " 'Certain provisions of our Certificate of Incorporation and Bylaws may have the effect of delaying or preventing changes in control if our Board of Directors determines that such changes in control are not\\nin our best interest and the best interest of our stockholders. These provisions include, among other things, the following: ',\n",
       " '\\xa0',\n",
       " 'advance notice procedures for stockholder proposals to be considered at stockholders’ meetings; ',\n",
       " '\\xa0',\n",
       " 'the ability of our Board of Directors to fill vacancies on the Board; ',\n",
       " '\\xa0',\n",
       " 'a prohibition against stockholders taking action by written consent; ',\n",
       " '\\xa0',\n",
       " 'a prohibition against stockholders calling special meetings of stockholders; ',\n",
       " '\\xa0',\n",
       " 'a requirement that holders of at least 80% of the voting power of the shares entitled to vote in the election of directors approve any amendment of\\nour Bylaws submitted to stockholders for approval;\\xa0and ',\n",
       " '\\xa0',\n",
       " 'super-majority voting requirements to modify or amend specified provisions of our Certificate of Incorporation. ',\n",
       " 'These provisions are not intended to prevent a takeover, but are intended to protect and maximize the value of the\\ninterests of our stockholders. While these provisions have the effect of encouraging persons seeking to acquire control of our company to negotiate with our Board of Directors, they could enable our Board of Directors to prevent a transaction that\\nsome, or a majority, of our stockholders might believe to be in their best interests and, in that case, may prevent or discourage attempts to remove and replace incumbent directors. In addition, we are subject to the provisions of Section\\xa0203\\nof the Delaware General Corporation Law, which prohibits business combinations with interested stockholders. Interested stockholders do not include stockholders whose acquisition of our securities is approved by the Board of Directors prior to the\\ninvestment under Section\\xa0203. ',\n",
       " 'AAG’s Certificate of Incorporation and Bylaws include provisions that limit\\nvoting and acquisition and disposition of our equity interests. ',\n",
       " 'Our Certificate of Incorporation and\\nBylaws include certain provisions that limit voting and ownership and disposition of our equity interests, including AAG Common Stock, AAG Series A Preferred Stock and convertible notes. These restrictions may adversely affect the ability of certain\\nholders of AAG Common Stock and our other equity interests to vote such interests and adversely affect the ability of persons to acquire shares of AAG Common Stock and our other equity interests. ',\n",
       " '\\xa0',\n",
       " '51 ',\n",
       " '\\n',\n",
       " 'In order to protect AAG’s NOL Carryforwards and certain other tax attributes,\\nAAG’s Certificate of Incorporation includes certain limitations on acquisitions and dispositions of AAG’s Common Stock, which may limit the liquidity of our common stock. ',\n",
       " 'To reduce the risk of a potential adverse effect on our ability to use our NOL Carryforwards and certain other tax\\nattributes for federal income tax purposes, our Certificate of Incorporation contains certain restrictions on the acquisition and disposition of AAG Common Stock by substantial stockholders. These restrictions may adversely affect the ability of\\ncertain holders of AAG Common Stock to dispose of or acquire shares of AAG Common Stock. Although the purpose of these transfer restrictions is to prevent an “ownership change” (as defined in Section\\xa0382) from occurring, no assurance\\ncan be given that an ownership change will not occur even with these restrictions in place. ',\n",
       " '<']"
      ]
     },
     "execution_count": 811,
     "metadata": {},
     "output_type": "execute_result"
    }
   ],
   "source": [
    "tempsoup = BeautifulSoup(temp, 'html.parser')\n",
    "goods = tempsoup.find_all('p')\n",
    "[x.text for x in goods]"
   ]
  },
  {
   "cell_type": "markdown",
   "metadata": {},
   "source": [
    "Now, we will do all of them"
   ]
  },
  {
   "cell_type": "code",
   "execution_count": 789,
   "metadata": {},
   "outputs": [
    {
     "data": {
      "text/plain": [
       "[0,\n",
       " 60523,\n",
       " 261964,\n",
       " 422769,\n",
       " 423734,\n",
       " 552226,\n",
       " 563911,\n",
       " 564782,\n",
       " 598619,\n",
       " 723646,\n",
       " 1568708,\n",
       " 1614421,\n",
       " 3215477,\n",
       " 4331581,\n",
       " 4331976,\n",
       " 4353593,\n",
       " 4355559,\n",
       " 4356681,\n",
       " 4357701,\n",
       " 4358396,\n",
       " 4359556,\n",
       " 4575093]"
      ]
     },
     "execution_count": 789,
     "metadata": {},
     "output_type": "execute_result"
    }
   ],
   "source": [
    "starts = [0]+[locations[i].start() for i in range(len(locations))] + [len(raw_10k)]\n",
    "starts"
   ]
  },
  {
   "cell_type": "code",
   "execution_count": 812,
   "metadata": {},
   "outputs": [],
   "source": [
    "sections = {}\n",
    "\n",
    "for i in range(len(starts)-1):\n",
    "    temp = raw_10k[starts[i]:starts[i+1]]\n",
    "    tempsoup = BeautifulSoup(temp, 'html.parser')\n",
    "    goods = tempsoup.find_all('p')\n",
    "    sections[i] = [x.text for x in goods]"
   ]
  },
  {
   "cell_type": "markdown",
   "metadata": {},
   "source": [
    "## Validation"
   ]
  },
  {
   "cell_type": "code",
   "execution_count": 828,
   "metadata": {
    "scrolled": false
   },
   "outputs": [
    {
     "data": {
      "text/plain": [
       "'Below are certain risk factors that may affect our business, results of operations and financial condition, or the trading\\nprice of our common stock or other securities. We caution the reader that these risk factors may not be exhaustive. We operate in a continually changing business environment, and new risks and uncertainties emerge from time to time. Management\\ncannot predict such new risks and uncertainties, nor can it assess the extent to which any of the risk factors below or any such new risks and uncertainties, or any combination thereof, may impact our business. Risk Factors Relating to the Company and Industry-Related Risks We could experience significant operating losses in the future. For a number of reasons, including those addressed in these risk factors, we might fail to maintain profitability and might experience significant losses. In particular, the condition of the economy, the\\nlevel and volatility of fuel prices, the state of travel demand and intense competition in the airline industry have had and will continue to have an impact on our operating results, and may increase the risk that we will experience losses.\\nDownturns in economic conditions adversely affect our business. Due to the discretionary nature of business and leisure travel spending, airline industry revenues are heavily influenced\\nby the condition of the U.S. economy and economies in other regions of the world. Unfavorable conditions in these broader economies have resulted, and may result in the future, in decreased passenger demand for air travel and changes in booking\\npractices, both of which in turn have had, and may have in the future, a strong negative effect on our revenues. In addition, during challenging economic times, actions by our competitors to increase their revenues can have an adverse impact on our\\nrevenues. See “The airline industry is intensely competitive and dynamic” below. Certain labor agreements to which we are a party limit our ability to reduce the number of aircraft in operation, and the utilization of such aircraft,\\nbelow certain levels. As a result, we may not be able to optimize the number of aircraft in operation in response to a decrease in passenger demand for air travel. Our business is dependent on the price and availability of aircraft fuel. Continued periods of high volatility in fuel costs, increased fuel prices and significant disruptions in the supply of\\naircraft fuel could have a significant negative impact on our operating results and liquidity. Our\\noperating results are materially impacted by changes in the availability, price volatility and cost of aircraft fuel, which represents one of the largest single cost items in our business. Jet fuel market prices have fluctuated substantially over\\nthe past several years and prices continued to be volatile in 2014. Because of the amount of fuel needed to\\noperate our business, even a relatively small increase in the price of fuel can have a material adverse aggregate effect on our operating results and liquidity. Due to the competitive nature of the airline industry and unpredictability of the\\nmarket, we can offer no assurance that we may be able to increase our fares, impose fuel surcharges or otherwise increase revenues sufficiently to offset fuel price increases. Although we are currently able to obtain adequate supplies of aircraft fuel, we cannot predict the future availability,\\nprice volatility or cost of aircraft fuel. Natural disasters, political disruptions or wars involving oil-producing countries, changes in fuel-related governmental policy, the strength of the U.S. dollar against foreign currencies, changes in access\\nto petroleum product pipelines and terminals, speculation in the energy futures markets, changes in aircraft fuel production capacity, environmental concerns and other unpredictable events may result in fuel supply shortages, additional fuel price\\nvolatility and cost increases in the future. We have a large number of older aircraft in our fleet, and these\\naircraft are not as fuel efficient as more recent models of aircraft, including those we have on order. We intend to continue to execute our fleet renewal plans to, \\xa030 \\n\\namong other things, improve the fuel efficiency of our fleet, and we are dependent on a limited number of major aircraft manufacturers to deliver aircraft on schedule. If we experience delays in\\ndelivery of the more fuel efficient aircraft that we have on order, we will be adversely affected. Our\\naviation fuel purchase contracts generally do not provide meaningful price protection against increases in fuel costs. Prior to the closing of the Merger, we sought to manage the risk of fuel price increases by using derivative contracts. During the\\nsecond quarter of 2014, we sold our portfolio of fuel hedging contracts that were scheduled to settle on or after June\\xa030, 2014. We have not entered into any transactions to hedge our fuel consumption since December\\xa09, 2013 and,\\naccordingly, as of December\\xa031'"
      ]
     },
     "execution_count": 828,
     "metadata": {},
     "output_type": "execute_result"
    }
   ],
   "source": [
    "''.join(sections[2])[:5000]"
   ]
  },
  {
   "cell_type": "markdown",
   "metadata": {},
   "source": [
    "YES !"
   ]
  },
  {
   "cell_type": "markdown",
   "metadata": {},
   "source": [
    "# Scratchpad\n",
    "\n",
    "Ignore the stuff below this"
   ]
  },
  {
   "cell_type": "code",
   "execution_count": 715,
   "metadata": {},
   "outputs": [
    {
     "data": {
      "text/plain": [
       "str"
      ]
     },
     "execution_count": 715,
     "metadata": {},
     "output_type": "execute_result"
    }
   ],
   "source": [
    "type(raw_10k)"
   ]
  },
  {
   "cell_type": "code",
   "execution_count": 710,
   "metadata": {},
   "outputs": [],
   "source": [
    "# Write a for loop to print the matches\n",
    "for match in matches:\n",
    "    print(match)"
   ]
  },
  {
   "cell_type": "code",
   "execution_count": 711,
   "metadata": {},
   "outputs": [
    {
     "data": {
      "text/plain": [
       "'p style=\"margin-left:4.50em; text-indent:-4.50em\"><font size=\"2\" style=\"font-family:Times New Roman\">Item&#160;1.&#160;&#160;&#160;&#160;&#160;&#160;&#160;&#160;</font></p></td>\\n<td valign=\"bottom\"><f'"
      ]
     },
     "execution_count": 711,
     "metadata": {},
     "output_type": "execute_result"
    }
   ],
   "source": [
    "raw_10k[30355:30555]"
   ]
  },
  {
   "cell_type": "code",
   "execution_count": 703,
   "metadata": {},
   "outputs": [
    {
     "data": {
      "text/plain": [
       "'idth=\"100%\"/>\\n<h5 align=\"left\"><a href=\"#toc\">Table of Contents</a></h5>\\n<p align=\"center\" style=\"margin-top:0px;margin-bottom:0px\"><font size=\"2\" style=\"font-family:Times New Roman\"><b><a name=\"tx829913_1\"></a>PART I </b></font></p>\\n<p style=\"font-size:12px;margin-top:0px;margin-bottom:0px\">&#160;</p>\\n<table border=\"0\" cellpadding=\"0\" cellspacing=\"0\" style=\"BORDER-COLLAPSE:COLLAPSE\" width=\"100%\">\\n<tr>\\n<td align=\"left\" valign=\"top\" width=\"9%\"><font size=\"2\" style=\"font-family:Times New Roman\"><b><a name=\"tx829913_2\"></a>ITEM&#160;1.&#160;&#160;BUSINESS</b></font></td>\\n<td align=\"left\" valign=\"top\"><font size=\"2\" style=\"font-family:Times New Roman\"><b></b></font></td></tr></table> <p style=\"margin-top:6px;margin-bottom:0px\"><font size=\"2\" style=\"font-family:Times New Roman\"><b>Overview </b></font></p>\\n<p align=\"justify\" style=\"margin-top:6px;margin-bottom:0px; text-indent:2%\"><font s'"
      ]
     },
     "execution_count": 703,
     "metadata": {},
     "output_type": "execute_result"
    }
   ],
   "source": [
    "raw_10k[60000:60895]"
   ]
  },
  {
   "cell_type": "code",
   "execution_count": 604,
   "metadata": {},
   "outputs": [],
   "source": [
    "document = {}\n",
    "\n",
    "# Create a loop to go through each section type and save only the 10-K section in the dictionary\n",
    "for doc_type, doc_start, doc_end in zip(doc_types, doc_start_is, doc_end_is):\n",
    "    if doc_type == '10-K':\n",
    "        document[doc_type] = raw_10k[doc_start:doc_end]"
   ]
  },
  {
   "cell_type": "code",
   "execution_count": 605,
   "metadata": {},
   "outputs": [
    {
     "data": {
      "text/plain": [
       "'\\n<type>10-K\\n<sequence>1\\n<filename>d829913d10k.htm\\n<description>FORM 10-K\\n<text>\\n<title>Form 10-K</title>\\n<h5 align=\"left\"><a href=\"#toc\">Table of Contents</a></h5>\\n<p style=\"line-height:4px;margin-top:0px;margin-bottom:0px;border-bottom:2pt solid #000000\">&#160;</p>\\n<p style=\"line-height:3px;margin-top:0px;margin-bottom:2px;border-bottom:0.5pt solid #000000\">&#160;</p> <p align=\"center\" style=\"margin-top:1px;margin-bottom:0px\"><font size=\"2\" style=\"font-family:Times New Roman\"><b>UNITED STATES S'"
      ]
     },
     "execution_count": 605,
     "metadata": {},
     "output_type": "execute_result"
    }
   ],
   "source": [
    "# display excerpt the document\n",
    "document['10-K'][0:500]"
   ]
  },
  {
   "cell_type": "code",
   "execution_count": 628,
   "metadata": {},
   "outputs": [
    {
     "data": {
      "text/plain": [
       "['10-K']"
      ]
     },
     "execution_count": 628,
     "metadata": {},
     "output_type": "execute_result"
    }
   ],
   "source": [
    "doc_types"
   ]
  },
  {
   "cell_type": "code",
   "execution_count": 630,
   "metadata": {},
   "outputs": [],
   "source": [
    "soup = BeautifulSoup(document['10-K'], 'lxml')"
   ]
  },
  {
   "cell_type": "code",
   "execution_count": 634,
   "metadata": {},
   "outputs": [
    {
     "data": {
      "text/plain": [
       "[<b><a name=\"tx829913_3\"></a>ITEM 1A.  RISK FACTORS </b>,\n",
       " <b>Risk Factors Relating to the Company and Industry-Related Risks </b>,\n",
       " <b><i>We could experience significant operating losses in the future. </i></b>,\n",
       " <b><i>Downturns in economic conditions adversely affect our business. </i></b>]"
      ]
     },
     "execution_count": 634,
     "metadata": {},
     "output_type": "execute_result"
    }
   ],
   "source": [
    "soup.findAll('b')[106:110]"
   ]
  },
  {
   "cell_type": "code",
   "execution_count": 638,
   "metadata": {},
   "outputs": [
    {
     "name": "stdout",
     "output_type": "stream",
     "text": [
      "<re.Match object; span=(31194, 31208), match='>Item&#160;1A.'>\n",
      "<re.Match object; span=(31937, 31951), match='>Item&#160;1B.'>\n",
      "<re.Match object; span=(37030, 37043), match='>Item&#160;7.'>\n",
      "<re.Match object; span=(37875, 37889), match='>Item&#160;7A.'>\n",
      "<re.Match object; span=(38666, 38678), match='>Item&#160;8'>\n",
      "<re.Match object; span=(39487, 39499), match='>Item&#160;8'>\n"
     ]
    }
   ],
   "source": [
    "# Write the regex\n",
    "regex = re.compile(r'(>Item(\\s|&#160;|&nbsp;)(1A|1B|7A|7|8)\\.{0,1})|(ITEM\\s(1A|1B|7A|7|8))')\n",
    "\n",
    "# Use finditer to math the regex\n",
    "matches = regex.finditer(document['10-K'])\n",
    "\n",
    "# Write a for loop to print the matches\n",
    "for match in matches:\n",
    "    print(match)"
   ]
  },
  {
   "cell_type": "code",
   "execution_count": 640,
   "metadata": {},
   "outputs": [],
   "source": [
    "els = soup.select('a')\n",
    "asdf = []\n",
    "for el in els:\n",
    "    asdf.append(el.get_text())"
   ]
  },
  {
   "cell_type": "code",
   "execution_count": 645,
   "metadata": {},
   "outputs": [
    {
     "data": {
      "text/plain": [
       "'>Item&#160;1A.&#160;&#160;&#160;&#160;</font></p></td>\\n<td valign=\"bottom\"><font size=\"1\">&#160;</font></td>\\n<td valign=\"top\"><font size=\"2\" style=\"font-family:Times New Roman\"><a href=\"#tx829913_3\">Risk Factors</a></font></td>\\n<td valign=\"bottom\"><font size=\"1\">&#160;&#160;</font></td>\\n<td nowrap=\"\" valign=\"bottom\"><font size=\"2\" style=\"font-family:Times New Roman\">&#160;</font></td>\\n<td align=\"right\" nowrap=\"\" valign=\"bottom\"><font size=\"2\" style=\"font-family:Times New Roman\">30</font></td>\\n<td nowrap=\"\" valign=\"bottom\"><font size=\"2\" style=\"font-family:Times New Roman\">&#160;&#160;</font></td></tr>\\n<tr>\\n<td nowrap=\"\" valign=\"top\"> <p style=\"margin-left:4.50em; text-indent:-4.50em\"><font size=\"2\" style=\"font-family:Times New Roman\">Item&#160;1B.&#160;&#160;&#160;&#160;&#160;</font></p></td>\\n<td valign=\"bottom\"><font size=\"1\">&#160;</font></td>\\n<td valign=\"top\"><font size=\"2\" style=\"font-family:Times New Roman\"><a href=\"#tx829913_4\">Unresolved Staff Comments</a></font></td>\\n<td valign'"
      ]
     },
     "execution_count": 645,
     "metadata": {},
     "output_type": "execute_result"
    }
   ],
   "source": [
    "document['10-K'][31194:32194]"
   ]
  },
  {
   "cell_type": "code",
   "execution_count": 619,
   "metadata": {},
   "outputs": [
    {
     "data": {
      "text/html": [
       "<div>\n",
       "<style scoped>\n",
       "    .dataframe tbody tr th:only-of-type {\n",
       "        vertical-align: middle;\n",
       "    }\n",
       "\n",
       "    .dataframe tbody tr th {\n",
       "        vertical-align: top;\n",
       "    }\n",
       "\n",
       "    .dataframe thead th {\n",
       "        text-align: right;\n",
       "    }\n",
       "</style>\n",
       "<table border=\"1\" class=\"dataframe\">\n",
       "  <thead>\n",
       "    <tr style=\"text-align: right;\">\n",
       "      <th></th>\n",
       "      <th>item</th>\n",
       "      <th>start</th>\n",
       "      <th>end</th>\n",
       "    </tr>\n",
       "  </thead>\n",
       "  <tbody>\n",
       "    <tr>\n",
       "      <th>0</th>\n",
       "      <td>&gt;item&amp;#160;1a.</td>\n",
       "      <td>31194</td>\n",
       "      <td>31208</td>\n",
       "    </tr>\n",
       "    <tr>\n",
       "      <th>1</th>\n",
       "      <td>&gt;item&amp;#160;1b.</td>\n",
       "      <td>31937</td>\n",
       "      <td>31951</td>\n",
       "    </tr>\n",
       "    <tr>\n",
       "      <th>2</th>\n",
       "      <td>&gt;item&amp;#160;7.</td>\n",
       "      <td>37030</td>\n",
       "      <td>37043</td>\n",
       "    </tr>\n",
       "    <tr>\n",
       "      <th>3</th>\n",
       "      <td>&gt;item&amp;#160;7a.</td>\n",
       "      <td>37875</td>\n",
       "      <td>37889</td>\n",
       "    </tr>\n",
       "    <tr>\n",
       "      <th>4</th>\n",
       "      <td>&gt;item&amp;#160;8</td>\n",
       "      <td>38666</td>\n",
       "      <td>38678</td>\n",
       "    </tr>\n",
       "  </tbody>\n",
       "</table>\n",
       "</div>"
      ],
      "text/plain": [
       "             item  start    end\n",
       "0  >item&#160;1a.  31194  31208\n",
       "1  >item&#160;1b.  31937  31951\n",
       "2   >item&#160;7.  37030  37043\n",
       "3  >item&#160;7a.  37875  37889\n",
       "4    >item&#160;8  38666  38678"
      ]
     },
     "execution_count": 619,
     "metadata": {},
     "output_type": "execute_result"
    }
   ],
   "source": [
    "# Matches\n",
    "matches = regex.finditer(document['10-K'])\n",
    "\n",
    "# Create the dataframe\n",
    "test_df = pd.DataFrame([(x.group(), x.start(), x.end()) for x in matches])\n",
    "\n",
    "test_df.columns = ['item', 'start', 'end']\n",
    "test_df['item'] = test_df.item.str.lower()\n",
    "\n",
    "# Display the dataframe\n",
    "test_df.head()"
   ]
  },
  {
   "cell_type": "code",
   "execution_count": 620,
   "metadata": {},
   "outputs": [
    {
     "data": {
      "text/plain": [
       "'>Item&#160;1A.'"
      ]
     },
     "execution_count": 620,
     "metadata": {},
     "output_type": "execute_result"
    }
   ],
   "source": [
    "raw_10k[31216:31230]"
   ]
  },
  {
   "cell_type": "code",
   "execution_count": 621,
   "metadata": {},
   "outputs": [
    {
     "data": {
      "text/html": [
       "<div>\n",
       "<style scoped>\n",
       "    .dataframe tbody tr th:only-of-type {\n",
       "        vertical-align: middle;\n",
       "    }\n",
       "\n",
       "    .dataframe tbody tr th {\n",
       "        vertical-align: top;\n",
       "    }\n",
       "\n",
       "    .dataframe thead th {\n",
       "        text-align: right;\n",
       "    }\n",
       "</style>\n",
       "<table border=\"1\" class=\"dataframe\">\n",
       "  <thead>\n",
       "    <tr style=\"text-align: right;\">\n",
       "      <th></th>\n",
       "      <th>item</th>\n",
       "      <th>start</th>\n",
       "      <th>end</th>\n",
       "    </tr>\n",
       "  </thead>\n",
       "  <tbody>\n",
       "    <tr>\n",
       "      <th>0</th>\n",
       "      <td>item1a</td>\n",
       "      <td>31194</td>\n",
       "      <td>31208</td>\n",
       "    </tr>\n",
       "    <tr>\n",
       "      <th>1</th>\n",
       "      <td>item1b</td>\n",
       "      <td>31937</td>\n",
       "      <td>31951</td>\n",
       "    </tr>\n",
       "    <tr>\n",
       "      <th>2</th>\n",
       "      <td>item7</td>\n",
       "      <td>37030</td>\n",
       "      <td>37043</td>\n",
       "    </tr>\n",
       "    <tr>\n",
       "      <th>3</th>\n",
       "      <td>item7a</td>\n",
       "      <td>37875</td>\n",
       "      <td>37889</td>\n",
       "    </tr>\n",
       "    <tr>\n",
       "      <th>4</th>\n",
       "      <td>item8</td>\n",
       "      <td>38666</td>\n",
       "      <td>38678</td>\n",
       "    </tr>\n",
       "  </tbody>\n",
       "</table>\n",
       "</div>"
      ],
      "text/plain": [
       "     item  start    end\n",
       "0  item1a  31194  31208\n",
       "1  item1b  31937  31951\n",
       "2   item7  37030  37043\n",
       "3  item7a  37875  37889\n",
       "4   item8  38666  38678"
      ]
     },
     "execution_count": 621,
     "metadata": {},
     "output_type": "execute_result"
    }
   ],
   "source": [
    "# Get rid of unnesesary charcters from the dataframe\n",
    "test_df.replace('&#160;',' ',regex=True,inplace=True)\n",
    "test_df.replace('&nbsp;',' ',regex=True,inplace=True)\n",
    "test_df.replace(' ','',regex=True,inplace=True)\n",
    "test_df.replace('\\.','',regex=True,inplace=True)\n",
    "test_df.replace('>','',regex=True,inplace=True)\n",
    "\n",
    "# display the dataframe\n",
    "test_df.head()"
   ]
  },
  {
   "cell_type": "code",
   "execution_count": 622,
   "metadata": {},
   "outputs": [
    {
     "data": {
      "text/html": [
       "<div>\n",
       "<style scoped>\n",
       "    .dataframe tbody tr th:only-of-type {\n",
       "        vertical-align: middle;\n",
       "    }\n",
       "\n",
       "    .dataframe tbody tr th {\n",
       "        vertical-align: top;\n",
       "    }\n",
       "\n",
       "    .dataframe thead th {\n",
       "        text-align: right;\n",
       "    }\n",
       "</style>\n",
       "<table border=\"1\" class=\"dataframe\">\n",
       "  <thead>\n",
       "    <tr style=\"text-align: right;\">\n",
       "      <th></th>\n",
       "      <th>item</th>\n",
       "      <th>start</th>\n",
       "      <th>end</th>\n",
       "    </tr>\n",
       "  </thead>\n",
       "  <tbody>\n",
       "    <tr>\n",
       "      <th>0</th>\n",
       "      <td>item1a</td>\n",
       "      <td>31194</td>\n",
       "      <td>31208</td>\n",
       "    </tr>\n",
       "    <tr>\n",
       "      <th>1</th>\n",
       "      <td>item1b</td>\n",
       "      <td>31937</td>\n",
       "      <td>31951</td>\n",
       "    </tr>\n",
       "    <tr>\n",
       "      <th>2</th>\n",
       "      <td>item7</td>\n",
       "      <td>37030</td>\n",
       "      <td>37043</td>\n",
       "    </tr>\n",
       "    <tr>\n",
       "      <th>3</th>\n",
       "      <td>item7a</td>\n",
       "      <td>37875</td>\n",
       "      <td>37889</td>\n",
       "    </tr>\n",
       "    <tr>\n",
       "      <th>5</th>\n",
       "      <td>item8</td>\n",
       "      <td>39487</td>\n",
       "      <td>39499</td>\n",
       "    </tr>\n",
       "  </tbody>\n",
       "</table>\n",
       "</div>"
      ],
      "text/plain": [
       "     item  start    end\n",
       "0  item1a  31194  31208\n",
       "1  item1b  31937  31951\n",
       "2   item7  37030  37043\n",
       "3  item7a  37875  37889\n",
       "5   item8  39487  39499"
      ]
     },
     "execution_count": 622,
     "metadata": {},
     "output_type": "execute_result"
    }
   ],
   "source": [
    "# Drop duplicates\n",
    "pos_dat = test_df.sort_values('start', ascending=True).drop_duplicates(subset=['item'], keep='last')\n",
    "\n",
    "# Display the dataframe\n",
    "pos_dat"
   ]
  },
  {
   "cell_type": "code",
   "execution_count": 623,
   "metadata": {},
   "outputs": [
    {
     "data": {
      "text/html": [
       "<div>\n",
       "<style scoped>\n",
       "    .dataframe tbody tr th:only-of-type {\n",
       "        vertical-align: middle;\n",
       "    }\n",
       "\n",
       "    .dataframe tbody tr th {\n",
       "        vertical-align: top;\n",
       "    }\n",
       "\n",
       "    .dataframe thead th {\n",
       "        text-align: right;\n",
       "    }\n",
       "</style>\n",
       "<table border=\"1\" class=\"dataframe\">\n",
       "  <thead>\n",
       "    <tr style=\"text-align: right;\">\n",
       "      <th></th>\n",
       "      <th>start</th>\n",
       "      <th>end</th>\n",
       "    </tr>\n",
       "    <tr>\n",
       "      <th>item</th>\n",
       "      <th></th>\n",
       "      <th></th>\n",
       "    </tr>\n",
       "  </thead>\n",
       "  <tbody>\n",
       "    <tr>\n",
       "      <th>item1a</th>\n",
       "      <td>31194</td>\n",
       "      <td>31208</td>\n",
       "    </tr>\n",
       "    <tr>\n",
       "      <th>item1b</th>\n",
       "      <td>31937</td>\n",
       "      <td>31951</td>\n",
       "    </tr>\n",
       "    <tr>\n",
       "      <th>item7</th>\n",
       "      <td>37030</td>\n",
       "      <td>37043</td>\n",
       "    </tr>\n",
       "    <tr>\n",
       "      <th>item7a</th>\n",
       "      <td>37875</td>\n",
       "      <td>37889</td>\n",
       "    </tr>\n",
       "    <tr>\n",
       "      <th>item8</th>\n",
       "      <td>39487</td>\n",
       "      <td>39499</td>\n",
       "    </tr>\n",
       "  </tbody>\n",
       "</table>\n",
       "</div>"
      ],
      "text/plain": [
       "        start    end\n",
       "item                \n",
       "item1a  31194  31208\n",
       "item1b  31937  31951\n",
       "item7   37030  37043\n",
       "item7a  37875  37889\n",
       "item8   39487  39499"
      ]
     },
     "execution_count": 623,
     "metadata": {},
     "output_type": "execute_result"
    }
   ],
   "source": [
    "# Set item as the dataframe index\n",
    "pos_dat.set_index('item', inplace=True)\n",
    "\n",
    "# display the dataframe\n",
    "pos_dat"
   ]
  },
  {
   "cell_type": "code",
   "execution_count": 625,
   "metadata": {},
   "outputs": [],
   "source": [
    "# Get Item 1a\n",
    "item_1_raw = document['10-K'][pos_dat['start'].loc['item1a']:pos_dat['start'].loc['item1b']]\n",
    "\n",
    "# Get Item 7\n",
    "#item_7_raw = raw_10k[pos_dat['start'].loc['item7']:pos_dat['start'].loc['item7a']]\n",
    "\n",
    "# Get Item 7a\n",
    "#item_7a_raw = raw_10k[pos_dat['start'].loc['item7a']:pos_dat['start'].loc['item8']]"
   ]
  },
  {
   "cell_type": "code",
   "execution_count": 626,
   "metadata": {},
   "outputs": [],
   "source": [
    "soup1 = BeautifulSoup(item_1a_raw, 'html.parser')"
   ]
  },
  {
   "cell_type": "code",
   "execution_count": 627,
   "metadata": {},
   "outputs": [
    {
     "data": {
      "text/plain": [
       "'>Item&#160;1A.&#160;&#160;&#160;&#160;</font></p></td>\\n<td valign=\"bottom\"><font size=\"1\">&#160;</font></td>\\n<td valign=\"top\"><font size=\"2\" style=\"font-family:Times New Roman\"><a href=\"#tx829913_3\">Risk Factors</a></font></td>\\n<td valign=\"bottom\"><font size=\"1\">&#160;&#160;</font></td>\\n<td nowrap=\"\" valign=\"bottom\"><font size=\"2\" style=\"font-family:Times New Roman\">&#160;</font></td>\\n<td align=\"right\" nowrap=\"\" valign=\"bottom\"><font size=\"2\" style=\"font-family:Times New Roman\">30</font></td>\\n<td nowrap=\"\" valign=\"bottom\"><font size=\"2\" style=\"font-family:Times New Roman\">&#160;&#160;</font></td></tr>\\n<tr>\\n<td nowrap=\"\" valign=\"top\"> <p style=\"margin-left:4.50em; text-indent:-4.50em\"><font size=\"2\" style=\"font-family:Times New Roman\"'"
      ]
     },
     "execution_count": 627,
     "metadata": {},
     "output_type": "execute_result"
    }
   ],
   "source": [
    "raw_10k[31216:31959]"
   ]
  },
  {
   "cell_type": "code",
   "execution_count": 585,
   "metadata": {},
   "outputs": [
    {
     "data": {
      "text/plain": [
       "[]"
      ]
     },
     "execution_count": 585,
     "metadata": {},
     "output_type": "execute_result"
    }
   ],
   "source": [
    "goods = soup1.find_all('b')\n",
    "[x.text for x in goods]"
   ]
  },
  {
   "cell_type": "code",
   "execution_count": null,
   "metadata": {},
   "outputs": [],
   "source": []
  },
  {
   "cell_type": "code",
   "execution_count": null,
   "metadata": {},
   "outputs": [],
   "source": []
  },
  {
   "cell_type": "code",
   "execution_count": 550,
   "metadata": {},
   "outputs": [],
   "source": [
    "soup.find('div')"
   ]
  },
  {
   "cell_type": "code",
   "execution_count": 491,
   "metadata": {},
   "outputs": [],
   "source": [
    "# kill all script and style elements\n",
    "for script in soup([\"script\", \"style\"]):\n",
    "    script.extract()    # rip it out\n",
    "\n",
    "# get text\n",
    "text = soup.get_text()"
   ]
  },
  {
   "cell_type": "code",
   "execution_count": 492,
   "metadata": {},
   "outputs": [
    {
     "data": {
      "text/plain": [
       "'0001193125-15-061145.txt : 20150225\\n0001193125-15-061145.hdr.sgml : 20150225\\n20150225080234\\nACCESSION NUMBER:\\t\\t0001193125-15-061145\\nCONFORMED SUBMISSION TYPE:\\t10-K\\nPUBLIC DOCUMENT COUNT:\\t\\t20\\nCONFORMED PERIOD OF REPORT:\\t20141231\\nFILED AS OF DATE:\\t\\t20150225\\nDATE AS OF CHANGE:\\t\\t20150225\\n\\nFILER:\\n\\n\\tCOMPANY DATA:\\t\\n\\t\\tCOMPANY CONFORMED NAME:\\t\\t\\tAmerican Airlines Group Inc.\\n\\t\\tCENTRAL INDEX KEY:\\t\\t\\t0000006201\\n\\t\\tSTANDARD INDUSTRIAL CLASSIFICATION:\\tAIR TRANSPORTATION, SCHEDULED [4512]\\n\\t\\tIRS NUMBER:\\t\\t\\t\\t751825172\\n\\t\\tSTATE OF INCORPORATION:\\t\\t\\tDE\\n\\t\\tFISCAL YEAR END:\\t\\t\\t1231\\n\\n\\tFILING VALUES:\\n\\t\\tFORM TYPE:\\t\\t10-K\\n\\t\\tSEC ACT:\\t\\t1934 Act\\n\\t\\tSEC FILE NUMBER:\\t001-08400\\n\\t\\tFILM NUMBER:\\t\\t15645918\\n\\n\\tBUSINESS ADDRESS:\\t\\n\\t\\tSTREET 1:\\t\\t4333 AMON CARTER BLVD\\n\\t\\tCITY:\\t\\t\\tFORT WORTH\\n\\t\\tSTATE:\\t\\t\\tTX\\n\\t\\tZIP:\\t\\t\\t76155\\n\\t\\tBUSINESS PHONE:\\t\\t8179631234\\n\\n\\tMAIL ADDRESS:\\t\\n\\t\\tSTREET 1:\\t\\t4333 AMON CARTER BLVD\\n\\t\\tCITY:\\t\\t\\tFORT WORTH\\n\\t\\tSTATE:\\t\\t\\tTX\\n\\t\\tZIP:\\t\\t\\t75261-9616\\n\\n\\tFORMER COMPANY:\\t\\n\\t\\tFORMER CONFORMED NAME:\\tAMR CORP\\n\\t\\tDATE OF NAME CHANGE:\\t19920703\\n\\nFILER:\\n\\n\\tCOMPANY DATA:\\t\\n\\t\\tCOMPANY CONFORMED NAME:\\t\\t\\tAMERICAN AIRLINES INC\\n\\t\\tCENTRAL INDEX KEY:\\t\\t\\t0000004515\\n\\t\\tSTANDARD INDUSTRIAL CLASSIFICATION:\\tAIR TRANSPORTATION, SCHEDULED [4512]\\n\\t\\tIRS NUMBER:\\t\\t\\t\\t131502798\\n\\t\\tSTATE OF INCORPORATION:\\t\\t\\tDE\\n\\t\\tFISCAL YEAR END:\\t\\t\\t1231\\n\\n\\tFILING VALUES:\\n\\t\\tFORM TYPE:\\t\\t10-K\\n\\t\\tSEC ACT:\\t\\t1934 Act\\n\\t\\tSEC FILE NUMBER:\\t001-02691\\n\\t\\tFILM NUMBER:\\t\\t15645919\\n\\n\\tBUSINESS ADDRESS:\\t\\n\\t\\tSTREET 1:\\t\\t4333 AMON CARTER BLVD\\n\\t\\tCITY:\\t\\t\\tFT WORTH\\n\\t\\tSTATE:\\t\\t\\tTX\\n\\t\\tZIP:\\t\\t\\t76155\\n\\t\\tBUSINESS PHONE:\\t\\t8179631234\\n\\n\\tMAIL ADDRESS:\\t\\n\\t\\tSTREET 1:\\t\\tP O BOX 619616 MD5661\\n\\t\\tCITY:\\t\\t\\tDALLAS FORT WORTH AI\\n\\t\\tSTATE:\\t\\t\\tTX\\n\\t\\tZIP:\\t\\t\\t75261-9616\\n\\n\\tFORMER COMPANY:\\t\\n\\t\\tFORMER CONFORMED NAME:\\tAMERICAN AIRWAYS INC\\n\\t\\tDATE OF NAME CHANGE:\\t19670629\\n\\n\\n10-K\\n1\\nd829913d10k.htm\\nFORM 10-K\\n\\n\\nForm 10-K\\n\\n\\nTable of Contents\\n\\xa0\\n\\xa0 UNITED STATES SECURITIES AND\\nEXCHANGE COMMISSION  Washington, D.C. 20549 \\n\\xa0 \\xa0\\nFORM 10-K  \\xa0\\n\\xa0 \\xa0\\n\\n\\nþ\\n ANNUAL REPORT PURSUANT TO SECTION\\xa013 OR 15(d) OF THE SECURITIES EXCHANGE ACT OF 1934 \\nFor the Fiscal Year Ended December\\xa031, 2014 \\n\\xa0\\n\\n\\n¨\\n TRANSITION REPORT PURSUANT TO SECTION\\xa013 OR 15(d) OF THE SECURITIES EXCHANGE ACT OF 1934 \\nFor the Transition Period\\nFrom\\xa0\\xa0\\xa0\\xa0\\xa0\\xa0\\xa0\\xa0\\xa0\\xa0\\xa0\\xa0\\xa0\\xa0\\xa0\\xa0\\xa0\\xa0\\xa0\\xa0 to\\xa0\\xa0\\xa0\\xa0\\xa0\\xa0\\xa0\\xa0\\xa0\\xa0\\xa0\\xa0\\xa0\\xa0\\xa0\\xa0\\xa0\\xa0\\xa0\\xa0\\n Commission file number 1-8400  \\xa0\\n\\xa0 American\\nAirlines Group Inc.  (Exact name of registrant as specified in its charter) \\n\\xa0 \\xa0\\n\\xa0\\n\\n\\n\\n\\n\\n\\nDelaware\\n\\xa0\\n75-1825172\\n\\n (State or other jurisdiction of\\nincorporation or organization)\\n\\xa0\\n (I.R.S. Employer Identification No.)\\n\\n4333 Amon Carter Blvd., Fort Worth, Texas 76155\\n\\xa0\\n(817) 963-1234\\n\\n(Address of principal executive offices, including zip code)\\n\\xa0\\nRegistrant’s telephone number, including area code\\n \\xa0 (Former name, former address and\\nformer fiscal year, if changed since last report)  Securities registered pursuant to Section\\xa012(b) of the Act:\\n \\xa0\\n\\n\\n\\n\\n\\n\\n\\xa0\\xa0\\n\\xa0\\n Name of Exchange on Which Registered\\n\\nCommon Stock, $0.01 par value per share\\n\\xa0\\nNASDAQ\\n Securities registered pursuant to Section\\xa012(g) of the Act: None \\n\\xa0 \\xa0\\nAmerican Airlines, Inc.  (Exact name of registrant as specified in its charter)  \\xa0\\n\\xa0 \\xa0\\n\\n\\n\\n\\n\\n\\nDelaware\\n\\xa0\\n13-1502798\\n\\n (State or other jurisdiction of\\nincorporation or organization)\\n\\xa0\\n (I.R.S. Employer Identification No.)\\n\\n4333 Amon Carter Blvd., Fort Worth, Texas 76155\\n\\xa0\\n(817) 963-1234\\n\\n(Address of principal executive offices, including zip code)\\n\\xa0\\nRegistrant’s telephone number, including area code\\n Securities registered pursuant to Section\\xa012(b) of the Act: None \\nSecurities registered pursuant to Section\\xa012(g) of the Act: None \\n\\xa0 \\xa0\\nIndicate by check mark if the registrant is a well-known seasoned issuer, as defined in Rule 405 of the Securities Act.\\n \\xa0\\n\\n\\n\\n\\n\\n\\n\\n\\n American Airlines Group Inc.\\n\\xa0\\xa0\\n Yes\\xa0þ\\n\\xa0\\xa0\\nNo\\xa0¨\\n\\n American Airlines, Inc.\\n\\xa0\\xa0\\n Yes\\xa0þ\\n\\xa0\\xa0\\nNo\\xa0¨\\n Indicate by check mark if the registrant is not required to file reports pursuant to\\nSection\\xa013 or Section\\xa015(d) of the Act.  \\xa0\\n\\n\\n\\n\\n\\n\\n\\n\\n American Airlines Group Inc.\\n\\xa0\\xa0\\n Yes\\xa0¨\\n\\xa0\\xa0\\nNo\\xa0þ\\n\\n American Airlines, Inc.\\n\\xa0\\xa0\\n Yes\\xa0¨\\n\\xa0\\xa0\\nNo\\xa0þ\\n Indicate by check mark whether the registrant (1)\\xa0has filed all reports required to\\nbe filed by Section\\xa013 or 15(d) of the Securities Exchange Act of 1934 during the preceding 12 months (or for such shorter period that the registrant was required to file such reports), and (2)\\xa0has been subject to such filing requirements\\nfor the past 90 days.  \\xa0\\n\\n\\n\\n\\n\\n\\n\\n\\n American Airlines Group Inc.\\n\\xa0\\xa0\\n Yes\\xa0þ\\n\\xa0\\xa0\\nNo\\xa0¨\\n\\n American Airlines, Inc.\\n\\xa0\\xa0\\n Yes\\xa0þ\\n\\xa0\\xa0\\nNo\\xa0¨\\n Indicate by check mark whether the registrant has submitted electronically and posted on\\nits corporate Web site, if any, every Interactive Data File required to be submitted and posted pursuant to Rule 405 of Regulation S-T (§232.405 of this chapter) during the preceding 12 months (or for such shorter period that the registrant was\\nrequired to submit and post such files).  \\xa0\\n\\n\\n\\n\\n\\n\\n\\n\\n American Airlines Group Inc.\\n\\xa0\\xa0\\n Yes\\xa0þ\\n\\xa0\\xa0\\nNo\\xa0¨\\n\\n American Airlines, Inc.\\n\\xa0\\xa0\\n Yes\\xa0þ\\n\\xa0\\xa0\\nNo\\xa0¨\\n Indicate by check mark if disclosure of delinquent filers pursuant to Item\\xa0405 of\\nRegulation S-K (§ 229.405) is not cont'"
      ]
     },
     "execution_count": 492,
     "metadata": {},
     "output_type": "execute_result"
    }
   ],
   "source": [
    "text[:5000]"
   ]
  },
  {
   "cell_type": "markdown",
   "metadata": {},
   "source": [
    "We can clearly see that the document is divided based on the standard required elements. Business, Risk Factors, Unresolved Staff Comments, etc. are all standardized titles. This will help in our extrapolation step."
   ]
  },
  {
   "cell_type": "code",
   "execution_count": 475,
   "metadata": {},
   "outputs": [
    {
     "name": "stdout",
     "output_type": "stream",
     "text": [
      "<a href=\"#i218984ca4fa54d3589b92be28c18f351_22\" style=\"color:#0000ff;font-family:'Arial',sans-serif;font-size:10pt;font-weight:400;line-height:100%;text-decoration:underline\">Risk Factors</a>\n"
     ]
    }
   ],
   "source": [
    "# Select Business as an example:\n",
    "business = soup.find_all('a')[5]\n",
    "print(business)"
   ]
  },
  {
   "cell_type": "code",
   "execution_count": 453,
   "metadata": {},
   "outputs": [],
   "source": [
    "for filing_document in soup.find_all('DOCUMENT'):\n",
    "  # The 'type' tag contains the document type\n",
    "  document_type = filing_document.type.find(text=True, recursive=False).strip()"
   ]
  },
  {
   "cell_type": "code",
   "execution_count": 454,
   "metadata": {},
   "outputs": [],
   "source": [
    "if document_type == \"10-K\":  # Once the 10K text body is found\n",
    "\n",
    "  # Grab and store the 10K text body    \n",
    "  TenKtext = filing_document.find('text').extract().text"
   ]
  },
  {
   "cell_type": "code",
   "execution_count": 455,
   "metadata": {},
   "outputs": [
    {
     "data": {
      "text/plain": [
       "'ZIP'"
      ]
     },
     "execution_count": 455,
     "metadata": {},
     "output_type": "execute_result"
    }
   ],
   "source": [
    "document_type"
   ]
  },
  {
   "cell_type": "code",
   "execution_count": 456,
   "metadata": {},
   "outputs": [],
   "source": [
    "TenKtext"
   ]
  },
  {
   "cell_type": "code",
   "execution_count": 457,
   "metadata": {},
   "outputs": [
    {
     "name": "stdout",
     "output_type": "stream",
     "text": [
      "<text>\n",
      "begin 644 0000006201-21-000014-xbrl.zip\n",
      "M4$L#!!0    ( #&gt;*45([W/G%]#@$  J#,P 6    83$P-#9A,S(P86=R965M\n",
      "M96YT+FAT;&gt;R]&gt;7?;2+(G^O]\\\"DS5FQKI'$H6M7KIV^?0%&amp;6SKK9+4N6N]\\\\[\n",
      "M()$4408!-A;)[$__(B(7)$ D1;EL*T&amp;C9ZY+$D@@$1D9&gt;_SB'__[_*8[^O.V\n",
      "MY\\S2&gt;&gt;#<wkv_>=7_9&gt;O?ITU'WUZGQT[GP&lt;75TZQ_L';6&lt;4NV'BIWX4NL&amp;K\n",
      "M5[WK7YQ?9FFZ&gt;/OJU&gt;/CX_[CT7X4W[\\:#5[AK8Y?!5&amp;4L'TO]7[YYS_P+_ O\n",
      "M2SL[<g msn=\"\">77T_]-_E/?YQRO^^S]&gt;T4/^,8Z\\Y3__X?D/CN_]UR_^\n",
      "M&amp;W8\\/7\"G\\'^OSX[?O!Z_\\5X?'+4/SZ:3DP-V=G;R_QV=P2I?P&gt;?YEY)T&amp;;#_\n",
      "M^F7NAWLSA@MX&gt;W:X2-\\]^EXZ&gt;]L^./@_O]#G_OF/:12F\\+08OLQ_Y/=8N5/*\n",
      "MOJ1[;N#?AV_IA7[A7Y67)U$0Q6]_/:#_OU-W[@?+M_]WY,]9XERS1V&lt;0\n",
      "MS=WP_[82V(2]A,7^E'\\P\\?_#8$VP//KU4:P7[A/X(9/K;Q_BHGM?9O[83YWV\n",
      "MP?[Q:7')^FN[\\3V\\&gt;1HMWK9?PWVUQ4^ UBR&amp;U:?N.R\"^,H]EB\\!V\\1N(N$\n",
      "MO94_O//\\9!&amp;XR[=^2&amp;NA+[T3MQ]':1K-WY[  QY8G/H3-Q /H&gt;?QRSG)]P\\X\n",
      "MV5.@=&gt;K))XO+^W3I5&gt;JM7GOS&gt;O_-@?GRP7Y;77M%]^;WAU=(%F[X7[\\<_5 m2=\"\">R<n mtxro2f=\"\">\\&amp;CA].HWCNHLS \"_@!..SP\n",
      "MJ73F)XXG3F_+ 9[X#!?&amp;2V&lt;<ny m=\"\" p=\"\">&gt;.;L^+M.&amp;*7P?6!+?* ;&gt;O!'^.MCE 7X%7CL?,% .O@/+%C\"3&gt;/Y-(.%\n",
      "M39U%-@[\\\"?P-N'02@+#R]DNG6#'%*^+=:'0V#3%@G+YYY^'Z\\Z.#+\\-@D\n",
      "MBFDSWV8A\\\"U^ZI=_=HX.#YR+SE7_\\D^GTQ]T!YV+D;/)^[VIQ&gt;O=W@VZ'SO#\n",
      "MGM/Y,.CUKGK7V_1R[WNC3[W&gt;]1:]$7#@^[NA,]SO[ _W:_9&gt;O_P31-Z0!0&amp;+\n",
      "M:[;RM3MR?;Y-;W/5&amp;_2[G6L4=9?]Z]ZPY?2ON[7DM/?9LHK1-M%2XE:G1_\"L\n",
      "M1&lt;2=@K<q>ETD'_%'8/)DZ6K7WG\"M.;_SF)YYX5[S_;&amp;X$M\\\n",
      "MWG.G0-2W;O#H+I-?OK\\Y;RF;=IT;Y]H9.3WZ=_B\\7?[&gt;+U-M0![\\]FO[].#=\n",
      "MZK_GO8O^=7_4O[D&gt;.OM6_L^T\\A-+2-LV+7#8N03#!@2TM')^^_7DS3OGLH]/_I#ZQC72-4WEE#UQ$C5SI_D*HYZ@RN;M)9IO4&gt;V\\.FI:857\n",
      "MG&gt;N[BTYW=#?H.;&gt;#FV[O''_: ^L;)&gt;]W%KI&amp;LIU90K8STPJ[O?Z1964:9G';4L(^&lt;9LVU_V_^@-_K2,,_/_\n",
      "M&amp;4E[9 EIVT:_J?&gt;O[MVP\\QXL?*!RYT^R\\T<w kz=\"\" m_=\"\">QWOS-Y\n",
      "MC0ZZ+69/V^@ C0:=\\QY0K#OHC5K.;6&gt;$9B42L7MS^^&gt;@_^'C\"$R@\\][5=7_T\n",
      "M;8AH6LBI+;YBV^C+Y&amp;KYO#/J]\n",
      "M 7B MX/&gt;$)@++,4_OC&gt;Y-J;?F35,9W1,X(#VK_O7'YSAW&gt;WMS6\"D2[@?Z/H9\n",
      "M*6@-!QI]E-[_W/5OR5U&amp;$E[V@1O!PSN_ZXX435^ A8-#VVAH=$#D<i3vb m_=\"\">LZ!1G:![;PYJ'1\"&gt;D,A_T/UWB@.6^\"JKD&gt;7O0&amp;/SBB:\":A+&gt;&amp;O0Z/G&lt;=4?\n",
      "M=L' Z5SW;NZ&amp;J%9XG/O'QV3-1#2=;IN2LZ;5F_Y]JAQ\"E *UDM&amp;GW/;UR?[QT=OOGLEJCV%HV?[)QOQ5N]?'_OO^Z-A\n",
      "M1?7E3_'^H_[HLE?U]M6UIR\\C &amp;3I&gt;&amp;?/J*V,6NRH_2:O#!V.0)-U!N BZ0GS\n",
      "MFHHYJGW=VE=KU_S5+%E&gt;?G2,5LJ&amp;1Z=[[5SVAZ/^]0=+7JTVE#&gt;&amp;5SOE3@-];\\-]8VQYK52IZ'^\n",
      "MMZ#^^^&gt;[\"!<w><g:>\"W\n",
      "M7U\\?ML_&gt;#9N-^58;TWW^X1 )VE*A+F[7W67'.3QHVU+E59LM&gt;/;9&gt;'(+5G.%\n",
      "M/WFKE%T<:>M1;\\!S@YU+3,'<wew2 mri=\"\">X&lt;7K7'[\"E]&gt;D]LN3M&amp;U;Y*E9Y=F#@=M 9C9S??CUZ\n",
      "M_=]'CW\\-6]+L.0%:T+_WM?2_WW_\\I(\\V,YE\n",
      "M0_)GD?SB^WG R8UX6L.*M7^*;FC02.J*QJ1 0CPZ^'S\n",
      "MOOM;&amp;*KQ$)F2OPK=WNGX\\22&amp;?71NLW@R<q gxi=\"\" m=\"\" m6a2-m_p=\"\" nn-=\"\">D74O!.R,L*_OB)RFB/!-,F7,1\n",
      "MLW R<p i8rsejgqv=\"\" m=\"\">\\#]SYT)WM=YK$O+;B]&amp;^*WXQ,8D[,R7-3\"!\".UWNRUKQ&amp;OU.O%<v mhqlckg2=\"\">#A%[<p mjr_=\"\">4+:&lt;0*JU&gt;&gt;F S 9X;(K^[9%\n",
      "MGQ6(Q!Y+_!A6!'=(X\"]T2=G&amp;XK8&lt;4C:*Z9=+EB11W**GY!&gt;UVRRD00U?\"!C^\n",
      "M4+CG-([F^@)*MX6;+.\"-\"-?==A:XOOGDC) -+FX&amp;/:<_ m=\"\">7GS:?C;KR&gt;OWYE?1#0V\\1D#1Z&gt;RM<d>XRUO3L8?S20;\n",
      "M &gt;!NPN?'V'CV0H8%Z#/'!&gt;D 9QLXA54(%6?'8U.: S%F0?0(IA+[,F&amp;+U '=\n",
      "M%\\$!CQ]]D 3LRP(.&gt; )N]2*.'GR/&gt;5P832,P^Q]1VW(1]NC#PT#_LM+5.7-#\n",
      "M^&amp;_RQ*&amp;RP!A;/UL!^W^$0'Q1_2$3;&amp;ZX=,06T\\Z\"O(8U[L%)=.:1QP+'E&gt;(;\n",
      "MI --]- D.&amp;H\"*?35-:4S*KX@U H7^?1UTA-&gt;4=_ +9/,#846*BHPL,:\"S\"-^\n",
      "M$6M%&gt;DYC=\\Z=0WP1'!$2A?#Q!'CQWYF_X%\\%KSKE.M*=3&amp;@%/A#4#Q/PY@(^\n",
      "MQ@06!59=DH$CJ]Y;JCMW 7[XA%J;Z;&amp;W$2_-&amp;Y=BMD&gt;P87,E@'\n",
      "MFI@@B6.+E-K7LBV1V1JV+1PFDCIESEC=(MJ8:137?\"^HL:&amp;&gt;8@0.L/2TQ%;A\n",
      "M6GHAT)PY-POROYXG:IXI+@3M7D)DX*-_-K&amp;AD]L:5ETY1)7BHWJ[MDB$?(BC\n",
      "M;.&amp;TZR!*\"KL%=F'L/,[\\R4P3 SA?#!Q9QP\n",
      "M_VB[=M/2TU;FMY_YU!W6[]21-P?7W+#X@?*V;M&lt;&gt;67V6#G_RL[3R<g9l5. a8b=\"\" m=\"\" mf=\"\" mn=\"\">/2@)8P2=JDQ*YQJ2P27)4L\"Q%^!W!_?8/\n",
      "MVO!OR^GC3CMG+&lt;&gt;C8I/?LY\"I8JR6L/NY8P\\K=YVY^\\6?9Z#6W,]L+YI.';Y$\n",
      "M9^=J=/-I%\\V9]NEIZ_CXC;.(@(1)2_M. *M#C:F^<bf .i=\"\" m_v=\"\">G!UH3YI$BR5&gt;$<o>X7L\"[P6*F%P08!=-2RV\n",
      "M.G,D BS9;M(&gt;'NP=UB6TS&gt;GYP^-4\\-B?*D:ED=D:MBT<ie7 m=\"\">O%RN5K6'+B@!!SJ2ZT\"J*%XX MP7!@7QKWF-URRT\\(?+LV)TJ%^@(\n",
      "M'*!VO9V@G.(U27F5L@KJ4!0\":86#H5_9GJVJT0&amp;I=5\"FQ%IVT'ICP_MED\\$Y\n",
      "M[5[\"R/[IDL$E<eo>\"?Y]35\n",
      "M(!E,W(?UISG!\\])!A^?M$X.\n",
      "M3IZ?#\"XDD9^=#*ZWP*J#(]FN43*X_3)QJO9/%J.RTV-&gt;ZR57;=%66/7MFH2V\n",
      "M*\\7(\"X&gt;VVR\\7VFY_L]!V4[=0I[J%MK7A_?93X7T3RVZ1&amp;*U/&gt;+_=A/&gt;?LYN6\n",
      "MGK8-POL_S:FK0WB__51XOWI;MVN/K#Y+:\\/[/\\%9JEF\\^;3F)*\\9N&gt;NNU&gt;T+\n",
      "MVZZ&amp;]]LO%-XW/O=G\"&gt;^;\"&amp; %GZA-VC\"\\WUL-[Y]\\N_#^X#&gt;%QE?C7N/6!^T@ &gt;1)4MK4&gt;\"CN()AQ-.W7:;UX[?X\"M_3Z+&amp;&gt;C;-&amp;8,\n",
      "MK+QAYJ?,.%+&gt;</eo></ie7></o></bf></g9l5.></d></_></p></v></p></q></wew2></:></g:></w></i3vb></w></q></ny></n></_5></g></wkv_></text>\n"
     ]
    }
   ],
   "source": [
    "TenKtext = filing_document.find('text')\n",
    "print(TenKtext)"
   ]
  },
  {
   "cell_type": "code",
   "execution_count": 247,
   "metadata": {},
   "outputs": [
    {
     "name": "stdout",
     "output_type": "stream",
     "text": [
      "Business\n"
     ]
    }
   ],
   "source": [
    "print(business.get_text())"
   ]
  },
  {
   "cell_type": "code",
   "execution_count": 262,
   "metadata": {},
   "outputs": [],
   "source": [
    "first_par = soup.findAll('p')[100]\n",
    "text_between = first_par.next_sibling"
   ]
  },
  {
   "cell_type": "code",
   "execution_count": 263,
   "metadata": {},
   "outputs": [
    {
     "name": "stdout",
     "output_type": "stream",
     "text": [
      "\n",
      "\n"
     ]
    }
   ],
   "source": [
    "print(text_between)"
   ]
  },
  {
   "cell_type": "code",
   "execution_count": 250,
   "metadata": {},
   "outputs": [
    {
     "ename": "AttributeError",
     "evalue": "'NoneType' object has no attribute 'find_all'",
     "output_type": "error",
     "traceback": [
      "\u001b[0;31m---------------------------------------------------------------------------\u001b[0m",
      "\u001b[0;31mAttributeError\u001b[0m                            Traceback (most recent call last)",
      "\u001b[0;32m<ipython-input-250-7b6ed03a7f8f>\u001b[0m in \u001b[0;36m<module>\u001b[0;34m\u001b[0m\n\u001b[1;32m      1\u001b[0m \u001b[0mcontainer\u001b[0m \u001b[0;34m=\u001b[0m \u001b[0msoup\u001b[0m\u001b[0;34m.\u001b[0m\u001b[0mfind\u001b[0m\u001b[0;34m(\u001b[0m\u001b[0;34m'div'\u001b[0m\u001b[0;34m,\u001b[0m \u001b[0mclass_\u001b[0m\u001b[0;34m=\u001b[0m\u001b[0;34m'td-post-content'\u001b[0m\u001b[0;34m)\u001b[0m\u001b[0;34m\u001b[0m\u001b[0;34m\u001b[0m\u001b[0m\n\u001b[0;32m----> 2\u001b[0;31m \u001b[0;32mfor\u001b[0m \u001b[0mpara\u001b[0m \u001b[0;32min\u001b[0m \u001b[0mcontainer\u001b[0m\u001b[0;34m.\u001b[0m\u001b[0mfind_all\u001b[0m\u001b[0;34m(\u001b[0m\u001b[0;34m'p'\u001b[0m\u001b[0;34m,\u001b[0m \u001b[0mrecursive\u001b[0m\u001b[0;34m=\u001b[0m\u001b[0;32mFalse\u001b[0m\u001b[0;34m)\u001b[0m\u001b[0;34m:\u001b[0m\u001b[0;34m\u001b[0m\u001b[0;34m\u001b[0m\u001b[0m\n\u001b[0m\u001b[1;32m      3\u001b[0m     \u001b[0mprint\u001b[0m\u001b[0;34m(\u001b[0m\u001b[0mpara\u001b[0m\u001b[0;34m.\u001b[0m\u001b[0mtext\u001b[0m\u001b[0;34m)\u001b[0m\u001b[0;34m\u001b[0m\u001b[0;34m\u001b[0m\u001b[0m\n",
      "\u001b[0;31mAttributeError\u001b[0m: 'NoneType' object has no attribute 'find_all'"
     ]
    }
   ],
   "source": [
    "container = soup.find('div', class_='td-post-content')\n",
    "for para in container.find_all('p', recursive=False):\n",
    "    print(para.text)"
   ]
  },
  {
   "cell_type": "code",
   "execution_count": 213,
   "metadata": {},
   "outputs": [],
   "source": [
    "#for i in soup.prettify().split('<!--Persontype-->')[1].split('<a>'):\n",
    "#    print('<strong>' + ''.join(i))"
   ]
  },
  {
   "cell_type": "code",
   "execution_count": 509,
   "metadata": {},
   "outputs": [],
   "source": [
    "#for i in soup.prettify().split('</a>')[1:2]:\n",
    "#    print(''.join(i))"
   ]
  },
  {
   "cell_type": "code",
   "execution_count": 215,
   "metadata": {},
   "outputs": [],
   "source": [
    "#print(asdf[1])"
   ]
  },
  {
   "cell_type": "markdown",
   "metadata": {},
   "source": [
    "## Attempting Other Code\n",
    "\n",
    "https://gist.github.com/anshoomehra/ead8925ea291e233a5aa2dcaa2dc61b2"
   ]
  },
  {
   "cell_type": "code",
   "execution_count": 216,
   "metadata": {},
   "outputs": [
    {
     "data": {
      "text/plain": [
       "'<html><body><document>\\n<type>10-K\\n<sequence>1\\n<filename>d286458d10k.htm\\n<description>FORM 10-K\\n<text>\\n<title>Form 10-K</title>\\n<h5 align=\"left\"><a href=\"#toc\">Table of Contents</a></h5>\\n<p style=\"line-height:2px;margin-top:0px;margin-bottom:0px;border-bottom:2pt solid #435363\">&#160;</p>\\n<p style=\"line-height:3px;margin-top:0px;margin-bottom:2px;border-bottom:0.5pt solid #435363\">&#160;</p> <p align=\"center\" style=\"margin-top:1px;margin-bottom:0px\"><font color=\"#435363\" size=\"2\" style=\"font-family:ARIAL\"><b>UNITED STATES SECURITIES\\nAND EXCHANGE COMMISSION </b></font></p> <p align=\"center\" style=\"margin-top:0px;margin-bottom:0px\"><font color=\"#435363\" size=\"2\" style=\"font-family:ARIAL\"><b>Washington, D.C. 20549 </b></font></p>\\n<p style=\"font-size:1px;margin-top:0px;margin-bottom:0px\">&#160;</p><center> <p style=\"line-height:6px;margin-top:0px;margin-bottom:2px;border-bottom:1pt solid #435363;width:21%\">&#160;</p></center>\\n<p align=\"center\" style=\"margin-top:1px;margin-bottom:0px\"><font '"
      ]
     },
     "execution_count": 216,
     "metadata": {},
     "output_type": "execute_result"
    }
   ],
   "source": [
    "raw_10k[:1000]"
   ]
  },
  {
   "cell_type": "code",
   "execution_count": 498,
   "metadata": {},
   "outputs": [],
   "source": [
    "# Regex to find <DOCUMENT> tags\n",
    "doc_start_pattern = re.compile(r'<document>')\n",
    "doc_end_pattern = re.compile(r'</document>')\n",
    "# Regex to find <TYPE> tag prceeding any characters, terminating at new line\n",
    "type_pattern = re.compile(r'<type>[^\\n]+')"
   ]
  },
  {
   "cell_type": "code",
   "execution_count": 499,
   "metadata": {},
   "outputs": [],
   "source": [
    "# Create 3 lists with the span idices for each regex\n",
    "\n",
    "### There are many <Document> Tags in this text file, each as specific exhibit like 10-K, EX-10.17 etc\n",
    "### First filter will give us document tag start <end> and document tag end's <start> \n",
    "### We will use this to later grab content in between these tags\n",
    "doc_start_is = [x.end() for x in doc_start_pattern.finditer(raw_10k)]\n",
    "doc_end_is = [x.start() for x in doc_end_pattern.finditer(raw_10k)]\n",
    "\n",
    "### Type filter is interesting, it looks for <TYPE> with Not flag as new line, ie terminare there, with + sign\n",
    "### to look for any char afterwards until new line \\n. This will give us <TYPE> followed Section Name like '10-K'\n",
    "### Once we have have this, it returns String Array, below line will with find content after <TYPE> ie, '10-K' \n",
    "### as section names\n",
    "doc_types = [x[len('<type>'):] for x in type_pattern.findall(raw_10k)]"
   ]
  },
  {
   "cell_type": "code",
   "execution_count": 516,
   "metadata": {},
   "outputs": [
    {
     "data": {
      "text/plain": [
       "['10-K']"
      ]
     },
     "execution_count": 516,
     "metadata": {},
     "output_type": "execute_result"
    }
   ],
   "source": [
    "doc_types"
   ]
  },
  {
   "cell_type": "code",
   "execution_count": 517,
   "metadata": {},
   "outputs": [],
   "source": [
    "document = {}\n",
    "\n",
    "# Create a loop to go through each section type and save only the 10-K section in the dictionary\n",
    "for doc_type, doc_start, doc_end in zip(doc_types, doc_start_is, doc_end_is):\n",
    "    if doc_type == '10-K':\n",
    "        document[doc_type] = raw_10k[doc_start:doc_end]"
   ]
  },
  {
   "cell_type": "code",
   "execution_count": 518,
   "metadata": {},
   "outputs": [
    {
     "data": {
      "text/plain": [
       "'\\n<type>10-K\\n<sequence>1\\n<filename>d829913d10k.htm\\n<description>FORM 10-K\\n<text>\\n<title>Form 10-K</title>\\n<h5 align=\"left\"><a href=\"#toc\">Table of Contents</a></h5>\\n<p style=\"line-height:4px;margin-top:0px;margin-bottom:0px;border-bottom:2pt solid #000000\">&#160;</p>\\n<p style=\"line-height:3px;margin-top:0px;margin-bottom:2px;border-bottom:0.5pt solid #000000\">&#160;</p> <p align=\"center\" style=\"margin-top:1px;margin-bottom:0px\"><font size=\"2\" style=\"font-family:Times New Roman\"><b>UNITED STATES S'"
      ]
     },
     "execution_count": 518,
     "metadata": {},
     "output_type": "execute_result"
    }
   ],
   "source": [
    "# display excerpt the document\n",
    "document['10-K'][0:500]"
   ]
  },
  {
   "cell_type": "code",
   "execution_count": 519,
   "metadata": {
    "scrolled": false
   },
   "outputs": [
    {
     "name": "stdout",
     "output_type": "stream",
     "text": [
      "<re.Match object; span=(31194, 31208), match='>Item&#160;1A.'>\n",
      "<re.Match object; span=(31937, 31951), match='>Item&#160;1B.'>\n",
      "<re.Match object; span=(37030, 37043), match='>Item&#160;7.'>\n",
      "<re.Match object; span=(37875, 37889), match='>Item&#160;7A.'>\n",
      "<re.Match object; span=(38666, 38678), match='>Item&#160;8'>\n",
      "<re.Match object; span=(39487, 39499), match='>Item&#160;8'>\n"
     ]
    }
   ],
   "source": [
    "# Write the regex\n",
    "regex = re.compile(r'(>Item(\\s|&#160;|&nbsp;)(1A|1B|7A|7|8)\\.{0,1})|(ITEM\\s(1A|1B|7A|7|8))')\n",
    "\n",
    "# Use finditer to math the regex\n",
    "matches = regex.finditer(document['10-K'])\n",
    "\n",
    "# Write a for loop to print the matches\n",
    "for match in matches:\n",
    "    print(match)"
   ]
  },
  {
   "cell_type": "code",
   "execution_count": 520,
   "metadata": {},
   "outputs": [
    {
     "data": {
      "text/html": [
       "<div>\n",
       "<style scoped>\n",
       "    .dataframe tbody tr th:only-of-type {\n",
       "        vertical-align: middle;\n",
       "    }\n",
       "\n",
       "    .dataframe tbody tr th {\n",
       "        vertical-align: top;\n",
       "    }\n",
       "\n",
       "    .dataframe thead th {\n",
       "        text-align: right;\n",
       "    }\n",
       "</style>\n",
       "<table border=\"1\" class=\"dataframe\">\n",
       "  <thead>\n",
       "    <tr style=\"text-align: right;\">\n",
       "      <th></th>\n",
       "      <th>item</th>\n",
       "      <th>start</th>\n",
       "      <th>end</th>\n",
       "    </tr>\n",
       "  </thead>\n",
       "  <tbody>\n",
       "    <tr>\n",
       "      <th>0</th>\n",
       "      <td>&gt;item&amp;#160;1a.</td>\n",
       "      <td>31194</td>\n",
       "      <td>31208</td>\n",
       "    </tr>\n",
       "    <tr>\n",
       "      <th>1</th>\n",
       "      <td>&gt;item&amp;#160;1b.</td>\n",
       "      <td>31937</td>\n",
       "      <td>31951</td>\n",
       "    </tr>\n",
       "    <tr>\n",
       "      <th>2</th>\n",
       "      <td>&gt;item&amp;#160;7.</td>\n",
       "      <td>37030</td>\n",
       "      <td>37043</td>\n",
       "    </tr>\n",
       "    <tr>\n",
       "      <th>3</th>\n",
       "      <td>&gt;item&amp;#160;7a.</td>\n",
       "      <td>37875</td>\n",
       "      <td>37889</td>\n",
       "    </tr>\n",
       "    <tr>\n",
       "      <th>4</th>\n",
       "      <td>&gt;item&amp;#160;8</td>\n",
       "      <td>38666</td>\n",
       "      <td>38678</td>\n",
       "    </tr>\n",
       "  </tbody>\n",
       "</table>\n",
       "</div>"
      ],
      "text/plain": [
       "             item  start    end\n",
       "0  >item&#160;1a.  31194  31208\n",
       "1  >item&#160;1b.  31937  31951\n",
       "2   >item&#160;7.  37030  37043\n",
       "3  >item&#160;7a.  37875  37889\n",
       "4    >item&#160;8  38666  38678"
      ]
     },
     "execution_count": 520,
     "metadata": {},
     "output_type": "execute_result"
    }
   ],
   "source": [
    "# Matches\n",
    "matches = regex.finditer(document['10-K'])\n",
    "\n",
    "# Create the dataframe\n",
    "test_df = pd.DataFrame([(x.group(), x.start(), x.end()) for x in matches])\n",
    "\n",
    "test_df.columns = ['item', 'start', 'end']\n",
    "test_df['item'] = test_df.item.str.lower()\n",
    "\n",
    "# Display the dataframe\n",
    "test_df.head()"
   ]
  },
  {
   "cell_type": "code",
   "execution_count": 521,
   "metadata": {},
   "outputs": [
    {
     "data": {
      "text/html": [
       "<div>\n",
       "<style scoped>\n",
       "    .dataframe tbody tr th:only-of-type {\n",
       "        vertical-align: middle;\n",
       "    }\n",
       "\n",
       "    .dataframe tbody tr th {\n",
       "        vertical-align: top;\n",
       "    }\n",
       "\n",
       "    .dataframe thead th {\n",
       "        text-align: right;\n",
       "    }\n",
       "</style>\n",
       "<table border=\"1\" class=\"dataframe\">\n",
       "  <thead>\n",
       "    <tr style=\"text-align: right;\">\n",
       "      <th></th>\n",
       "      <th>item</th>\n",
       "      <th>start</th>\n",
       "      <th>end</th>\n",
       "    </tr>\n",
       "  </thead>\n",
       "  <tbody>\n",
       "    <tr>\n",
       "      <th>0</th>\n",
       "      <td>item1a</td>\n",
       "      <td>31194</td>\n",
       "      <td>31208</td>\n",
       "    </tr>\n",
       "    <tr>\n",
       "      <th>1</th>\n",
       "      <td>item1b</td>\n",
       "      <td>31937</td>\n",
       "      <td>31951</td>\n",
       "    </tr>\n",
       "    <tr>\n",
       "      <th>2</th>\n",
       "      <td>item7</td>\n",
       "      <td>37030</td>\n",
       "      <td>37043</td>\n",
       "    </tr>\n",
       "    <tr>\n",
       "      <th>3</th>\n",
       "      <td>item7a</td>\n",
       "      <td>37875</td>\n",
       "      <td>37889</td>\n",
       "    </tr>\n",
       "    <tr>\n",
       "      <th>4</th>\n",
       "      <td>item8</td>\n",
       "      <td>38666</td>\n",
       "      <td>38678</td>\n",
       "    </tr>\n",
       "  </tbody>\n",
       "</table>\n",
       "</div>"
      ],
      "text/plain": [
       "     item  start    end\n",
       "0  item1a  31194  31208\n",
       "1  item1b  31937  31951\n",
       "2   item7  37030  37043\n",
       "3  item7a  37875  37889\n",
       "4   item8  38666  38678"
      ]
     },
     "execution_count": 521,
     "metadata": {},
     "output_type": "execute_result"
    }
   ],
   "source": [
    "# Get rid of unnesesary charcters from the dataframe\n",
    "test_df.replace('&#160;',' ',regex=True,inplace=True)\n",
    "test_df.replace('&nbsp;',' ',regex=True,inplace=True)\n",
    "test_df.replace(' ','',regex=True,inplace=True)\n",
    "test_df.replace('\\.','',regex=True,inplace=True)\n",
    "test_df.replace('>','',regex=True,inplace=True)\n",
    "\n",
    "# display the dataframe\n",
    "test_df.head()"
   ]
  },
  {
   "cell_type": "code",
   "execution_count": 522,
   "metadata": {},
   "outputs": [
    {
     "data": {
      "text/html": [
       "<div>\n",
       "<style scoped>\n",
       "    .dataframe tbody tr th:only-of-type {\n",
       "        vertical-align: middle;\n",
       "    }\n",
       "\n",
       "    .dataframe tbody tr th {\n",
       "        vertical-align: top;\n",
       "    }\n",
       "\n",
       "    .dataframe thead th {\n",
       "        text-align: right;\n",
       "    }\n",
       "</style>\n",
       "<table border=\"1\" class=\"dataframe\">\n",
       "  <thead>\n",
       "    <tr style=\"text-align: right;\">\n",
       "      <th></th>\n",
       "      <th>item</th>\n",
       "      <th>start</th>\n",
       "      <th>end</th>\n",
       "    </tr>\n",
       "  </thead>\n",
       "  <tbody>\n",
       "    <tr>\n",
       "      <th>0</th>\n",
       "      <td>item1a</td>\n",
       "      <td>31194</td>\n",
       "      <td>31208</td>\n",
       "    </tr>\n",
       "    <tr>\n",
       "      <th>1</th>\n",
       "      <td>item1b</td>\n",
       "      <td>31937</td>\n",
       "      <td>31951</td>\n",
       "    </tr>\n",
       "    <tr>\n",
       "      <th>2</th>\n",
       "      <td>item7</td>\n",
       "      <td>37030</td>\n",
       "      <td>37043</td>\n",
       "    </tr>\n",
       "    <tr>\n",
       "      <th>3</th>\n",
       "      <td>item7a</td>\n",
       "      <td>37875</td>\n",
       "      <td>37889</td>\n",
       "    </tr>\n",
       "    <tr>\n",
       "      <th>5</th>\n",
       "      <td>item8</td>\n",
       "      <td>39487</td>\n",
       "      <td>39499</td>\n",
       "    </tr>\n",
       "  </tbody>\n",
       "</table>\n",
       "</div>"
      ],
      "text/plain": [
       "     item  start    end\n",
       "0  item1a  31194  31208\n",
       "1  item1b  31937  31951\n",
       "2   item7  37030  37043\n",
       "3  item7a  37875  37889\n",
       "5   item8  39487  39499"
      ]
     },
     "execution_count": 522,
     "metadata": {},
     "output_type": "execute_result"
    }
   ],
   "source": [
    "# Drop duplicates\n",
    "pos_dat = test_df.sort_values('start', ascending=True).drop_duplicates(subset=['item'], keep='last')\n",
    "\n",
    "# Display the dataframe\n",
    "pos_dat"
   ]
  },
  {
   "cell_type": "code",
   "execution_count": 523,
   "metadata": {},
   "outputs": [
    {
     "data": {
      "text/html": [
       "<div>\n",
       "<style scoped>\n",
       "    .dataframe tbody tr th:only-of-type {\n",
       "        vertical-align: middle;\n",
       "    }\n",
       "\n",
       "    .dataframe tbody tr th {\n",
       "        vertical-align: top;\n",
       "    }\n",
       "\n",
       "    .dataframe thead th {\n",
       "        text-align: right;\n",
       "    }\n",
       "</style>\n",
       "<table border=\"1\" class=\"dataframe\">\n",
       "  <thead>\n",
       "    <tr style=\"text-align: right;\">\n",
       "      <th></th>\n",
       "      <th>start</th>\n",
       "      <th>end</th>\n",
       "    </tr>\n",
       "    <tr>\n",
       "      <th>item</th>\n",
       "      <th></th>\n",
       "      <th></th>\n",
       "    </tr>\n",
       "  </thead>\n",
       "  <tbody>\n",
       "    <tr>\n",
       "      <th>item1a</th>\n",
       "      <td>31194</td>\n",
       "      <td>31208</td>\n",
       "    </tr>\n",
       "    <tr>\n",
       "      <th>item1b</th>\n",
       "      <td>31937</td>\n",
       "      <td>31951</td>\n",
       "    </tr>\n",
       "    <tr>\n",
       "      <th>item7</th>\n",
       "      <td>37030</td>\n",
       "      <td>37043</td>\n",
       "    </tr>\n",
       "    <tr>\n",
       "      <th>item7a</th>\n",
       "      <td>37875</td>\n",
       "      <td>37889</td>\n",
       "    </tr>\n",
       "    <tr>\n",
       "      <th>item8</th>\n",
       "      <td>39487</td>\n",
       "      <td>39499</td>\n",
       "    </tr>\n",
       "  </tbody>\n",
       "</table>\n",
       "</div>"
      ],
      "text/plain": [
       "        start    end\n",
       "item                \n",
       "item1a  31194  31208\n",
       "item1b  31937  31951\n",
       "item7   37030  37043\n",
       "item7a  37875  37889\n",
       "item8   39487  39499"
      ]
     },
     "execution_count": 523,
     "metadata": {},
     "output_type": "execute_result"
    }
   ],
   "source": [
    "# Set item as the dataframe index\n",
    "pos_dat.set_index('item', inplace=True)\n",
    "\n",
    "# display the dataframe\n",
    "pos_dat"
   ]
  },
  {
   "cell_type": "code",
   "execution_count": 525,
   "metadata": {},
   "outputs": [],
   "source": [
    "# Get Item 1a\n",
    "item_1a_raw = document['10-K'][pos_dat['start'].loc['item1a']:pos_dat['start'].loc['item1b']]\n",
    "\n",
    "# Get Item 7\n",
    "item_7_raw = document['10-K'][pos_dat['start'].loc['item7']:pos_dat['start'].loc['item7a']]\n",
    "\n",
    "# Get Item 7a\n",
    "item_7a_raw = document['10-K'][pos_dat['start'].loc['item7a']:pos_dat['start'].loc['item8']]"
   ]
  },
  {
   "cell_type": "code",
   "execution_count": 528,
   "metadata": {},
   "outputs": [
    {
     "data": {
      "text/plain": [
       "'\\n<type>10-K\\n<sequence>1\\n<filename>d829913d10k.htm\\n<description>FORM 10-K\\n<text>\\n<title>Form 10-K</title>\\n<h5 align=\"left\"><a href=\"#toc\">Table of Contents</a></h5>\\n<p style=\"line-height:4px;margin-top:0px;margin-bottom:0px;border-bottom:2pt solid #000000\">&#160;</p>\\n<p style=\"line-height:3px;margin-top:0px;margin-bottom:2px;border-bottom:0.5pt solid #000000\">&#160;</p> <p align=\"center\" style=\"margin-top:1px;margin-bottom:0px\"><font size=\"2\" style=\"font-family:Times New Roman\"><b>UNITED STATES S'"
      ]
     },
     "execution_count": 528,
     "metadata": {},
     "output_type": "execute_result"
    }
   ],
   "source": [
    "document['10-K'][:500]"
   ]
  },
  {
   "cell_type": "code",
   "execution_count": 529,
   "metadata": {},
   "outputs": [],
   "source": [
    "### First convert the raw text we have to exrtacted to BeautifulSoup object \n",
    "item_1a_content = BeautifulSoup(item_1a_raw, 'lxml')"
   ]
  },
  {
   "cell_type": "code",
   "execution_count": 530,
   "metadata": {},
   "outputs": [
    {
     "name": "stdout",
     "output_type": "stream",
     "text": [
      "<html>\n",
      " <body>\n",
      "  <p>\n",
      "   &gt;Item 1A.\n",
      "  </p>\n",
      "  <td valign=\"bottom\">\n",
      "   <font size=\"1\">\n",
      "   </font>\n",
      "  </td>\n",
      "  <td valign=\"top\">\n",
      "   <font size=\"2\" style=\"font-family:Times New Roman\">\n",
      "    <a href=\"#tx829913_3\">\n",
      "     Risk Factors\n",
      "    </a>\n",
      "   </font>\n",
      "  </td>\n",
      "  <td valign=\"bottom\">\n",
      "   <font size=\"1\">\n",
      "   </font>\n",
      "  </td>\n",
      "  <td nowrap=\"\" valign=\"bottom\">\n",
      "   <font size=\"2\" style=\"font-family:Times New Roman\">\n",
      "   </font>\n",
      "  </td>\n",
      "  <td align=\"right\" nowrap=\"\" valign=\"bottom\">\n",
      "   <font size=\"2\" style=\"font-family:Times New Roman\">\n",
      "    30\n",
      "   </font>\n",
      "  </td>\n",
      "  <td nowrap=\"\" valign=\"bottom\">\n",
      "   <font size=\"2\" style=\"font-family:Times New Roman\">\n",
      "   </font>\n",
      "  </td>\n",
      "  <tr>\n",
      "   <td nowrap=\"\" valign=\"top\">\n",
      "    <p style=\"margin-left:4.50em; text-indent:-4.50em\">\n",
      "     <font size=\"2\" style=\"font-family:Times New Roman\">\n",
      "     </font>\n",
      "    </p>\n",
      "   </td>\n",
      "  </tr>\n",
      " </body>\n",
      "</html>\n"
     ]
    }
   ],
   "source": [
    "### By just applying .pretiffy() we see that raw text start to look oragnized, as BeautifulSoup\n",
    "### apply indentation according to the HTML Tag tree structure\n",
    "print(item_1a_content.prettify()[0:1000])"
   ]
  },
  {
   "cell_type": "code",
   "execution_count": 531,
   "metadata": {},
   "outputs": [
    {
     "name": "stdout",
     "output_type": "stream",
     "text": [
      ">Item 1A.    \n",
      " \n",
      "Risk Factors\n",
      "  \n",
      " \n",
      "30\n",
      "  \n",
      "\n",
      " \n"
     ]
    }
   ],
   "source": [
    "### Our goal is though to remove html tags and see the content\n",
    "### Method get_text() is what we need, \\n\\n is optional, I just added this to read text \n",
    "### more cleanly, it's basically new line character between sections. \n",
    "print(item_1a_content.get_text())"
   ]
  },
  {
   "cell_type": "code",
   "execution_count": 203,
   "metadata": {},
   "outputs": [
    {
     "data": {
      "text/plain": [
       "'>Item&#160;1A.&#160;&#160;&#160;&#160;</font></p></td>\\n<td valign=\"bottom\"><font size=\"1\">&#160;</font></td>\\n<td valign=\"top\"><font color=\"#435363\" size=\"2\" style=\"font-family:ARIAL\"><a href=\"#tx286458_3\">Risk Factors</a></font></td>\\n<td valign=\"bottom\"><font size=\"1\">&#160;&#160;</font></td>\\n<td nowrap=\"\" valign=\"bottom\"><font color=\"#435363\" size=\"2\" style=\"font-family:ARIAL\">&#160;</font></td>\\n<td align=\"right\" nowrap=\"\" valign=\"bottom\"><font color=\"#435363\" size=\"2\" style=\"font-family:ARIAL\">16</font></td>\\n<td nowrap=\"\" valign=\"bottom\"><font color=\"#435363\" size=\"2\" style=\"font-family:ARIAL\">&#160;</font></td></tr>\\n<tr style=\"page-break-inside:avoid\">\\n<td nowrap=\"\" valign=\"top\"> <p style=\"margin-left:4.50em; text-indent:-4.50em\"><font color=\"#435363\" size=\"2\" style=\"font-family:ARIAL\"'"
      ]
     },
     "execution_count": 203,
     "metadata": {},
     "output_type": "execute_result"
    }
   ],
   "source": [
    "item_1a_raw"
   ]
  },
  {
   "cell_type": "code",
   "execution_count": 199,
   "metadata": {},
   "outputs": [
    {
     "data": {
      "text/plain": [
       "'\\n<type>10-K\\n<sequence>1\\n<filename>d286458d10k.htm\\n<description>FORM 10-K\\n<text>\\n<title>Form 10-K</title>\\n<h5 align=\"left\"><a href=\"#toc\">Table of Contents</a></h5>\\n<p style=\"line-height:2px;margin-top:0px;margin-bottom:0px;border-bottom:2pt solid #435363\">&#160;</p>\\n<p style=\"line-height:3px;margin-top:0px;margin-bottom:2px;border-bottom:0.5pt solid #435363\">&#160;</p> <p align=\"center\" style=\"margin-top:1px;margin-bottom:0px\"><font color=\"#435363\" size=\"2\" style=\"font-family:ARIAL\"><b>UNITED ST'"
      ]
     },
     "execution_count": 199,
     "metadata": {},
     "output_type": "execute_result"
    }
   ],
   "source": [
    "document[\"10-K\"][:500]"
   ]
  },
  {
   "cell_type": "code",
   "execution_count": null,
   "metadata": {},
   "outputs": [],
   "source": []
  }
 ],
 "metadata": {
  "kernelspec": {
   "display_name": "Python 3",
   "language": "python",
   "name": "python3"
  },
  "language_info": {
   "codemirror_mode": {
    "name": "ipython",
    "version": 3
   },
   "file_extension": ".py",
   "mimetype": "text/x-python",
   "name": "python",
   "nbconvert_exporter": "python",
   "pygments_lexer": "ipython3",
   "version": "3.7.4"
  }
 },
 "nbformat": 4,
 "nbformat_minor": 2
}
