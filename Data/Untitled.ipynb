{
 "cells": [
  {
   "cell_type": "markdown",
   "metadata": {},
   "source": [
    "# Analyzing AAL Sentiment Using FinBERT\n",
    "\n",
    "In this notebook, I will be analyzing the different sections of AAL's 10K reports throughout the years, and brainstorm ideas on how I will score companies and create a signal. \n",
    "\n",
    "To get a sentiment score, I will be using an NLP model called FinBERT. You can read more about FinBERT here: https://github.com/ProsusAI/finBERT\n",
    "\n",
    "To fit the model, you will need to download the pre-trained and fine-tuned weights from the following link and unzip to the working directory: https://gohkust-my.sharepoint.com/:u:/g/personal/imyiyang_ust_hk/EQJGiEOkhIlBqlW63TbKA3gBCYgDDcHlBCB7VTXIUMmyiA"
   ]
  },
  {
   "cell_type": "code",
   "execution_count": null,
   "metadata": {},
   "outputs": [],
   "source": []
  }
 ],
 "metadata": {
  "kernelspec": {
   "display_name": "Python 3",
   "language": "python",
   "name": "python3"
  },
  "language_info": {
   "codemirror_mode": {
    "name": "ipython",
    "version": 3
   },
   "file_extension": ".py",
   "mimetype": "text/x-python",
   "name": "python",
   "nbconvert_exporter": "python",
   "pygments_lexer": "ipython3",
   "version": "3.7.4"
  }
 },
 "nbformat": 4,
 "nbformat_minor": 2
}
