{
 "cells": [
  {
   "cell_type": "code",
   "execution_count": 1,
   "metadata": {},
   "outputs": [],
   "source": [
    "from bs4 import BeautifulSoup\n",
    "import numpy as np\n",
    "import pandas as pd\n",
    "import os\n",
    "import re\n",
    "import html2text\n",
    "import pickle\n",
    "from sec_edgar_downloader import Downloader"
   ]
  },
  {
   "cell_type": "code",
   "execution_count": 21,
   "metadata": {},
   "outputs": [],
   "source": [
    "# Get the most recent filing\n",
    "f = open(\"sec-edgar-filings/AAL/10-K/0001193125-15-061145/filing-details.html\", \"r\")\n",
    "raw_10k = f.read()"
   ]
  },
  {
   "cell_type": "code",
   "execution_count": 3,
   "metadata": {},
   "outputs": [],
   "source": [
    "soup = BeautifulSoup(raw_10k, 'lxml')"
   ]
  },
  {
   "cell_type": "code",
   "execution_count": 4,
   "metadata": {},
   "outputs": [],
   "source": [
    "res = list(soup.find_all('b'))\n",
    "res = [str(x) for x in res]\n",
    "res_str = '\\n'.join(res)"
   ]
  },
  {
   "cell_type": "code",
   "execution_count": 5,
   "metadata": {},
   "outputs": [],
   "source": [
    "matches = re.compile(r'(item\\s(7[\\.\\s]|8(A|)[\\.\\s])|'\n",
    "                             'discussion\\sand\\sanalysis\\sof\\s(consolidated\\sfinancial|financial)\\scondition|'\n",
    "                             '(consolidated\\sfinancial|financial)\\sstatements\\sand\\ssupplementary\\sdata)', re.IGNORECASE)"
   ]
  },
  {
   "cell_type": "code",
   "execution_count": 32,
   "metadata": {},
   "outputs": [
    {
     "data": {
      "text/html": [
       "<div>\n",
       "<style scoped>\n",
       "    .dataframe tbody tr th:only-of-type {\n",
       "        vertical-align: middle;\n",
       "    }\n",
       "\n",
       "    .dataframe tbody tr th {\n",
       "        vertical-align: top;\n",
       "    }\n",
       "\n",
       "    .dataframe thead th {\n",
       "        text-align: right;\n",
       "    }\n",
       "</style>\n",
       "<table border=\"1\" class=\"dataframe\">\n",
       "  <thead>\n",
       "    <tr style=\"text-align: right;\">\n",
       "      <th></th>\n",
       "      <th>0</th>\n",
       "      <th>1</th>\n",
       "    </tr>\n",
       "  </thead>\n",
       "  <tbody>\n",
       "    <tr>\n",
       "      <th>0</th>\n",
       "      <td>ITEM</td>\n",
       "      <td>1785</td>\n",
       "    </tr>\n",
       "    <tr>\n",
       "      <th>1</th>\n",
       "      <td>ITEM</td>\n",
       "      <td>3294</td>\n",
       "    </tr>\n",
       "    <tr>\n",
       "      <th>2</th>\n",
       "      <td>ITEM</td>\n",
       "      <td>11243</td>\n",
       "    </tr>\n",
       "    <tr>\n",
       "      <th>3</th>\n",
       "      <td>ITEM</td>\n",
       "      <td>11312</td>\n",
       "    </tr>\n",
       "    <tr>\n",
       "      <th>4</th>\n",
       "      <td>ITEM</td>\n",
       "      <td>12319</td>\n",
       "    </tr>\n",
       "  </tbody>\n",
       "</table>\n",
       "</div>"
      ],
      "text/plain": [
       "      0      1\n",
       "0  ITEM   1785\n",
       "1  ITEM   3294\n",
       "2  ITEM  11243\n",
       "3  ITEM  11312\n",
       "4  ITEM  12319"
      ]
     },
     "execution_count": 32,
     "metadata": {},
     "output_type": "execute_result"
    }
   ],
   "source": [
    "matches_array = pd.DataFrame([(match.group(), match.start()) for match in matches.finditer(res_str)])\n",
    "matches_array.head()"
   ]
  },
  {
   "cell_type": "code",
   "execution_count": 30,
   "metadata": {},
   "outputs": [],
   "source": [
    "matches = re.compile(r'ITEM', re.IGNORECASE)"
   ]
  },
  {
   "cell_type": "code",
   "execution_count": 31,
   "metadata": {},
   "outputs": [
    {
     "data": {
      "text/html": [
       "<div>\n",
       "<style scoped>\n",
       "    .dataframe tbody tr th:only-of-type {\n",
       "        vertical-align: middle;\n",
       "    }\n",
       "\n",
       "    .dataframe tbody tr th {\n",
       "        vertical-align: top;\n",
       "    }\n",
       "\n",
       "    .dataframe thead th {\n",
       "        text-align: right;\n",
       "    }\n",
       "</style>\n",
       "<table border=\"1\" class=\"dataframe\">\n",
       "  <thead>\n",
       "    <tr style=\"text-align: right;\">\n",
       "      <th></th>\n",
       "      <th>0</th>\n",
       "      <th>1</th>\n",
       "    </tr>\n",
       "  </thead>\n",
       "  <tbody>\n",
       "    <tr>\n",
       "      <th>0</th>\n",
       "      <td>Item</td>\n",
       "      <td>18637</td>\n",
       "    </tr>\n",
       "    <tr>\n",
       "      <th>1</th>\n",
       "      <td>Item</td>\n",
       "      <td>30456</td>\n",
       "    </tr>\n",
       "    <tr>\n",
       "      <th>2</th>\n",
       "      <td>Item</td>\n",
       "      <td>31217</td>\n",
       "    </tr>\n",
       "    <tr>\n",
       "      <th>3</th>\n",
       "      <td>Item</td>\n",
       "      <td>31960</td>\n",
       "    </tr>\n",
       "    <tr>\n",
       "      <th>4</th>\n",
       "      <td>Item</td>\n",
       "      <td>32722</td>\n",
       "    </tr>\n",
       "  </tbody>\n",
       "</table>\n",
       "</div>"
      ],
      "text/plain": [
       "      0      1\n",
       "0  Item  18637\n",
       "1  Item  30456\n",
       "2  Item  31217\n",
       "3  Item  31960\n",
       "4  Item  32722"
      ]
     },
     "execution_count": 31,
     "metadata": {},
     "output_type": "execute_result"
    }
   ],
   "source": [
    "matches_array = pd.DataFrame([(match.group(), match.start()) for match in matches.finditer(raw_10k)])\n",
    "matches_array.head()"
   ]
  },
  {
   "cell_type": "code",
   "execution_count": 24,
   "metadata": {},
   "outputs": [
    {
     "data": {
      "text/plain": [
       "'<html><body><document>\\n<type>10-K\\n<sequence>1\\n<filename>d829913d10k.htm\\n<description>FORM 10-K\\n<text>\\n<title>Form 10-K</title>\\n<h5 align=\"left\"><a href=\"#toc\">Table of Contents</a></h5>\\n<p style=\"line-height:4px;margin-top:0px;margin-bottom:0px;border-bottom:2pt solid #000000\">&#160;</p>\\n<p style=\"line-height:3px;margin-top:0px;margin-bottom:2px;border-bottom:0.5pt solid #000000\">&#160;</p> <p align=\"center\" style=\"margin-top:1px;margin-bottom:0px\"><font size=\"2\" style=\"font-family:Times New Roman\"><b>UNITED STATES SECURITIES AND\\nEXCHANGE COMMISSION </b></font></p> <p align=\"center\" style=\"margin-top:0px;margin-bottom:0px\"><font size=\"2\" style=\"font-family:Times New Roman\"><b>Washington, D.C. 20549 </b></font></p>\\n<p style=\"font-size:1px;margin-top:0px;margin-bottom:0px\">&#160;</p><center> <p style=\"line-height:6px;margin-top:0px;margin-bottom:2px;border-bottom:1pt solid #000000;width:21%\">&#160;</p></center>\\n<p align=\"center\" style=\"margin-top:1px;margin-bottom:0px\"><font size=\"3\" style=\"font-family:Times New Roman\"><b>FORM 10-K </b></font></p> <p style=\"font-size:1px;margin-top:0px;margin-bottom:0px\">&#160;</p><center>\\n<p style=\"line-height:6px;margin-top:0px;margin-bottom:2px;border-bottom:1pt solid #000000;width:21%\">&#160;</p></center> <p style=\"font-size:1px;margin-top:0px;margin-bottom:0px\">&#160;</p>\\n<table border=\"0\" cellpadding=\"0\" cellspacing=\"0\" style=\"BORDER-COLLAPSE:COLLAPSE\" width=\"100%\">\\n<tr>\\n<td align=\"left\" valign=\"top\" width=\"4%\"><font size=\"2\" style=\"font-family:Times New Roman\"><b></b><font style=\"FONT-FAMILY:WINGDINGS\">&#254;</font><b></b><b></b></font></td>\\n<td align=\"left\" valign=\"top\"> <p align=\"justify\"><font size=\"2\" style=\"font-family:Times New Roman\"><b>ANNUAL REPORT PURSUANT TO SECTION&#160;13 OR 15(d) OF THE SECURITIES EXCHANGE ACT OF 1934 </b></font></p></td></tr></table>\\n<p align=\"justify\" style=\"margin-top:0px;margin-bottom:0px; text-indent:4%\"><font size=\"1\" style=\"font-family:Times New Roman\"><b>For the Fiscal Year Ended December&#160;31, 2014 </b></font></p>\\n<p style=\"font-size:1px;margin-top:0px;margin-bottom:0px\">&#160;</p>\\n<table border=\"0\" cellpadding=\"0\" cellspacing=\"0\" style=\"BORDER-COLLAPSE:COLLAPSE\" width=\"100%\">\\n<tr>\\n<td align=\"left\" valign=\"top\" width=\"4%\"><font size=\"2\" style=\"font-family:Times New Roman\"><b></b><font style=\"FONT-FAMILY:WINGDINGS\">&#168;</font><b></b><b></b></font></td>\\n<td align=\"left\" valign=\"top\"> <p align=\"justify\"><font size=\"2\" style=\"font-family:Times New Roman\"><b>TRANSITION REPORT PURSUANT TO SECTION&#160;13 OR 15(d) OF THE SECURITIES EXCHANGE ACT OF 1934 </b></font></p></td></tr></table>\\n<p align=\"justify\" style=\"margin-top:0px;margin-bottom:0px; text-indent:4%\"><font size=\"1\" style=\"font-family:Times New Roman\"><b>For the Transition Period\\nFrom&#160;&#160;&#160;&#160;&#160;&#160;&#160;&#160;&#160;&#160;&#160;&#160;&#160;&#160;&#160;&#160;&#160;&#160;&#160;&#160; to&#160;&#160;&#160;&#160;&#160;&#160;&#160;&#160;&#160;&#160;&#160;&#160;&#160;&#160;&#160;&#160;&#160;&#160;&#160;&#160;\\n</b></font></p> <p align=\"center\" style=\"margin-top:1px;margin-bottom:0px\"><font size=\"1\" style=\"font-family:Times New Roman\">Commission file number 1-8400 </font></p> <p style=\"font-size:1px;margin-top:0px;margin-bottom:0px\">&#160;</p><center>\\n<p style=\"line-height:6px;margin-top:0px;margin-bottom:2px;border-bottom:1pt solid #000000;width:21%\">&#160;</p></center> <p align=\"center\" style=\"margin-top:1px;margin-bottom:0px\"><font size=\"3\" style=\"font-family:Times New Roman\"><b>American\\nAirlines Group Inc. </b></font></p> <p align=\"center\" style=\"margin-top:0px;margin-bottom:0px\"><font size=\"1\" style=\"font-family:Times New Roman\"><i>(Exact name of registrant as specified in its charter) </i></font></p>\\n<p style=\"font-size:1px;margin-top:0px;margin-bottom:0px\">&#160;</p><center> <p style=\"line-height:6px;margin-top:0px;margin-bottom:2px;border-bottom:1pt solid #000000;width:21%\">&#160;</p></center>\\n<p style=\"font-size:1px;margin-top:0px;margin-bottom:0px\">&#160;</p>\\n<table align=\"center\" border=\"0\" cellpadding=\"0\" cellspacing=\"0\" style=\"BORDER-COLLAPSE:COLLAPSE\" width=\"100%\">\\n<tr>\\n<td width=\"50%\"></td>\\n<td valign=\"bottom\" width=\"1%\"></td>\\n<td width=\"48%\"></td></tr>\\n<tr>\\n<td align=\"center\" valign=\"top\"><font size=\"1\" style=\"font-family:Times New Roman\"><b>Delaware</b></font></td>\\n<td valign=\"bottom\"><font size=\"1\">&#160;</font></td>\\n<td align=\"center\" valign=\"top\"><font size=\"1\" style=\"font-family:Times New Roman\"><b>75-1825172</b></font></td></tr>\\n<tr>\\n<td align=\"center\" valign=\"top\"> <p align=\"center\" style=\"margin-top:0px;margin-bottom:0px\"><font size=\"1\" style=\"font-family:Times New Roman\"><i>(State or other jurisdiction of</i></font></p>\\n<p align=\"center\" style=\"margin-top:0px;margin-bottom:1px\"><font size=\"1\" style=\"font-family:Times New Roman\"><i>incorporation or organization)</i></font></p></td>\\n<td valign=\"bottom\"><font size=\"1\">&#160;</font></td>\\n<td align=\"center\" valign=\"top\"> <p align=\"center\" style=\"margin-top:0px;margin-bottom:0px\"><font size=\"'"
      ]
     },
     "execution_count": 24,
     "metadata": {},
     "output_type": "execute_result"
    }
   ],
   "source": [
    "raw_10k[:5000]"
   ]
  },
  {
   "cell_type": "code",
   "execution_count": 57,
   "metadata": {},
   "outputs": [
    {
     "data": {
      "text/plain": [
       "[<re.Match object; span=(37293, 37339), match='Discussion and Analysis of Financial Condition'>,\n",
       " <re.Match object; span=(38888, 38944), match='Consolidated Financial Statements and Supplementa>,\n",
       " <re.Match object; span=(39715, 39771), match='Consolidated Financial Statements and Supplementa>,\n",
       " <re.Match object; span=(58563, 58609), match='Discussion and Analysis of Financial Condition'>,\n",
       " <re.Match object; span=(68365, 68411), match='Discussion and Analysis of Financial Condition'>,\n",
       " <re.Match object; span=(70730, 70776), match='Discussion and Analysis of Financial Condition'>,\n",
       " <re.Match object; span=(70893, 70939), match='Discussion and Analysis of Financial Condition'>,\n",
       " <re.Match object; span=(74080, 74126), match='Discussion and Analysis of Financial Condition'>,\n",
       " <re.Match object; span=(218373, 218419), match='Discussion and Analysis of Financial Condition'>,\n",
       " <re.Match object; span=(315947, 315993), match='Discussion and Analysis of Financial Condition'>,\n",
       " <re.Match object; span=(575074, 575120), match='Discussion and Analysis of Financial Condition'>,\n",
       " <re.Match object; span=(647874, 647920), match='Discussion and Analysis of Financial Condition'>,\n",
       " <re.Match object; span=(685387, 685413), match='items consisted of a $538 '>,\n",
       " <re.Match object; span=(722980, 723026), match='Discussion\\nand Analysis of Financial Condition'>,\n",
       " <re.Match object; span=(723680, 723726), match='DISCUSSION AND ANALYSIS OF FINANCIAL CONDITION'>,\n",
       " <re.Match object; span=(760153, 760199), match='Discussion and Analysis of Financial Condition'>,\n",
       " <re.Match object; span=(762700, 762746), match='Discussion and Analysis of Financial Condition'>,\n",
       " <re.Match object; span=(1519457, 1519503), match='Discussion and Analysis of Financial Condition'>,\n",
       " <re.Match object; span=(1614443, 1614499), match='CONSOLIDATED FINANCIAL STATEMENTS AND SUPPLEMENTA>,\n",
       " <re.Match object; span=(3215499, 3215555), match='CONSOLIDATED FINANCIAL STATEMENTS AND SUPPLEMENTA>]"
      ]
     },
     "execution_count": 57,
     "metadata": {},
     "output_type": "execute_result"
    }
   ],
   "source": [
    "matches = re.finditer(r'(item.{20}(7[\\.\\s]|8(A|)[\\.\\s])|'\n",
    "                             'discussion\\sand\\sanalysis\\sof\\s(consolidated\\sfinancial|financial)\\scondition|'\n",
    "                             '(consolidated\\sfinancial|financial)\\sstatements\\sand\\ssupplementary\\sdata)', raw_10k, re.IGNORECASE)\n",
    "locations = [x for x in matches]\n",
    "locations"
   ]
  },
  {
   "cell_type": "code",
   "execution_count": 74,
   "metadata": {},
   "outputs": [
    {
     "data": {
      "text/plain": [
       "[<re.Match object; span=(723646, 723672), match='/a>ITEM&#160;7. MANAGEMENT'>]"
      ]
     },
     "execution_count": 74,
     "metadata": {},
     "output_type": "execute_result"
    }
   ],
   "source": [
    "matches = re.finditer('..>ITEM.{1,10}7[^a-zA-Z]{1,10}management', raw_10k, re.IGNORECASE)\n",
    "locations = [x for x in matches]\n",
    "locations[:3]"
   ]
  },
  {
   "cell_type": "code",
   "execution_count": 73,
   "metadata": {},
   "outputs": [
    {
     "data": {
      "text/plain": [
       "[<re.Match object; span=(1614421, 1614455), match='/a>ITEM&#160;8A.&#160;CONSOLIDATED'>]"
      ]
     },
     "execution_count": 73,
     "metadata": {},
     "output_type": "execute_result"
    }
   ],
   "source": [
    "matches = re.finditer('..>ITEM.{1,10}8(|A)[^a-zA-Z]{1,10}(consolidated|financial)', raw_10k, re.IGNORECASE)\n",
    "locations = [x for x in matches]\n",
    "locations[:3]"
   ]
  },
  {
   "cell_type": "code",
   "execution_count": 76,
   "metadata": {},
   "outputs": [
    {
     "name": "stdout",
     "output_type": "stream",
     "text": [
      "0000004515-08-000014\n",
      "[<re.Match object; span=(723646, 723672), match='/a>ITEM&#160;7. MANAGEMENT'>]\n",
      "[<re.Match object; span=(1614421, 1614455), match='/a>ITEM&#160;8A.&#160;CONSOLIDATED'>]\n",
      "\n",
      "\n",
      "0000006201-20-000023\n",
      "[<re.Match object; span=(723646, 723672), match='/a>ITEM&#160;7. MANAGEMENT'>]\n",
      "[<re.Match object; span=(1614421, 1614455), match='/a>ITEM&#160;8A.&#160;CONSOLIDATED'>]\n",
      "\n",
      "\n",
      "0000950134-06-003715\n",
      "[<re.Match object; span=(723646, 723672), match='/a>ITEM&#160;7. MANAGEMENT'>]\n",
      "[<re.Match object; span=(1614421, 1614455), match='/a>ITEM&#160;8A.&#160;CONSOLIDATED'>]\n",
      "\n",
      "\n",
      "0001047469-03-013301\n",
      "[<re.Match object; span=(723646, 723672), match='/a>ITEM&#160;7. MANAGEMENT'>]\n",
      "[<re.Match object; span=(1614421, 1614455), match='/a>ITEM&#160;8A.&#160;CONSOLIDATED'>]\n",
      "\n",
      "\n",
      "0000950134-05-003726\n",
      "[<re.Match object; span=(723646, 723672), match='/a>ITEM&#160;7. MANAGEMENT'>]\n",
      "[<re.Match object; span=(1614421, 1614455), match='/a>ITEM&#160;8A.&#160;CONSOLIDATED'>]\n",
      "\n",
      "\n",
      "0000950134-04-002668\n",
      "[<re.Match object; span=(723646, 723672), match='/a>ITEM&#160;7. MANAGEMENT'>]\n",
      "[<re.Match object; span=(1614421, 1614455), match='/a>ITEM&#160;8A.&#160;CONSOLIDATED'>]\n",
      "\n",
      "\n",
      "0000006201-10-000006\n",
      "[<re.Match object; span=(723646, 723672), match='/a>ITEM&#160;7. MANAGEMENT'>]\n",
      "[<re.Match object; span=(1614421, 1614455), match='/a>ITEM&#160;8A.&#160;CONSOLIDATED'>]\n",
      "\n",
      "\n",
      "0000950123-11-014726\n",
      "[<re.Match object; span=(723646, 723672), match='/a>ITEM&#160;7. MANAGEMENT'>]\n",
      "[<re.Match object; span=(1614421, 1614455), match='/a>ITEM&#160;8A.&#160;CONSOLIDATED'>]\n",
      "\n",
      "\n",
      "0000006201-18-000009\n",
      "[<re.Match object; span=(723646, 723672), match='/a>ITEM&#160;7. MANAGEMENT'>]\n",
      "[<re.Match object; span=(1614421, 1614455), match='/a>ITEM&#160;8A.&#160;CONSOLIDATED'>]\n",
      "\n",
      "\n",
      "0001193125-15-061145\n",
      "[<re.Match object; span=(723646, 723672), match='/a>ITEM&#160;7. MANAGEMENT'>]\n",
      "[<re.Match object; span=(1614421, 1614455), match='/a>ITEM&#160;8A.&#160;CONSOLIDATED'>]\n",
      "\n",
      "\n",
      "0001193125-12-063516\n",
      "[<re.Match object; span=(723646, 723672), match='/a>ITEM&#160;7. MANAGEMENT'>]\n",
      "[<re.Match object; span=(1614421, 1614455), match='/a>ITEM&#160;8A.&#160;CONSOLIDATED'>]\n",
      "\n",
      "\n",
      "0000006201-21-000014\n",
      "[<re.Match object; span=(723646, 723672), match='/a>ITEM&#160;7. MANAGEMENT'>]\n",
      "[<re.Match object; span=(1614421, 1614455), match='/a>ITEM&#160;8A.&#160;CONSOLIDATED'>]\n",
      "\n",
      "\n",
      "0001193125-16-474605\n",
      "[<re.Match object; span=(723646, 723672), match='/a>ITEM&#160;7. MANAGEMENT'>]\n",
      "[<re.Match object; span=(1614421, 1614455), match='/a>ITEM&#160;8A.&#160;CONSOLIDATED'>]\n",
      "\n",
      "\n",
      "0000006201-14-000004\n",
      "[<re.Match object; span=(723646, 723672), match='/a>ITEM&#160;7. MANAGEMENT'>]\n",
      "[<re.Match object; span=(1614421, 1614455), match='/a>ITEM&#160;8A.&#160;CONSOLIDATED'>]\n",
      "\n",
      "\n",
      "0000950134-07-003888\n",
      "[<re.Match object; span=(723646, 723672), match='/a>ITEM&#160;7. MANAGEMENT'>]\n",
      "[<re.Match object; span=(1614421, 1614455), match='/a>ITEM&#160;8A.&#160;CONSOLIDATED'>]\n",
      "\n",
      "\n",
      "0000006201-19-000009\n",
      "[<re.Match object; span=(723646, 723672), match='/a>ITEM&#160;7. MANAGEMENT'>]\n",
      "[<re.Match object; span=(1614421, 1614455), match='/a>ITEM&#160;8A.&#160;CONSOLIDATED'>]\n",
      "\n",
      "\n",
      "0000006201-09-000009\n",
      "[<re.Match object; span=(723646, 723672), match='/a>ITEM&#160;7. MANAGEMENT'>]\n",
      "[<re.Match object; span=(1614421, 1614455), match='/a>ITEM&#160;8A.&#160;CONSOLIDATED'>]\n",
      "\n",
      "\n",
      "0000006201-13-000023\n",
      "[<re.Match object; span=(723646, 723672), match='/a>ITEM&#160;7. MANAGEMENT'>]\n",
      "[<re.Match object; span=(1614421, 1614455), match='/a>ITEM&#160;8A.&#160;CONSOLIDATED'>]\n",
      "\n",
      "\n",
      "0001193125-17-051216\n",
      "[<re.Match object; span=(723646, 723672), match='/a>ITEM&#160;7. MANAGEMENT'>]\n",
      "[<re.Match object; span=(1614421, 1614455), match='/a>ITEM&#160;8A.&#160;CONSOLIDATED'>]\n",
      "\n",
      "\n"
     ]
    }
   ],
   "source": [
    "# Check each filing to make sure there's a match\n",
    "for filing in os.listdir(\"sec-edgar-filings/AAL/10-K/\"):\n",
    "    \n",
    "    locs = []\n",
    "    \n",
    "    if filing == '.DS_Store':\n",
    "        continue\n",
    "        \n",
    "    print(filing)\n",
    "    matches = re.finditer('..>ITEM.{1,10}7[^a-zA-Z]{1,10}management', raw_10k, re.IGNORECASE)\n",
    "    print([x for x in matches])\n",
    "    \n",
    "    matches = re.finditer('..>ITEM.{1,10}8(|A)[^a-zA-Z]{1,10}(consolidated|financial)', raw_10k, re.IGNORECASE)\n",
    "    print([x for x in matches])\n",
    "    print('\\n')"
   ]
  },
  {
   "cell_type": "code",
   "execution_count": 308,
   "metadata": {},
   "outputs": [],
   "source": [
    "# Do the same for all files\n",
    "companies = os.listdir(\"sec-edgar-filings/\")\n",
    "companies = [x for x in companies if x != 'AAL' and x != '.DS_Store']\n",
    "\n",
    "for company in companies:\n",
    "    \n",
    "    logstr = ''\n",
    "    \n",
    "    if company == '.DS_Store' or company == 'AAL':\n",
    "        continue\n",
    "        \n",
    "    pulls = os.listdir(\"sec-edgar-filings/\"+company+\"/10-K/\")\n",
    "    \n",
    "    a = pd.DataFrame()\n",
    "    \n",
    "    \n",
    "    for year in pulls:\n",
    "        if year == '.DS_Store':\n",
    "            continue\n",
    "        #print(year)\n",
    "\n",
    "        try:\n",
    "            f = open(\"sec-edgar-filings/\"+company+\"/10-K/\"+year+\"/filing-details.html\", \"r\")\n",
    "        except:\n",
    "            f = open(\"sec-edgar-filings/\"+company+\"/10-K/\"+year+\"/filing-details.txt\", \"r\")\n",
    "        raw_10k = f.read()\n",
    "        \n",
    "        matches1 = re.finditer(r\"..>IT.{0,20}EM.{1,20}7.{1,300}management\", raw_10k, re.IGNORECASE)\n",
    "        matches2 = re.finditer(r\"..>IT.{0,20}EM.{1,20}8(|A).{1,300}(consolidated|financial)\", raw_10k, re.IGNORECASE)\n",
    "        \n",
    "        logstr += year + '\\n'\n",
    "        logstr += str([x for x in matches1])+ '\\n'\n",
    "        logstr += str([x for x in matches2])+ '\\n'\n",
    "        logstr += '\\n'\n",
    "        \n",
    "    print(logstr, file=open(\"logs/\"+company+\".txt\", \"w\"))"
   ]
  },
  {
   "cell_type": "code",
   "execution_count": 164,
   "metadata": {},
   "outputs": [
    {
     "data": {
      "text/plain": [
       "['0000912057-02-012933']"
      ]
     },
     "execution_count": 164,
     "metadata": {},
     "output_type": "execute_result"
    }
   ],
   "source": [
    "pulls"
   ]
  },
  {
   "cell_type": "code",
   "execution_count": 85,
   "metadata": {},
   "outputs": [
    {
     "data": {
      "text/plain": [
       "['0001193125-18-054235',\n",
       " '0000100517-04-000007',\n",
       " '0000950137-09-001460',\n",
       " '0001193125-14-060695',\n",
       " '.DS_Store',\n",
       " '0001104659-07-019919',\n",
       " '0001193125-12-073010',\n",
       " '0001193125-16-468479',\n",
       " '0000100517-21-000016',\n",
       " '0001193125-17-054129',\n",
       " '0001193125-13-074391',\n",
       " '0000100517-05-000006',\n",
       " '0001047469-08-001951',\n",
       " '0000100517-01-500026',\n",
       " '0000100517-19-000009',\n",
       " '0001193125-15-056493',\n",
       " '0000100517-06-000021',\n",
       " '0000100517-03-000007',\n",
       " '0000100517-20-000010',\n",
       " '0001193125-11-042335',\n",
       " '0001193125-10-041523']"
      ]
     },
     "execution_count": 85,
     "metadata": {},
     "output_type": "execute_result"
    }
   ],
   "source": [
    "os.listdir(\"sec-edgar-filings/\"+company+\"/10-K/\")"
   ]
  },
  {
   "cell_type": "markdown",
   "metadata": {},
   "source": [
    "# Debug"
   ]
  },
  {
   "cell_type": "code",
   "execution_count": 358,
   "metadata": {},
   "outputs": [],
   "source": [
    "company = '0000003202'\n",
    "year = '0001193125-07-046435'\n",
    "\n",
    "f = open(\"sec-edgar-filings/\"+company+\"/10-K/\"+year+\"/filing-details.html\", \"r\")\n",
    "raw_10k = f.read()"
   ]
  },
  {
   "cell_type": "code",
   "execution_count": 377,
   "metadata": {},
   "outputs": [
    {
     "name": "stdout",
     "output_type": "stream",
     "text": [
      "[]\n"
     ]
    }
   ],
   "source": [
    "matches1 = re.finditer(r\"..>IT.{0,20}EM.{0,20}7.{0,300}M\", raw_10k, re.MULTILINE)\n",
    "a = [x for x in matches1]\n",
    "print(a)"
   ]
  },
  {
   "cell_type": "code",
   "execution_count": 363,
   "metadata": {},
   "outputs": [
    {
     "data": {
      "text/plain": [
       "[380333, 550449]"
      ]
     },
     "execution_count": 363,
     "metadata": {},
     "output_type": "execute_result"
    }
   ],
   "source": [
    "locs = [x.start() for x in a]\n",
    "locs"
   ]
  },
  {
   "cell_type": "code",
   "execution_count": 360,
   "metadata": {},
   "outputs": [
    {
     "data": {
      "text/plain": [
       "'lign=\"left\" valign=\"top\" width=\"9%\"><font face=\"Times New Roman\" size=\"2\"><b>\\n<a name=\"tx85763_11\"></a>ITEM&#160;7.</b></font></td>\\n<td align=\"left\" valign=\"top\"><font face=\"Times New Roman\" size=\"2\"><b>MANAGEMENT&#146;S DISCUSSION AND ANALYSIS OF FINANCIAL CONDITION AND RESULTS OF OPERATIONS </b></font></td></tr></table> <p style=\"margin-top:6px;margin-bottom:0px\"><font face=\"Times New Roman\" siz'"
      ]
     },
     "execution_count": 360,
     "metadata": {},
     "output_type": "execute_result"
    }
   ],
   "source": [
    "raw_10k[locs[0]-100:locs[0]+300]"
   ]
  },
  {
   "cell_type": "code",
   "execution_count": 296,
   "metadata": {},
   "outputs": [
    {
     "name": "stdout",
     "output_type": "stream",
     "text": [
      "[<re.Match object; span=(831319, 831366), match='s\">IT</a>EM&#160;8.&#160;&#160;&#160; FINANCIAL'>]\n"
     ]
    }
   ],
   "source": [
    "matches2 = re.finditer('..>IT.{1,20}EM.{1,20}8(|A).{1,300}(consolidated|financial)', raw_10k, re.IGNORECASE)\n",
    "print([x for x in matches2])"
   ]
  },
  {
   "cell_type": "code",
   "execution_count": 242,
   "metadata": {},
   "outputs": [],
   "source": [
    "# coding=utf8\n",
    "# the above tag defines encoding for this document and is for Python 2.x compatibility\n",
    "\n",
    "import re\n",
    "\n",
    "regex = r\".>ITEM.{1,20}7.*(?<=MANAGEMENT)\"\n",
    "\n",
    "test_str = \"'font style=\\\"DISPLAY: inline; FONT-FAMILY: times new roman; FONT-SIZE: 10pt\\\">&#160;&#160;<a href=\\\"#mda\\\">ITEM&#160;7.</a></font></div>\\\\n</td>\\\\n<td align=\\\"left\\\" colspan=\\\"3\\\" valign=\\\"top\\\" width=\\\"83%\\\">\\\\n<div align=\\\"left\\\" style=\\\"TEXT-INDENT: 0pt; DISPLAY: block; MARGIN-LEFT: 18pt; MARGIN-RIGHT: 0pt\\\"><font style=\\\"DISPLAY: inline; FONT-FAMILY: times new roman; FONT-SIZE: 10pt\\\"><a href=\\\"#mda\\\">MANAGEMENT&#8217;'\"\n",
    "\n",
    "matches = re.finditer(regex, raw_10k, re.MULTILINE)\n",
    "\n",
    "for matchNum, match in enumerate(matches, start=1):\n",
    "    \n",
    "    print (\"Match {matchNum} was found at {start}-{end}: {match}\".format(matchNum = matchNum, start = match.start(), end = match.end(), match = match.group()))\n",
    "    \n",
    "    for groupNum in range(0, len(match.groups())):\n",
    "        groupNum = groupNum + 1\n",
    "        \n",
    "        print (\"Group {groupNum} found at {start}-{end}: {group}\".format(groupNum = groupNum, start = match.start(groupNum), end = match.end(groupNum), group = match.group(groupNum)))\n",
    "\n",
    "# Note: for Python 2.7 compatibility, use ur\"\" to prefix the regex and u\"\" to prefix the test string and substitution."
   ]
  },
  {
   "cell_type": "code",
   "execution_count": null,
   "metadata": {},
   "outputs": [],
   "source": []
  }
 ],
 "metadata": {
  "kernelspec": {
   "display_name": "Python 3",
   "language": "python",
   "name": "python3"
  },
  "language_info": {
   "codemirror_mode": {
    "name": "ipython",
    "version": 3
   },
   "file_extension": ".py",
   "mimetype": "text/x-python",
   "name": "python",
   "nbconvert_exporter": "python",
   "pygments_lexer": "ipython3",
   "version": "3.7.4"
  }
 },
 "nbformat": 4,
 "nbformat_minor": 2
}
