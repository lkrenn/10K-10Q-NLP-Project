{
 "cells": [
  {
   "cell_type": "code",
   "execution_count": 1,
   "metadata": {},
   "outputs": [],
   "source": [
    "                                                                        from bs4 import BeautifulSoup\n",
    "import numpy as np\n",
    "import pandas as pd\n",
    "import os\n",
    "import re\n",
    "import html2text\n",
    "import pickle\n",
    "from sec_edgar_downloader import Downloader"
   ]
  },
  {
   "cell_type": "code",
   "execution_count": 2,
   "metadata": {},
   "outputs": [],
   "source": [
    "# Get the most recent filing\n",
    "f = open(\"sec-edgar-filings/AAL/10-K/0001193125-15-061145/filing-details.html\", \"r\")\n",
    "raw_10k = f.read()"
   ]
  },
  {
   "cell_type": "code",
   "execution_count": 3,
   "metadata": {},
   "outputs": [],
   "source": [
    "soup = BeautifulSoup(raw_10k, 'lxml')"
   ]
  },
  {
   "cell_type": "code",
   "execution_count": 4,
   "metadata": {},
   "outputs": [],
   "source": [
    "res = list(soup.find_all('b'))\n",
    "res = [str(x) for x in res]\n",
    "res_str = '\\n'.join(res)"
   ]
  },
  {
   "cell_type": "code",
   "execution_count": 5,
   "metadata": {},
   "outputs": [],
   "source": [
    "matches = re.compile(r'(item\\s(7[\\.\\s]|8(A|)[\\.\\s])|'\n",
    "                             'discussion\\sand\\sanalysis\\sof\\s(consolidated\\sfinancial|financial)\\scondition|'\n",
    "                             '(consolidated\\sfinancial|financial)\\sstatements\\sand\\ssupplementary\\sdata)', re.IGNORECASE)"
   ]
  },
  {
   "cell_type": "code",
   "execution_count": 6,
   "metadata": {},
   "outputs": [
    {
     "data": {
      "text/html": [
       "<div>\n",
       "<style scoped>\n",
       "    .dataframe tbody tr th:only-of-type {\n",
       "        vertical-align: middle;\n",
       "    }\n",
       "\n",
       "    .dataframe tbody tr th {\n",
       "        vertical-align: top;\n",
       "    }\n",
       "\n",
       "    .dataframe thead th {\n",
       "        text-align: right;\n",
       "    }\n",
       "</style>\n",
       "<table border=\"1\" class=\"dataframe\">\n",
       "  <thead>\n",
       "    <tr style=\"text-align: right;\">\n",
       "      <th></th>\n",
       "      <th>0</th>\n",
       "      <th>1</th>\n",
       "    </tr>\n",
       "  </thead>\n",
       "  <tbody>\n",
       "    <tr>\n",
       "      <th>0</th>\n",
       "      <td>ITEM 7.</td>\n",
       "      <td>13992</td>\n",
       "    </tr>\n",
       "    <tr>\n",
       "      <th>1</th>\n",
       "      <td>DISCUSSION AND ANALYSIS OF FINANCIAL CONDITION</td>\n",
       "      <td>14013</td>\n",
       "    </tr>\n",
       "    <tr>\n",
       "      <th>2</th>\n",
       "      <td>ITEM 8A.</td>\n",
       "      <td>21020</td>\n",
       "    </tr>\n",
       "    <tr>\n",
       "      <th>3</th>\n",
       "      <td>CONSOLIDATED FINANCIAL STATEMENTS AND SUPPLEME...</td>\n",
       "      <td>21029</td>\n",
       "    </tr>\n",
       "    <tr>\n",
       "      <th>4</th>\n",
       "      <td>CONSOLIDATED FINANCIAL STATEMENTS AND SUPPLEME...</td>\n",
       "      <td>42175</td>\n",
       "    </tr>\n",
       "  </tbody>\n",
       "</table>\n",
       "</div>"
      ],
      "text/plain": [
       "                                                   0      1\n",
       "0                                            ITEM 7.  13992\n",
       "1     DISCUSSION AND ANALYSIS OF FINANCIAL CONDITION  14013\n",
       "2                                           ITEM 8A.  21020\n",
       "3  CONSOLIDATED FINANCIAL STATEMENTS AND SUPPLEME...  21029\n",
       "4  CONSOLIDATED FINANCIAL STATEMENTS AND SUPPLEME...  42175"
      ]
     },
     "execution_count": 6,
     "metadata": {},
     "output_type": "execute_result"
    }
   ],
   "source": [
    "matches_array = pd.DataFrame([(match.group(), match.start()) for match in matches.finditer(res_str)])\n",
    "matches_array.head()"
   ]
  },
  {
   "cell_type": "code",
   "execution_count": 7,
   "metadata": {},
   "outputs": [],
   "source": [
    "matches = re.compile(r'ITEM', re.IGNORECASE)"
   ]
  },
  {
   "cell_type": "code",
   "execution_count": 8,
   "metadata": {},
   "outputs": [
    {
     "data": {
      "text/html": [
       "<div>\n",
       "<style scoped>\n",
       "    .dataframe tbody tr th:only-of-type {\n",
       "        vertical-align: middle;\n",
       "    }\n",
       "\n",
       "    .dataframe tbody tr th {\n",
       "        vertical-align: top;\n",
       "    }\n",
       "\n",
       "    .dataframe thead th {\n",
       "        text-align: right;\n",
       "    }\n",
       "</style>\n",
       "<table border=\"1\" class=\"dataframe\">\n",
       "  <thead>\n",
       "    <tr style=\"text-align: right;\">\n",
       "      <th></th>\n",
       "      <th>0</th>\n",
       "      <th>1</th>\n",
       "    </tr>\n",
       "  </thead>\n",
       "  <tbody>\n",
       "    <tr>\n",
       "      <th>0</th>\n",
       "      <td>Item</td>\n",
       "      <td>18637</td>\n",
       "    </tr>\n",
       "    <tr>\n",
       "      <th>1</th>\n",
       "      <td>Item</td>\n",
       "      <td>30456</td>\n",
       "    </tr>\n",
       "    <tr>\n",
       "      <th>2</th>\n",
       "      <td>Item</td>\n",
       "      <td>31217</td>\n",
       "    </tr>\n",
       "    <tr>\n",
       "      <th>3</th>\n",
       "      <td>Item</td>\n",
       "      <td>31960</td>\n",
       "    </tr>\n",
       "    <tr>\n",
       "      <th>4</th>\n",
       "      <td>Item</td>\n",
       "      <td>32722</td>\n",
       "    </tr>\n",
       "  </tbody>\n",
       "</table>\n",
       "</div>"
      ],
      "text/plain": [
       "      0      1\n",
       "0  Item  18637\n",
       "1  Item  30456\n",
       "2  Item  31217\n",
       "3  Item  31960\n",
       "4  Item  32722"
      ]
     },
     "execution_count": 8,
     "metadata": {},
     "output_type": "execute_result"
    }
   ],
   "source": [
    "matches_array = pd.DataFrame([(match.group(), match.start()) for match in matches.finditer(raw_10k)])\n",
    "matches_array.head()"
   ]
  },
  {
   "cell_type": "code",
   "execution_count": 9,
   "metadata": {},
   "outputs": [
    {
     "data": {
      "text/plain": [
       "'<html><body><document>\\n<type>10-K\\n<sequence>1\\n<filename>d829913d10k.htm\\n<description>FORM 10-K\\n<text>\\n<title>Form 10-K</title>\\n<h5 align=\"left\"><a href=\"#toc\">Table of Contents</a></h5>\\n<p style=\"line-height:4px;margin-top:0px;margin-bottom:0px;border-bottom:2pt solid #000000\">&#160;</p>\\n<p style=\"line-height:3px;margin-top:0px;margin-bottom:2px;border-bottom:0.5pt solid #000000\">&#160;</p> <p align=\"center\" style=\"margin-top:1px;margin-bottom:0px\"><font size=\"2\" style=\"font-family:Times New Roman\"><b>UNITED STATES SECURITIES AND\\nEXCHANGE COMMISSION </b></font></p> <p align=\"center\" style=\"margin-top:0px;margin-bottom:0px\"><font size=\"2\" style=\"font-family:Times New Roman\"><b>Washington, D.C. 20549 </b></font></p>\\n<p style=\"font-size:1px;margin-top:0px;margin-bottom:0px\">&#160;</p><center> <p style=\"line-height:6px;margin-top:0px;margin-bottom:2px;border-bottom:1pt solid #000000;width:21%\">&#160;</p></center>\\n<p align=\"center\" style=\"margin-top:1px;margin-bottom:0px\"><font size=\"3\" style=\"font-family:Times New Roman\"><b>FORM 10-K </b></font></p> <p style=\"font-size:1px;margin-top:0px;margin-bottom:0px\">&#160;</p><center>\\n<p style=\"line-height:6px;margin-top:0px;margin-bottom:2px;border-bottom:1pt solid #000000;width:21%\">&#160;</p></center> <p style=\"font-size:1px;margin-top:0px;margin-bottom:0px\">&#160;</p>\\n<table border=\"0\" cellpadding=\"0\" cellspacing=\"0\" style=\"BORDER-COLLAPSE:COLLAPSE\" width=\"100%\">\\n<tr>\\n<td align=\"left\" valign=\"top\" width=\"4%\"><font size=\"2\" style=\"font-family:Times New Roman\"><b></b><font style=\"FONT-FAMILY:WINGDINGS\">&#254;</font><b></b><b></b></font></td>\\n<td align=\"left\" valign=\"top\"> <p align=\"justify\"><font size=\"2\" style=\"font-family:Times New Roman\"><b>ANNUAL REPORT PURSUANT TO SECTION&#160;13 OR 15(d) OF THE SECURITIES EXCHANGE ACT OF 1934 </b></font></p></td></tr></table>\\n<p align=\"justify\" style=\"margin-top:0px;margin-bottom:0px; text-indent:4%\"><font size=\"1\" style=\"font-family:Times New Roman\"><b>For the Fiscal Year Ended December&#160;31, 2014 </b></font></p>\\n<p style=\"font-size:1px;margin-top:0px;margin-bottom:0px\">&#160;</p>\\n<table border=\"0\" cellpadding=\"0\" cellspacing=\"0\" style=\"BORDER-COLLAPSE:COLLAPSE\" width=\"100%\">\\n<tr>\\n<td align=\"left\" valign=\"top\" width=\"4%\"><font size=\"2\" style=\"font-family:Times New Roman\"><b></b><font style=\"FONT-FAMILY:WINGDINGS\">&#168;</font><b></b><b></b></font></td>\\n<td align=\"left\" valign=\"top\"> <p align=\"justify\"><font size=\"2\" style=\"font-family:Times New Roman\"><b>TRANSITION REPORT PURSUANT TO SECTION&#160;13 OR 15(d) OF THE SECURITIES EXCHANGE ACT OF 1934 </b></font></p></td></tr></table>\\n<p align=\"justify\" style=\"margin-top:0px;margin-bottom:0px; text-indent:4%\"><font size=\"1\" style=\"font-family:Times New Roman\"><b>For the Transition Period\\nFrom&#160;&#160;&#160;&#160;&#160;&#160;&#160;&#160;&#160;&#160;&#160;&#160;&#160;&#160;&#160;&#160;&#160;&#160;&#160;&#160; to&#160;&#160;&#160;&#160;&#160;&#160;&#160;&#160;&#160;&#160;&#160;&#160;&#160;&#160;&#160;&#160;&#160;&#160;&#160;&#160;\\n</b></font></p> <p align=\"center\" style=\"margin-top:1px;margin-bottom:0px\"><font size=\"1\" style=\"font-family:Times New Roman\">Commission file number 1-8400 </font></p> <p style=\"font-size:1px;margin-top:0px;margin-bottom:0px\">&#160;</p><center>\\n<p style=\"line-height:6px;margin-top:0px;margin-bottom:2px;border-bottom:1pt solid #000000;width:21%\">&#160;</p></center> <p align=\"center\" style=\"margin-top:1px;margin-bottom:0px\"><font size=\"3\" style=\"font-family:Times New Roman\"><b>American\\nAirlines Group Inc. </b></font></p> <p align=\"center\" style=\"margin-top:0px;margin-bottom:0px\"><font size=\"1\" style=\"font-family:Times New Roman\"><i>(Exact name of registrant as specified in its charter) </i></font></p>\\n<p style=\"font-size:1px;margin-top:0px;margin-bottom:0px\">&#160;</p><center> <p style=\"line-height:6px;margin-top:0px;margin-bottom:2px;border-bottom:1pt solid #000000;width:21%\">&#160;</p></center>\\n<p style=\"font-size:1px;margin-top:0px;margin-bottom:0px\">&#160;</p>\\n<table align=\"center\" border=\"0\" cellpadding=\"0\" cellspacing=\"0\" style=\"BORDER-COLLAPSE:COLLAPSE\" width=\"100%\">\\n<tr>\\n<td width=\"50%\"></td>\\n<td valign=\"bottom\" width=\"1%\"></td>\\n<td width=\"48%\"></td></tr>\\n<tr>\\n<td align=\"center\" valign=\"top\"><font size=\"1\" style=\"font-family:Times New Roman\"><b>Delaware</b></font></td>\\n<td valign=\"bottom\"><font size=\"1\">&#160;</font></td>\\n<td align=\"center\" valign=\"top\"><font size=\"1\" style=\"font-family:Times New Roman\"><b>75-1825172</b></font></td></tr>\\n<tr>\\n<td align=\"center\" valign=\"top\"> <p align=\"center\" style=\"margin-top:0px;margin-bottom:0px\"><font size=\"1\" style=\"font-family:Times New Roman\"><i>(State or other jurisdiction of</i></font></p>\\n<p align=\"center\" style=\"margin-top:0px;margin-bottom:1px\"><font size=\"1\" style=\"font-family:Times New Roman\"><i>incorporation or organization)</i></font></p></td>\\n<td valign=\"bottom\"><font size=\"1\">&#160;</font></td>\\n<td align=\"center\" valign=\"top\"> <p align=\"center\" style=\"margin-top:0px;margin-bottom:0px\"><font size=\"'"
      ]
     },
     "execution_count": 9,
     "metadata": {},
     "output_type": "execute_result"
    }
   ],
   "source": [
    "raw_10k[:5000]"
   ]
  },
  {
   "cell_type": "code",
   "execution_count": 10,
   "metadata": {},
   "outputs": [
    {
     "data": {
      "text/plain": [
       "[<re.Match object; span=(37293, 37339), match='Discussion and Analysis of Financial Condition'>,\n",
       " <re.Match object; span=(38888, 38944), match='Consolidated Financial Statements and Supplementa>,\n",
       " <re.Match object; span=(39715, 39771), match='Consolidated Financial Statements and Supplementa>,\n",
       " <re.Match object; span=(58563, 58609), match='Discussion and Analysis of Financial Condition'>,\n",
       " <re.Match object; span=(68365, 68411), match='Discussion and Analysis of Financial Condition'>,\n",
       " <re.Match object; span=(70730, 70776), match='Discussion and Analysis of Financial Condition'>,\n",
       " <re.Match object; span=(70893, 70939), match='Discussion and Analysis of Financial Condition'>,\n",
       " <re.Match object; span=(74080, 74126), match='Discussion and Analysis of Financial Condition'>,\n",
       " <re.Match object; span=(218373, 218419), match='Discussion and Analysis of Financial Condition'>,\n",
       " <re.Match object; span=(315947, 315993), match='Discussion and Analysis of Financial Condition'>,\n",
       " <re.Match object; span=(575074, 575120), match='Discussion and Analysis of Financial Condition'>,\n",
       " <re.Match object; span=(647874, 647920), match='Discussion and Analysis of Financial Condition'>,\n",
       " <re.Match object; span=(685387, 685413), match='items consisted of a $538 '>,\n",
       " <re.Match object; span=(722980, 723026), match='Discussion\\nand Analysis of Financial Condition'>,\n",
       " <re.Match object; span=(723680, 723726), match='DISCUSSION AND ANALYSIS OF FINANCIAL CONDITION'>,\n",
       " <re.Match object; span=(760153, 760199), match='Discussion and Analysis of Financial Condition'>,\n",
       " <re.Match object; span=(762700, 762746), match='Discussion and Analysis of Financial Condition'>,\n",
       " <re.Match object; span=(1519457, 1519503), match='Discussion and Analysis of Financial Condition'>,\n",
       " <re.Match object; span=(1614443, 1614499), match='CONSOLIDATED FINANCIAL STATEMENTS AND SUPPLEMENTA>,\n",
       " <re.Match object; span=(3215499, 3215555), match='CONSOLIDATED FINANCIAL STATEMENTS AND SUPPLEMENTA>]"
      ]
     },
     "execution_count": 10,
     "metadata": {},
     "output_type": "execute_result"
    }
   ],
   "source": [
    "matches = re.finditer(r'(item.{20}(7[\\.\\s]|8(A|)[\\.\\s])|'\n",
    "                             'discussion\\sand\\sanalysis\\sof\\s(consolidated\\sfinancial|financial)\\scondition|'\n",
    "                             '(consolidated\\sfinancial|financial)\\sstatements\\sand\\ssupplementary\\sdata)', raw_10k, re.IGNORECASE)\n",
    "locations = [x for x in matches]\n",
    "locations"
   ]
  },
  {
   "cell_type": "code",
   "execution_count": 11,
   "metadata": {},
   "outputs": [
    {
     "data": {
      "text/plain": [
       "[<re.Match object; span=(723646, 723672), match='/a>ITEM&#160;7. MANAGEMENT'>]"
      ]
     },
     "execution_count": 11,
     "metadata": {},
     "output_type": "execute_result"
    }
   ],
   "source": [
    "matches = re.finditer('..>ITEM.{1,10}7[^a-zA-Z]{1,10}management', raw_10k, re.IGNORECASE)\n",
    "locations = [x for x in matches]\n",
    "locations[:3]"
   ]
  },
  {
   "cell_type": "code",
   "execution_count": 12,
   "metadata": {},
   "outputs": [
    {
     "data": {
      "text/plain": [
       "[<re.Match object; span=(1614421, 1614455), match='/a>ITEM&#160;8A.&#160;CONSOLIDATED'>]"
      ]
     },
     "execution_count": 12,
     "metadata": {},
     "output_type": "execute_result"
    }
   ],
   "source": [
    "matches = re.finditer('..>ITEM.{1,10}8(|A)[^a-zA-Z]{1,10}(consolidated|financial)', raw_10k, re.IGNORECASE)\n",
    "locations = [x for x in matches]\n",
    "locations[:3]"
   ]
  },
  {
   "cell_type": "code",
   "execution_count": 13,
   "metadata": {},
   "outputs": [
    {
     "name": "stdout",
     "output_type": "stream",
     "text": [
      "0000004515-08-000014\n",
      "[<re.Match object; span=(723646, 723672), match='/a>ITEM&#160;7. MANAGEMENT'>]\n",
      "[<re.Match object; span=(1614421, 1614455), match='/a>ITEM&#160;8A.&#160;CONSOLIDATED'>]\n",
      "\n",
      "\n",
      "0000006201-20-000023\n",
      "[<re.Match object; span=(723646, 723672), match='/a>ITEM&#160;7. MANAGEMENT'>]\n",
      "[<re.Match object; span=(1614421, 1614455), match='/a>ITEM&#160;8A.&#160;CONSOLIDATED'>]\n",
      "\n",
      "\n",
      "0000950134-06-003715\n",
      "[<re.Match object; span=(723646, 723672), match='/a>ITEM&#160;7. MANAGEMENT'>]\n",
      "[<re.Match object; span=(1614421, 1614455), match='/a>ITEM&#160;8A.&#160;CONSOLIDATED'>]\n",
      "\n",
      "\n",
      "0001047469-03-013301\n",
      "[<re.Match object; span=(723646, 723672), match='/a>ITEM&#160;7. MANAGEMENT'>]\n",
      "[<re.Match object; span=(1614421, 1614455), match='/a>ITEM&#160;8A.&#160;CONSOLIDATED'>]\n",
      "\n",
      "\n",
      "0000950134-05-003726\n",
      "[<re.Match object; span=(723646, 723672), match='/a>ITEM&#160;7. MANAGEMENT'>]\n",
      "[<re.Match object; span=(1614421, 1614455), match='/a>ITEM&#160;8A.&#160;CONSOLIDATED'>]\n",
      "\n",
      "\n",
      "0000950134-04-002668\n",
      "[<re.Match object; span=(723646, 723672), match='/a>ITEM&#160;7. MANAGEMENT'>]\n",
      "[<re.Match object; span=(1614421, 1614455), match='/a>ITEM&#160;8A.&#160;CONSOLIDATED'>]\n",
      "\n",
      "\n",
      "0000006201-10-000006\n",
      "[<re.Match object; span=(723646, 723672), match='/a>ITEM&#160;7. MANAGEMENT'>]\n",
      "[<re.Match object; span=(1614421, 1614455), match='/a>ITEM&#160;8A.&#160;CONSOLIDATED'>]\n",
      "\n",
      "\n",
      "0000950123-11-014726\n",
      "[<re.Match object; span=(723646, 723672), match='/a>ITEM&#160;7. MANAGEMENT'>]\n",
      "[<re.Match object; span=(1614421, 1614455), match='/a>ITEM&#160;8A.&#160;CONSOLIDATED'>]\n",
      "\n",
      "\n",
      "0000006201-18-000009\n",
      "[<re.Match object; span=(723646, 723672), match='/a>ITEM&#160;7. MANAGEMENT'>]\n",
      "[<re.Match object; span=(1614421, 1614455), match='/a>ITEM&#160;8A.&#160;CONSOLIDATED'>]\n",
      "\n",
      "\n",
      "0001193125-15-061145\n",
      "[<re.Match object; span=(723646, 723672), match='/a>ITEM&#160;7. MANAGEMENT'>]\n",
      "[<re.Match object; span=(1614421, 1614455), match='/a>ITEM&#160;8A.&#160;CONSOLIDATED'>]\n",
      "\n",
      "\n",
      "0001193125-12-063516\n",
      "[<re.Match object; span=(723646, 723672), match='/a>ITEM&#160;7. MANAGEMENT'>]\n",
      "[<re.Match object; span=(1614421, 1614455), match='/a>ITEM&#160;8A.&#160;CONSOLIDATED'>]\n",
      "\n",
      "\n",
      "0000006201-21-000014\n",
      "[<re.Match object; span=(723646, 723672), match='/a>ITEM&#160;7. MANAGEMENT'>]\n",
      "[<re.Match object; span=(1614421, 1614455), match='/a>ITEM&#160;8A.&#160;CONSOLIDATED'>]\n",
      "\n",
      "\n",
      "0001193125-16-474605\n",
      "[<re.Match object; span=(723646, 723672), match='/a>ITEM&#160;7. MANAGEMENT'>]\n",
      "[<re.Match object; span=(1614421, 1614455), match='/a>ITEM&#160;8A.&#160;CONSOLIDATED'>]\n",
      "\n",
      "\n",
      "0000006201-14-000004\n",
      "[<re.Match object; span=(723646, 723672), match='/a>ITEM&#160;7. MANAGEMENT'>]\n",
      "[<re.Match object; span=(1614421, 1614455), match='/a>ITEM&#160;8A.&#160;CONSOLIDATED'>]\n",
      "\n",
      "\n",
      "0000950134-07-003888\n",
      "[<re.Match object; span=(723646, 723672), match='/a>ITEM&#160;7. MANAGEMENT'>]\n",
      "[<re.Match object; span=(1614421, 1614455), match='/a>ITEM&#160;8A.&#160;CONSOLIDATED'>]\n",
      "\n",
      "\n",
      "0000006201-19-000009\n",
      "[<re.Match object; span=(723646, 723672), match='/a>ITEM&#160;7. MANAGEMENT'>]\n",
      "[<re.Match object; span=(1614421, 1614455), match='/a>ITEM&#160;8A.&#160;CONSOLIDATED'>]\n",
      "\n",
      "\n",
      "0000006201-09-000009\n",
      "[<re.Match object; span=(723646, 723672), match='/a>ITEM&#160;7. MANAGEMENT'>]\n",
      "[<re.Match object; span=(1614421, 1614455), match='/a>ITEM&#160;8A.&#160;CONSOLIDATED'>]\n",
      "\n",
      "\n",
      "0000006201-13-000023\n",
      "[<re.Match object; span=(723646, 723672), match='/a>ITEM&#160;7. MANAGEMENT'>]\n",
      "[<re.Match object; span=(1614421, 1614455), match='/a>ITEM&#160;8A.&#160;CONSOLIDATED'>]\n",
      "\n",
      "\n",
      "0001193125-17-051216\n",
      "[<re.Match object; span=(723646, 723672), match='/a>ITEM&#160;7. MANAGEMENT'>]\n",
      "[<re.Match object; span=(1614421, 1614455), match='/a>ITEM&#160;8A.&#160;CONSOLIDATED'>]\n",
      "\n",
      "\n"
     ]
    }
   ],
   "source": [
    "# Check each filing to make sure there's a match\n",
    "for filing in os.listdir(\"sec-edgar-filings/AAL/10-K/\"):\n",
    "    \n",
    "    locs = []\n",
    "    \n",
    "    if filing == '.DS_Store':\n",
    "        continue\n",
    "        \n",
    "    print(filing)\n",
    "    matches = re.finditer('..>ITEM.{1,10}7[^a-zA-Z]{1,10}management', raw_10k, re.IGNORECASE)\n",
    "    print([x for x in matches])\n",
    "    \n",
    "    matches = re.finditer('..>ITEM.{1,10}8(|A)[^a-zA-Z]{1,10}(consolidated|financial)', raw_10k, re.IGNORECASE)\n",
    "    print([x for x in matches])\n",
    "    print('\\n')"
   ]
  },
  {
   "cell_type": "code",
   "execution_count": 14,
   "metadata": {},
   "outputs": [],
   "source": [
    "# Do the same for all files\n",
    "companies = os.listdir(\"sec-edgar-filings/\")\n",
    "companies = [x for x in companies if x != 'AAL' and x != '.DS_Store']\n",
    "\n",
    "for company in companies:\n",
    "    \n",
    "    logstr = ''\n",
    "    \n",
    "    if company == '.DS_Store' or company == 'AAL':\n",
    "        continue\n",
    "        \n",
    "    pulls = os.listdir(\"sec-edgar-filings/\"+company+\"/10-K/\")\n",
    "    \n",
    "    a = pd.DataFrame()\n",
    "    \n",
    "    \n",
    "    for year in pulls:\n",
    "        if year == '.DS_Store':\n",
    "            continue\n",
    "        #print(year)\n",
    "\n",
    "        try:\n",
    "            f = open(\"sec-edgar-filings/\"+company+\"/10-K/\"+year+\"/filing-details.html\", \"r\")\n",
    "        except:\n",
    "            f = open(\"sec-edgar-filings/\"+company+\"/10-K/\"+year+\"/filing-details.txt\", \"r\")\n",
    "        raw_10k = f.read()\n",
    "        \n",
    "        matches1 = re.finditer(r\"(?s).>IT.{0,20}EM.{1,20}7[^A].{1,400}MANAGEMENT\", raw_10k)#, re.IGNORECASE)\n",
    "        matches2 = re.finditer(r\"(?s).>IT.{0,20}EM.{1,20}8(|A).{1,400}(CONSOLIDATED|FINANCIAL)\", raw_10k)#, re.IGNORECASE)\n",
    "        \n",
    "        logstr += year + '\\n'\n",
    "        logstr += str([x for x in matches1])+ '\\n'\n",
    "        logstr += str([x for x in matches2])+ '\\n'\n",
    "        logstr += '\\n'\n",
    "        \n",
    "    print(logstr, file=open(\"logs/\"+company+\".txt\", \"w\"))"
   ]
  },
  {
   "cell_type": "code",
   "execution_count": 103,
   "metadata": {},
   "outputs": [
    {
     "data": {
      "text/plain": [
       "['0000912057-02-012933']"
      ]
     },
     "execution_count": 103,
     "metadata": {},
     "output_type": "execute_result"
    }
   ],
   "source": [
    "pulls"
   ]
  },
  {
   "cell_type": "code",
   "execution_count": 104,
   "metadata": {},
   "outputs": [
    {
     "data": {
      "text/plain": [
       "['0000912057-02-012933']"
      ]
     },
     "execution_count": 104,
     "metadata": {},
     "output_type": "execute_result"
    }
   ],
   "source": [
    "os.listdir(\"sec-edgar-filings/\"+company+\"/10-K/\")"
   ]
  },
  {
   "cell_type": "markdown",
   "metadata": {},
   "source": [
    "# Debug"
   ]
  },
  {
   "cell_type": "code",
   "execution_count": 19,
   "metadata": {},
   "outputs": [],
   "source": [
    "company = '0001362468'\n",
    "year = '0001047469-10-001935'\n",
    "\n",
    "f = open(\"sec-edgar-filings/\"+company+\"/10-K/\"+year+\"/filing-details.html\", \"r\")\n",
    "raw_10k = str(f.read())"
   ]
  },
  {
   "cell_type": "code",
   "execution_count": 24,
   "metadata": {},
   "outputs": [
    {
     "name": "stdout",
     "output_type": "stream",
     "text": [
      "[<re.Match object; span=(23925, 24321), match='_item_7._management_s_discussio__ite03668\"><p sty>, <re.Match object; span=(24644, 25008), match='_item_7._management_s_discussio__ite03668\"><font >, <re.Match object; span=(372072, 372350), match='_item_7._management_s_discussio__ite03668\"> </a>\\>, <re.Match object; span=(576697, 577074), match='with the remaining 17 aircraft owned free and cle>]\n"
     ]
    }
   ],
   "source": [
    "matches1 = re.finditer(r\"(?s).IT.{0,20}EM.{1,20}7[^a].{1,400}m\", raw_10k, re.IGNORECASE)\n",
    "a = [x for x in matches1]\n",
    "print(a)"
   ]
  },
  {
   "cell_type": "code",
   "execution_count": 25,
   "metadata": {},
   "outputs": [
    {
     "data": {
      "text/plain": [
       "[23925, 24644, 372072, 576697]"
      ]
     },
     "execution_count": 25,
     "metadata": {},
     "output_type": "execute_result"
    }
   ],
   "source": [
    "locs = [x.start() for x in a]\n",
    "locs"
   ]
  },
  {
   "cell_type": "code",
   "execution_count": 190,
   "metadata": {},
   "outputs": [
    {
     "data": {
      "text/plain": [
       "'e document<br/>\\n<a href=\"#bg41401_table_of_contents\">  TABLE OF CONTENTS</a> <br/>\\n<a href=\"#dm41401_item_7a._quantitative_and_qual__ite02669\">  Item 7A. Quantitative and Qualitative Disclosures about'"
      ]
     },
     "execution_count": 190,
     "metadata": {},
     "output_type": "execute_result"
    }
   ],
   "source": [
    "raw_10k[locs[0]-100:locs[0]+100]"
   ]
  },
  {
   "cell_type": "code",
   "execution_count": 180,
   "metadata": {},
   "outputs": [
    {
     "name": "stdout",
     "output_type": "stream",
     "text": [
      "[]\n"
     ]
    }
   ],
   "source": [
    "matches2 = re.finditer('(?s).>IT.{0,20}EM.{1,20}8(|A).{1,400}FINANCIAL', raw_10k, re.IGNORECASE)\n",
    "b = [x for x in matches2]\n",
    "print(b)"
   ]
  },
  {
   "cell_type": "code",
   "execution_count": 168,
   "metadata": {},
   "outputs": [
    {
     "data": {
      "text/plain": [
       "[40459]"
      ]
     },
     "execution_count": 168,
     "metadata": {},
     "output_type": "execute_result"
    }
   ],
   "source": [
    "locs = [x.start() for x in b]\n",
    "locs"
   ]
  },
  {
   "cell_type": "code",
   "execution_count": 172,
   "metadata": {},
   "outputs": [
    {
     "data": {
      "text/plain": [
       "'p style=\"margin-bottom:0pt;margin-top:0pt;margin-left:10pt;;text-indent:-10pt;;font-size:10pt;font-family:Times New Roman;font-weight:normal;font-style:normal;text-transform:none;font-variant: normal;\">Item&#160;8.&#160;</p></td>\\n<td style=\"padding-left:0pt;padding-Right:0pt;padding-Top:0pt;padding-Bottom:0pt;width:79.34%;\" valign=\"bottom\">\\n<p style=\"margin-bottom:0pt;margin-top:0pt;margin-left:0pt;;text-indent:0pt;;font-size:10pt;font-family:Times New Roman;font-weight:normal;font-style:normal;text-transform:none;font-variant: normal;\"><a href=\"#ITEM8_FINANCIAL_STATEMENTS\"><font style=\"text-d'"
      ]
     },
     "execution_count": 172,
     "metadata": {},
     "output_type": "execute_result"
    }
   ],
   "source": [
    "raw_10k[locs[0]-200:locs[0]+400]"
   ]
  },
  {
   "cell_type": "code",
   "execution_count": null,
   "metadata": {},
   "outputs": [],
   "source": []
  },
  {
   "cell_type": "code",
   "execution_count": 242,
   "metadata": {},
   "outputs": [],
   "source": [
    "# coding=utf8\n",
    "# the above tag defines encoding for this document and is for Python 2.x compatibility\n",
    "\n",
    "import re\n",
    "\n",
    "regex = r\".>ITEM.{1,20}7.*(?<=MANAGEMENT)\"\n",
    "\n",
    "test_str = \"'font style=\\\"DISPLAY: inline; FONT-FAMILY: times new roman; FONT-SIZE: 10pt\\\">&#160;&#160;<a href=\\\"#mda\\\">ITEM&#160;7.</a></font></div>\\\\n</td>\\\\n<td align=\\\"left\\\" colspan=\\\"3\\\" valign=\\\"top\\\" width=\\\"83%\\\">\\\\n<div align=\\\"left\\\" style=\\\"TEXT-INDENT: 0pt; DISPLAY: block; MARGIN-LEFT: 18pt; MARGIN-RIGHT: 0pt\\\"><font style=\\\"DISPLAY: inline; FONT-FAMILY: times new roman; FONT-SIZE: 10pt\\\"><a href=\\\"#mda\\\">MANAGEMENT&#8217;'\"\n",
    "\n",
    "matches = re.finditer(regex, raw_10k, re.MULTILINE)\n",
    "\n",
    "for matchNum, match in enumerate(matches, start=1):\n",
    "    \n",
    "    print (\"Match {matchNum} was found at {start}-{end}: {match}\".format(matchNum = matchNum, start = match.start(), end = match.end(), match = match.group()))\n",
    "    \n",
    "    for groupNum in range(0, len(match.groups())):\n",
    "        groupNum = groupNum + 1\n",
    "        \n",
    "        print (\"Group {groupNum} found at {start}-{end}: {group}\".format(groupNum = groupNum, start = match.start(groupNum), end = match.end(groupNum), group = match.group(groupNum)))\n",
    "\n",
    "# Note: for Python 2.7 compatibility, use ur\"\" to prefix the regex and u\"\" to prefix the test string and substitution."
   ]
  },
  {
   "cell_type": "markdown",
   "metadata": {},
   "source": [
    "# Go the Other Way\n",
    "\n",
    "We have now built upwards, but some matches are too general and catch too many exceptions. Now, we must work backwards to find out why this is the case and see what we can do about it"
   ]
  },
  {
   "cell_type": "code",
   "execution_count": 105,
   "metadata": {},
   "outputs": [
    {
     "name": "stdout",
     "output_type": "stream",
     "text": [
      "matches1 0000100517 0001104659-07-019919\n",
      "\n",
      "matches1 0000100517 0000100517-01-500026\n",
      "\n",
      "matches1 0000101001 0000101001-01-500005\n",
      "\n",
      "matches1 0000101001 0000100517-03-000009\n",
      "\n",
      "matches1 0001144331 0000950129-03-000862\n",
      "\n",
      "matches2 0001144331 0000950129-03-000862\n",
      "\n",
      "matches1 0001166291 0001166291-12-000037\n",
      "\n",
      "matches1 0001166291 0001166291-08-000015\n",
      "\n",
      "matches2 0001166291 0001166291-08-000015\n",
      "\n",
      "matches1 0001166291 0000950144-07-001984\n",
      "\n",
      "matches2 0001166291 0000950144-07-001984\n",
      "\n",
      "matches1 0001166291 0001166291-11-000008\n",
      "\n",
      "matches1 0001166291 0000950144-05-002499\n",
      "\n",
      "matches1 0001166291 0000950144-06-001796\n",
      "\n",
      "matches2 0001166291 0000950144-06-001796\n",
      "\n",
      "matches1 0001166291 0001166291-10-000010\n",
      "\n",
      "matches2 0000714560 0000950153-08-000353\n",
      "\n",
      "matches2 0000714560 0000950134-09-003177\n",
      "\n",
      "matches2 0000714560 0000950123-11-017132\n",
      "\n",
      "matches2 0000714560 0000950153-07-000433\n",
      "\n",
      "matches2 0000714560 0000950124-06-001200\n",
      "\n",
      "matches2 0000714560 0000950123-10-013709\n",
      "\n",
      "matches2 0000714560 0000950123-12-002888\n",
      "\n",
      "matches1 0000027904 0000950144-04-002423\n",
      "\n",
      "matches1 0000027904 0000950144-06-002765\n",
      "\n",
      "matches1 0000027904 0000950144-05-002298\n",
      "\n",
      "matches1 0000706270 0000950153-04-000491\n",
      "\n",
      "matches2 0000706270 0000950153-04-000491\n",
      "\n",
      "matches1 0000706270 0000950153-03-000613\n",
      "\n",
      "matches2 0000706270 0000950153-03-000613\n",
      "\n",
      "matches2 0000706270 0000950153-07-000433\n",
      "\n",
      "matches2 0000706270 0000950124-06-001200\n",
      "\n",
      "matches2 0000706270 0000950153-05-000517\n",
      "\n",
      "matches1 0000810332 0000950153-03-002559\n",
      "\n",
      "matches2 0000810332 0000950153-03-002559\n",
      "\n",
      "matches1 0000810332 0000950153-01-501504\n",
      "\n",
      "matches2 0000810332 0000950153-01-501504\n",
      "\n",
      "matches1 0000810332 0000950153-02-002178\n",
      "\n",
      "matches2 0000810332 0000950153-02-002178\n",
      "\n",
      "matches1 0000810332 0000950124-04-006216\n",
      "\n",
      "matches1 0001029863 0000950153-04-000491\n",
      "\n",
      "matches2 0001029863 0000950153-04-000491\n",
      "\n",
      "matches1 0001029863 0000950153-03-000613\n",
      "\n",
      "matches2 0001029863 0000950153-03-000613\n",
      "\n",
      "matches2 0001029863 0000950153-05-000517\n",
      "\n",
      "matches1 0000003202 0000891020-04-000326\n",
      "\n",
      "matches1 0000003202 0000891020-03-001023\n",
      "\n",
      "matches2 0000701345 0000950153-08-000353\n",
      "\n",
      "matches2 0000701345 0000950134-09-003177\n",
      "\n",
      "matches2 0000701345 0000950123-11-017132\n",
      "\n",
      "matches2 0000701345 0000950153-07-000433\n",
      "\n",
      "matches2 0000701345 0000950124-06-001200\n",
      "\n",
      "matches2 0000701345 0000950123-10-013709\n",
      "\n",
      "matches2 0000701345 0000950123-12-002888\n",
      "\n",
      "matches2 0000046205 0000912057-02-012933\n",
      "\n"
     ]
    }
   ],
   "source": [
    "# Do the same for all files\n",
    "companies = os.listdir(\"sec-edgar-filings/\")\n",
    "companies = [x for x in companies if x != 'AAL' and x != '.DS_Store']\n",
    "\n",
    "for company in companies:\n",
    "    \n",
    "    logstr = ''\n",
    "    \n",
    "    if company == '.DS_Store' or company == 'AAL':\n",
    "        continue\n",
    "        \n",
    "    pulls = os.listdir(\"sec-edgar-filings/\"+company+\"/10-K/\")\n",
    "    \n",
    "    a = pd.DataFrame()\n",
    "    \n",
    "    \n",
    "    for year in pulls:\n",
    "        if year == '.DS_Store':\n",
    "            continue\n",
    "        #print(year)\n",
    "\n",
    "        try:\n",
    "            f = open(\"sec-edgar-filings/\"+company+\"/10-K/\"+year+\"/filing-details.html\", \"r\")\n",
    "        except:\n",
    "            continue\n",
    "            #f = open(\"sec-edgar-filings/\"+company+\"/10-K/\"+year+\"/filing-details.txt\", \"r\")\n",
    "        raw_10k = f.read()\n",
    "        \n",
    "        matches1 = re.finditer(r\"(?s).>IT.{0,20}EM.{1,20}7.{1,400}MANAGEMENT.{60,100}\\n\", raw_10k, re.IGNORECASE)\n",
    "        matches2 = re.finditer(r\"(?s).>IT.{0,20}EM.{1,20}8(|A).{1,400}(CONSOLIDATED|FINANCIAL).{60,100}\\n\", raw_10k, re.IGNORECASE)\n",
    "        \n",
    "        list_matches1 = [x for x in matches1]\n",
    "        list_matches2 = [x for x in matches2]\n",
    "        \n",
    "        logstr += year + '\\n'\n",
    "        logstr += str(list_matches1)+ '\\n'\n",
    "        logstr += str(list_matches2)+ '\\n'\n",
    "        logstr += '\\n'\n",
    "        \n",
    "#         if len(list_matches1) == 0:\n",
    "#             print('matches1 '+company+' '+year+'\\n')\n",
    "            \n",
    "#         if len(list_matches1) == 0:\n",
    "#             print('matches2 '+company+' '+year+'\\n')\n",
    "            \n",
    "        if len(list_matches1) > 2:\n",
    "            print('matches1 '+company+' '+year+'\\n')\n",
    "            \n",
    "        if len(list_matches2) > 2:\n",
    "            print('matches2 '+company+' '+year+'\\n')\n",
    "        \n",
    "    #print(logstr, file=open(\"logs/\"+company+\".txt\", \"w\"))"
   ]
  },
  {
   "cell_type": "markdown",
   "metadata": {},
   "source": [
    "# Debug"
   ]
  },
  {
   "cell_type": "code",
   "execution_count": 10,
   "metadata": {},
   "outputs": [],
   "source": [
    "company = '0000101001'\n",
    "year = '0000101001-01-500005'\n",
    "\n",
    "f = open(\"sec-edgar-filings/\"+company+\"/10-K/\"+year+\"/filing-details.html\", \"r\")\n",
    "raw_10k = str(f.read())"
   ]
  },
  {
   "cell_type": "code",
   "execution_count": 11,
   "metadata": {},
   "outputs": [
    {
     "name": "stdout",
     "output_type": "stream",
     "text": [
      "[<re.Match object; span=(79707, 79892), match=\"b>Item 7.</b>&#160;&#160; Management's Discussion>]\n"
     ]
    }
   ],
   "source": [
    "matches1 = re.finditer(r\"(?s).>IT.{0,20}EM.{1,20}7[^A].{1,400}MANAGEMENT.{105,150}\\n\", raw_10k, re.IGNORECASE)\n",
    "a = [x for x in matches1]\n",
    "print(a)"
   ]
  },
  {
   "cell_type": "code",
   "execution_count": 12,
   "metadata": {},
   "outputs": [
    {
     "data": {
      "text/plain": [
       "1"
      ]
     },
     "execution_count": 12,
     "metadata": {},
     "output_type": "execute_result"
    }
   ],
   "source": [
    "len(a)"
   ]
  },
  {
   "cell_type": "code",
   "execution_count": 13,
   "metadata": {},
   "outputs": [
    {
     "data": {
      "text/plain": [
       "[79707]"
      ]
     },
     "execution_count": 13,
     "metadata": {},
     "output_type": "execute_result"
    }
   ],
   "source": [
    "locs = [x.start() for x in a]\n",
    "locs"
   ]
  },
  {
   "cell_type": "code",
   "execution_count": 124,
   "metadata": {},
   "outputs": [
    {
     "data": {
      "text/plain": [
       "'n=\"TOP\" width=\"12%\">\\n<div align=\"right\"><font size=\"-1\">59.0&#160;</font></div>\\n</td>\\n<td valign=\"TOP\" width=\"12%\">\\n<div align=\"right\"><font size=\"-1\">69.5&#160;</font></div>\\n</td>\\n<td valign=\"TOP\" width=\"12%\">\\n<div align=\"right\"><font size=\"-1\">72.2&#160;</font></div>\\n</td>\\n</tr>\\n<tr>\\n<td valign=\"TOP\" width=\"42%\"><font size=\"-1\">&#160;</font></td>\\n<td valign=\"TOP\" width=\"12%\">&#160;</td>\\n<td valign=\"TOP\" width=\"12%\">&#160;</td>\\n<td valign=\"TOP\" width=\"12%\">&#160;</td>\\n<td valign=\"TOP\" width=\"12%\">&#160;</td>\\n<td valign=\"TOP\" width=\"12%\">&#160;</td>\\n</tr>\\n</table>\\n<p><sup>1 </sup><font size=\"-1\">The pro forma income statement amounts reflect\\nadjustments to the historical income statement data assuming the Company\\nhad adopted the provisions of Staff Accounting Bulletin 101 (\"SAB 101\")\\nin prior periods.&#160; (See Note 1i \"Summary of Significant Accounting\\nPolicies - Mileage Plus Awards\" in the <u>Notes to Consolidated Financial\\nStatements</u>.)</font>\\n<br/>&#160;\\n<br/>&#160;\\n</p><p><u><b>Item 7.</b>&#160;&#160; Management\\'s Discussion and Analysis of\\nFinancial Condition and</u>\\n</p><p><u>&#160;&#160;&#160;&#160;&#160;&#160;&#160;&#160;&#160; Results of\\nOperations</u>\\n<br/>&#160;\\n<br/>&#160;\\n</p><p><font size=\"-1\">&#160;&#160;&#160; This section contains various forward-looking\\nstatements within the meaning of Section 27A of the Securities Act of 1933,\\nas amended, and Section 21E of the Securities Exchange Act of 1934, as\\namended, which are identified with an asterisk (*).&#160; Forward-looking\\nstatements represent the Company\\'s expectations and beliefs concerning\\nfuture events, based on information available to the Company on the date\\nof the filing of this Form 10K.&#160; The Company undertakes no obligation\\nto publicly update or revise any forward-looking statements, whether as\\na result of new information, future events or otherwise.&#160; Factors\\nthat could significantly impact the expected results referenced in the\\nforward-looking statements are listed in the last'"
      ]
     },
     "execution_count": 124,
     "metadata": {},
     "output_type": "execute_result"
    }
   ],
   "source": [
    "idx = 0\n",
    "raw_10k[locs[idx]-1000:locs[idx]+1000]"
   ]
  },
  {
   "cell_type": "code",
   "execution_count": 100,
   "metadata": {},
   "outputs": [
    {
     "name": "stdout",
     "output_type": "stream",
     "text": [
      "[<re.Match object; span=(159304, 159648), match='u>Item 8.&#160; Financial Statements and Suppleme>]\n"
     ]
    }
   ],
   "source": [
    "matches2 = re.finditer('(?s).>IT.{0,20}EM.{1,20}8(|A).{1,400}FINANCIAL', raw_10k, re.IGNORECASE)\n",
    "b = [x for x in matches2]\n",
    "print(b)"
   ]
  },
  {
   "cell_type": "code",
   "execution_count": 168,
   "metadata": {},
   "outputs": [
    {
     "data": {
      "text/plain": [
       "[40459]"
      ]
     },
     "execution_count": 168,
     "metadata": {},
     "output_type": "execute_result"
    }
   ],
   "source": [
    "locs = [x.start() for x in b]\n",
    "locs"
   ]
  },
  {
   "cell_type": "code",
   "execution_count": 172,
   "metadata": {},
   "outputs": [
    {
     "data": {
      "text/plain": [
       "'p style=\"margin-bottom:0pt;margin-top:0pt;margin-left:10pt;;text-indent:-10pt;;font-size:10pt;font-family:Times New Roman;font-weight:normal;font-style:normal;text-transform:none;font-variant: normal;\">Item&#160;8.&#160;</p></td>\\n<td style=\"padding-left:0pt;padding-Right:0pt;padding-Top:0pt;padding-Bottom:0pt;width:79.34%;\" valign=\"bottom\">\\n<p style=\"margin-bottom:0pt;margin-top:0pt;margin-left:0pt;;text-indent:0pt;;font-size:10pt;font-family:Times New Roman;font-weight:normal;font-style:normal;text-transform:none;font-variant: normal;\"><a href=\"#ITEM8_FINANCIAL_STATEMENTS\"><font style=\"text-d'"
      ]
     },
     "execution_count": 172,
     "metadata": {},
     "output_type": "execute_result"
    }
   ],
   "source": [
    "raw_10k[locs[0]-200:locs[0]+400]"
   ]
  },
  {
   "cell_type": "code",
   "execution_count": 80,
   "metadata": {},
   "outputs": [
    {
     "data": {
      "text/plain": [
       "85"
      ]
     },
     "execution_count": 80,
     "metadata": {},
     "output_type": "execute_result"
    }
   ],
   "source": [
    "len('MANAGEMENT\\'S DISCUSSION AND ANALYSIS OF FINANCIAL CONDITION\\nAND RESULTS OF OPERATIONS')"
   ]
  },
  {
   "cell_type": "code",
   "execution_count": null,
   "metadata": {},
   "outputs": [],
   "source": []
  }
 ],
 "metadata": {
  "kernelspec": {
   "display_name": "Python 3",
   "language": "python",
   "name": "python3"
  },
  "language_info": {
   "codemirror_mode": {
    "name": "ipython",
    "version": 3
   },
   "file_extension": ".py",
   "mimetype": "text/x-python",
   "name": "python",
   "nbconvert_exporter": "python",
   "pygments_lexer": "ipython3",
   "version": "3.7.4"
  }
 },
 "nbformat": 4,
 "nbformat_minor": 2
}
