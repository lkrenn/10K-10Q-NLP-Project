{
 "cells": [
  {
   "cell_type": "code",
   "execution_count": 22,
   "metadata": {},
   "outputs": [],
   "source": [
    "from bs4 import BeautifulSoup\n",
    "import numpy as np\n",
    "import pandas as pd\n",
    "import os\n",
    "import re\n",
    "import html2text\n",
    "import pickle\n",
    "from sec_edgar_downloader import Downloader"
   ]
  },
  {
   "attachments": {},
   "cell_type": "markdown",
   "metadata": {},
   "source": [
    "First, let's take a look at which stocks in particular we need to parse. To be clear, not all companies that reported are publicly traded, so there is no point in doing more work than necessary for this case. We know that only the following CIKs have associated stock prices:"
   ]
  },
  {
   "cell_type": "code",
   "execution_count": 23,
   "metadata": {},
   "outputs": [],
   "source": [
    "valid_CIKS = [948846, 6201, 1362468,766421,1011696,1029863,\n",
    "              27904,921929,1351548,914397,1172222,1158463,\n",
    "              701345,92380,948845,810332,1058033,1498710,\n",
    "              793733,100517,1088734,1144331,1614436]"
   ]
  },
  {
   "cell_type": "code",
   "execution_count": 25,
   "metadata": {},
   "outputs": [
    {
     "data": {
      "text/plain": [
       "23"
      ]
     },
     "execution_count": 25,
     "metadata": {},
     "output_type": "execute_result"
    }
   ],
   "source": [
    "# Sanity check\n",
    "len(valid_CIKS)"
   ]
  },
  {
   "cell_type": "markdown",
   "metadata": {},
   "source": [
    "Looks good! So the only universe of stocks we will need to parse are the ones listed above. Let's convert them back to the form with padded zeros:"
   ]
  },
  {
   "cell_type": "code",
   "execution_count": 36,
   "metadata": {},
   "outputs": [
    {
     "data": {
      "text/plain": [
       "'0000948846'"
      ]
     },
     "execution_count": 36,
     "metadata": {},
     "output_type": "execute_result"
    }
   ],
   "source": [
    "str(valid_CIKS[0]).zfill(10)"
   ]
  },
  {
   "cell_type": "code",
   "execution_count": 38,
   "metadata": {},
   "outputs": [
    {
     "data": {
      "text/plain": [
       "True"
      ]
     },
     "execution_count": 38,
     "metadata": {},
     "output_type": "execute_result"
    }
   ],
   "source": [
    "str(valid_CIKS[0]).zfill(10) in list(os.listdir('sec-edgar-filings/'))"
   ]
  },
  {
   "cell_type": "code",
   "execution_count": 42,
   "metadata": {},
   "outputs": [
    {
     "data": {
      "text/plain": [
       "['0000948846',\n",
       " '0000006201',\n",
       " '0001362468',\n",
       " '0000766421',\n",
       " '0001011696',\n",
       " '0001029863',\n",
       " '0000027904',\n",
       " '0000921929',\n",
       " '0001351548',\n",
       " '0000914397',\n",
       " '0001172222',\n",
       " '0001158463',\n",
       " '0000701345',\n",
       " '0000092380',\n",
       " '0000948845',\n",
       " '0000810332',\n",
       " '0001058033',\n",
       " '0001498710',\n",
       " '0000793733',\n",
       " '0000100517',\n",
       " '0001088734',\n",
       " '0001144331',\n",
       " '0001614436']"
      ]
     },
     "execution_count": 42,
     "metadata": {},
     "output_type": "execute_result"
    }
   ],
   "source": [
    "CIKS = [str(valid_CIKS[i]).zfill(10) for i in range(len(valid_CIKS))]\n",
    "CIKS"
   ]
  },
  {
   "cell_type": "markdown",
   "metadata": {},
   "source": [
    "# AAL Sample"
   ]
  },
  {
   "cell_type": "code",
   "execution_count": 41,
   "metadata": {},
   "outputs": [],
   "source": [
    "# Get the most recent filing\n",
    "f = open(\"sec-edgar-filings/AAL/10-K/0001193125-15-061145/filing-details.html\", \"r\")\n",
    "raw_10k = f.read()"
   ]
  },
  {
   "cell_type": "code",
   "execution_count": 31,
   "metadata": {},
   "outputs": [
    {
     "data": {
      "text/plain": [
       "[<re.Match object; span=(1614421, 1614455), match='/a>ITEM&#160;8A.&#160;CONSOLIDATED'>]"
      ]
     },
     "execution_count": 31,
     "metadata": {},
     "output_type": "execute_result"
    }
   ],
   "source": [
    "matches = re.finditer('..>ITEM.{1,10}8(|A)[^a-zA-Z]{1,10}(consolidated|financial)', raw_10k, re.IGNORECASE)\n",
    "locations = [x for x in matches]\n",
    "locations[:3]"
   ]
  },
  {
   "cell_type": "code",
   "execution_count": 43,
   "metadata": {},
   "outputs": [
    {
     "name": "stdout",
     "output_type": "stream",
     "text": [
      "0000004515-08-000014\n",
      "[<re.Match object; span=(723646, 723672), match='/a>ITEM&#160;7. MANAGEMENT'>]\n",
      "[<re.Match object; span=(1614421, 1614455), match='/a>ITEM&#160;8A.&#160;CONSOLIDATED'>]\n",
      "\n",
      "\n",
      "0000006201-20-000023\n",
      "[<re.Match object; span=(723646, 723672), match='/a>ITEM&#160;7. MANAGEMENT'>]\n",
      "[<re.Match object; span=(1614421, 1614455), match='/a>ITEM&#160;8A.&#160;CONSOLIDATED'>]\n",
      "\n",
      "\n",
      "0000950134-06-003715\n",
      "[<re.Match object; span=(723646, 723672), match='/a>ITEM&#160;7. MANAGEMENT'>]\n",
      "[<re.Match object; span=(1614421, 1614455), match='/a>ITEM&#160;8A.&#160;CONSOLIDATED'>]\n",
      "\n",
      "\n",
      "0001047469-03-013301\n",
      "[<re.Match object; span=(723646, 723672), match='/a>ITEM&#160;7. MANAGEMENT'>]\n",
      "[<re.Match object; span=(1614421, 1614455), match='/a>ITEM&#160;8A.&#160;CONSOLIDATED'>]\n",
      "\n",
      "\n",
      "0000950134-05-003726\n",
      "[<re.Match object; span=(723646, 723672), match='/a>ITEM&#160;7. MANAGEMENT'>]\n",
      "[<re.Match object; span=(1614421, 1614455), match='/a>ITEM&#160;8A.&#160;CONSOLIDATED'>]\n",
      "\n",
      "\n",
      "0000950134-04-002668\n",
      "[<re.Match object; span=(723646, 723672), match='/a>ITEM&#160;7. MANAGEMENT'>]\n",
      "[<re.Match object; span=(1614421, 1614455), match='/a>ITEM&#160;8A.&#160;CONSOLIDATED'>]\n",
      "\n",
      "\n",
      "0000006201-10-000006\n",
      "[<re.Match object; span=(723646, 723672), match='/a>ITEM&#160;7. MANAGEMENT'>]\n",
      "[<re.Match object; span=(1614421, 1614455), match='/a>ITEM&#160;8A.&#160;CONSOLIDATED'>]\n",
      "\n",
      "\n",
      "0000950123-11-014726\n",
      "[<re.Match object; span=(723646, 723672), match='/a>ITEM&#160;7. MANAGEMENT'>]\n",
      "[<re.Match object; span=(1614421, 1614455), match='/a>ITEM&#160;8A.&#160;CONSOLIDATED'>]\n",
      "\n",
      "\n",
      "0000006201-18-000009\n",
      "[<re.Match object; span=(723646, 723672), match='/a>ITEM&#160;7. MANAGEMENT'>]\n",
      "[<re.Match object; span=(1614421, 1614455), match='/a>ITEM&#160;8A.&#160;CONSOLIDATED'>]\n",
      "\n",
      "\n",
      "0001193125-15-061145\n",
      "[<re.Match object; span=(723646, 723672), match='/a>ITEM&#160;7. MANAGEMENT'>]\n",
      "[<re.Match object; span=(1614421, 1614455), match='/a>ITEM&#160;8A.&#160;CONSOLIDATED'>]\n",
      "\n",
      "\n",
      "0001193125-12-063516\n",
      "[<re.Match object; span=(723646, 723672), match='/a>ITEM&#160;7. MANAGEMENT'>]\n",
      "[<re.Match object; span=(1614421, 1614455), match='/a>ITEM&#160;8A.&#160;CONSOLIDATED'>]\n",
      "\n",
      "\n",
      "0000006201-21-000014\n",
      "[<re.Match object; span=(723646, 723672), match='/a>ITEM&#160;7. MANAGEMENT'>]\n",
      "[<re.Match object; span=(1614421, 1614455), match='/a>ITEM&#160;8A.&#160;CONSOLIDATED'>]\n",
      "\n",
      "\n",
      "0001193125-16-474605\n",
      "[<re.Match object; span=(723646, 723672), match='/a>ITEM&#160;7. MANAGEMENT'>]\n",
      "[<re.Match object; span=(1614421, 1614455), match='/a>ITEM&#160;8A.&#160;CONSOLIDATED'>]\n",
      "\n",
      "\n",
      "0000006201-14-000004\n",
      "[<re.Match object; span=(723646, 723672), match='/a>ITEM&#160;7. MANAGEMENT'>]\n",
      "[<re.Match object; span=(1614421, 1614455), match='/a>ITEM&#160;8A.&#160;CONSOLIDATED'>]\n",
      "\n",
      "\n",
      "0000950134-07-003888\n",
      "[<re.Match object; span=(723646, 723672), match='/a>ITEM&#160;7. MANAGEMENT'>]\n",
      "[<re.Match object; span=(1614421, 1614455), match='/a>ITEM&#160;8A.&#160;CONSOLIDATED'>]\n",
      "\n",
      "\n",
      "0000006201-19-000009\n",
      "[<re.Match object; span=(723646, 723672), match='/a>ITEM&#160;7. MANAGEMENT'>]\n",
      "[<re.Match object; span=(1614421, 1614455), match='/a>ITEM&#160;8A.&#160;CONSOLIDATED'>]\n",
      "\n",
      "\n",
      "0000006201-09-000009\n",
      "[<re.Match object; span=(723646, 723672), match='/a>ITEM&#160;7. MANAGEMENT'>]\n",
      "[<re.Match object; span=(1614421, 1614455), match='/a>ITEM&#160;8A.&#160;CONSOLIDATED'>]\n",
      "\n",
      "\n",
      "0000006201-13-000023\n",
      "[<re.Match object; span=(723646, 723672), match='/a>ITEM&#160;7. MANAGEMENT'>]\n",
      "[<re.Match object; span=(1614421, 1614455), match='/a>ITEM&#160;8A.&#160;CONSOLIDATED'>]\n",
      "\n",
      "\n",
      "0001193125-17-051216\n",
      "[<re.Match object; span=(723646, 723672), match='/a>ITEM&#160;7. MANAGEMENT'>]\n",
      "[<re.Match object; span=(1614421, 1614455), match='/a>ITEM&#160;8A.&#160;CONSOLIDATED'>]\n",
      "\n",
      "\n"
     ]
    }
   ],
   "source": [
    "# Check each filing to make sure there's a match\n",
    "for filing in os.listdir(\"sec-edgar-filings/AAL/10-K/\"):\n",
    "    \n",
    "    locs = []\n",
    "    \n",
    "    if filing == '.DS_Store':\n",
    "        continue\n",
    "        \n",
    "    print(filing)\n",
    "    matches = re.finditer('..>ITEM.{1,10}7[^a-zA-Z]{1,10}management', raw_10k, re.IGNORECASE)\n",
    "    print([x for x in matches])\n",
    "    \n",
    "    matches = re.finditer('..>ITEM.{1,10}8(|A)[^a-zA-Z]{1,10}(consolidated|financial)', raw_10k, re.IGNORECASE)\n",
    "    print([x for x in matches])\n",
    "    print('\\n')"
   ]
  },
  {
   "cell_type": "markdown",
   "metadata": {},
   "source": [
    "# Extrapolate to All Valid Stocks"
   ]
  },
  {
   "cell_type": "code",
   "execution_count": 492,
   "metadata": {},
   "outputs": [],
   "source": [
    "# Do the same for all files\n",
    "for company in CIKS:\n",
    "    \n",
    "    logstr = ''\n",
    "    \n",
    "    if company == '.DS_Store' or company == 'AAL':\n",
    "        continue\n",
    "        \n",
    "    pulls = os.listdir(\"sec-edgar-filings/\"+company+\"/10-K/\")\n",
    "    \n",
    "    a = pd.DataFrame()\n",
    "    \n",
    "    \n",
    "    for year in pulls:\n",
    "        if year == '.DS_Store':\n",
    "            continue\n",
    "        #print(year)\n",
    "\n",
    "        try:\n",
    "            f = open(\"sec-edgar-filings/\"+company+\"/10-K/\"+year+\"/filing-details.html\", \"r\")\n",
    "        except:\n",
    "            f = open(\"sec-edgar-filings/\"+company+\"/10-K/\"+year+\"/filing-details.txt\", \"r\")\n",
    "        raw_10k = f.read()\n",
    "        \n",
    "        matches1 = re.finditer(r\"(?s).>IT.{0,20}EM.{1,20}7[^A].{1,400}MANAGEMENT\", \n",
    "                               raw_10k, re.IGNORECASE)\n",
    "        \n",
    "        matches2 = re.finditer(r\"(?s).>IT.{0,20}EM.{1,20}8([^B]|A).{1,400}(CONSOLIDATED|FINANCIAL)\", \n",
    "                               raw_10k, re.IGNORECASE)\n",
    "        \n",
    "        logstr += year + '\\n'\n",
    "        logstr += str([x for x in matches1])+ '\\n'\n",
    "        logstr += str([x for x in matches2])+ '\\n'\n",
    "        logstr += '\\n'\n",
    "        \n",
    "    print(logstr, file=open(\"logs/\"+company+\".txt\", \"w\"))"
   ]
  },
  {
   "cell_type": "code",
   "execution_count": 493,
   "metadata": {},
   "outputs": [
    {
     "data": {
      "text/plain": [
       "['0001193125-15-073939', '0001193125-16-485622']"
      ]
     },
     "execution_count": 493,
     "metadata": {},
     "output_type": "execute_result"
    }
   ],
   "source": [
    "pulls"
   ]
  },
  {
   "cell_type": "code",
   "execution_count": 47,
   "metadata": {},
   "outputs": [
    {
     "data": {
      "text/plain": [
       "['0001193125-15-073939', '0001193125-16-485622']"
      ]
     },
     "execution_count": 47,
     "metadata": {},
     "output_type": "execute_result"
    }
   ],
   "source": [
    "os.listdir(\"sec-edgar-filings/\"+company+\"/10-K/\")"
   ]
  },
  {
   "cell_type": "markdown",
   "metadata": {},
   "source": [
    "# Debug"
   ]
  },
  {
   "cell_type": "code",
   "execution_count": 17,
   "metadata": {},
   "outputs": [],
   "source": [
    "company = '0001362468'\n",
    "year = '0001047469-10-001935'\n",
    "\n",
    "f = open(\"sec-edgar-filings/\"+company+\"/10-K/\"+year+\"/filing-details.html\", \"r\")\n",
    "raw_10k = str(f.read())"
   ]
  },
  {
   "cell_type": "code",
   "execution_count": 18,
   "metadata": {},
   "outputs": [
    {
     "name": "stdout",
     "output_type": "stream",
     "text": [
      "[<re.Match object; span=(23925, 24321), match='_item_7._management_s_discussio__ite03668\"><p sty>, <re.Match object; span=(24644, 25008), match='_item_7._management_s_discussio__ite03668\"><font >, <re.Match object; span=(372072, 372350), match='_item_7._management_s_discussio__ite03668\"> </a>\\>, <re.Match object; span=(576697, 577074), match='with the remaining 17 aircraft owned free and cle>]\n"
     ]
    }
   ],
   "source": [
    "matches1 = re.finditer(r\"(?s).IT.{0,20}EM.{1,20}7[^a].{1,400}m\", raw_10k, re.IGNORECASE)\n",
    "a = [x for x in matches1]\n",
    "print(a)"
   ]
  },
  {
   "cell_type": "code",
   "execution_count": 19,
   "metadata": {},
   "outputs": [
    {
     "data": {
      "text/plain": [
       "[23925, 24644, 372072, 576697]"
      ]
     },
     "execution_count": 19,
     "metadata": {},
     "output_type": "execute_result"
    }
   ],
   "source": [
    "locs = [x.start() for x in a]\n",
    "locs"
   ]
  },
  {
   "cell_type": "code",
   "execution_count": 20,
   "metadata": {},
   "outputs": [
    {
     "data": {
      "text/plain": [
       "'2\"><br/>\\n26</font></a></td>\\n</tr>\\n<tr valign=\"TOP\">\\n<td style=\"font-family:times;\"><a href=\"#dk41401_item_7._management_s_discussio__ite03668\"><p style=\"font-family:times;margin-top:12pt;margin-left:0'"
      ]
     },
     "execution_count": 20,
     "metadata": {},
     "output_type": "execute_result"
    }
   ],
   "source": [
    "raw_10k[locs[0]-100:locs[0]+100]"
   ]
  },
  {
   "cell_type": "code",
   "execution_count": 21,
   "metadata": {},
   "outputs": [
    {
     "name": "stdout",
     "output_type": "stream",
     "text": [
      "[]\n"
     ]
    }
   ],
   "source": [
    "matches2 = re.finditer('(?s).>IT.{0,20}EM.{1,20}8(|A).{1,400}FINANCIAL', raw_10k, re.IGNORECASE)\n",
    "b = [x for x in matches2]\n",
    "print(b)"
   ]
  },
  {
   "cell_type": "code",
   "execution_count": 168,
   "metadata": {},
   "outputs": [
    {
     "data": {
      "text/plain": [
       "[40459]"
      ]
     },
     "execution_count": 168,
     "metadata": {},
     "output_type": "execute_result"
    }
   ],
   "source": [
    "locs = [x.start() for x in b]\n",
    "locs"
   ]
  },
  {
   "cell_type": "code",
   "execution_count": 172,
   "metadata": {},
   "outputs": [
    {
     "data": {
      "text/plain": [
       "'p style=\"margin-bottom:0pt;margin-top:0pt;margin-left:10pt;;text-indent:-10pt;;font-size:10pt;font-family:Times New Roman;font-weight:normal;font-style:normal;text-transform:none;font-variant: normal;\">Item&#160;8.&#160;</p></td>\\n<td style=\"padding-left:0pt;padding-Right:0pt;padding-Top:0pt;padding-Bottom:0pt;width:79.34%;\" valign=\"bottom\">\\n<p style=\"margin-bottom:0pt;margin-top:0pt;margin-left:0pt;;text-indent:0pt;;font-size:10pt;font-family:Times New Roman;font-weight:normal;font-style:normal;text-transform:none;font-variant: normal;\"><a href=\"#ITEM8_FINANCIAL_STATEMENTS\"><font style=\"text-d'"
      ]
     },
     "execution_count": 172,
     "metadata": {},
     "output_type": "execute_result"
    }
   ],
   "source": [
    "raw_10k[locs[0]-200:locs[0]+400]"
   ]
  },
  {
   "cell_type": "code",
   "execution_count": null,
   "metadata": {},
   "outputs": [],
   "source": []
  },
  {
   "cell_type": "code",
   "execution_count": 242,
   "metadata": {},
   "outputs": [],
   "source": [
    "# coding=utf8\n",
    "# the above tag defines encoding for this document and is for Python 2.x compatibility\n",
    "\n",
    "import re\n",
    "\n",
    "regex = r\".>ITEM.{1,20}7.*(?<=MANAGEMENT)\"\n",
    "\n",
    "test_str = \"'font style=\\\"DISPLAY: inline; FONT-FAMILY: times new roman; FONT-SIZE: 10pt\\\">&#160;&#160;<a href=\\\"#mda\\\">ITEM&#160;7.</a></font></div>\\\\n</td>\\\\n<td align=\\\"left\\\" colspan=\\\"3\\\" valign=\\\"top\\\" width=\\\"83%\\\">\\\\n<div align=\\\"left\\\" style=\\\"TEXT-INDENT: 0pt; DISPLAY: block; MARGIN-LEFT: 18pt; MARGIN-RIGHT: 0pt\\\"><font style=\\\"DISPLAY: inline; FONT-FAMILY: times new roman; FONT-SIZE: 10pt\\\"><a href=\\\"#mda\\\">MANAGEMENT&#8217;'\"\n",
    "\n",
    "matches = re.finditer(regex, raw_10k, re.MULTILINE)\n",
    "\n",
    "for matchNum, match in enumerate(matches, start=1):\n",
    "    \n",
    "    print (\"Match {matchNum} was found at {start}-{end}: {match}\".format(matchNum = matchNum, start = match.start(), end = match.end(), match = match.group()))\n",
    "    \n",
    "    for groupNum in range(0, len(match.groups())):\n",
    "        groupNum = groupNum + 1\n",
    "        \n",
    "        print (\"Group {groupNum} found at {start}-{end}: {group}\".format(groupNum = groupNum, start = match.start(groupNum), end = match.end(groupNum), group = match.group(groupNum)))\n",
    "\n",
    "# Note: for Python 2.7 compatibility, use ur\"\" to prefix the regex and u\"\" to prefix the test string and substitution."
   ]
  },
  {
   "cell_type": "markdown",
   "metadata": {},
   "source": [
    "# Go the Other Way\n",
    "\n",
    "We have now built upwards, but some matches are too general and catch too many exceptions. Now, we must work backwards to find out why this is the case and see what we can do about it"
   ]
  },
  {
   "cell_type": "code",
   "execution_count": 518,
   "metadata": {},
   "outputs": [
    {
     "name": "stdout",
     "output_type": "stream",
     "text": [
      "matches1 0001362468 0001047469-09-002190\n",
      "\n",
      "matches2 0001362468 0001047469-09-002190\n",
      "\n",
      "matches1 0001362468 0001047469-10-001935\n",
      "\n",
      "matches2 0001362468 0001047469-10-001935\n",
      "\n",
      "matches1 0001172222 0000950136-05-001827\n",
      "\n",
      "matches2 0001172222 0000950136-05-001827\n",
      "\n"
     ]
    }
   ],
   "source": [
    "# Do the same for all files\n",
    "\n",
    "# Keep track of number of unique companies to fix\n",
    "count = 0\n",
    "\n",
    "for company in CIKS:\n",
    "    \n",
    "    logstr = ''\n",
    "    \n",
    "    if company == '.DS_Store' or company == 'AAL':\n",
    "        continue\n",
    "        \n",
    "    pulls = os.listdir(\"sec-edgar-filings/\"+company+\"/10-K/\")\n",
    "    \n",
    "    a = pd.DataFrame()\n",
    "    \n",
    "    \n",
    "    for year in pulls:\n",
    "        if year == '.DS_Store':\n",
    "            continue\n",
    "        #print(year)\n",
    "\n",
    "        try:\n",
    "            f = open(\"sec-edgar-filings/\"+company+\"/10-K/\"+year+\"/filing-details.html\", \"r\")\n",
    "        except:\n",
    "            continue\n",
    "            #f = open(\"sec-edgar-filings/\"+company+\"/10-K/\"+year+\"/filing-details.txt\", \"r\")\n",
    "        raw_10k = f.read()\n",
    "        \n",
    "\n",
    "        matches1 = re.finditer(r\"(?s).>IT.{0,20}EM.{1,20}7[^A].{1,400}MANAGEMENT\", \n",
    "                               raw_10k, re.IGNORECASE)\n",
    "        \n",
    "        matches2 = re.finditer(r\"(?s).>IT.{0,20}EM.{1,20}8([^B]|A).{1,400}(CONSOLIDATED|FINANCIAL)\", \n",
    "                               raw_10k, re.IGNORECASE)\n",
    "        \n",
    "        \n",
    "        list_matches1 = [x for x in matches1]\n",
    "        list_matches2 = [x for x in matches2]\n",
    "        \n",
    "        logstr += year + '\\n'\n",
    "        logstr += str(list_matches1)+ '\\n'\n",
    "        logstr += str(list_matches2)+ '\\n'\n",
    "        logstr += '\\n'\n",
    "        \n",
    "        if len(list_matches1) == 0:\n",
    "            print('matches1 '+company+' '+year+'\\n')\n",
    "            \n",
    "        if len(list_matches1) == 0:\n",
    "            print('matches2 '+company+' '+year+'\\n')\n",
    "            \n",
    "#         if len(list_matches1) > 2:\n",
    "#             print('matches1 '+company+' '+year+'\\n')\n",
    "            \n",
    "#         if len(list_matches2) > 2:\n",
    "#             print('matches2 '+company+' '+year+'\\n')\n",
    "            \n",
    "        if (len(list_matches1) > 2) or (len(list_matches2) > 2):\n",
    "            count += 1\n",
    "        \n",
    "    #print(logstr, file=open(\"logs/\"+company+\".txt\", \"w\"))"
   ]
  },
  {
   "cell_type": "code",
   "execution_count": 519,
   "metadata": {},
   "outputs": [
    {
     "data": {
      "text/plain": [
       "24"
      ]
     },
     "execution_count": 519,
     "metadata": {},
     "output_type": "execute_result"
    }
   ],
   "source": [
    "count"
   ]
  },
  {
   "cell_type": "markdown",
   "metadata": {},
   "source": [
    "# Debug"
   ]
  },
  {
   "cell_type": "code",
   "execution_count": 511,
   "metadata": {},
   "outputs": [],
   "source": [
    "company = '0001029863'\n",
    "year = '0000950153-04-000491'\n",
    "\n",
    "f = open(\"sec-edgar-filings/\"+company+\"/10-K/\"+year+\"/filing-details.html\", \"r\")\n",
    "raw_10k = str(f.read())"
   ]
  },
  {
   "cell_type": "code",
   "execution_count": 512,
   "metadata": {},
   "outputs": [
    {
     "data": {
      "text/plain": [
       "'<html><body><document>\\n<type>10-K\\n<sequence>1\\n<filename>p68837e10vk.htm\\n<description>10-K\\n<text>\\n<title>e10vk</title>\\n<!-- PAGEBREAK -->\\n<h5 align=\"left\" style=\"page-break-before:always\"><a href=\"#toc\">Table of Contents</a></h5><p>\\n</p><p align=\"center\"><font size=\"4\"><b>UNITED STATES SECURITIES AND EXCHANGE<br/>\\nCOMMISSION</b>\\n</font>\\n</p><div align=\"center\"><font size=\"3\"><b>WASHINGTON, D.C. 20549</b>\\n</font></div>\\n<div align=\"center\"><font size=\"5\"><b>FORM 10-K</b>\\n</font></div>\\n<center>\\n<tab'"
      ]
     },
     "execution_count": 512,
     "metadata": {},
     "output_type": "execute_result"
    }
   ],
   "source": [
    "raw_10k[:500]"
   ]
  },
  {
   "cell_type": "code",
   "execution_count": 513,
   "metadata": {},
   "outputs": [
    {
     "name": "stdout",
     "output_type": "stream",
     "text": [
      "[<re.Match object; span=(11795, 11910), match='\">ITEM 7. MANAGEMENT&#146;S DISCUSSION AND ANALYS>, <re.Match object; span=(18366, 18528), match='\">Item&#160;7. Management&#146;s Discussion and A>, <re.Match object; span=(233805, 234228), match='b>ITEM 7. MANAGEMENT&#146;S DISCUSSION AND ANALYS>]\n"
     ]
    }
   ],
   "source": [
    "matches1 = re.finditer(r\"(?s).>IT.{0,20}EM.{1,20}7[^A].{1,400}MANAGEMENT.{,150}\\n\", raw_10k, re.IGNORECASE)\n",
    "a = [x for x in matches1]\n",
    "print(a)"
   ]
  },
  {
   "cell_type": "code",
   "execution_count": 514,
   "metadata": {},
   "outputs": [
    {
     "data": {
      "text/plain": [
       "[11795, 18366, 233805]"
      ]
     },
     "execution_count": 514,
     "metadata": {},
     "output_type": "execute_result"
    }
   ],
   "source": [
    "locs = [x.start() for x in a]\n",
    "locs"
   ]
  },
  {
   "cell_type": "code",
   "execution_count": 517,
   "metadata": {},
   "outputs": [
    {
     "data": {
      "text/plain": [
       "'=\"2\">PART II</font></div></td>\\n<td><font size=\"2\">&#160;</font></td>\\n<td><font size=\"2\">&#160;</font></td>\\n<td><font size=\"2\">&#160;</font></td>\\n<td><font size=\"2\">&#160;</font></td>\\n</tr>\\n<tr bgcolor=\"#eeeeee\" valign=\"bottom\">\\n<td><div style=\"margin-left:10px; text-indent:-10px\"><font size=\"2\">Item&#160;5. Market for Registrants&#146; Common Equity and Related Stockholder Matters</font></div></td>\\n<td><font size=\"2\">&#160;</font></td>\\n<td><font size=\"2\">&#160;</font></td>\\n<td align=\"right\"><font size=\"2\">21</font></td>\\n<td><font size=\"2\">&#160;</font></td>\\n</tr>\\n<tr valign=\"bottom\">\\n<td><div style=\"margin-left:10px; text-indent:-10px\"><font size=\"2\">Item&#160;6. Selected Consolidated Financial Data</font></div></td>\\n<td><font size=\"2\">&#160;</font></td>\\n<td><font size=\"2\">&#160;</font></td>\\n<td align=\"right\"><font size=\"2\">22</font></td>\\n<td><font size=\"2\">&#160;</font></td>\\n</tr>\\n<tr bgcolor=\"#eeeeee\" valign=\"bottom\">\\n<td><div style=\"margin-left:10px; text-indent:-10px\"><font size=\"2\">Item&#160;7. Management&#146;s Discussion and Analysis of Financial Condition and Results of Operations</font></div></td>\\n<td><font size=\"2\">&#160;</font></td>\\n<td><font size=\"2\">&#160;</font></td>\\n<td align=\"right\"><font size=\"2\">23</font></td>\\n<td><font size=\"2\">&#160;</font></td>\\n</tr>\\n<tr valign=\"bottom\">\\n<td><div style=\"margin-left:10px; text-indent:-10px\"><font size=\"2\">Item&#160;7A. Quantitative and Qualitative Disclosures About Market Risk</font></div></td>\\n<td><font size=\"2\">&#160;</font></td>\\n<td><font size=\"2\">&#160;</font></td>\\n<td align=\"right\"><font size=\"2\">41</font></td>\\n<td><font size=\"2\">&#160;</font></td>\\n</tr>\\n<tr bgcolor=\"#eeeeee\" valign=\"bottom\">\\n<td><div style=\"margin-left:10px; text-indent:-10px\"><font size=\"2\">Item&#160;8A.\\nConsolidated Financial Statements and Supplementary Data &#151; America West Holdings Corporation</font></div></td>\\n<td><font size=\"2\">&#160;</font></td>\\n<td><font size=\"2\">&#160;</font></td>\\n<td align=\"right\"><font size=\"2\">42</font></td>'"
      ]
     },
     "execution_count": 517,
     "metadata": {},
     "output_type": "execute_result"
    }
   ],
   "source": [
    "idx = 1\n",
    "raw_10k[locs[idx]-1000:locs[idx]+1000]"
   ]
  },
  {
   "cell_type": "code",
   "execution_count": 89,
   "metadata": {},
   "outputs": [
    {
     "name": "stdout",
     "output_type": "stream",
     "text": [
      "[<re.Match object; span=(12136, 12446), match='\">ITEM 8. FINANCIAL STATEMENTS AND SUPPLEMENTARY >, <re.Match object; span=(30831, 31096), match='b>ITEM 8.</b>\\n</font></td>\\n<td><font size=\"2\">&>]\n"
     ]
    }
   ],
   "source": [
    "matches2 = re.finditer(r\"(?s).>IT.{0,20}EM.{1,20}8([^B]|A).{1,400}(CONSOLIDATED|FINANCIAL).{105,150}\\n\", \n",
    "                               raw_10k, re.IGNORECASE)\n",
    "b = [x for x in matches2]\n",
    "print(b)"
   ]
  },
  {
   "cell_type": "code",
   "execution_count": 90,
   "metadata": {},
   "outputs": [
    {
     "data": {
      "text/plain": [
       "[12136, 30831]"
      ]
     },
     "execution_count": 90,
     "metadata": {},
     "output_type": "execute_result"
    }
   ],
   "source": [
    "locs = [x.start() for x in b]\n",
    "locs"
   ]
  },
  {
   "cell_type": "code",
   "execution_count": 83,
   "metadata": {},
   "outputs": [
    {
     "data": {
      "text/plain": [
       "'h5 align=\"left\" style=\"page-break-before:always\"><a href=\"#toc\">Table of Contents</a></h5><p>\\n</p><center>\\n<table border=\"0\" cellpadding=\"0\" cellspacing=\"0\" width=\"100%\">\\n<tr valign=\"bottom\">\\n<td width=\"2%\">&#160;</td>\\n<td width=\"1%\">&#160;</td>\\n<td width=\"9%\">&#160;</td>\\n<td width=\"1%\">&#160;</td>\\n<td width=\"80%\">&#160;</td>\\n<td width=\"2%\">&#160;</td>\\n<td width=\"1%\">&#160;</td>\\n</tr>\\n<tr bgcolor=\"#eeeeee\" valign=\"bottom\">\\n<td valign=\"top\"><font size=\"2\">&#160;</font></td>\\n<td><font size=\"2\">&#160;</font></td>\\n<td align=\"left\" valign=\"top\"><font size=\"2\">\\n<b>ITEM 7A</b>\\n</font></td>\\n<td><font size=\"2\">&#160;</font></td>\\n<td align=\"left\" valign=\"top\"><font size=\"2\"><b>QUANTITATIVE AND QUALITATIVE DISCLOSURES ABOUT MARKET RISK</b></font></td>\\n<td><font size=\"2\">&#160;</font></td>\\n<td align=\"right\"><font size=\"2\">54</font></td>\\n</tr>\\n<tr valign=\"bottom\">\\n<td valign=\"top\"><font size=\"2\">&#160;</font></td>\\n<td><font size=\"2\">&#160;</font></td>\\n<td align=\"left\" valign=\"top\"><font size=\"2\">\\n<b>ITEM 8.</b>\\n</font></td>\\n<td><font size=\"2\">&#160;</font></td>\\n<td align=\"left\" valign=\"top\"><font size=\"2\"><b>FINANCIAL STATEMENTS AND SUPPLEMENTARY DATA</b></font></td>\\n<td><font size=\"2\">&#160;</font></td>\\n<td align=\"right\"><font size=\"2\">54</font></td>\\n</tr>\\n<tr bgcolor=\"#eeeeee\" valign=\"bottom\">\\n<td valign=\"top\"><font size=\"2\">&#160;</font></td>\\n<td><font size=\"2\">&#160;</font></td>\\n<td align=\"left\" valign=\"top\"><font size=\"2\">\\n<b>ITEM 9.</b>\\n</font></td>\\n<td><font size=\"2\">&#160;</font></td>\\n<td align=\"left\" valign=\"top\"><font size=\"2\"><b>CHANGES IN AND DISAGREEMENTS WITH ACCOUNTANTS ON ACCOUNTING AND FINANCIAL DISCLOSURE</b></font></td>\\n<td><font size=\"2\">&#160;</font></td>\\n<td align=\"right\"><font size=\"2\">54</font></td>\\n</tr>\\n<tr valign=\"bottom\">\\n<td valign=\"top\"><font size=\"2\">&#160;</font></td>\\n<td><font size=\"2\">&#160;</font></td>\\n<td align=\"left\" valign=\"top\"><font size=\"2\">\\n<b>ITEM 9A</b>\\n</font></td>\\n<td><font size=\"2\">&#160;</font></td>\\n<td align=\"left\" valign=\"top\"><f'"
      ]
     },
     "execution_count": 83,
     "metadata": {},
     "output_type": "execute_result"
    }
   ],
   "source": [
    "idx = 1\n",
    "raw_10k[locs[idx]-1000:locs[idx]+1000]"
   ]
  },
  {
   "cell_type": "code",
   "execution_count": 80,
   "metadata": {},
   "outputs": [
    {
     "data": {
      "text/plain": [
       "85"
      ]
     },
     "execution_count": 80,
     "metadata": {},
     "output_type": "execute_result"
    }
   ],
   "source": [
    "len('MANAGEMENT\\'S DISCUSSION AND ANALYSIS OF FINANCIAL CONDITION\\nAND RESULTS OF OPERATIONS')"
   ]
  },
  {
   "cell_type": "code",
   "execution_count": null,
   "metadata": {},
   "outputs": [],
   "source": []
  }
 ],
 "metadata": {
  "kernelspec": {
   "display_name": "Python 3",
   "language": "python",
   "name": "python3"
  },
  "language_info": {
   "codemirror_mode": {
    "name": "ipython",
    "version": 3
   },
   "file_extension": ".py",
   "mimetype": "text/x-python",
   "name": "python",
   "nbconvert_exporter": "python",
   "pygments_lexer": "ipython3",
   "version": "3.7.4"
  }
 },
 "nbformat": 4,
 "nbformat_minor": 2
}
