{
 "cells": [
  {
   "cell_type": "code",
   "execution_count": 1,
   "metadata": {},
   "outputs": [],
   "source": [
    "from bs4 import BeautifulSoup\n",
    "import numpy as np\n",
    "import pandas as pd\n",
    "import os\n",
    "import re\n",
    "import html2text\n",
    "import pickle\n",
    "from sec_edgar_downloader import Downloader"
   ]
  },
  {
   "cell_type": "code",
   "execution_count": 2,
   "metadata": {},
   "outputs": [],
   "source": [
    "# Get the most recent filing\n",
    "f = open(\"sec-edgar-filings/AAL/10-K/0001193125-15-061145/filing-details.html\", \"r\")\n",
    "raw_10k = f.read()"
   ]
  },
  {
   "cell_type": "code",
   "execution_count": 3,
   "metadata": {},
   "outputs": [],
   "source": [
    "soup = BeautifulSoup(raw_10k, 'lxml')"
   ]
  },
  {
   "cell_type": "code",
   "execution_count": 4,
   "metadata": {},
   "outputs": [],
   "source": [
    "res = list(soup.find_all('b'))\n",
    "res = [str(x) for x in res]\n",
    "res_str = '\\n'.join(res)"
   ]
  },
  {
   "cell_type": "code",
   "execution_count": 5,
   "metadata": {},
   "outputs": [],
   "source": [
    "matches = re.compile(r'(item\\s(7[\\.\\s]|8(A|)[\\.\\s])|'\n",
    "                             'discussion\\sand\\sanalysis\\sof\\s(consolidated\\sfinancial|financial)\\scondition|'\n",
    "                             '(consolidated\\sfinancial|financial)\\sstatements\\sand\\ssupplementary\\sdata)', re.IGNORECASE)"
   ]
  },
  {
   "cell_type": "code",
   "execution_count": 6,
   "metadata": {},
   "outputs": [
    {
     "data": {
      "text/html": [
       "<div>\n",
       "<style scoped>\n",
       "    .dataframe tbody tr th:only-of-type {\n",
       "        vertical-align: middle;\n",
       "    }\n",
       "\n",
       "    .dataframe tbody tr th {\n",
       "        vertical-align: top;\n",
       "    }\n",
       "\n",
       "    .dataframe thead th {\n",
       "        text-align: right;\n",
       "    }\n",
       "</style>\n",
       "<table border=\"1\" class=\"dataframe\">\n",
       "  <thead>\n",
       "    <tr style=\"text-align: right;\">\n",
       "      <th></th>\n",
       "      <th>0</th>\n",
       "      <th>1</th>\n",
       "    </tr>\n",
       "  </thead>\n",
       "  <tbody>\n",
       "    <tr>\n",
       "      <th>0</th>\n",
       "      <td>ITEM 7.</td>\n",
       "      <td>13992</td>\n",
       "    </tr>\n",
       "    <tr>\n",
       "      <th>1</th>\n",
       "      <td>DISCUSSION AND ANALYSIS OF FINANCIAL CONDITION</td>\n",
       "      <td>14013</td>\n",
       "    </tr>\n",
       "    <tr>\n",
       "      <th>2</th>\n",
       "      <td>ITEM 8A.</td>\n",
       "      <td>21020</td>\n",
       "    </tr>\n",
       "    <tr>\n",
       "      <th>3</th>\n",
       "      <td>CONSOLIDATED FINANCIAL STATEMENTS AND SUPPLEME...</td>\n",
       "      <td>21029</td>\n",
       "    </tr>\n",
       "    <tr>\n",
       "      <th>4</th>\n",
       "      <td>CONSOLIDATED FINANCIAL STATEMENTS AND SUPPLEME...</td>\n",
       "      <td>42175</td>\n",
       "    </tr>\n",
       "  </tbody>\n",
       "</table>\n",
       "</div>"
      ],
      "text/plain": [
       "                                                   0      1\n",
       "0                                            ITEM 7.  13992\n",
       "1     DISCUSSION AND ANALYSIS OF FINANCIAL CONDITION  14013\n",
       "2                                           ITEM 8A.  21020\n",
       "3  CONSOLIDATED FINANCIAL STATEMENTS AND SUPPLEME...  21029\n",
       "4  CONSOLIDATED FINANCIAL STATEMENTS AND SUPPLEME...  42175"
      ]
     },
     "execution_count": 6,
     "metadata": {},
     "output_type": "execute_result"
    }
   ],
   "source": [
    "matches_array = pd.DataFrame([(match.group(), match.start()) for match in matches.finditer(res_str)])\n",
    "matches_array.head()"
   ]
  },
  {
   "cell_type": "code",
   "execution_count": 7,
   "metadata": {},
   "outputs": [],
   "source": [
    "matches = re.compile(r'ITEM', re.IGNORECASE)"
   ]
  },
  {
   "cell_type": "code",
   "execution_count": 8,
   "metadata": {},
   "outputs": [
    {
     "data": {
      "text/html": [
       "<div>\n",
       "<style scoped>\n",
       "    .dataframe tbody tr th:only-of-type {\n",
       "        vertical-align: middle;\n",
       "    }\n",
       "\n",
       "    .dataframe tbody tr th {\n",
       "        vertical-align: top;\n",
       "    }\n",
       "\n",
       "    .dataframe thead th {\n",
       "        text-align: right;\n",
       "    }\n",
       "</style>\n",
       "<table border=\"1\" class=\"dataframe\">\n",
       "  <thead>\n",
       "    <tr style=\"text-align: right;\">\n",
       "      <th></th>\n",
       "      <th>0</th>\n",
       "      <th>1</th>\n",
       "    </tr>\n",
       "  </thead>\n",
       "  <tbody>\n",
       "    <tr>\n",
       "      <th>0</th>\n",
       "      <td>Item</td>\n",
       "      <td>18637</td>\n",
       "    </tr>\n",
       "    <tr>\n",
       "      <th>1</th>\n",
       "      <td>Item</td>\n",
       "      <td>30456</td>\n",
       "    </tr>\n",
       "    <tr>\n",
       "      <th>2</th>\n",
       "      <td>Item</td>\n",
       "      <td>31217</td>\n",
       "    </tr>\n",
       "    <tr>\n",
       "      <th>3</th>\n",
       "      <td>Item</td>\n",
       "      <td>31960</td>\n",
       "    </tr>\n",
       "    <tr>\n",
       "      <th>4</th>\n",
       "      <td>Item</td>\n",
       "      <td>32722</td>\n",
       "    </tr>\n",
       "  </tbody>\n",
       "</table>\n",
       "</div>"
      ],
      "text/plain": [
       "      0      1\n",
       "0  Item  18637\n",
       "1  Item  30456\n",
       "2  Item  31217\n",
       "3  Item  31960\n",
       "4  Item  32722"
      ]
     },
     "execution_count": 8,
     "metadata": {},
     "output_type": "execute_result"
    }
   ],
   "source": [
    "matches_array = pd.DataFrame([(match.group(), match.start()) for match in matches.finditer(raw_10k)])\n",
    "matches_array.head()"
   ]
  },
  {
   "cell_type": "code",
   "execution_count": 9,
   "metadata": {},
   "outputs": [
    {
     "data": {
      "text/plain": [
       "'<html><body><document>\\n<type>10-K\\n<sequence>1\\n<filename>d829913d10k.htm\\n<description>FORM 10-K\\n<text>\\n<title>Form 10-K</title>\\n<h5 align=\"left\"><a href=\"#toc\">Table of Contents</a></h5>\\n<p style=\"line-height:4px;margin-top:0px;margin-bottom:0px;border-bottom:2pt solid #000000\">&#160;</p>\\n<p style=\"line-height:3px;margin-top:0px;margin-bottom:2px;border-bottom:0.5pt solid #000000\">&#160;</p> <p align=\"center\" style=\"margin-top:1px;margin-bottom:0px\"><font size=\"2\" style=\"font-family:Times New Roman\"><b>UNITED STATES SECURITIES AND\\nEXCHANGE COMMISSION </b></font></p> <p align=\"center\" style=\"margin-top:0px;margin-bottom:0px\"><font size=\"2\" style=\"font-family:Times New Roman\"><b>Washington, D.C. 20549 </b></font></p>\\n<p style=\"font-size:1px;margin-top:0px;margin-bottom:0px\">&#160;</p><center> <p style=\"line-height:6px;margin-top:0px;margin-bottom:2px;border-bottom:1pt solid #000000;width:21%\">&#160;</p></center>\\n<p align=\"center\" style=\"margin-top:1px;margin-bottom:0px\"><font size=\"3\" style=\"font-family:Times New Roman\"><b>FORM 10-K </b></font></p> <p style=\"font-size:1px;margin-top:0px;margin-bottom:0px\">&#160;</p><center>\\n<p style=\"line-height:6px;margin-top:0px;margin-bottom:2px;border-bottom:1pt solid #000000;width:21%\">&#160;</p></center> <p style=\"font-size:1px;margin-top:0px;margin-bottom:0px\">&#160;</p>\\n<table border=\"0\" cellpadding=\"0\" cellspacing=\"0\" style=\"BORDER-COLLAPSE:COLLAPSE\" width=\"100%\">\\n<tr>\\n<td align=\"left\" valign=\"top\" width=\"4%\"><font size=\"2\" style=\"font-family:Times New Roman\"><b></b><font style=\"FONT-FAMILY:WINGDINGS\">&#254;</font><b></b><b></b></font></td>\\n<td align=\"left\" valign=\"top\"> <p align=\"justify\"><font size=\"2\" style=\"font-family:Times New Roman\"><b>ANNUAL REPORT PURSUANT TO SECTION&#160;13 OR 15(d) OF THE SECURITIES EXCHANGE ACT OF 1934 </b></font></p></td></tr></table>\\n<p align=\"justify\" style=\"margin-top:0px;margin-bottom:0px; text-indent:4%\"><font size=\"1\" style=\"font-family:Times New Roman\"><b>For the Fiscal Year Ended December&#160;31, 2014 </b></font></p>\\n<p style=\"font-size:1px;margin-top:0px;margin-bottom:0px\">&#160;</p>\\n<table border=\"0\" cellpadding=\"0\" cellspacing=\"0\" style=\"BORDER-COLLAPSE:COLLAPSE\" width=\"100%\">\\n<tr>\\n<td align=\"left\" valign=\"top\" width=\"4%\"><font size=\"2\" style=\"font-family:Times New Roman\"><b></b><font style=\"FONT-FAMILY:WINGDINGS\">&#168;</font><b></b><b></b></font></td>\\n<td align=\"left\" valign=\"top\"> <p align=\"justify\"><font size=\"2\" style=\"font-family:Times New Roman\"><b>TRANSITION REPORT PURSUANT TO SECTION&#160;13 OR 15(d) OF THE SECURITIES EXCHANGE ACT OF 1934 </b></font></p></td></tr></table>\\n<p align=\"justify\" style=\"margin-top:0px;margin-bottom:0px; text-indent:4%\"><font size=\"1\" style=\"font-family:Times New Roman\"><b>For the Transition Period\\nFrom&#160;&#160;&#160;&#160;&#160;&#160;&#160;&#160;&#160;&#160;&#160;&#160;&#160;&#160;&#160;&#160;&#160;&#160;&#160;&#160; to&#160;&#160;&#160;&#160;&#160;&#160;&#160;&#160;&#160;&#160;&#160;&#160;&#160;&#160;&#160;&#160;&#160;&#160;&#160;&#160;\\n</b></font></p> <p align=\"center\" style=\"margin-top:1px;margin-bottom:0px\"><font size=\"1\" style=\"font-family:Times New Roman\">Commission file number 1-8400 </font></p> <p style=\"font-size:1px;margin-top:0px;margin-bottom:0px\">&#160;</p><center>\\n<p style=\"line-height:6px;margin-top:0px;margin-bottom:2px;border-bottom:1pt solid #000000;width:21%\">&#160;</p></center> <p align=\"center\" style=\"margin-top:1px;margin-bottom:0px\"><font size=\"3\" style=\"font-family:Times New Roman\"><b>American\\nAirlines Group Inc. </b></font></p> <p align=\"center\" style=\"margin-top:0px;margin-bottom:0px\"><font size=\"1\" style=\"font-family:Times New Roman\"><i>(Exact name of registrant as specified in its charter) </i></font></p>\\n<p style=\"font-size:1px;margin-top:0px;margin-bottom:0px\">&#160;</p><center> <p style=\"line-height:6px;margin-top:0px;margin-bottom:2px;border-bottom:1pt solid #000000;width:21%\">&#160;</p></center>\\n<p style=\"font-size:1px;margin-top:0px;margin-bottom:0px\">&#160;</p>\\n<table align=\"center\" border=\"0\" cellpadding=\"0\" cellspacing=\"0\" style=\"BORDER-COLLAPSE:COLLAPSE\" width=\"100%\">\\n<tr>\\n<td width=\"50%\"></td>\\n<td valign=\"bottom\" width=\"1%\"></td>\\n<td width=\"48%\"></td></tr>\\n<tr>\\n<td align=\"center\" valign=\"top\"><font size=\"1\" style=\"font-family:Times New Roman\"><b>Delaware</b></font></td>\\n<td valign=\"bottom\"><font size=\"1\">&#160;</font></td>\\n<td align=\"center\" valign=\"top\"><font size=\"1\" style=\"font-family:Times New Roman\"><b>75-1825172</b></font></td></tr>\\n<tr>\\n<td align=\"center\" valign=\"top\"> <p align=\"center\" style=\"margin-top:0px;margin-bottom:0px\"><font size=\"1\" style=\"font-family:Times New Roman\"><i>(State or other jurisdiction of</i></font></p>\\n<p align=\"center\" style=\"margin-top:0px;margin-bottom:1px\"><font size=\"1\" style=\"font-family:Times New Roman\"><i>incorporation or organization)</i></font></p></td>\\n<td valign=\"bottom\"><font size=\"1\">&#160;</font></td>\\n<td align=\"center\" valign=\"top\"> <p align=\"center\" style=\"margin-top:0px;margin-bottom:0px\"><font size=\"'"
      ]
     },
     "execution_count": 9,
     "metadata": {},
     "output_type": "execute_result"
    }
   ],
   "source": [
    "raw_10k[:5000]"
   ]
  },
  {
   "cell_type": "code",
   "execution_count": 10,
   "metadata": {},
   "outputs": [
    {
     "data": {
      "text/plain": [
       "[<re.Match object; span=(37293, 37339), match='Discussion and Analysis of Financial Condition'>,\n",
       " <re.Match object; span=(38888, 38944), match='Consolidated Financial Statements and Supplementa>,\n",
       " <re.Match object; span=(39715, 39771), match='Consolidated Financial Statements and Supplementa>,\n",
       " <re.Match object; span=(58563, 58609), match='Discussion and Analysis of Financial Condition'>,\n",
       " <re.Match object; span=(68365, 68411), match='Discussion and Analysis of Financial Condition'>,\n",
       " <re.Match object; span=(70730, 70776), match='Discussion and Analysis of Financial Condition'>,\n",
       " <re.Match object; span=(70893, 70939), match='Discussion and Analysis of Financial Condition'>,\n",
       " <re.Match object; span=(74080, 74126), match='Discussion and Analysis of Financial Condition'>,\n",
       " <re.Match object; span=(218373, 218419), match='Discussion and Analysis of Financial Condition'>,\n",
       " <re.Match object; span=(315947, 315993), match='Discussion and Analysis of Financial Condition'>,\n",
       " <re.Match object; span=(575074, 575120), match='Discussion and Analysis of Financial Condition'>,\n",
       " <re.Match object; span=(647874, 647920), match='Discussion and Analysis of Financial Condition'>,\n",
       " <re.Match object; span=(685387, 685413), match='items consisted of a $538 '>,\n",
       " <re.Match object; span=(722980, 723026), match='Discussion\\nand Analysis of Financial Condition'>,\n",
       " <re.Match object; span=(723680, 723726), match='DISCUSSION AND ANALYSIS OF FINANCIAL CONDITION'>,\n",
       " <re.Match object; span=(760153, 760199), match='Discussion and Analysis of Financial Condition'>,\n",
       " <re.Match object; span=(762700, 762746), match='Discussion and Analysis of Financial Condition'>,\n",
       " <re.Match object; span=(1519457, 1519503), match='Discussion and Analysis of Financial Condition'>,\n",
       " <re.Match object; span=(1614443, 1614499), match='CONSOLIDATED FINANCIAL STATEMENTS AND SUPPLEMENTA>,\n",
       " <re.Match object; span=(3215499, 3215555), match='CONSOLIDATED FINANCIAL STATEMENTS AND SUPPLEMENTA>]"
      ]
     },
     "execution_count": 10,
     "metadata": {},
     "output_type": "execute_result"
    }
   ],
   "source": [
    "matches = re.finditer(r'(item.{20}(7[\\.\\s]|8(A|)[\\.\\s])|'\n",
    "                             'discussion\\sand\\sanalysis\\sof\\s(consolidated\\sfinancial|financial)\\scondition|'\n",
    "                             '(consolidated\\sfinancial|financial)\\sstatements\\sand\\ssupplementary\\sdata)', raw_10k, re.IGNORECASE)\n",
    "locations = [x for x in matches]\n",
    "locations"
   ]
  },
  {
   "cell_type": "code",
   "execution_count": 11,
   "metadata": {},
   "outputs": [
    {
     "data": {
      "text/plain": [
       "[<re.Match object; span=(723646, 723672), match='/a>ITEM&#160;7. MANAGEMENT'>]"
      ]
     },
     "execution_count": 11,
     "metadata": {},
     "output_type": "execute_result"
    }
   ],
   "source": [
    "matches = re.finditer('..>ITEM.{1,10}7[^a-zA-Z]{1,10}management', raw_10k, re.IGNORECASE)\n",
    "locations = [x for x in matches]\n",
    "locations[:3]"
   ]
  },
  {
   "cell_type": "code",
   "execution_count": 12,
   "metadata": {},
   "outputs": [
    {
     "data": {
      "text/plain": [
       "[<re.Match object; span=(1614421, 1614455), match='/a>ITEM&#160;8A.&#160;CONSOLIDATED'>]"
      ]
     },
     "execution_count": 12,
     "metadata": {},
     "output_type": "execute_result"
    }
   ],
   "source": [
    "matches = re.finditer('..>ITEM.{1,10}8(|A)[^a-zA-Z]{1,10}(consolidated|financial)', raw_10k, re.IGNORECASE)\n",
    "locations = [x for x in matches]\n",
    "locations[:3]"
   ]
  },
  {
   "cell_type": "code",
   "execution_count": 13,
   "metadata": {},
   "outputs": [
    {
     "name": "stdout",
     "output_type": "stream",
     "text": [
      "0000004515-08-000014\n",
      "[<re.Match object; span=(723646, 723672), match='/a>ITEM&#160;7. MANAGEMENT'>]\n",
      "[<re.Match object; span=(1614421, 1614455), match='/a>ITEM&#160;8A.&#160;CONSOLIDATED'>]\n",
      "\n",
      "\n",
      "0000006201-20-000023\n",
      "[<re.Match object; span=(723646, 723672), match='/a>ITEM&#160;7. MANAGEMENT'>]\n",
      "[<re.Match object; span=(1614421, 1614455), match='/a>ITEM&#160;8A.&#160;CONSOLIDATED'>]\n",
      "\n",
      "\n",
      "0000950134-06-003715\n",
      "[<re.Match object; span=(723646, 723672), match='/a>ITEM&#160;7. MANAGEMENT'>]\n",
      "[<re.Match object; span=(1614421, 1614455), match='/a>ITEM&#160;8A.&#160;CONSOLIDATED'>]\n",
      "\n",
      "\n",
      "0001047469-03-013301\n",
      "[<re.Match object; span=(723646, 723672), match='/a>ITEM&#160;7. MANAGEMENT'>]\n",
      "[<re.Match object; span=(1614421, 1614455), match='/a>ITEM&#160;8A.&#160;CONSOLIDATED'>]\n",
      "\n",
      "\n",
      "0000950134-05-003726\n",
      "[<re.Match object; span=(723646, 723672), match='/a>ITEM&#160;7. MANAGEMENT'>]\n",
      "[<re.Match object; span=(1614421, 1614455), match='/a>ITEM&#160;8A.&#160;CONSOLIDATED'>]\n",
      "\n",
      "\n",
      "0000950134-04-002668\n",
      "[<re.Match object; span=(723646, 723672), match='/a>ITEM&#160;7. MANAGEMENT'>]\n",
      "[<re.Match object; span=(1614421, 1614455), match='/a>ITEM&#160;8A.&#160;CONSOLIDATED'>]\n",
      "\n",
      "\n",
      "0000006201-10-000006\n",
      "[<re.Match object; span=(723646, 723672), match='/a>ITEM&#160;7. MANAGEMENT'>]\n",
      "[<re.Match object; span=(1614421, 1614455), match='/a>ITEM&#160;8A.&#160;CONSOLIDATED'>]\n",
      "\n",
      "\n",
      "0000950123-11-014726\n",
      "[<re.Match object; span=(723646, 723672), match='/a>ITEM&#160;7. MANAGEMENT'>]\n",
      "[<re.Match object; span=(1614421, 1614455), match='/a>ITEM&#160;8A.&#160;CONSOLIDATED'>]\n",
      "\n",
      "\n",
      "0000006201-18-000009\n",
      "[<re.Match object; span=(723646, 723672), match='/a>ITEM&#160;7. MANAGEMENT'>]\n",
      "[<re.Match object; span=(1614421, 1614455), match='/a>ITEM&#160;8A.&#160;CONSOLIDATED'>]\n",
      "\n",
      "\n",
      "0001193125-15-061145\n",
      "[<re.Match object; span=(723646, 723672), match='/a>ITEM&#160;7. MANAGEMENT'>]\n",
      "[<re.Match object; span=(1614421, 1614455), match='/a>ITEM&#160;8A.&#160;CONSOLIDATED'>]\n",
      "\n",
      "\n",
      "0001193125-12-063516\n",
      "[<re.Match object; span=(723646, 723672), match='/a>ITEM&#160;7. MANAGEMENT'>]\n",
      "[<re.Match object; span=(1614421, 1614455), match='/a>ITEM&#160;8A.&#160;CONSOLIDATED'>]\n",
      "\n",
      "\n",
      "0000006201-21-000014\n",
      "[<re.Match object; span=(723646, 723672), match='/a>ITEM&#160;7. MANAGEMENT'>]\n",
      "[<re.Match object; span=(1614421, 1614455), match='/a>ITEM&#160;8A.&#160;CONSOLIDATED'>]\n",
      "\n",
      "\n",
      "0001193125-16-474605\n",
      "[<re.Match object; span=(723646, 723672), match='/a>ITEM&#160;7. MANAGEMENT'>]\n",
      "[<re.Match object; span=(1614421, 1614455), match='/a>ITEM&#160;8A.&#160;CONSOLIDATED'>]\n",
      "\n",
      "\n",
      "0000006201-14-000004\n",
      "[<re.Match object; span=(723646, 723672), match='/a>ITEM&#160;7. MANAGEMENT'>]\n",
      "[<re.Match object; span=(1614421, 1614455), match='/a>ITEM&#160;8A.&#160;CONSOLIDATED'>]\n",
      "\n",
      "\n",
      "0000950134-07-003888\n",
      "[<re.Match object; span=(723646, 723672), match='/a>ITEM&#160;7. MANAGEMENT'>]\n",
      "[<re.Match object; span=(1614421, 1614455), match='/a>ITEM&#160;8A.&#160;CONSOLIDATED'>]\n",
      "\n",
      "\n",
      "0000006201-19-000009\n",
      "[<re.Match object; span=(723646, 723672), match='/a>ITEM&#160;7. MANAGEMENT'>]\n",
      "[<re.Match object; span=(1614421, 1614455), match='/a>ITEM&#160;8A.&#160;CONSOLIDATED'>]\n",
      "\n",
      "\n",
      "0000006201-09-000009\n",
      "[<re.Match object; span=(723646, 723672), match='/a>ITEM&#160;7. MANAGEMENT'>]\n",
      "[<re.Match object; span=(1614421, 1614455), match='/a>ITEM&#160;8A.&#160;CONSOLIDATED'>]\n",
      "\n",
      "\n",
      "0000006201-13-000023\n",
      "[<re.Match object; span=(723646, 723672), match='/a>ITEM&#160;7. MANAGEMENT'>]\n",
      "[<re.Match object; span=(1614421, 1614455), match='/a>ITEM&#160;8A.&#160;CONSOLIDATED'>]\n",
      "\n",
      "\n",
      "0001193125-17-051216\n",
      "[<re.Match object; span=(723646, 723672), match='/a>ITEM&#160;7. MANAGEMENT'>]\n",
      "[<re.Match object; span=(1614421, 1614455), match='/a>ITEM&#160;8A.&#160;CONSOLIDATED'>]\n",
      "\n",
      "\n"
     ]
    }
   ],
   "source": [
    "# Check each filing to make sure there's a match\n",
    "for filing in os.listdir(\"sec-edgar-filings/AAL/10-K/\"):\n",
    "    \n",
    "    locs = []\n",
    "    \n",
    "    if filing == '.DS_Store':\n",
    "        continue\n",
    "        \n",
    "    print(filing)\n",
    "    matches = re.finditer('..>ITEM.{1,10}7[^a-zA-Z]{1,10}management', raw_10k, re.IGNORECASE)\n",
    "    print([x for x in matches])\n",
    "    \n",
    "    matches = re.finditer('..>ITEM.{1,10}8(|A)[^a-zA-Z]{1,10}(consolidated|financial)', raw_10k, re.IGNORECASE)\n",
    "    print([x for x in matches])\n",
    "    print('\\n')"
   ]
  },
  {
   "cell_type": "code",
   "execution_count": 175,
   "metadata": {},
   "outputs": [],
   "source": [
    "# Do the same for all files\n",
    "companies = os.listdir(\"sec-edgar-filings/\")\n",
    "companies = [x for x in companies if x != 'AAL' and x != '.DS_Store']\n",
    "\n",
    "for company in companies:\n",
    "    \n",
    "    logstr = ''\n",
    "    \n",
    "    if company == '.DS_Store' or company == 'AAL':\n",
    "        continue\n",
    "        \n",
    "    pulls = os.listdir(\"sec-edgar-filings/\"+company+\"/10-K/\")\n",
    "    \n",
    "    a = pd.DataFrame()\n",
    "    \n",
    "    \n",
    "    for year in pulls:\n",
    "        if year == '.DS_Store':\n",
    "            continue\n",
    "        #print(year)\n",
    "\n",
    "        try:\n",
    "            f = open(\"sec-edgar-filings/\"+company+\"/10-K/\"+year+\"/filing-details.html\", \"r\")\n",
    "        except:\n",
    "            f = open(\"sec-edgar-filings/\"+company+\"/10-K/\"+year+\"/filing-details.txt\", \"r\")\n",
    "        raw_10k = f.read()\n",
    "        \n",
    "        matches1 = re.finditer(r\"(?s).>IT.{0,20}EM.{1,20}7.{1,400}management\", raw_10k, re.IGNORECASE)\n",
    "        matches2 = re.finditer(r\"(?s).>IT.{0,20}EM.{1,20}8(|A).{1,400}(consolidated|financial)\", raw_10k, re.IGNORECASE)\n",
    "        \n",
    "        logstr += year + '\\n'\n",
    "        logstr += str([x for x in matches1])+ '\\n'\n",
    "        logstr += str([x for x in matches2])+ '\\n'\n",
    "        logstr += '\\n'\n",
    "        \n",
    "    print(logstr, file=open(\"logs/\"+company+\".txt\", \"w\"))"
   ]
  },
  {
   "cell_type": "code",
   "execution_count": 138,
   "metadata": {},
   "outputs": [
    {
     "data": {
      "text/plain": [
       "['0000912057-02-012933']"
      ]
     },
     "execution_count": 138,
     "metadata": {},
     "output_type": "execute_result"
    }
   ],
   "source": [
    "pulls"
   ]
  },
  {
   "cell_type": "code",
   "execution_count": 16,
   "metadata": {},
   "outputs": [
    {
     "data": {
      "text/plain": [
       "['0000912057-02-012933']"
      ]
     },
     "execution_count": 16,
     "metadata": {},
     "output_type": "execute_result"
    }
   ],
   "source": [
    "os.listdir(\"sec-edgar-filings/\"+company+\"/10-K/\")"
   ]
  },
  {
   "cell_type": "markdown",
   "metadata": {},
   "source": [
    "# Debug"
   ]
  },
  {
   "cell_type": "code",
   "execution_count": 181,
   "metadata": {},
   "outputs": [],
   "source": [
    "company = '0001362468'\n",
    "year = '0001047469-10-001935'\n",
    "\n",
    "f = open(\"sec-edgar-filings/\"+company+\"/10-K/\"+year+\"/filing-details.html\", \"r\")\n",
    "raw_10k = str(f.read())"
   ]
  },
  {
   "cell_type": "code",
   "execution_count": 191,
   "metadata": {},
   "outputs": [
    {
     "name": "stdout",
     "output_type": "stream",
     "text": [
      "[<re.Match object; span=(23925, 24333), match='_item_7._management_s_discussio__ite03668\"><p sty>, <re.Match object; span=(24644, 25052), match='_item_7._management_s_discussio__ite03668\"><font >, <re.Match object; span=(372072, 372480), match='_item_7._management_s_discussio__ite03668\"> </a>\\>, <re.Match object; span=(576697, 577119), match='with the remaining 17 aircraft owned free and cle>]\n"
     ]
    }
   ],
   "source": [
    "matches1 = re.finditer(r\"(?s).IT.{0,20}EM.{1,20}7[^a].{1,400}\", raw_10k, re.IGNORECASE)\n",
    "a = [x for x in matches1]\n",
    "print(a)"
   ]
  },
  {
   "cell_type": "code",
   "execution_count": 189,
   "metadata": {},
   "outputs": [
    {
     "data": {
      "text/plain": [
       "[260, 23925, 24644, 25095, 372072, 576697, 609081]"
      ]
     },
     "execution_count": 189,
     "metadata": {},
     "output_type": "execute_result"
    }
   ],
   "source": [
    "locs = [x.start() for x in a]\n",
    "locs"
   ]
  },
  {
   "cell_type": "code",
   "execution_count": 190,
   "metadata": {},
   "outputs": [
    {
     "data": {
      "text/plain": [
       "'e document<br/>\\n<a href=\"#bg41401_table_of_contents\">  TABLE OF CONTENTS</a> <br/>\\n<a href=\"#dm41401_item_7a._quantitative_and_qual__ite02669\">  Item 7A. Quantitative and Qualitative Disclosures about'"
      ]
     },
     "execution_count": 190,
     "metadata": {},
     "output_type": "execute_result"
    }
   ],
   "source": [
    "raw_10k[locs[0]-100:locs[0]+100]"
   ]
  },
  {
   "cell_type": "code",
   "execution_count": 180,
   "metadata": {},
   "outputs": [
    {
     "name": "stdout",
     "output_type": "stream",
     "text": [
      "[]\n"
     ]
    }
   ],
   "source": [
    "matches2 = re.finditer('(?s).>IT.{0,20}EM.{1,20}8(|A).{1,400}FINANCIAL', raw_10k, re.IGNORECASE)\n",
    "b = [x for x in matches2]\n",
    "print(b)"
   ]
  },
  {
   "cell_type": "code",
   "execution_count": 168,
   "metadata": {},
   "outputs": [
    {
     "data": {
      "text/plain": [
       "[40459]"
      ]
     },
     "execution_count": 168,
     "metadata": {},
     "output_type": "execute_result"
    }
   ],
   "source": [
    "locs = [x.start() for x in b]\n",
    "locs"
   ]
  },
  {
   "cell_type": "code",
   "execution_count": 172,
   "metadata": {},
   "outputs": [
    {
     "data": {
      "text/plain": [
       "'p style=\"margin-bottom:0pt;margin-top:0pt;margin-left:10pt;;text-indent:-10pt;;font-size:10pt;font-family:Times New Roman;font-weight:normal;font-style:normal;text-transform:none;font-variant: normal;\">Item&#160;8.&#160;</p></td>\\n<td style=\"padding-left:0pt;padding-Right:0pt;padding-Top:0pt;padding-Bottom:0pt;width:79.34%;\" valign=\"bottom\">\\n<p style=\"margin-bottom:0pt;margin-top:0pt;margin-left:0pt;;text-indent:0pt;;font-size:10pt;font-family:Times New Roman;font-weight:normal;font-style:normal;text-transform:none;font-variant: normal;\"><a href=\"#ITEM8_FINANCIAL_STATEMENTS\"><font style=\"text-d'"
      ]
     },
     "execution_count": 172,
     "metadata": {},
     "output_type": "execute_result"
    }
   ],
   "source": [
    "raw_10k[locs[0]-200:locs[0]+400]"
   ]
  },
  {
   "cell_type": "code",
   "execution_count": null,
   "metadata": {},
   "outputs": [],
   "source": []
  },
  {
   "cell_type": "code",
   "execution_count": 242,
   "metadata": {},
   "outputs": [],
   "source": [
    "# coding=utf8\n",
    "# the above tag defines encoding for this document and is for Python 2.x compatibility\n",
    "\n",
    "import re\n",
    "\n",
    "regex = r\".>ITEM.{1,20}7.*(?<=MANAGEMENT)\"\n",
    "\n",
    "test_str = \"'font style=\\\"DISPLAY: inline; FONT-FAMILY: times new roman; FONT-SIZE: 10pt\\\">&#160;&#160;<a href=\\\"#mda\\\">ITEM&#160;7.</a></font></div>\\\\n</td>\\\\n<td align=\\\"left\\\" colspan=\\\"3\\\" valign=\\\"top\\\" width=\\\"83%\\\">\\\\n<div align=\\\"left\\\" style=\\\"TEXT-INDENT: 0pt; DISPLAY: block; MARGIN-LEFT: 18pt; MARGIN-RIGHT: 0pt\\\"><font style=\\\"DISPLAY: inline; FONT-FAMILY: times new roman; FONT-SIZE: 10pt\\\"><a href=\\\"#mda\\\">MANAGEMENT&#8217;'\"\n",
    "\n",
    "matches = re.finditer(regex, raw_10k, re.MULTILINE)\n",
    "\n",
    "for matchNum, match in enumerate(matches, start=1):\n",
    "    \n",
    "    print (\"Match {matchNum} was found at {start}-{end}: {match}\".format(matchNum = matchNum, start = match.start(), end = match.end(), match = match.group()))\n",
    "    \n",
    "    for groupNum in range(0, len(match.groups())):\n",
    "        groupNum = groupNum + 1\n",
    "        \n",
    "        print (\"Group {groupNum} found at {start}-{end}: {group}\".format(groupNum = groupNum, start = match.start(groupNum), end = match.end(groupNum), group = match.group(groupNum)))\n",
    "\n",
    "# Note: for Python 2.7 compatibility, use ur\"\" to prefix the regex and u\"\" to prefix the test string and substitution."
   ]
  },
  {
   "cell_type": "markdown",
   "metadata": {},
   "source": [
    "# Go the Other Way\n",
    "\n",
    "We have now built upwards, but some matches are too general and catch too many exceptions. Now, we must work backwards to find out why this is the case and see what we can do about it"
   ]
  },
  {
   "cell_type": "code",
   "execution_count": 207,
   "metadata": {},
   "outputs": [
    {
     "name": "stdout",
     "output_type": "stream",
     "text": [
      "matches1 0001172222 0000950136-05-001827\n",
      "\n",
      "matches2 0001172222 0000950136-05-001827\n",
      "\n",
      "matches1 0001362468 0001047469-09-002190\n",
      "\n",
      "matches2 0001362468 0001047469-09-002190\n",
      "\n",
      "matches1 0001362468 0001047469-10-001935\n",
      "\n",
      "matches2 0001362468 0001047469-10-001935\n",
      "\n"
     ]
    }
   ],
   "source": [
    "# Do the same for all files\n",
    "companies = os.listdir(\"sec-edgar-filings/\")\n",
    "companies = [x for x in companies if x != 'AAL' and x != '.DS_Store']\n",
    "\n",
    "for company in companies:\n",
    "    \n",
    "    logstr = ''\n",
    "    \n",
    "    if company == '.DS_Store' or company == 'AAL':\n",
    "        continue\n",
    "        \n",
    "    pulls = os.listdir(\"sec-edgar-filings/\"+company+\"/10-K/\")\n",
    "    \n",
    "    a = pd.DataFrame()\n",
    "    \n",
    "    \n",
    "    for year in pulls:\n",
    "        if year == '.DS_Store':\n",
    "            continue\n",
    "        #print(year)\n",
    "\n",
    "        try:\n",
    "            f = open(\"sec-edgar-filings/\"+company+\"/10-K/\"+year+\"/filing-details.html\", \"r\")\n",
    "        except:\n",
    "            continue\n",
    "            #f = open(\"sec-edgar-filings/\"+company+\"/10-K/\"+year+\"/filing-details.txt\", \"r\")\n",
    "        raw_10k = f.read()\n",
    "        \n",
    "        matches1 = re.finditer(r\"(?s).>IT.{0,20}EM.{1,20}7.{1,400}MANAGEMENT\", raw_10k, re.IGNORECASE)\n",
    "        matches2 = re.finditer(r\"(?s).>IT.{0,20}EM.{1,20}8(|A).{1,400}(CONSOLIDATED|FINANCIAL)\", raw_10k, re.IGNORECASE)\n",
    "        \n",
    "        list_matches1 = [x for x in matches1]\n",
    "        list_matches2 = [x for x in matches2]\n",
    "        \n",
    "        logstr += year + '\\n'\n",
    "        logstr += str(list_matches1)+ '\\n'\n",
    "        logstr += str(list_matches2)+ '\\n'\n",
    "        logstr += '\\n'\n",
    "        \n",
    "        if len(list_matches1) == 0:\n",
    "            print('matches1 '+company+' '+year+'\\n')\n",
    "            \n",
    "        if len(list_matches1) == 0:\n",
    "            print('matches2 '+company+' '+year+'\\n')\n",
    "        \n",
    "    #print(logstr, file=open(\"logs/\"+company+\".txt\", \"w\"))"
   ]
  },
  {
   "cell_type": "markdown",
   "metadata": {},
   "source": [
    "# Debug"
   ]
  },
  {
   "cell_type": "code",
   "execution_count": 196,
   "metadata": {},
   "outputs": [],
   "source": [
    "company = '0000100517'\n",
    "year = '0000100517-04-000007'\n",
    "\n",
    "f = open(\"sec-edgar-filings/\"+company+\"/10-K/\"+year+\"/filing-details.html\", \"r\")\n",
    "raw_10k = str(f.read())"
   ]
  },
  {
   "cell_type": "code",
   "execution_count": 210,
   "metadata": {},
   "outputs": [
    {
     "name": "stdout",
     "output_type": "stream",
     "text": [
      "[<re.Match object; span=(9958, 10069), match='>ITEM 7.</font></td>\\n<td width=\"1%\"><font size=\">, <re.Match object; span=(106868, 106911), match=' Item 7 </font><font size=\"2\"><i>Management'>, <re.Match object; span=(144873, 145031), match='_item_7._management_s_discussio__ite03649\"> </a>\\>, <re.Match object; span=(616867, 616886), match='>ITEM 7. MANAGEMENT'>]\n"
     ]
    }
   ],
   "source": [
    "matches1 = re.finditer(r\"(?s).IT.{0,20}EM.{1,20}7[^a].{1,400}MANAGEMENT\", raw_10k, re.IGNORECASE)\n",
    "a = [x for x in matches1]\n",
    "print(a)"
   ]
  },
  {
   "cell_type": "code",
   "execution_count": null,
   "metadata": {},
   "outputs": [],
   "source": [
    "## locs = [x.start() for x in a]\n",
    "locs"
   ]
  },
  {
   "cell_type": "code",
   "execution_count": 219,
   "metadata": {},
   "outputs": [
    {
     "data": {
      "text/plain": [
       "' size=\"2\"><a href=\"#toc_bg1156_1\">TABLE OF CONTENTS</a></font><br/>\\n<!-- TOC_BEGIN -->\\n<font size=\"2\"><a href=\"#toc_de1156_1\">FORWARD-LOOKING STATEMENTS</a></font><br/>\\n<font size=\"2\"><a href=\"#toc_de1156_2\">PART I</a></font><br/>\\n<ul>\\n<font size=\"2\"><a href=\"#toc_de1156_3\">ITEM 1. BUSINESS.</a></font><br/>\\n</ul>\\n<!-- TOC_BEGIN -->\\n<ul>\\n<font size=\"2\"><a href=\"#toc_dg1156_1\">ITEM 2. PROPERTIES.</a></font><br/>\\n<font size=\"2\"><a href=\"#toc_dg1156_2\">ITEM 4. SUBMISSION OF MATTERS TO A VOTE OF SECURITY HOLDERS.</a></font><br/>\\n</ul>\\n<font size=\"2\"><a href=\"#toc_dg1156_3\">PART II</a></font><br/>\\n<ul>\\n<font size=\"2\"><a href=\"#toc_dg1156_4\">ITEM 5. MARKET PRICE AND DIVIDEND INFORMATION.</a></font><br/>\\n<font size=\"2\"><a href=\"#toc_dg1156_5\">ITEM 6. SELECTED FINANCIAL DATA.</a></font><br/>\\n</ul>\\n<font size=\"2\"><a href=\"#toc_dg1156_6\">Hawaiian Airlines, Inc. Selected Financial and Statistical Data (in thousands, except per share data)</a></font><br/>\\n<ul>\\n<font size=\"2\"><a href=\"#toc_dg1156_7\">ITEM 7. MANAGEMENT\\'S DISCUSSION AND ANALYSIS OF FINANCIAL CONDITION AND RESULTS OF OPERATIONS.</a></font><br/>\\n</ul>\\n<!-- TOC_BEGIN -->\\n<ul>\\n<font size=\"2\"><a href=\"#toc_di1156_1\">ITEM 7A. QUANTITATIVE AND QUALITATIVE DISCLOSURES ABOUT MARKET RISK</a></font><br/>\\n<font size=\"2\"><a href=\"#toc_di1156_2\">ITEM 8. FINANCIAL STATEMENTS AND SUPPLEMENTARY DATA.</a></font><br/>\\n<font size=\"2\"><a href=\"#toc_di1156_3\">ITEM 9. CHANGES IN AND DISAGREEMENTS WITH ACCOUNTANTS ON ACCOUNTING AND FINANCIAL DISCLOSURE.</a></font><br/>\\n</ul>\\n<font size=\"2\"><a href=\"#toc_di1156_4\">PART III</a></font><br/>\\n<ul>\\n<font size=\"2\"><a href=\"#toc_di1156_5\">ITEM 10. DIRECTORS AND EXECUTIVE OFFICERS.</a></font><br/>\\n<font size=\"2\"><a href=\"#toc_di1156_6\">ITEM 11. EXECUTIVE COMPENSATION.</a></font><br/>\\n<font size=\"2\"><a href=\"#toc_di1156_7\">ITEM 12. SECURITY OWNERSHIP OF CERTAIN BENEFICIAL OWNERS AND MANAGEMENT.</a></font><br/>\\n<font size=\"2\"><a href=\"#toc_di1156_8\">ITEM 13. CERTAIN RELATIONSHIPS AND RELATED TRANSAC'"
      ]
     },
     "execution_count": 219,
     "metadata": {},
     "output_type": "execute_result"
    }
   ],
   "source": [
    "idx = 3\n",
    "raw_10k[locs[idx]-1000:locs[idx]+1000]"
   ]
  },
  {
   "cell_type": "code",
   "execution_count": 180,
   "metadata": {},
   "outputs": [
    {
     "name": "stdout",
     "output_type": "stream",
     "text": [
      "[]\n"
     ]
    }
   ],
   "source": [
    "matches2 = re.finditer('(?s).>IT.{0,20}EM.{1,20}8(|A).{1,400}FINANCIAL', raw_10k, re.IGNORECASE)\n",
    "b = [x for x in matches2]\n",
    "print(b)"
   ]
  },
  {
   "cell_type": "code",
   "execution_count": 168,
   "metadata": {},
   "outputs": [
    {
     "data": {
      "text/plain": [
       "[40459]"
      ]
     },
     "execution_count": 168,
     "metadata": {},
     "output_type": "execute_result"
    }
   ],
   "source": [
    "locs = [x.start() for x in b]\n",
    "locs"
   ]
  },
  {
   "cell_type": "code",
   "execution_count": 172,
   "metadata": {},
   "outputs": [
    {
     "data": {
      "text/plain": [
       "'p style=\"margin-bottom:0pt;margin-top:0pt;margin-left:10pt;;text-indent:-10pt;;font-size:10pt;font-family:Times New Roman;font-weight:normal;font-style:normal;text-transform:none;font-variant: normal;\">Item&#160;8.&#160;</p></td>\\n<td style=\"padding-left:0pt;padding-Right:0pt;padding-Top:0pt;padding-Bottom:0pt;width:79.34%;\" valign=\"bottom\">\\n<p style=\"margin-bottom:0pt;margin-top:0pt;margin-left:0pt;;text-indent:0pt;;font-size:10pt;font-family:Times New Roman;font-weight:normal;font-style:normal;text-transform:none;font-variant: normal;\"><a href=\"#ITEM8_FINANCIAL_STATEMENTS\"><font style=\"text-d'"
      ]
     },
     "execution_count": 172,
     "metadata": {},
     "output_type": "execute_result"
    }
   ],
   "source": [
    "raw_10k[locs[0]-200:locs[0]+400]"
   ]
  },
  {
   "cell_type": "code",
   "execution_count": null,
   "metadata": {},
   "outputs": [],
   "source": []
  },
  {
   "cell_type": "code",
   "execution_count": null,
   "metadata": {},
   "outputs": [],
   "source": []
  }
 ],
 "metadata": {
  "kernelspec": {
   "display_name": "Python 3",
   "language": "python",
   "name": "python3"
  },
  "language_info": {
   "codemirror_mode": {
    "name": "ipython",
    "version": 3
   },
   "file_extension": ".py",
   "mimetype": "text/x-python",
   "name": "python",
   "nbconvert_exporter": "python",
   "pygments_lexer": "ipython3",
   "version": "3.7.4"
  }
 },
 "nbformat": 4,
 "nbformat_minor": 2
}
