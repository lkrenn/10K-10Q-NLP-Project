{
 "cells": [
  {
   "cell_type": "markdown",
   "metadata": {},
   "source": [
    "# Analyzing AAL Sentiment Using FinBERT\n",
    "\n",
    "In this notebook, I will be analyzing the different sections of AAL's 10K reports throughout the years, and brainstorm ideas on how I will score companies and create a signal. \n",
    "\n",
    "To get a sentiment score, I will be using an NLP model called FinBERT. You can read more about FinBERT here: https://github.com/ProsusAI/finBERT\n",
    "\n",
    "To fit the model, you will need to download the pre-trained and fine-tuned weights from the following link and unzip to the working directory: https://gohkust-my.sharepoint.com/:u:/g/personal/imyiyang_ust_hk/EQJGiEOkhIlBqlW63TbKA3gBCYgDDcHlBCB7VTXIUMmyiA\n",
    "\n",
    "**Note that I did not include the analyst_tone folder in my repository, this is because it's simply too large to include, so you will need to download it yourself**"
   ]
  },
  {
   "cell_type": "code",
   "execution_count": 6,
   "metadata": {},
   "outputs": [
    {
     "name": "stdout",
     "output_type": "stream",
     "text": [
      "Collecting pytorch_pretrained_bert\n",
      "\u001b[?25l  Downloading https://files.pythonhosted.org/packages/d7/e0/c08d5553b89973d9a240605b9c12404bcf8227590de62bae27acbcfe076b/pytorch_pretrained_bert-0.6.2-py3-none-any.whl (123kB)\n",
      "\u001b[K     |████████████████████████████████| 133kB 4.7MB/s eta 0:00:01\n",
      "\u001b[?25hRequirement already satisfied: tqdm in /Users/lucaskrenn/opt/anaconda3/lib/python3.7/site-packages (from pytorch_pretrained_bert) (4.36.1)\n",
      "Requirement already satisfied: requests in /Users/lucaskrenn/opt/anaconda3/lib/python3.7/site-packages (from pytorch_pretrained_bert) (2.22.0)\n",
      "Requirement already satisfied: torch>=0.4.1 in /Users/lucaskrenn/opt/anaconda3/lib/python3.7/site-packages (from pytorch_pretrained_bert) (1.9.0)\n",
      "Requirement already satisfied: regex in /Users/lucaskrenn/opt/anaconda3/lib/python3.7/site-packages (from pytorch_pretrained_bert) (2020.11.13)\n",
      "Collecting boto3 (from pytorch_pretrained_bert)\n",
      "\u001b[?25l  Downloading https://files.pythonhosted.org/packages/ad/b8/5354b1fc42c188a0de2b0f75e5041df2a85d116f04df3de773fe684baa6b/boto3-1.18.4-py3-none-any.whl (131kB)\n",
      "\u001b[K     |████████████████████████████████| 133kB 7.3MB/s eta 0:00:01\n",
      "\u001b[?25hRequirement already satisfied: numpy in /Users/lucaskrenn/opt/anaconda3/lib/python3.7/site-packages (from pytorch_pretrained_bert) (1.17.2)\n",
      "Requirement already satisfied: idna<2.9,>=2.5 in /Users/lucaskrenn/opt/anaconda3/lib/python3.7/site-packages (from requests->pytorch_pretrained_bert) (2.8)\n",
      "Requirement already satisfied: chardet<3.1.0,>=3.0.2 in /Users/lucaskrenn/opt/anaconda3/lib/python3.7/site-packages (from requests->pytorch_pretrained_bert) (3.0.4)\n",
      "Requirement already satisfied: urllib3!=1.25.0,!=1.25.1,<1.26,>=1.21.1 in /Users/lucaskrenn/opt/anaconda3/lib/python3.7/site-packages (from requests->pytorch_pretrained_bert) (1.24.2)\n",
      "Requirement already satisfied: certifi>=2017.4.17 in /Users/lucaskrenn/opt/anaconda3/lib/python3.7/site-packages (from requests->pytorch_pretrained_bert) (2020.12.5)\n",
      "Requirement already satisfied: typing-extensions in /Users/lucaskrenn/opt/anaconda3/lib/python3.7/site-packages (from torch>=0.4.1->pytorch_pretrained_bert) (3.7.4.3)\n",
      "Collecting botocore<1.22.0,>=1.21.4 (from boto3->pytorch_pretrained_bert)\n",
      "\u001b[?25l  Downloading https://files.pythonhosted.org/packages/4c/01/95c24f1f728692ed5d347c284340f06c1591e7e19b6e4f8a04e263da3f19/botocore-1.21.4-py3-none-any.whl (7.7MB)\n",
      "\u001b[K     |████████████████████████████████| 7.7MB 6.2MB/s eta 0:00:01\n",
      "\u001b[?25hCollecting s3transfer<0.6.0,>=0.5.0 (from boto3->pytorch_pretrained_bert)\n",
      "\u001b[?25l  Downloading https://files.pythonhosted.org/packages/ab/84/fc3717a7b7f0f6bb08af593127171f08e3e0087c197922da09c01bfe7c3a/s3transfer-0.5.0-py3-none-any.whl (79kB)\n",
      "\u001b[K     |████████████████████████████████| 81kB 2.7MB/s eta 0:00:01\n",
      "\u001b[?25hRequirement already satisfied: jmespath<1.0.0,>=0.7.1 in /Users/lucaskrenn/.local/lib/python3.7/site-packages (from boto3->pytorch_pretrained_bert) (0.9.3)\n",
      "Requirement already satisfied: python-dateutil<3.0.0,>=2.1 in /Users/lucaskrenn/opt/anaconda3/lib/python3.7/site-packages (from botocore<1.22.0,>=1.21.4->boto3->pytorch_pretrained_bert) (2.8.0)\n",
      "Requirement already satisfied: six>=1.5 in /Users/lucaskrenn/opt/anaconda3/lib/python3.7/site-packages (from python-dateutil<3.0.0,>=2.1->botocore<1.22.0,>=1.21.4->boto3->pytorch_pretrained_bert) (1.12.0)\n",
      "\u001b[31mERROR: botocore 1.21.4 has requirement urllib3<1.27,>=1.25.4, but you'll have urllib3 1.24.2 which is incompatible.\u001b[0m\n",
      "\u001b[31mERROR: awscli 1.16.96 has requirement botocore==1.12.86, but you'll have botocore 1.21.4 which is incompatible.\u001b[0m\n",
      "\u001b[31mERROR: awscli 1.16.96 has requirement PyYAML<=3.13,>=3.10, but you'll have pyyaml 5.1.2 which is incompatible.\u001b[0m\n",
      "\u001b[31mERROR: awscli 1.16.96 has requirement s3transfer<0.2.0,>=0.1.12, but you'll have s3transfer 0.5.0 which is incompatible.\u001b[0m\n",
      "Installing collected packages: botocore, s3transfer, boto3, pytorch-pretrained-bert\n",
      "  Found existing installation: botocore 1.12.86\n",
      "    Uninstalling botocore-1.12.86:\n",
      "      Successfully uninstalled botocore-1.12.86\n",
      "  Found existing installation: s3transfer 0.1.13\n",
      "    Uninstalling s3transfer-0.1.13:\n",
      "      Successfully uninstalled s3transfer-0.1.13\n",
      "Successfully installed boto3-1.18.4 botocore-1.21.4 pytorch-pretrained-bert-0.6.2 s3transfer-0.5.0\n"
     ]
    }
   ],
   "source": [
    "!pip install pytorch_pretrained_bert "
   ]
  },
  {
   "cell_type": "code",
   "execution_count": 7,
   "metadata": {},
   "outputs": [
    {
     "ename": "ModuleNotFoundError",
     "evalue": "No module named 'bertModel'",
     "output_type": "error",
     "traceback": [
      "\u001b[0;31m---------------------------------------------------------------------------\u001b[0m",
      "\u001b[0;31mModuleNotFoundError\u001b[0m                       Traceback (most recent call last)",
      "\u001b[0;32m<ipython-input-7-69e03d7737f8>\u001b[0m in \u001b[0;36m<module>\u001b[0;34m\u001b[0m\n\u001b[1;32m      4\u001b[0m \u001b[0;32mimport\u001b[0m \u001b[0mtorch\u001b[0m\u001b[0;34m.\u001b[0m\u001b[0mnn\u001b[0m\u001b[0;34m.\u001b[0m\u001b[0mfunctional\u001b[0m \u001b[0;32mas\u001b[0m \u001b[0mF\u001b[0m\u001b[0;34m\u001b[0m\u001b[0;34m\u001b[0m\u001b[0m\n\u001b[1;32m      5\u001b[0m \u001b[0;32mfrom\u001b[0m \u001b[0mpytorch_pretrained_bert\u001b[0m \u001b[0;32mimport\u001b[0m \u001b[0mBertTokenizer\u001b[0m\u001b[0;34m\u001b[0m\u001b[0;34m\u001b[0m\u001b[0m\n\u001b[0;32m----> 6\u001b[0;31m \u001b[0;32mfrom\u001b[0m \u001b[0mbertModel\u001b[0m \u001b[0;32mimport\u001b[0m \u001b[0mBertClassification\u001b[0m\u001b[0;34m\u001b[0m\u001b[0;34m\u001b[0m\u001b[0m\n\u001b[0m",
      "\u001b[0;31mModuleNotFoundError\u001b[0m: No module named 'bertModel'"
     ]
    }
   ],
   "source": [
    "import numpy as np \n",
    "import pandas as pd\n",
    "import torch\n",
    "import torch.nn.functional as F\n",
    "from pytorch_pretrained_bert import BertTokenizer\n",
    "from bertModel import BertClassification"
   ]
  },
  {
   "cell_type": "code",
   "execution_count": 1,
   "metadata": {},
   "outputs": [],
   "source": [
    "labels = {0:'neutral', 1:'positive',2:'negative'}\n",
    "num_labels= len(labels)\n",
    "vocab = \"finance-uncased\"\n",
    "vocab_path = 'analyst_tone/vocab'\n",
    "pretrained_weights_path = \"analyst_tone/pretrained_weights\" # this is pre-trained FinBERT weights\n",
    "fine_tuned_weight_path = \"analyst_tone/fine_tuned.pth\"      # this is fine-tuned FinBERT weights\n",
    "max_seq_length=512\n",
    "device='cuda:1'"
   ]
  },
  {
   "cell_type": "code",
   "execution_count": null,
   "metadata": {},
   "outputs": [],
   "source": []
  }
 ],
 "metadata": {
  "kernelspec": {
   "display_name": "Python 3",
   "language": "python",
   "name": "python3"
  },
  "language_info": {
   "codemirror_mode": {
    "name": "ipython",
    "version": 3
   },
   "file_extension": ".py",
   "mimetype": "text/x-python",
   "name": "python",
   "nbconvert_exporter": "python",
   "pygments_lexer": "ipython3",
   "version": "3.7.4"
  }
 },
 "nbformat": 4,
 "nbformat_minor": 2
}
