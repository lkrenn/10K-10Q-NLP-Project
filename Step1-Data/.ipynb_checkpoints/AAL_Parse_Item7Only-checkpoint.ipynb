{
 "cells": [
  {
   "cell_type": "markdown",
   "metadata": {},
   "source": [
    "# Retrieving Data From Edgar\n",
    "\n",
    "In this notebook, I will explore pulling the necessary data from EDGAR--a public database containing all the quarterly and annual financial reports required by law. First, I will take a look at one company, American Airlines (AAL), and then extrapolate the code to include all necessary companies. \n",
    "\n",
    "We will be using the sec_edgar_downloader package for this, as it is an extremely powerful and simple tool to scrape the necessary data. More information about the package can be found here:\n",
    "\n",
    "https://pypi.org/project/sec-edgar-downloader/"
   ]
  },
  {
   "cell_type": "code",
   "execution_count": 2,
   "metadata": {},
   "outputs": [],
   "source": [
    "from bs4 import BeautifulSoup\n",
    "import numpy as np\n",
    "import pandas as pd\n",
    "import os\n",
    "import re\n",
    "import html2text\n",
    "import pickle\n",
    "from sec_edgar_downloader import Downloader"
   ]
  },
  {
   "cell_type": "markdown",
   "metadata": {},
   "source": [
    "## American Airlines Sample\n",
    "\n",
    "First, we will start with the 10K filing. I provided my opinion on the valuable parts in the 10K analysis file found in the github. "
   ]
  },
  {
   "cell_type": "code",
   "execution_count": 3,
   "metadata": {},
   "outputs": [],
   "source": [
    "company = 'American Airlines Inc'\n",
    "ticker = 'AAL'\n",
    "\n",
    "# Initialize a downloader instance. If no argument is passed\n",
    "# to the constructor, the package will download filings to\n",
    "# the current working directory.\n",
    "dl = Downloader()"
   ]
  },
  {
   "cell_type": "code",
   "execution_count": 4,
   "metadata": {},
   "outputs": [
    {
     "data": {
      "text/plain": [
       "19"
      ]
     },
     "execution_count": 4,
     "metadata": {},
     "output_type": "execute_result"
    }
   ],
   "source": [
    "# Get all 10-K filings for American Airlines (ticker: AAL) from 2000 onwards\n",
    "dl.get(\"10-K\", ticker, after=\"2000-01-01\")"
   ]
  },
  {
   "cell_type": "markdown",
   "metadata": {},
   "source": [
    "The above request downloads the specified reports into the working directory: "
   ]
  },
  {
   "cell_type": "code",
   "execution_count": 4,
   "metadata": {},
   "outputs": [
    {
     "data": {
      "text/plain": [
       "['0000004515-08-000014',\n",
       " '0000006201-20-000023',\n",
       " '0000950134-06-003715',\n",
       " '0001047469-03-013301',\n",
       " '0000950134-05-003726',\n",
       " '0000950134-04-002668',\n",
       " '0000006201-10-000006',\n",
       " '0000950123-11-014726',\n",
       " '0000006201-18-000009',\n",
       " '0001193125-15-061145']"
      ]
     },
     "execution_count": 4,
     "metadata": {},
     "output_type": "execute_result"
    }
   ],
   "source": [
    "pulls = os.listdir(\"sec-edgar-filings/AAL/10-K\")\n",
    "pulls[:10]"
   ]
  },
  {
   "cell_type": "code",
   "execution_count": 5,
   "metadata": {},
   "outputs": [
    {
     "data": {
      "text/plain": [
       "['full-submission.txt', 'filing-details.html']"
      ]
     },
     "execution_count": 5,
     "metadata": {},
     "output_type": "execute_result"
    }
   ],
   "source": [
    "# We want the one from 2021\n",
    "os.listdir(\"sec-edgar-filings/AAL/10-K/0001193125-15-061145\")"
   ]
  },
  {
   "cell_type": "markdown",
   "metadata": {},
   "source": [
    "We can see here that there are two files. Let us explore these files:"
   ]
  },
  {
   "cell_type": "code",
   "execution_count": 6,
   "metadata": {
    "scrolled": false
   },
   "outputs": [],
   "source": [
    "# Get the most recent filing\n",
    "f = open(\"sec-edgar-filings/AAL/10-K/0001193125-15-061145/filing-details.html\", \"r\")\n",
    "raw_10k = f.read()"
   ]
  },
  {
   "cell_type": "code",
   "execution_count": 7,
   "metadata": {},
   "outputs": [
    {
     "name": "stdout",
     "output_type": "stream",
     "text": [
      "<html><body><document>\n",
      "<type>10-K\n",
      "<sequence>1\n",
      "<filename>d829913d10k.htm\n",
      "<description>FORM 10-K\n",
      "<text>\n",
      "<title>Form 10-K</title>\n",
      "<h5 align=\"left\"><a href=\"#toc\">Table of Contents</a></h5>\n",
      "<p style=\"line-height:4px;margin-top:0px;margin-bottom:0px;border-bottom:2pt solid #000000\">&#160;</p>\n",
      "<p style=\"line-height:3px;margin-top:0px;margin-bottom:2px;border-bottom:0.5pt solid #000000\">&#160;</p> <p align=\"center\" style=\"margin-top:1px;margin-bottom:0px\"><font size=\"2\" style=\"font-family:Times New Rom\n"
     ]
    }
   ],
   "source": [
    "print(raw_10k[:500])"
   ]
  },
  {
   "cell_type": "code",
   "execution_count": 81,
   "metadata": {},
   "outputs": [],
   "source": [
    "soup = BeautifulSoup(raw_10k, 'lxml')"
   ]
  },
  {
   "cell_type": "code",
   "execution_count": 100,
   "metadata": {},
   "outputs": [
    {
     "data": {
      "text/plain": [
       "'\\n10-K\\n1\\nd829913d10k.htm\\nFORM 10-K\\n\\nForm 10-K\\nTable of Contents\\n\\xa0\\n\\xa0 UNITED STATES SECURITIES AND\\nEXCHANGE COMMISSION  Washington, D.C. 20549 \\n\\xa0 \\xa0\\nFORM 10-K  \\xa0\\n\\xa0 \\xa0\\n\\n\\nþ\\n ANNUAL REPORT PURSUANT TO SECTION\\xa013 OR 15(d) OF THE SECURITIES EXCHANGE ACT OF 1934 \\nFor the Fiscal Year Ended December\\xa031, 2014 \\n\\xa0\\n\\n\\n¨\\n TRANSITION REPORT PURSUANT TO SECTION\\xa013 OR 15(d) OF THE SECURITIES EXCHANGE ACT OF 1934 \\nFor the Transition Period\\nFrom\\xa0\\xa0\\xa0\\xa0\\xa0\\xa0\\xa0\\xa0\\xa0\\xa0\\xa0\\xa0\\xa0\\xa0\\xa0\\xa0\\xa0\\xa0\\xa0\\xa0 to\\xa0\\xa0\\xa0\\xa0\\xa0\\xa0\\xa0\\xa0\\xa0\\xa0\\xa0\\xa0\\xa0\\xa0\\xa0\\xa0\\xa0\\xa0\\xa0\\xa0\\n Commission file number 1-8400 '"
      ]
     },
     "execution_count": 100,
     "metadata": {},
     "output_type": "execute_result"
    }
   ],
   "source": [
    "cleaned_soup = soup.text\n",
    "cleaned_soup[:500]"
   ]
  },
  {
   "cell_type": "code",
   "execution_count": 38,
   "metadata": {},
   "outputs": [
    {
     "data": {
      "text/plain": [
       "'10-K\\n1\\nd829913d10k.htm\\nFORM 10-K\\n\\nForm 10-K\\nTable of Contents\\n\\xa0\\n\\xa0 UNITED STATES SECURITIES AND\\nEXCHANGE COMMISSION  Washington, D.C. 20549 \\n\\xa0 \\xa0\\nFORM 10-K  \\xa0\\n\\xa0 \\xa0\\n\\n\\nþ\\n ANNUAL REPORT PURSUANT TO SECTION\\xa013 OR 15(d) OF THE SECURITIES EXCHANGE ACT OF 1934 \\nFor the Fiscal Year Ended December\\xa031, 2014 \\n\\xa0\\n\\n\\n¨\\n TRANSITION REPORT PURSUANT TO SECTION\\xa013 OR 15(d) OF THE SECURITIES EXCHANGE ACT OF 1934 \\nFor the Transition Period\\nFrom\\xa0\\xa0\\xa0\\xa0\\xa0\\xa0\\xa0\\xa0\\xa0\\xa0\\xa0\\xa0\\xa0\\xa0\\xa0\\xa0\\xa0\\xa0\\xa0\\xa0 to\\xa0\\xa0\\xa0\\xa0\\xa0\\xa0\\xa0\\xa0\\xa0\\xa0\\xa0\\xa0\\xa0\\xa0\\xa0\\xa0\\xa0\\xa0\\xa0\\xa0\\n Commission file number 1-8400 '"
      ]
     },
     "execution_count": 38,
     "metadata": {},
     "output_type": "execute_result"
    }
   ],
   "source": [
    "cleaned_soup[:500].lstrip()"
   ]
  },
  {
   "cell_type": "code",
   "execution_count": 86,
   "metadata": {},
   "outputs": [],
   "source": [
    "cleaned_soup = '\\n'.join(' '.join(line.split()) for line in cleaned_soup.split('\\n'))"
   ]
  },
  {
   "cell_type": "code",
   "execution_count": 160,
   "metadata": {},
   "outputs": [
    {
     "data": {
      "text/plain": [
       "'10-K 1 d829913d10k.htm FORM 10-K Form 10-K Table of Contents UNITED STATES SECURITIES AND EXCHANGE COMMISSION Washington, D.C. 20549 FORM 10-K þ ANNUAL REPORT PURSUANT TO SECTION 13 OR 15(d) OF THE SECURITIES EXCHANGE ACT OF 1934 For the Fiscal Year Ended December 31, 2014 ¨ TRANSITION REPORT PURSUANT TO SECTION 13 OR 15(d) OF THE SECURITIES EXCHANGE ACT OF 1934 For the Transition Period From to Commission file number 1-8400 American Airlines Group Inc. (Exact name of registrant as specified in '"
      ]
     },
     "execution_count": 160,
     "metadata": {},
     "output_type": "execute_result"
    }
   ],
   "source": [
    "cleaned_soup[:500]"
   ]
  },
  {
   "cell_type": "code",
   "execution_count": 83,
   "metadata": {},
   "outputs": [],
   "source": [
    "exp = re.compile(\"[^\\S\\r\\n]\")\n",
    "res = exp.sub('', cleaned_soup)"
   ]
  },
  {
   "cell_type": "code",
   "execution_count": 84,
   "metadata": {},
   "outputs": [
    {
     "data": {
      "text/plain": [
       "'\\n10-K\\n1\\nd829913d10k.htm\\nFORM10-K\\n\\nForm10-K\\nTableofContents\\n\\nUNITEDSTATESSECURITIESAND\\nEXCHANGECOMMISSIONWashington,D.C.20549\\n\\nFORM10-K\\n\\n\\n\\nþ\\nANNUALREPORTPURSUANTTOSECTION13OR15(d)OFTHESECURITIESEXCHANGEACTOF1934\\nFortheFiscalYearEndedDecember31,2014\\n\\n\\n\\n¨\\nTRANSITIONREPORTPURSUANTTOSECTION13OR15(d)OFTHESECURITIESEXCHANGEACTOF1934\\nFortheTransitionPeriod\\nFromto\\nCommissionfilenumber1-8400\\nAmerican\\nAirlinesGroupInc.(Exactnameofregistrantasspecifiedinitscharter)\\n\\n\\n\\n\\n\\n\\n\\n\\nDelaware\\n\\n75-1825172\\n\\n(Stateorotherjurisdictionof\\nincorporationororganization)\\n\\n(I.R.S.EmployerIdentificationNo.)\\n\\n4333AmonCarterBlvd.,FortWorth,Texas76155\\n\\n(817)963-1234\\n\\n(Addressofprincipalexecutiveoffices,includingzipcode)\\n\\nRegistrant\\x92stelephonenumber,includingareacode\\n(Formername,formeraddressand\\nformerfiscalyear,ifchangedsincelastreport)SecuritiesregisteredpursuanttoSection12(b)oftheAct:\\n\\n\\n\\n\\n\\n\\n\\n\\n\\nNameofExchangeonWhichRegistered\\n\\nCommonStock,$0.01parvaluepershare\\n\\nNASDAQ\\nSecuritiesregisteredpursuanttoSection12(g)oftheAct:None\\n\\nAmericanAirlines,Inc.(Exactnameofregistrantasspecifiedinitscharter)\\n\\n\\n\\n\\n\\n\\n\\nDelaware\\n\\n13-1502798\\n\\n(Stateorotherjurisdictionof\\nincorporationororganization)\\n\\n(I.R.S.EmployerIdentificationNo.)\\n\\n4333AmonCarterBlvd.,FortWorth,Texas76155\\n\\n(817)963-1234\\n\\n(Addressofprincipalexecutiveoffices,includingzipcode)\\n\\nRegistrant\\x92stelephonenumber,includingareacode\\nSecuritiesregisteredpursuanttoSection12(b)oftheAct:None\\nSecuritiesregisteredpursuanttoSection12(g)oftheAct:None\\n\\nIndicatebycheckmarkiftheregistrantisawell-knownseasonedissuer,asdefinedinRule405oftheSecuritiesAct.\\n\\n\\n\\n\\n\\n\\n\\n\\n\\nAmericanAirlinesGroupInc.\\n\\nYesþ\\n\\nNo¨\\n\\nAmericanAirlines,Inc.\\n\\nYesþ\\n\\nNo¨\\nIndicatebycheckmarkiftheregistrantisnotrequiredtofilereportspursuantto\\nSection13orSection15(d)oftheAct.\\n\\n\\n\\n\\n\\n\\n\\n\\nAmericanAirlinesGroupInc.\\n\\nYes¨\\n\\nNoþ\\n\\nAmericanAirlines,Inc.\\n\\nYes¨\\n\\nNoþ\\nIndicatebycheckmarkwhethertheregistrant(1)hasfiledallreportsrequiredto\\nbefiledbySection13or15(d)oftheSecuritiesExchangeActof1934duringthepreceding12months(orforsuchshorterperiodthattheregistrantwasrequiredtofilesuchreports),and(2)hasbeensubjecttosuchfilingrequirements\\nforthepast90days.\\n\\n\\n\\n\\n\\n\\n\\n\\nAmericanAirlinesGroupInc.\\n\\nYesþ\\n\\nNo¨\\n\\nAmericanAirlines,Inc.\\n\\nYesþ\\n\\nNo¨\\nIndicatebycheckmarkwhethertheregistranthassubmittedelectronicallyandpostedon\\nitscorporateWebsite,ifany,everyInteractiveDataFilerequiredtobesubmittedandpostedpursuanttoRule405ofRegulationS-T(§232.405ofthischapter)duringthepreceding12months(orforsuchshorterperiodthattheregistrantwas\\nrequiredtosubmitandpostsuchfiles).\\n\\n\\n\\n\\n\\n\\n\\n\\nAmericanAirlinesGroupInc.\\n\\nYesþ\\n\\nNo¨\\n\\nAmericanAirlines,Inc.\\n\\nYesþ\\n\\nNo¨\\nIndicatebycheckmarkifdisclosureofdelinquentfilerspursuanttoItem405of\\nRegulationS-K(§229.405)isnotcontainedherein,andwillnotbecontained,tothebestofregistrant\\x92sknowledge,indefinitiveproxyorinformationstatementsincorporatedbyreferenceinPartIIIofthisForm10-Koranyamendmentto\\nthisForm10-K.\\n\\n\\n\\n\\n\\n\\nAmericanAirlinesGroupInc.\\n\\n¨\\n\\nAmericanAirlines,Inc.\\n\\nþ\\nIndicatebycheckmarkwhethertheregistrantisalargeacceleratedfiler,anaccelerated\\nfiler,oranon-acceleratedfiler.Seedefinitionof\\x93acceleratedfiler\\x94and\\x93largeacceleratedfiler\\x94inRule12b-2oftheExchangeAct.\\n\\n\\n\\n\\n\\n\\n\\n\\n\\n\\n\\n\\nAmericanAirlinesGroupInc.þ\\n\\nLargeAcceleratedFiler¨\\n\\nAcceleratedFiler¨\\n\\nNon-acceleratedFiler¨\\n\\nSmallerReportingCompany\\n\\nAmericanAirlines,Inc.¨\\n\\nLargeAcceleratedFiler¨\\n\\nAcceleratedFilerþ\\n\\nNon-acceleratedFiler¨\\n\\nSmallerReportingCompany\\nIndicatebycheckmarkwhethertheregistrantisashellcompany(asdefinedinRule12b-2\\noftheAct).\\n\\n\\n\\n\\n\\n\\n\\n\\nAmericanAirlinesGroupInc.\\n\\nYes¨\\n\\nNoþ\\n\\nAmericanAirlines,Inc.\\n\\nYes¨\\n\\nNoþ\\nIndicatebycheckmarkwhethertheregistranthasfiledalldocumentsandreportsrequired\\ntobefiledbySection12,13,or15(d)oftheSecuritiesExchangeActof1934subsequenttothedistributionofsecuritiesunderaplanconfirmedbyacourt.\\n\\n\\n\\n\\n\\n\\n\\n\\nAmericanAirlinesGroupInc.\\n\\nYesþ\\n\\nNo¨\\n\\nAmericanAirlines,Inc.\\n\\nYesþ\\n\\nNo¨\\nAsofFebruary20,2015,therewere696,649,850sharesofAmericanAirlines\\nGroupInc.commonstockoutstanding.Theaggregatemarketvalueofthevotingstockheldbynon-affiliatesoftheregistrantasofJune30,2014,wasapproximately$31billion.\\nAsofFebruary20,2015,therewere1,000sharesofAmericanAirlines,Inc.commonstockoutstanding,allofwhich\\nwereheldbyAmericanAirlinesGroupInc.DOCUMENTSINCORPORATEDBYREFERENCE\\nPortionsoftheproxystatementrelatedtoAmericanAirlinesGroupInc.\\x92s2015AnnualMeetingofStockholders,which\\nproxystatementwillbefiledundertheSecuritiesExchangeActof1934within120daysoftheendofAmericanAirlinesGroupInc.\\x92sfiscalyearendedDecember31,2014,areincorporatedbyreferenceintoPartIIIofthisAnnual\\nReportonForm10-K.\\n\\n\\n\\nTableofContents\\nAmericanAirlinesGroupInc.\\nAmericanAirlines,Inc.Form10-KYearEndedDecember31,2014\\nTableofContents\\n\\n\\n\\n\\n\\n\\n\\n\\n\\n\\n\\n\\n\\n\\nPage\\n\\n\\nPARTI\\n\\n\\nItem1.\\n\\nBusiness\\n\\n\\n5\\n\\n\\nItem1A.\\n\\nRiskFactors\\n\\n\\n30\\n\\n\\nItem1B.\\n\\nUnresolvedStaffComments\\n\\n\\n52\\n\\n\\nItem2.\\n\\nProperties\\n\\n\\n53\\n\\n\\nItem3.\\n\\nLegalProceedings\\n\\n\\n56\\n\\n\\nItem4.\\n\\nMineSafetyDisclosures\\n\\n\\n57\\n\\n\\n\\n\\nPARTII\\n\\n\\nItem5.\\n\\nMarketforAmericanAirlinesGroup\\x92sCommonStock,RelatedStockholderMattersandIssuerPurchases\\n\\n\\n58\\n\\n\\nItem6.\\n\\nSelectedConsolidatedFinancia'"
      ]
     },
     "execution_count": 84,
     "metadata": {},
     "output_type": "execute_result"
    }
   ],
   "source": [
    "res[:5000]"
   ]
  },
  {
   "cell_type": "code",
   "execution_count": 21,
   "metadata": {},
   "outputs": [
    {
     "data": {
      "text/plain": [
       "'10-K 1 d829913d10k.htm FORM 10-K Form 10-K Table of Contents UNITED STATES SECURITIES AND EXCHANGE COMMISSION Washington, D.C. 20549 FORM 10-K þ ANNUAL REPORT PURSUANT TO SECTION 13 OR 15(d) OF THE SECURITIES EXCHANGE ACT OF 1934 For the Fiscal Year Ended December 31, 2014 ¨ TRANSITION REPORT PURSUANT TO SECTION 13 OR 15(d) OF THE SECURITIES EXCHANGE ACT OF 1934 For the Transition Period From to Commission file number 1-8400 American Airlines Group Inc. (Exact name of registrant as specified in '"
      ]
     },
     "execution_count": 21,
     "metadata": {},
     "output_type": "execute_result"
    }
   ],
   "source": [
    "cleaned_soup = ' '.join(cleaned_soup.split())\n",
    "cleaned_soup[:500]"
   ]
  },
  {
   "cell_type": "code",
   "execution_count": 22,
   "metadata": {},
   "outputs": [
    {
     "data": {
      "text/plain": [
       "'(1.|2.|3.|4.|5.|6.|7.|8.|9.|10.|11.|12.|13.|14.|15.|16.)'"
      ]
     },
     "execution_count": 22,
     "metadata": {},
     "output_type": "execute_result"
    }
   ],
   "source": [
    "searchstr = '('\n",
    "for i in range(1,16):\n",
    "    searchstr+=str(i)+'.|'\n",
    "\n",
    "searchstr+='16.)'\n",
    "searchstr"
   ]
  },
  {
   "cell_type": "code",
   "execution_count": 48,
   "metadata": {},
   "outputs": [
    {
     "data": {
      "text/plain": [
       "[]"
      ]
     },
     "execution_count": 48,
     "metadata": {},
     "output_type": "execute_result"
    }
   ],
   "source": [
    "matches = re.finditer(\"Item\\s\"+searchstr, cleaned_soup, re.IGNORECASE)\n",
    "locations = [x for x in matches]\n",
    "locations"
   ]
  },
  {
   "cell_type": "code",
   "execution_count": 89,
   "metadata": {},
   "outputs": [],
   "source": [
    "item = [None]*20\n",
    "item[0]  = 'ITEM\\s1.{0,20}business'\n",
    "item[1]  = 'ITEM\\s1a.{0,20}risk'\n",
    "item[2]  = 'ITEM\\s1b.{0,20}unresolved'\n",
    "item[3]  = 'ITEM\\s2.{0,20}properties'\n",
    "item[4]  = 'ITEM\\s3.{0,20}legal'\n",
    "item[5]  = 'ITEM\\s4.{0,20}mine'\n",
    "item[6]  = 'ITEM\\s5.{0,20}market'\n",
    "item[7]  = 'ITEM\\s6.{0,20}selected'\n",
    "item[8]  = 'ITEM\\s7.{0,20}management'\n",
    "item[9]  = 'ITEM\\s7a.{0,20}quantitative'\n",
    "item[10] = 'ITEM\\s8.{0,20}financial'\n",
    "item[11] = 'ITEM\\s9.{0,20}changes'\n",
    "item[12] = 'ITEM\\s9a.{0,20}controls'\n",
    "item[13] = 'ITEM\\s9b.{0,20}other'\n",
    "item[14] = 'ITEM\\s10.{0,30}directors'\n",
    "item[15] = 'ITEM\\s11.{0,30}'\n",
    "item[16] = 'ITEM\\s12.{0,20}security'\n",
    "item[17] = 'ITEM\\s13.{0,20}certain'\n",
    "item[18] = 'ITEM\\s14.{0,20}principal'\n",
    "item[19] = 'ITEM\\s15.{0,20}exhibits'"
   ]
  },
  {
   "cell_type": "code",
   "execution_count": 90,
   "metadata": {},
   "outputs": [],
   "source": [
    "searchstr = '('\n",
    "for i in range(19):\n",
    "    searchstr += item[i] + '[a-z]{0,20}\\n|'\n",
    "searchstr += item[19]+')'"
   ]
  },
  {
   "cell_type": "code",
   "execution_count": 95,
   "metadata": {},
   "outputs": [
    {
     "data": {
      "text/plain": [
       "'(ITEM\\\\s1.{0,20}business[a-z]{0,20}\\n|ITEM\\\\s1a.{0,20}risk[a-z]{0,20}\\n|ITEM\\\\s1b.{0,20}unresolved[a-z]{0,20}\\n|ITEM\\\\s2.{0,20}properties[a-z]{0,20}\\n|ITEM\\\\s3.{0,20}legal[a-z]{0,20}\\n|ITEM\\\\s4.{0,20}mine[a-z]{0,20}\\n|ITEM\\\\s5.{0,20}market[a-z]{0,20}\\n|ITEM\\\\s6.{0,20}selected[a-z]{0,20}\\n|ITEM\\\\s7.{0,20}management[a-z]{0,20}\\n|ITEM\\\\s7a.{0,20}quantitative[a-z]{0,20}\\n|ITEM\\\\s8.{0,20}financial[a-z]{0,20}\\n|ITEM\\\\s9.{0,20}changes[a-z]{0,20}\\n|ITEM\\\\s9a.{0,20}controls[a-z]{0,20}\\n|ITEM\\\\s9b.{0,20}other[a-z]{0,20}\\n|ITEM\\\\s10.{0,30}directors[a-z]{0,20}\\n|ITEM\\\\s11.{0,30}[a-z]{0,20}\\n|ITEM\\\\s12.{0,20}security[a-z]{0,20}\\n|ITEM\\\\s13.{0,20}certain[a-z]{0,20}\\n|ITEM\\\\s14.{0,20}principal[a-z]{0,20}\\n|ITEM\\\\s15.{0,20}exhibits)'"
      ]
     },
     "execution_count": 95,
     "metadata": {},
     "output_type": "execute_result"
    }
   ],
   "source": [
    "searchstr"
   ]
  },
  {
   "cell_type": "code",
   "execution_count": 111,
   "metadata": {},
   "outputs": [
    {
     "data": {
      "text/plain": [
       "[<re.Match object; span=(5703, 5734), match='Item 8A. Consolidated Financial'>,\n",
       " <re.Match object; span=(5805, 5836), match='Item 8B. Consolidated Financial'>,\n",
       " <re.Match object; span=(428244, 428275), match='ITEM 8A. CONSOLIDATED FINANCIAL'>,\n",
       " <re.Match object; span=(650747, 650778), match='ITEM 8B. CONSOLIDATED FINANCIAL'>]"
      ]
     },
     "execution_count": 111,
     "metadata": {},
     "output_type": "execute_result"
    }
   ],
   "source": [
    "matches = re.finditer('ITEM\\s8.{0,20}financial', cleaned_soup, re.IGNORECASE)\n",
    "locations = [x for x in matches]\n",
    "locations"
   ]
  },
  {
   "cell_type": "code",
   "execution_count": 96,
   "metadata": {},
   "outputs": [],
   "source": [
    "matches = re.compile(r'(item\\s(7[\\.\\s]|8[\\.\\s])|'\n",
    "                             'discussion\\sand\\sanalysis\\sof\\s(consolidated\\sfinancial|financial)\\scondition|'\n",
    "                             '(consolidated\\sfinancial|financial)\\sstatements\\sand\\ssupplementary\\sdata)', re.IGNORECASE)"
   ]
  },
  {
   "cell_type": "code",
   "execution_count": 99,
   "metadata": {},
   "outputs": [
    {
     "data": {
      "text/plain": [
       "[<re.Match object; span=(6148, 6155), match='Item\\xa07.'>,\n",
       " <re.Match object; span=(6179, 6225), match='Discussion and Analysis of Financial Condition'>,\n",
       " <re.Match object; span=(6368, 6424), match='Consolidated Financial Statements and Supplementa>,\n",
       " <re.Match object; span=(6487, 6543), match='Consolidated Financial Statements and Supplementa>,\n",
       " <re.Match object; span=(16174, 16181), match='Item\\xa07.'>,\n",
       " <re.Match object; span=(16195, 16241), match='Discussion and Analysis of Financial Condition'>,\n",
       " <re.Match object; span=(23008, 23015), match='Item\\xa07.'>,\n",
       " <re.Match object; span=(23029, 23075), match='Discussion and Analysis of Financial Condition'>,\n",
       " <re.Match object; span=(24761, 24768), match='Item\\xa07.'>,\n",
       " <re.Match object; span=(24782, 24828), match='Discussion and Analysis of Financial Condition'>,\n",
       " <re.Match object; span=(24913, 24959), match='Discussion and Analysis of Financial Condition'>,\n",
       " <re.Match object; span=(26827, 26834), match='Item\\xa07.'>,\n",
       " <re.Match object; span=(26848, 26894), match='Discussion and Analysis of Financial Condition'>,\n",
       " <re.Match object; span=(85598, 85605), match='Item\\xa07.'>,\n",
       " <re.Match object; span=(85619, 85665), match='Discussion and Analysis of Financial Condition'>,\n",
       " <re.Match object; span=(133457, 133464), match='Item\\xa07.'>,\n",
       " <re.Match object; span=(133478, 133524), match='Discussion and Analysis of Financial Condition'>,\n",
       " <re.Match object; span=(226087, 226094), match='Item\\xa07.'>,\n",
       " <re.Match object; span=(226108, 226154), match='Discussion and Analysis of Financial Condition'>,\n",
       " <re.Match object; span=(239973, 239980), match='Item\\xa07.'>,\n",
       " <re.Match object; span=(239994, 240040), match='Discussion and Analysis of Financial Condition'>,\n",
       " <re.Match object; span=(254680, 254687), match='Item\\xa07.'>,\n",
       " <re.Match object; span=(254701, 254747), match='Discussion\\nand Analysis of Financial Condition'>,\n",
       " <re.Match object; span=(254884, 254891), match='ITEM\\xa07.'>,\n",
       " <re.Match object; span=(254905, 254951), match='DISCUSSION AND ANALYSIS OF FINANCIAL CONDITION'>,\n",
       " <re.Match object; span=(261696, 261703), match='Item\\xa07.'>,\n",
       " <re.Match object; span=(261717, 261763), match='Discussion and Analysis of Financial Condition'>,\n",
       " <re.Match object; span=(263181, 263188), match='Item\\xa07.'>,\n",
       " <re.Match object; span=(263202, 263248), match='Discussion and Analysis of Financial Condition'>,\n",
       " <re.Match object; span=(409745, 409752), match='Item\\xa07.'>,\n",
       " <re.Match object; span=(409766, 409812), match='Discussion and Analysis of Financial Condition'>,\n",
       " <re.Match object; span=(452698, 452754), match='CONSOLIDATED FINANCIAL STATEMENTS AND SUPPLEMENTA>,\n",
       " <re.Match object; span=(705315, 705371), match='CONSOLIDATED FINANCIAL STATEMENTS AND SUPPLEMENTA>]"
      ]
     },
     "execution_count": 99,
     "metadata": {},
     "output_type": "execute_result"
    }
   ],
   "source": [
    "[x for x in matches.finditer(cleaned_soup)]"
   ]
  },
  {
   "cell_type": "code",
   "execution_count": 101,
   "metadata": {},
   "outputs": [],
   "source": [
    "cleaned_soup = ' '.join(cleaned_soup.split())"
   ]
  },
  {
   "cell_type": "code",
   "execution_count": 104,
   "metadata": {},
   "outputs": [],
   "source": [
    "TenKtext = cleaned_soup"
   ]
  },
  {
   "cell_type": "code",
   "execution_count": 156,
   "metadata": {},
   "outputs": [
    {
     "name": "stdout",
     "output_type": "stream",
     "text": [
      "Item 7. Managements Discussion and Analysis of Financial Condition and Results of Operations) and in our other filings with the Securities and Exchange Commission (the SEC), and other risks and uncertainties listed from time to time in our filings with the SEC. All of the forward-looking statements are qualified in their entirety by reference to the factors discussed in Part I, Item 1A. Risk Factors and elsewhere in this report. There may be other factors of which we are not currently aware tha\n"
     ]
    }
   ],
   "source": [
    "# Set up the regex pattern\n",
    "matches = re.compile(r'(item\\s(7[\\.\\s]|(8A|8)[\\.\\s])|'\n",
    "                     'discussion\\sand\\sanalysis\\sof\\s(consolidated\\sfinancial|financial)\\scondition|'\n",
    "                     '(consolidated\\sfinancial|financial)\\sstatements\\sand\\ssupplementary\\sdata)', re.IGNORECASE)\n",
    "\n",
    "matches_array = pd.DataFrame([(match.group(), match.start()) for match in matches.finditer(TenKtext)])\n",
    "\n",
    "# Set columns in the dataframe\n",
    "matches_array.columns = ['SearchTerm', 'Start']\n",
    "\n",
    "# Get the number of rows in the dataframe\n",
    "Rows = matches_array['SearchTerm'].count()\n",
    "\n",
    "# Create a new column in 'matches_array' called 'Selection' and add adjacent 'SearchTerm' (i and i+1 rows) text concatenated\n",
    "count = 0 # Counter to help with row location and iteration\n",
    "while count < (Rows-1): # Can only iterate to the second last row\n",
    "    matches_array.at[count,'Selection'] = (matches_array.iloc[count,0] + matches_array.iloc[count+1,0]).lower() # Convert to lower case\n",
    "    count += 1\n",
    "\n",
    "# Set up 'Item 7/8 Search Pattern' regex patterns\n",
    "matches_item7 = re.compile(r'(item\\s7\\.discussion\\s[a-z]*)')\n",
    "matches_item8 = re.compile(r'(item\\s8(|.)\\.(|consolidated\\sfinancial|financial)\\s[a-z]*)')\n",
    "\n",
    "# Lists to store the locations of Item 7/8 Search Pattern matches\n",
    "Start_Loc = []\n",
    "End_Loc = []\n",
    "\n",
    "# Find and store the locations of Item 7/8 Search Pattern matches\n",
    "count = 0 # Set up counter\n",
    "\n",
    "while count < (Rows-1): # Can only iterate to the second last row\n",
    "\n",
    "    # Match Item 7 Search Pattern\n",
    "    if re.match(matches_item7, matches_array.at[count,'Selection']):\n",
    "        # Column 1 = 'Start' columnn in 'matches_array'\n",
    "        Start_Loc.append(matches_array.iloc[count,1]) # Store in list => Item 7 will be the starting location (column '1' = 'Start' column)\n",
    "\n",
    "    # Match Item 8 Search Pattern\n",
    "    if re.match(matches_item8, matches_array.at[count,'Selection']):\n",
    "        End_Loc.append(matches_array.iloc[count,1])\n",
    "\n",
    "    count += 1\n",
    "\n",
    "# Extract section of text and store in 'TenKItem7'\n",
    "TenKItem7 = TenKtext[Start_Loc[1]:End_Loc[1]]\n",
    "\n",
    "# Clean newly extracted text\n",
    "TenKItem7 = TenKItem7.strip() # Remove starting/ending white spaces\n",
    "TenKItem7 = TenKItem7.replace('\\n', ' ') # Replace \\n (new line) with space\n",
    "TenKItem7 = TenKItem7.replace('\\r', '') # Replace \\r (carriage returns-if you're on windows) with space\n",
    "TenKItem7 = TenKItem7.replace(' ', ' ') # Replace \" \" (a special character for space in HTML) with space\n",
    "TenKItem7 = TenKItem7.replace(' ', ' ') # Replace \" \" (a special character for space in HTML) with space\n",
    "while '  ' in TenKItem7:\n",
    "    TenKItem7 = TenKItem7.replace('  ', ' ') # Remove extra spaces\n",
    "\n",
    "# Print first 500 characters of newly extracted text\n",
    "print(TenKItem7[:500])"
   ]
  },
  {
   "cell_type": "code",
   "execution_count": 159,
   "metadata": {},
   "outputs": [
    {
     "data": {
      "text/plain": [
       "'Item 7. Management\\x92s Discussion and Analysis of Financial Condition and Results of Operations) and in our other filings with the Securities and Exchange Commission (the SEC), and other risks and uncertainties listed from time to time in our filings with the SEC. All of the forward-looking statements are qualified in their entirety by reference to the factors discussed in Part I, Item 1A. Risk Factors and elsewhere in this report. There may be other factors of which we are not currently aware tha'"
      ]
     },
     "execution_count": 159,
     "metadata": {},
     "output_type": "execute_result"
    }
   ],
   "source": [
    "TenKItem7[:500]"
   ]
  },
  {
   "cell_type": "markdown",
   "metadata": {},
   "source": [
    "This is great, and closer to what we ultimately want. Let us now see if we can easily generalize this to every 10K for AAL:"
   ]
  },
  {
   "cell_type": "code",
   "execution_count": 163,
   "metadata": {},
   "outputs": [
    {
     "data": {
      "text/plain": [
       "'08'"
      ]
     },
     "execution_count": 163,
     "metadata": {},
     "output_type": "execute_result"
    }
   ],
   "source": [
    "pulls[0][11:13]"
   ]
  },
  {
   "cell_type": "code",
   "execution_count": null,
   "metadata": {},
   "outputs": [],
   "source": []
  }
 ],
 "metadata": {
  "kernelspec": {
   "display_name": "Python 3",
   "language": "python",
   "name": "python3"
  },
  "language_info": {
   "codemirror_mode": {
    "name": "ipython",
    "version": 3
   },
   "file_extension": ".py",
   "mimetype": "text/x-python",
   "name": "python",
   "nbconvert_exporter": "python",
   "pygments_lexer": "ipython3",
   "version": "3.7.4"
  }
 },
 "nbformat": 4,
 "nbformat_minor": 2
}
