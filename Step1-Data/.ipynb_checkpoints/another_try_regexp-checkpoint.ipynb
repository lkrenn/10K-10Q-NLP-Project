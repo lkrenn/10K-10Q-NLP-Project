{
 "cells": [
  {
   "cell_type": "markdown",
   "metadata": {},
   "source": [
    "# Another Pivot in Scraping Methodology\n",
    "\n",
    "In this notebook, I'm going to try to take advantage of the structure of the 10-K text to scrape the necessary areas. I believe that it is unlikely that **any sentence will begin with (for example) Item 7. Management's Discussion and Analysis.** For this reason, there may be an easy way to get the data we want. "
   ]
  },
  {
   "cell_type": "code",
   "execution_count": 9,
   "metadata": {},
   "outputs": [],
   "source": [
    "import numpy as np\n",
    "import pandas as pd\n",
    "import os\n",
    "import re \n",
    "from bs4 import BeautifulSoup"
   ]
  },
  {
   "cell_type": "code",
   "execution_count": 10,
   "metadata": {},
   "outputs": [],
   "source": [
    "# Get the most recent filing\n",
    "f = open(\"sec-edgar-filings/AAL/10-K/0001193125-15-061145/filing-details.html\", \"r\")\n",
    "raw_10k = f.read()"
   ]
  },
  {
   "cell_type": "code",
   "execution_count": 11,
   "metadata": {},
   "outputs": [],
   "source": [
    "soup = BeautifulSoup(raw_10k, 'lxml')"
   ]
  },
  {
   "cell_type": "code",
   "execution_count": 66,
   "metadata": {},
   "outputs": [
    {
     "data": {
      "text/plain": [
       "' 10-K 1 d829913d10k.htm FORM 10-K  Form 10-K Table of Contents  UNITED STATES SECURITIES AND EXCHANGE COMMISSION Washington, D.C. 20549  FORM 10-K    þ ANNUAL REPORT PURSUANT TO SECTION 13 OR 15(d) OF THE SECURITIES EXCHANGE ACT OF 1934 For the Fiscal Year Ended December 31, 2014    ¨ TRANSITION REPORT PURSUANT TO SECTION 13 OR 15(d) OF THE SECURITIES EXCHANGE ACT OF 1934 For the Transition Period From to Commission file number 1-8400 American Airlines Group Inc. (Exact name of registrant as specified in its charter)         Delaware  75-1825172  (State or other jurisdiction of incorporation or organization)  (I.R.S. Employer Identification No.)  4333 Amon Carter Blvd., Fort Worth, Texas 76155  (817) 963-1234  (Address of principal executive offices, including zip code)  Registrant\\x92s telephone number, including area code (Former name, former address and former fiscal year, if changed since last report) Securities registered pursuant to Section 12(b) of the Act:          Name of Exchange on Which Registered  Common Stock, $0.01 par value per share  NASDAQ Securities registered pursuant to Section 12(g) of the Act: None  American Airlines, Inc. (Exact name of registrant as specified in its charter)        Delaware  13-1502798  (State or other jurisdiction of incorporation or organization)  (I.R.S. Employer Identification No.)  4333 Amon Carter Blvd., Fort Worth, Texas 76155  (817) 963-1234  (Address of principal executive offices, including zip code)  Registrant\\x92s telephone number, including area code Securities registered pursuant to Section 12(b) of the Act: None Securities registered pursuant to Section 12(g) of the Act: None  Indicate by check mark if the registrant is a well-known seasoned issuer, as defined in Rule 405 of the Securities Act.          American Airlines Group Inc.  Yes þ  No ¨  American Airlines, Inc.  Yes þ  No ¨ Indicate by check mark if the registrant is not required to file reports pursuant to Section 13 or Section 15(d) of the Act.         American Airlines Group Inc.  Yes ¨  No þ  American Airlines, Inc.  Yes ¨  No þ Indicate by check mark whether the registrant (1) has filed all reports required to be filed by Section 13 or 15(d) of the Securities Exchange Act of 1934 during the preceding 12 months (or for such shorter period that the registrant was required to file such reports), and (2) has been subject to such filing requirements for the past 90 days.         American Airlines Group Inc.  Yes þ  No ¨  American Airlines, Inc.  Yes þ  No ¨ Indicate by check mark whether the registrant has submitted electronically and posted on its corporate Web site, if any, every Interactive Data File required to be submitted and posted pursuant to Rule 405 of Regulation S-T (§232.405 of this chapter) during the preceding 12 months (or for such shorter period that the registrant was required to submit and post such files).         American Airlines Group Inc.  Yes þ  No ¨  American Airlines, Inc.  Yes þ  No ¨ Indicate by check mark if disclosure of delinquent filers pursuant to Item 405 of Regulation S-K (§ 229.405) is not contained herein, and will not be contained, to the best of registrant\\x92s knowledge, in definitive proxy or information statements incorporated by reference in Part III of this Form 10-K or any amendment to this Form 10-K.       American Airlines Group Inc.  ¨  American Airlines, Inc.  þ Indicate by check mark whether the registrant is a large accelerated filer, an accelerated filer, or a non-accelerated filer. See definition of \\x93accelerated filer\\x94 and \\x93large accelerated filer\\x94 in Rule 12b-2 of the Exchange Act.             American Airlines Group Inc. þ  Large Accelerated Filer ¨  Accelerated Filer ¨  Non-accelerated Filer ¨  Smaller Reporting Company  American Airlines, Inc. ¨  Large Accelerated Filer ¨  Accelerated Filer þ  Non-accelerated Filer ¨  Smaller Reporting Company Indicate by check mark whether the registrant is a shell company (as defined in Rule 12b-2 of the Act).         American Airlines Group Inc.  Yes ¨  No þ  American Airlines, Inc.  Yes ¨  No þ Indicate by check mark whether the registrant has filed all documents and reports required to be filed by Section 12, 13, or 15(d) of the Securities Exchange Act of 1934 subsequent to the distribution of securities under a plan confirmed by a court.         American Airlines Group Inc.  Yes þ  No ¨  American Airlines, Inc.  Yes þ  No ¨ As of February 20, 2015, there were 696,649,850 shares of American Airlines Group Inc. common stock outstanding. The aggregate market value of the voting stock held by non-affiliates of the registrant as of June 30, 2014, was approximately $31 billion. As of February 20, 2015, there were 1,000 shares of American Airlines, Inc. common stock outstanding, all of which were held by American Airlines Group Inc. DOCUMENTS INCORPORATED BY REFERENCE Portions of the proxy statement related to American Airlines Group Inc.\\x92s 2015 Annual Meeting of Stockholders, which proxy statement will be filed '"
      ]
     },
     "execution_count": 66,
     "metadata": {},
     "output_type": "execute_result"
    }
   ],
   "source": [
    "cleaned_soup = soup.text\n",
    "cleaned_soup = ' '.join(' '.join(line.split()) for line in cleaned_soup.split('\\n'))\n",
    "cleaned_soup[:5000]"
   ]
  },
  {
   "cell_type": "code",
   "execution_count": 182,
   "metadata": {},
   "outputs": [],
   "source": [
    "matches1 = re.finditer(r\"ITEM\\s7[^A]\\sMANAGEMENT.S\\sDISCUSSION\\sAND\\sANALYSIS\", \n",
    "                               cleaned_soup, re.IGNORECASE)"
   ]
  },
  {
   "cell_type": "code",
   "execution_count": 183,
   "metadata": {},
   "outputs": [
    {
     "data": {
      "text/plain": [
       "[<re.Match object; span=(15610, 15654), match='Item 7. Management\\x92s Discussion and Analysis'>,\n",
       " <re.Match object; span=(22423, 22467), match='Item 7. Management\\x92s Discussion and Analysis'>,\n",
       " <re.Match object; span=(24172, 24216), match='Item 7. Management\\x92s Discussion and Analysis'>,\n",
       " <re.Match object; span=(26230, 26274), match='Item 7. Management\\x92s Discussion and Analysis'>,\n",
       " <re.Match object; span=(83999, 84043), match='Item 7. Management\\x92s Discussion and Analysis'>,\n",
       " <re.Match object; span=(131441, 131485), match='Item 7. Management\\x92s Discussion and Analysis'>,\n",
       " <re.Match object; span=(221890, 221934), match='Item 7. Management\\x92s Discussion and Analysis'>,\n",
       " <re.Match object; span=(235167, 235211), match='Item 7. Management\\x92s Discussion and Analysis'>,\n",
       " <re.Match object; span=(249203, 249247), match='Item 7. Management\\x92s Discussion and Analysis'>,\n",
       " <re.Match object; span=(249403, 249447), match='ITEM 7. MANAGEMENT\\x92S DISCUSSION AND ANALYSIS'>,\n",
       " <re.Match object; span=(255875, 255919), match='Item 7. Management\\x92s Discussion and Analysis'>,\n",
       " <re.Match object; span=(257351, 257395), match='Item 7. Management\\x92s Discussion and Analysis'>,\n",
       " <re.Match object; span=(396059, 396103), match='Item 7. Management\\x92s Discussion and Analysis'>]"
      ]
     },
     "execution_count": 183,
     "metadata": {},
     "output_type": "execute_result"
    }
   ],
   "source": [
    "a = [x for x in matches1]\n",
    "a"
   ]
  },
  {
   "cell_type": "code",
   "execution_count": 185,
   "metadata": {},
   "outputs": [
    {
     "data": {
      "text/plain": [
       "'he notes to American\\x92s Consolidated Financial Statements in Part II, Item 8B. 66   Table of Contents ITEM 7. MANAGEMENT\\x92S DISCUSSION AND ANALYSIS OF FINANCIAL CONDITION AND RESULTS OF OPERATIONS American Airlines Group As previously discussed, the Merger was consummated on December 9, 2013. Accordingly, our consolidated results include US Airways Group for the full year ended December 31, 2014. For 2013, our consolidated results include US Airways Group only for the 23 days ended December 31, 2013. We continue to move toward operating under the single brand name of \\x93American Airlines\\x94 through our mainline operating subsidiaries, American and US Airways. Together with our wholly-owned regional airline subsidiaries and third-party regional carriers operating as American Eagle and US Airways Express, our airlines operate an average of nearly 6,700 flights per day to 339 destinations in 54 countries from our hubs in Charlotte, Chicago, Dallas/Fort Worth, Los Angeles, Miami, New York, Philadelphia, Phoenix and Washington, D.C. In 2014, we had approximately 197 million passengers boarding '"
      ]
     },
     "execution_count": 185,
     "metadata": {},
     "output_type": "execute_result"
    }
   ],
   "source": [
    "idx = 9\n",
    "cleaned_soup[locs[idx]-100:locs[idx]+1000]"
   ]
  },
  {
   "cell_type": "code",
   "execution_count": 166,
   "metadata": {},
   "outputs": [],
   "source": [
    "matches2 = re.finditer(r\"\\sITEM\\s8[^B](|\\.)\\s*(CONSOLIDATED|FINANCIAL)\", \n",
    "                               cleaned_soup, re.IGNORECASE)"
   ]
  },
  {
   "cell_type": "code",
   "execution_count": 167,
   "metadata": {},
   "outputs": [
    {
     "data": {
      "text/plain": [
       "[<re.Match object; span=(5938, 5961), match=' Item 8A.  Consolidated'>,\n",
       " <re.Match object; span=(438568, 438590), match=' ITEM 8A. CONSOLIDATED'>]"
      ]
     },
     "execution_count": 167,
     "metadata": {},
     "output_type": "execute_result"
    }
   ],
   "source": [
    "a = [x for x in matches2]\n",
    "a"
   ]
  },
  {
   "cell_type": "code",
   "execution_count": null,
   "metadata": {},
   "outputs": [],
   "source": []
  }
 ],
 "metadata": {
  "kernelspec": {
   "display_name": "Python 3",
   "language": "python",
   "name": "python3"
  },
  "language_info": {
   "codemirror_mode": {
    "name": "ipython",
    "version": 3
   },
   "file_extension": ".py",
   "mimetype": "text/x-python",
   "name": "python",
   "nbconvert_exporter": "python",
   "pygments_lexer": "ipython3",
   "version": "3.7.4"
  }
 },
 "nbformat": 4,
 "nbformat_minor": 2
}
